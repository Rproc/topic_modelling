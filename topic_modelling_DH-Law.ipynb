{
 "cells": [
  {
   "cell_type": "code",
   "execution_count": 1,
   "metadata": {},
   "outputs": [],
   "source": [
    "import re\n",
    "import numpy as np\n",
    "import pandas as pd\n",
    "from pprint import pprint\n",
    "import gensim\n",
    "import gensim.corpora as corpora\n",
    "from gensim.utils import simple_preprocess\n",
    "from gensim.models import CoherenceModel\n",
    "import spacy\n",
    "from nltk.corpus import stopwords\n",
    "import pyLDAvis\n",
    "import pyLDAvis.gensim \n",
    "import matplotlib.pyplot as plt\n",
    "import warnings\n",
    "warnings.filterwarnings(\"ignore\",category=DeprecationWarning)"
   ]
  },
  {
   "cell_type": "code",
   "execution_count": 2,
   "metadata": {},
   "outputs": [],
   "source": [
    "topics = 5"
   ]
  },
  {
   "cell_type": "code",
   "execution_count": 3,
   "metadata": {},
   "outputs": [],
   "source": [
    "df = pd.read_fwf('data/data.txt')\n"
   ]
  },
  {
   "cell_type": "code",
   "execution_count": 4,
   "metadata": {},
   "outputs": [],
   "source": [
    "stop_words = stopwords.words('portuguese')\n"
   ]
  },
  {
   "cell_type": "code",
   "execution_count": 5,
   "metadata": {},
   "outputs": [],
   "source": [
    "def split_pdf(string): \n",
    "    li = list(string.split(\" \")) \n",
    "    return li"
   ]
  },
  {
   "cell_type": "code",
   "execution_count": 6,
   "metadata": {},
   "outputs": [],
   "source": [
    "def first_clear(data):\n",
    "    # Remove Emails\n",
    "    data = [re.sub('\\S*@\\S*\\s?', '', sent) for sent in data]\n",
    "\n",
    "    #remove links and mark\n",
    "    data = [re.sub('(https:\\S+)|(@)|(¿)', '', sent) for sent in data]\n",
    "    \n",
    "    data = [re.sub('(http:\\S+)|(@)|(¿)', '', sent) for sent in data]\n",
    "    \n",
    "    data = [re.sub('(www.:\\S+)|(@)|(¿)', '', sent) for sent in data]\n",
    "\n",
    "    # Remove new line characters\n",
    "    data = [re.sub('\\s+', ' ', sent) for sent in data]\n",
    "\n",
    "    # remove spaces in begining and end\n",
    "    data = [re.sub(' +', ' ', sent) for sent in data]\n",
    "\n",
    "    # Remove distracting single quotes\n",
    "    data = [re.sub(\"\\'\", \"\", sent) for sent in data]\n",
    "\n",
    "    return data"
   ]
  },
  {
   "cell_type": "code",
   "execution_count": 7,
   "metadata": {},
   "outputs": [],
   "source": [
    "def sent_to_words(sentences):\n",
    "    for sentence in sentences:\n",
    "        yield(gensim.utils.simple_preprocess(str(sentence), deacc=True))  # deacc=True removes punctuations"
   ]
  },
  {
   "cell_type": "code",
   "execution_count": 8,
   "metadata": {},
   "outputs": [],
   "source": [
    "def bi_tri_gram(data):\n",
    "    bigram = gensim.models.Phrases(data, min_count=5, threshold=100) # higher threshold fewer phrases.\n",
    "    trigram = gensim.models.Phrases(bigram[data], threshold=100) \n",
    "    bigram_mod = gensim.models.phrases.Phraser(bigram)\n",
    "    trigram_mod = gensim.models.phrases.Phraser(trigram)\n",
    "    \n",
    "    return bigram_mod, trigram_mod"
   ]
  },
  {
   "cell_type": "code",
   "execution_count": 9,
   "metadata": {},
   "outputs": [],
   "source": [
    "def remove_stopwords(texts):\n",
    "    return [[word for word in simple_preprocess(str(doc)) if word not in stop_words] for doc in texts]"
   ]
  },
  {
   "cell_type": "code",
   "execution_count": 10,
   "metadata": {},
   "outputs": [],
   "source": [
    "def make_bigrams(texts):\n",
    "    return [bigram_mod[doc] for doc in texts]"
   ]
  },
  {
   "cell_type": "code",
   "execution_count": 11,
   "metadata": {},
   "outputs": [],
   "source": [
    "def make_trigrams(texts):\n",
    "    return [trigram_mod[bigram_mod[doc]] for doc in texts]"
   ]
  },
  {
   "cell_type": "code",
   "execution_count": 12,
   "metadata": {},
   "outputs": [],
   "source": [
    "def lemmatization(texts, allowed_postags=['NOUN', 'ADJ', 'VERB', 'ADV']):\n",
    "    \"\"\"https://spacy.io/api/annotation\"\"\"\n",
    "    texts_out = []\n",
    "    for sent in texts:\n",
    "        doc = nlp(\" \".join(sent)) \n",
    "        texts_out.append([token.lemma_ for token in doc if token.pos_ in allowed_postags])\n",
    "    return texts_out"
   ]
  },
  {
   "cell_type": "code",
   "execution_count": 13,
   "metadata": {},
   "outputs": [],
   "source": [
    "def compute_coherence_values(dictionary, corpus, texts, limit, start=2, step=3):\n",
    "    \"\"\"\n",
    "    Compute c_v coherence for various number of topics\n",
    "\n",
    "    Parameters:\n",
    "    ----------\n",
    "    dictionary : Gensim dictionary\n",
    "    corpus : Gensim corpus\n",
    "    texts : List of input texts\n",
    "    limit : Max num of topics\n",
    "\n",
    "    Returns:\n",
    "    -------\n",
    "    model_list : List of LDA topic models\n",
    "    coherence_values : Coherence values corresponding to the LDA model with respective number of topics\n",
    "    \"\"\"\n",
    "    coherence_values = []\n",
    "    model_list = []\n",
    "    for num_topics in range(start, limit, step):\n",
    "        model = gensim.models.wrappers.LdaMallet(mallet_path, corpus=corpus, num_topics=num_topics, id2word=dictionary)\n",
    "        model_list.append(model)\n",
    "        coherencemodel = CoherenceModel(model=model, texts=texts, dictionary=dictionary, coherence='c_v')\n",
    "        coherence_values.append(coherencemodel.get_coherence())\n",
    "\n",
    "    return model_list, coherence_values"
   ]
  },
  {
   "cell_type": "code",
   "execution_count": 14,
   "metadata": {},
   "outputs": [],
   "source": [
    "def filter_pos_tagging(data, pos):\n",
    "    lista = []\n",
    "    for token in data:\n",
    "        for p in pos:\n",
    "            if (token.pos_ == p):\n",
    "                lista.append(token.text)\n",
    "#                 print(token.text)\n",
    "\n",
    "    \n",
    "    return [[el] for el in lista]"
   ]
  },
  {
   "cell_type": "code",
   "execution_count": 15,
   "metadata": {},
   "outputs": [
    {
     "name": "stdout",
     "output_type": "stream",
     "text": [
      "[['doutrinar'], ['fato'], ['motivador'], ['reparacao'], ['danar'], ['natureza'], ['ofenso'], ['personalidade'], ['sao'], ['fisicos'], ['morar'], ['pessoa'], ['indenizado'], ['danar'], ['relevancia'], ['razao'], ['inadimplemento'], ['partir'], ['vidar'], ['sociedade'], ['formar'], ['sao'], ['assediar'], ['ter'], ['conduta'], ['causar'], ['constrangimento'], ['pessoa'], ['assediar'], ['assediar'], ['assediar'], ['conduta'], ['abusivo'], ['natureza'], ['dignidade'], ['individuar'], ['formar'], ['efeito'], ['exclusao'], ['ambientar'], ['convivio'], ['assediar'], ['direito'], ['trabalhar'], ['abusar'], ['direito'], ['partir'], ['empregador'], ['abusar'], ['atitude'], ['partir'], ['empreendimento'], ['sentir'], ['imagem'], ['trabalhador'], ['humilhar'], ['submeter'], ['conduta'], ['vexatorias'], ['usar'], ['poder'], ['disciplinar'], ['veracidade'], ['inicial'], ['confissao'], ['ficta'], ['revelir'], ['partir'], ['autor'], ['conduta'], ['sr'], ['brunir'], ['pretensao'], ['doutrinar'], ['jurisprudencia'], ['entendimento'], ['danar'], ['insito'], ['propria'], ['conduta'], ['ofensivo'], ['propria'], ['gravidade'], ['ilicito'], ['re'], ['efeito'], ['dificil'], ['lado'], ['necessidade'], ['quantum'], ['mitigar'], ['ofenso'], ['vulnerabilidade'], ['abusivo'], ['patrimonio'], ['carater'], ['pedagogico'], ['fitar'], ['empresar'], ['reiteracao'], ['conduta'], [], ['exame'], ['gravidade'], ['atar'], ['empregador'], ['quantiar'], ['finalidade'], ['pedagogica'], ['relacao'], ['enriquecimento'], ['causar'], ['autor'], ['julgar'], ['pedir'], ['re'], ['titulo'], ['danar'], ['autor'], ['pagamento'], ['importancia'], ['real'], ['corrente'], ['monetaria'], ['decisao'], ['tst']]\n",
      "[['bom'], ['moral'], ['moral'], ['mero'], ['reparaveis'], ['psicologico'], ['moral'], ['sexual'], ['moral'], ['psicologica'], ['atento'], ['psiquica'], ['moral'], ['mear'], ['mear'], ['decorrente'], ['moral'], ['ipsa'], ['moral'], ['semelhante'], ['economica'], ['compensatoria'], ['procedente'], ['moral'], ['passivar'], ['presentar']]\n",
      "[['bom'], ['doutrinar'], ['fato'], ['motivador'], ['reparacao'], ['danar'], ['moral'], ['natureza'], ['ofenso'], ['personalidade'], ['sao'], ['fisicos'], ['morar'], ['pessoa'], ['indenizado'], ['danar'], ['moral'], ['relevancia'], ['mero'], ['razao'], ['inadimplemento'], ['partir'], ['vidar'], ['sociedade'], ['formar'], ['sao'], ['reparaveis'], ['assediar'], ['ter'], ['conduta'], ['causar'], ['constrangimento'], ['psicologico'], ['pessoa'], ['assediar'], ['moral'], ['assediar'], ['sexual'], ['assediar'], ['moral'], ['conduta'], ['abusivo'], ['natureza'], ['psicologica'], ['atento'], ['dignidade'], ['psiquica'], ['individuar'], ['formar'], ['efeito'], ['exclusao'], ['ambientar'], ['convivio'], ['assediar'], ['moral'], ['direito'], ['trabalhar'], ['abusar'], ['direito'], ['partir'], ['empregador'], ['abusar'], ['mear'], ['atitude'], ['partir'], ['empreendimento'], ['sentir'], ['imagem'], ['trabalhador'], ['humilhar'], ['submeter'], ['conduta'], ['vexatorias'], ['mear'], ['usar'], ['poder'], ['disciplinar'], ['veracidade'], ['inicial'], ['confissao'], ['ficta'], ['decorrente'], ['revelir'], ['partir'], ['autor'], ['conduta'], ['sr'], ['brunir'], ['pretensao'], ['doutrinar'], ['jurisprudencia'], ['entendimento'], ['danar'], ['moral'], ['insito'], ['propria'], ['conduta'], ['ofensivo'], ['propria'], ['gravidade'], ['ilicito'], ['re'], ['ipsa'], ['efeito'], ['dificil'], ['lado'], ['necessidade'], ['quantum'], ['mitigar'], ['ofenso'], ['vulnerabilidade'], ['abusivo'], ['patrimonio'], ['moral'], ['carater'], ['pedagogico'], ['fitar'], ['empresar'], ['reiteracao'], ['conduta'], ['semelhante'], [], ['exame'], ['gravidade'], ['atar'], ['economica'], ['empregador'], ['quantiar'], ['finalidade'], ['compensatoria'], ['pedagogica'], ['relacao'], ['enriquecimento'], ['causar'], ['autor'], ['julgar'], ['procedente'], ['pedir'], ['re'], ['titulo'], ['danar'], ['moral'], ['autor'], ['pagamento'], ['importancia'], ['real'], ['corrente'], ['passivar'], ['monetaria'], ['presentar'], ['decisao'], ['tst']]\n"
     ]
    }
   ],
   "source": [
    "nlp = spacy.load('pt_core_news_sm')\n",
    "mallet_path = 'mallet-2.0.8/bin/mallet' \n",
    "nlp.max_length = 20000000\n",
    "\n",
    "texto = str(df.values.tolist())\n",
    "# print(texto)\n",
    "data = split_pdf(texto)\n",
    "# print(data)\n",
    "\n",
    "data = first_clear(data)\n",
    "# print(data)\n",
    "\n",
    "data = list(sent_to_words(data))\n",
    "\n",
    "# Remove Stop Words\n",
    "data_words_nostops = remove_stopwords(data)\n",
    "\n",
    "# print(data_words_nostops)\n",
    "aggregate = {}\n",
    "list_pos = [['NOUN'], ['ADJ'], ['NOUN', 'ADJ']]\n",
    "\n",
    "for i in range(0, len(list_pos)):\n",
    "    l = []\n",
    "    data_filtered = filter_pos_tagging(nlp(str(data_words_nostops)), list_pos[i] )\n",
    "    bigram_mod, trigram_mod = bi_tri_gram(data_filtered)\n",
    "    # Form Bigrams\n",
    "    data_words_bigrams = make_bigrams(data_filtered)\n",
    "    # Initialize spacy 'en' model, keeping only tagger component (for efficiency)\n",
    "\n",
    "    # Do lemmatization keeping only noun, adj, vb, adv\n",
    "    data_lemmatized = lemmatization(data_words_bigrams, allowed_postags=['NOUN', 'ADJ', 'VERB', 'ADV'])\n",
    "    print(data_lemmatized)\n",
    "    id2word = corpora.Dictionary(data_lemmatized)\n",
    "    texts = data_lemmatized\n",
    "    corpus = [id2word.doc2bow(text) for text in texts]\n",
    "    lda_model = gensim.models.ldamodel.LdaModel(corpus=corpus,id2word=id2word, num_topics=topics,random_state=100,\\\n",
    "                                            update_every=1, chunksize=100, passes=10, alpha='auto', per_word_topics=True)\n",
    "\n",
    "    ldamallet = gensim.models.wrappers.LdaMallet(mallet_path, corpus=corpus, num_topics=topics, id2word=id2word)\n",
    "\n",
    "    l.append(list_pos[i])\n",
    "    l.append(data_lemmatized)\n",
    "    l.append(id2word)\n",
    "    l.append(corpus)\n",
    "    l.append(lda_model)\n",
    "    l.append(ldamallet)\n",
    "    aggregate[i] = l\n"
   ]
  },
  {
   "cell_type": "markdown",
   "metadata": {},
   "source": [
    "# Tópicos apenas levando em conta os Substantivos"
   ]
  },
  {
   "cell_type": "code",
   "execution_count": 16,
   "metadata": {},
   "outputs": [
    {
     "name": "stdout",
     "output_type": "stream",
     "text": [
      "[(0,\n",
      "  '0.074*\"tst\" + 0.074*\"importancia\" + 0.074*\"julgar\" + 0.074*\"titulo\" + '\n",
      "  '0.074*\"real\" + 0.074*\"pedagogica\" + 0.017*\"relevancia\" + 0.017*\"quantum\" + '\n",
      "  '0.017*\"atitude\" + 0.017*\"constrangimento\"'),\n",
      " (1,\n",
      "  '0.094*\"empregador\" + 0.094*\"gravidade\" + 0.072*\"assediar\" + 0.032*\"direito\" '\n",
      "  '+ 0.032*\"ofenso\" + 0.032*\"pessoa\" + 0.019*\"reiteracao\" + 0.019*\"revelir\" + '\n",
      "  '0.019*\"sociedade\" + 0.019*\"veracidade\"'),\n",
      " (2,\n",
      "  '0.132*\"conduta\" + 0.108*\"danar\" + 0.084*\"causar\" + 0.053*\"partir\" + '\n",
      "  '0.029*\"efeito\" + 0.029*\"natureza\" + 0.017*\"motivador\" + 0.017*\"brunir\" + '\n",
      "  '0.017*\"morar\" + 0.017*\"ilicito\"'),\n",
      " (3,\n",
      "  '0.111*\"re\" + 0.038*\"doutrinar\" + 0.038*\"abusar\" + 0.038*\"formar\" + '\n",
      "  '0.038*\"abusivo\" + 0.022*\"fato\" + 0.022*\"vidar\" + 0.022*\"humilhar\" + '\n",
      "  '0.022*\"lado\" + 0.022*\"sentir\"'),\n",
      " (4,\n",
      "  '0.105*\"autor\" + 0.050*\"atar\" + 0.050*\"quantiar\" + 0.050*\"finalidade\" + '\n",
      "  '0.050*\"relacao\" + 0.050*\"enriquecimento\" + 0.050*\"pedir\" + '\n",
      "  '0.050*\"pagamento\" + 0.050*\"exame\" + 0.050*\"corrente\"')]\n"
     ]
    }
   ],
   "source": [
    "pprint(aggregate[0][4].print_topics())\n",
    "doc_lda = aggregate[0][4][aggregate[0][3]]"
   ]
  },
  {
   "cell_type": "code",
   "execution_count": 17,
   "metadata": {},
   "outputs": [
    {
     "name": "stdout",
     "output_type": "stream",
     "text": [
      "\n",
      "Perplexity:  -6.3577414963245396\n",
      "\n",
      "Coherence Score:  0.8490929851613178\n"
     ]
    }
   ],
   "source": [
    "print('\\nPerplexity: ', aggregate[0][4].log_perplexity(aggregate[0][3]))  # a measure of how good the model is. lower the better.\n",
    "\n",
    "# Compute Coherence Score\n",
    "coherence_model_lda = CoherenceModel(model=aggregate[0][4], texts=aggregate[0][1], dictionary=aggregate[0][2], coherence='c_v')\n",
    "coherence_lda = coherence_model_lda.get_coherence()\n",
    "print('\\nCoherence Score: ', coherence_lda)"
   ]
  },
  {
   "cell_type": "code",
   "execution_count": 18,
   "metadata": {},
   "outputs": [
    {
     "name": "stderr",
     "output_type": "stream",
     "text": [
      "/opt/anaconda/lib/python3.7/site-packages/pyLDAvis/_prepare.py:257: FutureWarning: Sorting because non-concatenation axis is not aligned. A future version\n",
      "of pandas will change to not sort by default.\n",
      "\n",
      "To accept the future behavior, pass 'sort=False'.\n",
      "\n",
      "To retain the current behavior and silence the warning, pass 'sort=True'.\n",
      "\n",
      "  return pd.concat([default_term_info] + list(topic_dfs))\n"
     ]
    },
    {
     "data": {
      "text/html": [
       "\n",
       "<link rel=\"stylesheet\" type=\"text/css\" href=\"https://cdn.rawgit.com/bmabey/pyLDAvis/files/ldavis.v1.0.0.css\">\n",
       "\n",
       "\n",
       "<div id=\"ldavis_el22933140439905336320583119152\"></div>\n",
       "<script type=\"text/javascript\">\n",
       "\n",
       "var ldavis_el22933140439905336320583119152_data = {\"mdsDat\": {\"x\": [-0.20695873051492172, 0.07348115137559397, 0.04267680917537008, 0.06607757838933051, 0.024723191574627015], \"y\": [-0.005001281538215154, -0.1350821986734529, 0.00931726785479193, 0.1272016739719339, 0.0035645383849422303], \"topics\": [1, 2, 3, 4, 5], \"cluster\": [1, 1, 1, 1, 1], \"Freq\": [24.67080307006836, 23.29064178466797, 20.397144317626953, 15.836880683898926, 15.80453109741211]}, \"tinfo\": {\"Category\": [\"Default\", \"Default\", \"Default\", \"Default\", \"Default\", \"Default\", \"Default\", \"Default\", \"Default\", \"Default\", \"Default\", \"Default\", \"Default\", \"Default\", \"Default\", \"Default\", \"Default\", \"Default\", \"Default\", \"Default\", \"Default\", \"Default\", \"Default\", \"Default\", \"Default\", \"Default\", \"Default\", \"Default\", \"Default\", \"Default\", \"Topic1\", \"Topic1\", \"Topic1\", \"Topic1\", \"Topic1\", \"Topic1\", \"Topic1\", \"Topic1\", \"Topic1\", \"Topic1\", \"Topic1\", \"Topic1\", \"Topic1\", \"Topic1\", \"Topic1\", \"Topic1\", \"Topic1\", \"Topic1\", \"Topic1\", \"Topic1\", \"Topic1\", \"Topic1\", \"Topic1\", \"Topic1\", \"Topic1\", \"Topic1\", \"Topic1\", \"Topic1\", \"Topic1\", \"Topic1\", \"Topic1\", \"Topic2\", \"Topic2\", \"Topic2\", \"Topic2\", \"Topic2\", \"Topic2\", \"Topic2\", \"Topic2\", \"Topic2\", \"Topic2\", \"Topic2\", \"Topic2\", \"Topic2\", \"Topic2\", \"Topic2\", \"Topic2\", \"Topic2\", \"Topic2\", \"Topic2\", \"Topic2\", \"Topic2\", \"Topic2\", \"Topic2\", \"Topic2\", \"Topic2\", \"Topic2\", \"Topic2\", \"Topic2\", \"Topic2\", \"Topic2\", \"Topic2\", \"Topic2\", \"Topic2\", \"Topic2\", \"Topic2\", \"Topic2\", \"Topic2\", \"Topic2\", \"Topic2\", \"Topic2\", \"Topic2\", \"Topic3\", \"Topic3\", \"Topic3\", \"Topic3\", \"Topic3\", \"Topic3\", \"Topic3\", \"Topic3\", \"Topic3\", \"Topic3\", \"Topic3\", \"Topic3\", \"Topic3\", \"Topic3\", \"Topic3\", \"Topic3\", \"Topic3\", \"Topic3\", \"Topic3\", \"Topic3\", \"Topic3\", \"Topic3\", \"Topic3\", \"Topic3\", \"Topic3\", \"Topic3\", \"Topic3\", \"Topic3\", \"Topic3\", \"Topic3\", \"Topic3\", \"Topic3\", \"Topic3\", \"Topic3\", \"Topic3\", \"Topic3\", \"Topic3\", \"Topic3\", \"Topic3\", \"Topic3\", \"Topic3\", \"Topic4\", \"Topic4\", \"Topic4\", \"Topic4\", \"Topic4\", \"Topic4\", \"Topic4\", \"Topic4\", \"Topic4\", \"Topic4\", \"Topic4\", \"Topic4\", \"Topic4\", \"Topic4\", \"Topic4\", \"Topic4\", \"Topic4\", \"Topic4\", \"Topic4\", \"Topic4\", \"Topic4\", \"Topic4\", \"Topic4\", \"Topic4\", \"Topic4\", \"Topic4\", \"Topic4\", \"Topic4\", \"Topic4\", \"Topic4\", \"Topic4\", \"Topic4\", \"Topic4\", \"Topic4\", \"Topic4\", \"Topic4\", \"Topic4\", \"Topic4\", \"Topic4\", \"Topic4\", \"Topic4\", \"Topic4\", \"Topic5\", \"Topic5\", \"Topic5\", \"Topic5\", \"Topic5\", \"Topic5\", \"Topic5\", \"Topic5\", \"Topic5\", \"Topic5\", \"Topic5\", \"Topic5\", \"Topic5\", \"Topic5\", \"Topic5\", \"Topic5\", \"Topic5\", \"Topic5\", \"Topic5\", \"Topic5\", \"Topic5\", \"Topic5\", \"Topic5\", \"Topic5\", \"Topic5\", \"Topic5\", \"Topic5\", \"Topic5\", \"Topic5\", \"Topic5\", \"Topic5\", \"Topic5\", \"Topic5\", \"Topic5\", \"Topic5\", \"Topic5\", \"Topic5\", \"Topic5\", \"Topic5\", \"Topic5\", \"Topic5\"], \"Freq\": [4.0, 2.0, 3.0, 3.0, 2.0, 2.0, 2.0, 1.0, 1.0, 1.0, 1.0, 1.0, 1.0, 2.0, 1.0, 2.0, 2.0, 2.0, 2.0, 2.0, 2.0, 2.0, 2.0, 2.0, 2.0, 2.0, 1.0, 1.0, 1.0, 1.0, 3.2331485748291016, 1.5381370782852173, 1.5381370782852173, 1.5381370782852173, 1.5381370782852173, 1.5381370782852173, 1.5381370782852173, 1.5381370782852173, 1.5381370782852173, 1.5381370782852173, 1.5381370782852173, 1.5381370782852173, 0.6136881709098816, 0.613688051700592, 0.3568146824836731, 0.35681459307670593, 0.35681459307670593, 0.35681456327438354, 0.35681453347206116, 0.35681453347206116, 0.10025925189256668, 0.10025923699140549, 0.10025922954082489, 0.1002592220902443, 0.10025922954082489, 0.10025922954082489, 0.1002592220902443, 0.1002592146396637, 0.1002592071890831, 0.1002592146396637, 0.10025917738676071, 3.852074146270752, 3.151031017303467, 2.449876308441162, 1.5386624336242676, 0.8375475406646729, 0.8375168442726135, 0.4869304895401001, 0.4869304895401001, 0.4869304299354553, 0.4869304299354553, 0.4869304299354553, 0.4869304299354553, 0.48693037033081055, 0.48693037033081055, 0.48693037033081055, 0.48693037033081055, 0.48693031072616577, 0.486930251121521, 0.4869301915168762, 0.13671311736106873, 0.13671307265758514, 0.13671307265758514, 0.13671305775642395, 0.13671305775642395, 0.13671305775642395, 0.13671304285526276, 0.13671304285526276, 0.13671304285526276, 0.13671302795410156, 0.13671301305294037, 0.13673147559165955, 0.13673147559165955, 0.13673143088817596, 0.13673141598701477, 0.13673144578933716, 0.13673143088817596, 0.13672038912773132, 0.13672038912773132, 0.13672038912773132, 0.13672038912773132, 0.13672038912773132, 2.3935139179229736, 2.3935139179229736, 1.8457669019699097, 0.8182803392410278, 0.8182802200317383, 0.8182501196861267, 0.4757280647754669, 0.47572800517082214, 0.4757278859615326, 0.4757278859615326, 0.4757278859615326, 0.475727915763855, 0.4757278859615326, 0.4757278859615326, 0.4757278859615326, 0.4757278859615326, 0.47572776675224304, 0.47572776675224304, 0.47572776675224304, 0.47572776675224304, 0.1335436850786209, 0.13354367017745972, 0.13354367017745972, 0.13354365527629852, 0.13354362547397614, 0.13354362547397614, 0.13354362547397614, 0.13354362547397614, 0.13354359567165375, 0.13354359567165375, 0.13354358077049255, 0.13355889916419983, 0.13355834782123566, 0.13355419039726257, 0.13355419039726257, 0.13355419039726257, 0.13355419039726257, 0.13355419039726257, 0.13355417549610138, 0.13354851305484772, 0.13354851305484772, 1.4664077758789062, 1.4664077758789062, 1.4664077758789062, 1.4664077758789062, 1.4664077758789062, 1.4664077758789062, 0.34011605381965637, 0.340116024017334, 0.340116024017334, 0.3401159942150116, 0.3401159942150116, 0.3401159942150116, 0.3401159942150116, 0.34011590480804443, 0.34011590480804443, 0.34011590480804443, 0.34011590480804443, 0.09548729658126831, 0.09548728913068771, 0.09548728913068771, 0.09548727422952652, 0.09548724442720413, 0.09548724442720413, 0.09547540545463562, 0.09547542035579681, 0.09547540545463562, 0.09547539800405502, 0.09547539055347443, 0.09547538310289383, 0.09547538310289383, 0.09547536820173264, 0.09547535330057144, 0.09547536075115204, 0.09547536820173264, 0.09547534584999084, 0.0954909473657608, 0.09549020230770111, 0.09549020975828171, 0.09548132866621017, 0.09548132866621017, 0.09548131376504898, 0.09548131376504898, 2.1969709396362305, 0.7510942816734314, 0.7510941624641418, 0.7510689496994019, 0.7510684132575989, 0.43667474389076233, 0.436674565076828, 0.436674565076828, 0.4366745054721832, 0.4366745948791504, 0.4366745054721832, 0.4366745054721832, 0.43667447566986084, 0.43667441606521606, 0.4366743564605713, 0.4366743564605713, 0.4366743564605713, 0.12255596369504929, 0.12255594879388809, 0.12255594879388809, 0.1225559413433075, 0.1225559413433075, 0.1225559413433075, 0.1225559264421463, 0.12255591154098511, 0.1225559264421463, 0.12255585938692093, 0.12255584448575974, 0.12255921214818954, 0.12255918234586716, 0.12255915254354477, 0.12257730960845947, 0.12255914509296417, 0.1225590854883194, 0.1225590854883194, 0.12255823612213135, 0.12255823612213135, 0.12255822122097015, 0.12255822122097015, 0.12255822122097015, 0.12255822122097015], \"Term\": [\"conduta\", \"re\", \"danar\", \"autor\", \"gravidade\", \"empregador\", \"causar\", \"julgar\", \"pedagogica\", \"tst\", \"titulo\", \"importancia\", \"real\", \"assediar\", \"partir\", \"pedir\", \"enriquecimento\", \"pagamento\", \"finalidade\", \"quantiar\", \"exame\", \"corrente\", \"atar\", \"monetaria\", \"decisao\", \"relacao\", \"doutrinar\", \"abusar\", \"formar\", \"abusivo\", \"autor\", \"atar\", \"monetaria\", \"corrente\", \"exame\", \"pagamento\", \"pedir\", \"decisao\", \"enriquecimento\", \"relacao\", \"finalidade\", \"quantiar\", \"sao\", \"propria\", \"ambientar\", \"vexatorias\", \"ficta\", \"convivio\", \"patrimonio\", \"empreendimento\", \"insito\", \"fitar\", \"relevancia\", \"indenizado\", \"reparacao\", \"pedagogico\", \"individuar\", \"constrangimento\", \"atitude\", \"carater\", \"quantum\", \"conduta\", \"danar\", \"causar\", \"partir\", \"efeito\", \"natureza\", \"brunir\", \"motivador\", \"exclusao\", \"trabalhador\", \"morar\", \"ilicito\", \"mitigar\", \"vulnerabilidade\", \"submeter\", \"trabalhar\", \"personalidade\", \"poder\", \"inicial\", \"pedagogico\", \"constrangimento\", \"carater\", \"indenizado\", \"fitar\", \"individuar\", \"insito\", \"atitude\", \"relevancia\", \"quantum\", \"reparacao\", \"ficta\", \"empreendimento\", \"vexatorias\", \"ambientar\", \"convivio\", \"patrimonio\", \"atar\", \"monetaria\", \"corrente\", \"pedir\", \"decisao\", \"gravidade\", \"empregador\", \"assediar\", \"direito\", \"ofenso\", \"pessoa\", \"reiteracao\", \"revelir\", \"confissao\", \"ter\", \"necessidade\", \"sociedade\", \"disciplinar\", \"inadimplemento\", \"ofensivo\", \"veracidade\", \"usar\", \"pretensao\", \"empresar\", \"dignidade\", \"reparacao\", \"insito\", \"carater\", \"individuar\", \"atitude\", \"pedagogico\", \"quantum\", \"relevancia\", \"indenizado\", \"fitar\", \"constrangimento\", \"abusivo\", \"conduta\", \"empreendimento\", \"ficta\", \"vexatorias\", \"convivio\", \"patrimonio\", \"ambientar\", \"corrente\", \"relacao\", \"tst\", \"real\", \"importancia\", \"titulo\", \"julgar\", \"pedagogica\", \"relevancia\", \"atitude\", \"quantum\", \"indenizado\", \"fitar\", \"constrangimento\", \"reparacao\", \"carater\", \"pedagogico\", \"insito\", \"individuar\", \"empreendimento\", \"patrimonio\", \"ficta\", \"convivio\", \"vexatorias\", \"ambientar\", \"fisicos\", \"dificil\", \"jurisprudencia\", \"entendimento\", \"sr\", \"imagem\", \"razao\", \"lado\", \"sentir\", \"vidar\", \"humilhar\", \"fato\", \"formar\", \"conduta\", \"assediar\", \"decisao\", \"atar\", \"monetaria\", \"relacao\", \"re\", \"doutrinar\", \"abusar\", \"formar\", \"abusivo\", \"fato\", \"humilhar\", \"lado\", \"sentir\", \"vidar\", \"razao\", \"imagem\", \"dificil\", \"jurisprudencia\", \"fisicos\", \"sr\", \"entendimento\", \"fitar\", \"individuar\", \"pedagogico\", \"quantum\", \"insito\", \"carater\", \"indenizado\", \"constrangimento\", \"reparacao\", \"atitude\", \"relevancia\", \"patrimonio\", \"convivio\", \"empreendimento\", \"conduta\", \"vexatorias\", \"ficta\", \"ambientar\", \"decisao\", \"monetaria\", \"corrente\", \"quantiar\", \"pagamento\", \"pedir\"], \"Total\": [4.0, 2.0, 3.0, 3.0, 2.0, 2.0, 2.0, 1.0, 1.0, 1.0, 1.0, 1.0, 1.0, 2.0, 1.0, 2.0, 2.0, 2.0, 2.0, 2.0, 2.0, 2.0, 2.0, 2.0, 2.0, 2.0, 1.0, 1.0, 1.0, 1.0, 3.7214269638061523, 2.0264453887939453, 2.0264453887939453, 2.0264453887939453, 2.0264453887939453, 2.0264453887939453, 2.0264453887939453, 2.0264453887939453, 2.0264453887939453, 2.0264453887939453, 2.0264453887939453, 2.0264453887939453, 1.1019842624664307, 1.1019842624664307, 0.8451465964317322, 0.8451465964317322, 0.8451465964317322, 0.8451467156410217, 0.8451465964317322, 0.845146656036377, 0.8331878185272217, 0.8331878185272217, 0.8331878185272217, 0.8331877589225769, 0.8331878781318665, 0.8331878185272217, 0.8331878185272217, 0.8331877589225769, 0.8331877589225769, 0.8331878185272217, 0.8331878185272217, 4.303903102874756, 3.602796792984009, 2.901669979095459, 1.9904558658599854, 1.2893401384353638, 1.2893319129943848, 0.9387662410736084, 0.938766360282898, 0.9387663006782532, 0.9387663006782532, 0.938766360282898, 0.938766360282898, 0.9387662410736084, 0.9387662410736084, 0.9387662410736084, 0.9387663006782532, 0.9387663006782532, 0.9387661814689636, 0.9387663006782532, 0.8331878185272217, 0.8331877589225769, 0.8331878185272217, 0.8331877589225769, 0.8331878185272217, 0.8331878185272217, 0.8331878185272217, 0.8331877589225769, 0.8331878185272217, 0.8331878185272217, 0.8331878781318665, 0.8451465964317322, 0.845146656036377, 0.8451465964317322, 0.8451465964317322, 0.8451467156410217, 0.8451465964317322, 2.0264453887939453, 2.0264453887939453, 2.0264453887939453, 2.0264453887939453, 2.0264453887939453, 2.848461627960205, 2.848461627960205, 2.3007028102874756, 1.2732218503952026, 1.2732219696044922, 1.2732144594192505, 0.930715024471283, 0.930715024471283, 0.930715024471283, 0.930715024471283, 0.930715024471283, 0.9307150840759277, 0.930715024471283, 0.9307150840759277, 0.9307150840759277, 0.9307151436805725, 0.9307150840759277, 0.9307149648666382, 0.9307150840759277, 0.930715024471283, 0.8331878781318665, 0.8331878185272217, 0.8331878185272217, 0.8331878185272217, 0.8331877589225769, 0.8331878185272217, 0.8331878185272217, 0.8331878185272217, 0.8331877589225769, 0.8331878185272217, 0.8331877589225769, 1.2169976234436035, 4.303903102874756, 0.845146656036377, 0.8451465964317322, 0.8451465964317322, 0.8451467156410217, 0.8451465964317322, 0.8451465964317322, 2.0264453887939453, 2.0264453887939453, 1.9594537019729614, 1.9594537019729614, 1.9594537019729614, 1.9594537019729614, 1.9594537019729614, 1.9594537019729614, 0.8331878185272217, 0.8331877589225769, 0.8331878185272217, 0.8331877589225769, 0.8331878185272217, 0.8331877589225769, 0.8331878781318665, 0.8331878185272217, 0.8331878185272217, 0.8331878185272217, 0.8331878185272217, 0.845146656036377, 0.8451465964317322, 0.8451465964317322, 0.8451467156410217, 0.8451465964317322, 0.8451465964317322, 0.9026195406913757, 0.9026196599006653, 0.9026196002960205, 0.9026196002960205, 0.9026195406913757, 0.9026196002960205, 0.9026196002960205, 0.9026196002960205, 0.9026195406913757, 0.9026196002960205, 0.9026196002960205, 0.9026196002960205, 1.2169897556304932, 4.303903102874756, 2.3007028102874756, 2.0264453887939453, 2.0264453887939453, 2.0264453887939453, 2.0264453887939453, 2.662879467010498, 1.216995358467102, 1.2169952392578125, 1.2169897556304932, 1.2169976234436035, 0.9026196002960205, 0.9026196002960205, 0.9026196002960205, 0.9026195406913757, 0.9026196002960205, 0.9026196002960205, 0.9026196002960205, 0.9026196599006653, 0.9026196002960205, 0.9026195406913757, 0.9026195406913757, 0.9026196002960205, 0.8331878185272217, 0.8331878185272217, 0.8331878185272217, 0.8331878185272217, 0.8331878185272217, 0.8331878185272217, 0.8331877589225769, 0.8331877589225769, 0.8331878781318665, 0.8331877589225769, 0.8331878185272217, 0.8451465964317322, 0.8451467156410217, 0.845146656036377, 4.303903102874756, 0.8451465964317322, 0.8451465964317322, 0.8451465964317322, 2.0264453887939453, 2.0264453887939453, 2.0264453887939453, 2.0264453887939453, 2.0264453887939453, 2.0264453887939453], \"loglift\": [30.0, 29.0, 28.0, 27.0, 26.0, 25.0, 24.0, 23.0, 22.0, 21.0, 20.0, 19.0, 18.0, 17.0, 16.0, 15.0, 14.0, 13.0, 12.0, 11.0, 10.0, 9.0, 8.0, 7.0, 6.0, 5.0, 4.0, 3.0, 2.0, 1.0, 1.2589000463485718, 1.1238000392913818, 1.1238000392913818, 1.1238000392913818, 1.1238000392913818, 1.1238000392913818, 1.1238000392913818, 1.1238000392913818, 1.1238000392913818, 1.1238000392913818, 1.1238000392913818, 1.1238000392913818, 0.8141999840736389, 0.8141999840736389, 0.5372999906539917, 0.5372999906539917, 0.5372999906539917, 0.5372999906539917, 0.5372999906539917, 0.5372999906539917, -0.7179999947547913, -0.7179999947547913, -0.7179999947547913, -0.7179999947547913, -0.7179999947547913, -0.7179999947547913, -0.7179999947547913, -0.7179999947547913, -0.7179999947547913, -0.7179999947547913, -0.7179999947547913, 1.3461999893188477, 1.323099970817566, 1.2878999710083008, 1.1996999979019165, 1.0256999731063843, 1.0256999731063843, 0.8007000088691711, 0.8007000088691711, 0.8007000088691711, 0.8007000088691711, 0.8007000088691711, 0.8007000088691711, 0.8007000088691711, 0.8007000088691711, 0.8007000088691711, 0.8007000088691711, 0.8007000088691711, 0.8007000088691711, 0.8007000088691711, -0.35030001401901245, -0.35030001401901245, -0.35030001401901245, -0.35030001401901245, -0.35030001401901245, -0.35030001401901245, -0.35030001401901245, -0.35030001401901245, -0.35030001401901245, -0.35030001401901245, -0.35030001401901245, -0.3643999993801117, -0.3643999993801117, -0.3643999993801117, -0.3643999993801117, -0.3643999993801117, -0.3643999993801117, -1.2389999628067017, -1.2389999628067017, -1.2389999628067017, -1.2389999628067017, -1.2389999628067017, 1.4157999753952026, 1.4157999753952026, 1.3695000410079956, 1.1476999521255493, 1.1476999521255493, 1.1476000547409058, 0.9186999797821045, 0.9186999797821045, 0.9186999797821045, 0.9186999797821045, 0.9186999797821045, 0.9186999797821045, 0.9186999797821045, 0.9186999797821045, 0.9186999797821045, 0.9186999797821045, 0.9186999797821045, 0.9186999797821045, 0.9186999797821045, 0.9186999797821045, -0.2410999983549118, -0.2410999983549118, -0.2410999983549118, -0.2410999983549118, -0.2410999983549118, -0.2410999983549118, -0.2410999983549118, -0.2410999983549118, -0.2410999983549118, -0.2410999983549118, -0.2410999983549118, -0.6197999715805054, -1.8830000162124634, -0.25519999861717224, -0.25519999861717224, -0.25519999861717224, -0.25519999861717224, -0.25519999861717224, -0.25519999861717224, -1.1297999620437622, -1.1297999620437622, 1.5529999732971191, 1.5529999732971191, 1.5529999732971191, 1.5529999732971191, 1.5529999732971191, 1.5529999732971191, 0.9469000101089478, 0.9469000101089478, 0.9469000101089478, 0.9469000101089478, 0.9469000101089478, 0.9469000101089478, 0.9469000101089478, 0.9469000101089478, 0.9469000101089478, 0.9469000101089478, 0.9469000101089478, -0.3377000093460083, -0.3377000093460083, -0.3377000093460083, -0.3377000093460083, -0.3377000093460083, -0.3377000093460083, -0.4036000072956085, -0.4036000072956085, -0.4036000072956085, -0.4036000072956085, -0.4036000072956085, -0.4036000072956085, -0.4036000072956085, -0.4036000072956085, -0.4036000072956085, -0.4036000072956085, -0.4036000072956085, -0.4036000072956085, -0.7023000121116638, -1.965399980545044, -1.3391000032424927, -1.2122999429702759, -1.2122999429702759, -1.2122999429702759, -1.2122999429702759, 1.652500033378601, 1.3623000383377075, 1.3623000383377075, 1.3622000217437744, 1.3622000217437744, 1.1188000440597534, 1.1188000440597534, 1.1188000440597534, 1.1188000440597534, 1.1188000440597534, 1.1188000440597534, 1.1188000440597534, 1.1188000440597534, 1.1188000440597534, 1.1188000440597534, 1.1188000440597534, 1.1188000440597534, -0.07180000096559525, -0.07180000096559525, -0.07180000096559525, -0.07180000096559525, -0.07180000096559525, -0.07180000096559525, -0.07180000096559525, -0.07180000096559525, -0.07180000096559525, -0.07180000096559525, -0.07180000096559525, -0.0860000029206276, -0.0860000029206276, -0.0860000029206276, -1.7137000560760498, -0.0860000029206276, -0.0860000029206276, -0.0860000029206276, -0.9606000185012817, -0.9606000185012817, -0.9606000185012817, -0.9606000185012817, -0.9606000185012817, -0.9606000185012817], \"logprob\": [30.0, 29.0, 28.0, 27.0, 26.0, 25.0, 24.0, 23.0, 22.0, 21.0, 20.0, 19.0, 18.0, 17.0, 16.0, 15.0, 14.0, 13.0, 12.0, 11.0, 10.0, 9.0, 8.0, 7.0, 6.0, 5.0, 4.0, 3.0, 2.0, 1.0, -2.2553000450134277, -2.998199939727783, -2.998199939727783, -2.998199939727783, -2.998199939727783, -2.998199939727783, -2.998199939727783, -2.998199939727783, -2.998199939727783, -2.998199939727783, -2.998199939727783, -2.998199939727783, -3.9170000553131104, -3.9170000553131104, -4.4593000411987305, -4.4593000411987305, -4.4593000411987305, -4.4593000411987305, -4.4593000411987305, -4.4593000411987305, -5.728799819946289, -5.728799819946289, -5.728799819946289, -5.728799819946289, -5.728799819946289, -5.728799819946289, -5.728799819946289, -5.728799819946289, -5.728799819946289, -5.728799819946289, -5.728799819946289, -2.022599935531616, -2.2235000133514404, -2.4751999378204346, -2.9402999877929688, -3.5485000610351562, -3.5485000610351562, -4.090799808502197, -4.090799808502197, -4.090799808502197, -4.090799808502197, -4.090799808502197, -4.090799808502197, -4.090799808502197, -4.090799808502197, -4.090799808502197, -4.090799808502197, -4.090799808502197, -4.090799808502197, -4.090799808502197, -5.361100196838379, -5.361100196838379, -5.361100196838379, -5.361100196838379, -5.361100196838379, -5.361100196838379, -5.361100196838379, -5.361100196838379, -5.361100196838379, -5.361100196838379, -5.361100196838379, -5.360899925231934, -5.360899925231934, -5.360899925231934, -5.360899925231934, -5.360899925231934, -5.360899925231934, -5.361000061035156, -5.361000061035156, -5.361000061035156, -5.361000061035156, -5.361000061035156, -2.365799903869629, -2.365799903869629, -2.6256000995635986, -3.4391000270843506, -3.4391000270843506, -3.4391000270843506, -3.9814000129699707, -3.9814000129699707, -3.9814000129699707, -3.9814000129699707, -3.9814000129699707, -3.9814000129699707, -3.9814000129699707, -3.9814000129699707, -3.9814000129699707, -3.9814000129699707, -3.9814000129699707, -3.9814000129699707, -3.9814000129699707, -3.9814000129699707, -5.2519001960754395, -5.2519001960754395, -5.2519001960754395, -5.2519001960754395, -5.2519001960754395, -5.2519001960754395, -5.2519001960754395, -5.2519001960754395, -5.2519001960754395, -5.2519001960754395, -5.2519001960754395, -5.251800060272217, -5.251800060272217, -5.251800060272217, -5.251800060272217, -5.251800060272217, -5.251800060272217, -5.251800060272217, -5.251800060272217, -5.251800060272217, -5.251800060272217, -2.6026999950408936, -2.6026999950408936, -2.6026999950408936, -2.6026999950408936, -2.6026999950408936, -2.6026999950408936, -4.064000129699707, -4.064000129699707, -4.064000129699707, -4.064000129699707, -4.064000129699707, -4.064000129699707, -4.064000129699707, -4.064000129699707, -4.064000129699707, -4.064000129699707, -4.064000129699707, -5.334199905395508, -5.334199905395508, -5.334199905395508, -5.334199905395508, -5.334199905395508, -5.334199905395508, -5.334400177001953, -5.334400177001953, -5.334400177001953, -5.334400177001953, -5.334400177001953, -5.334400177001953, -5.334400177001953, -5.334400177001953, -5.334400177001953, -5.334400177001953, -5.334400177001953, -5.334400177001953, -5.334199905395508, -5.334199905395508, -5.334199905395508, -5.3343000411987305, -5.3343000411987305, -5.3343000411987305, -5.3343000411987305, -2.1963999271392822, -3.269700050354004, -3.269700050354004, -3.269700050354004, -3.269700050354004, -3.812000036239624, -3.812000036239624, -3.812000036239624, -3.812000036239624, -3.812000036239624, -3.812000036239624, -3.812000036239624, -3.812000036239624, -3.812000036239624, -3.812000036239624, -3.812000036239624, -3.812000036239624, -5.082600116729736, -5.082600116729736, -5.082600116729736, -5.082600116729736, -5.082600116729736, -5.082600116729736, -5.082600116729736, -5.082600116729736, -5.082600116729736, -5.082600116729736, -5.082600116729736, -5.082600116729736, -5.082600116729736, -5.082600116729736, -5.082499980926514, -5.082600116729736, -5.082600116729736, -5.082600116729736, -5.082600116729736, -5.082600116729736, -5.082600116729736, -5.082600116729736, -5.082600116729736, -5.082600116729736]}, \"token.table\": {\"Topic\": [5, 5, 3, 1, 1, 2, 2, 1, 2, 1, 3, 5, 2, 3, 1, 1, 1, 5, 3, 4, 4, 1, 2, 3, 1, 2, 4, 1, 3, 1, 1, 5, 4, 1, 1, 4, 4], \"Freq\": [0.8216959238052368, 0.8216943144798279, 0.869299590587616, 0.9869498610496521, 0.8061423897743225, 0.6892582774162292, 0.9293889403343201, 0.9869498610496521, 0.8326864242553711, 0.9869498610496521, 0.7854090929031372, 0.8216958045959473, 0.7755905389785767, 0.7021333575248718, 0.9869498610496521, 0.9869498610496521, 0.9869498610496521, 0.8216996192932129, 0.7021333575248718, 0.5103463530540466, 0.5103463530540466, 0.9869498610496521, 0.775595486164093, 0.7854090332984924, 0.9869498610496521, 1.004794955253601, 0.5103463530540466, 0.9869498610496521, 0.7854136228561401, 0.9074539542198181, 0.9869498610496521, 0.7510666847229004, 0.5103463530540466, 0.9869498610496521, 0.9074539542198181, 0.5103463530540466, 0.5103463530540466], \"Term\": [\"abusar\", \"abusivo\", \"assediar\", \"atar\", \"autor\", \"causar\", \"conduta\", \"corrente\", \"danar\", \"decisao\", \"direito\", \"doutrinar\", \"efeito\", \"empregador\", \"enriquecimento\", \"exame\", \"finalidade\", \"formar\", \"gravidade\", \"importancia\", \"julgar\", \"monetaria\", \"natureza\", \"ofenso\", \"pagamento\", \"partir\", \"pedagogica\", \"pedir\", \"pessoa\", \"propria\", \"quantiar\", \"re\", \"real\", \"relacao\", \"sao\", \"titulo\", \"tst\"]}, \"R\": 30, \"lambda.step\": 0.01, \"plot.opts\": {\"xlab\": \"PC1\", \"ylab\": \"PC2\"}, \"topic.order\": [5, 3, 2, 1, 4]};\n",
       "\n",
       "function LDAvis_load_lib(url, callback){\n",
       "  var s = document.createElement('script');\n",
       "  s.src = url;\n",
       "  s.async = true;\n",
       "  s.onreadystatechange = s.onload = callback;\n",
       "  s.onerror = function(){console.warn(\"failed to load library \" + url);};\n",
       "  document.getElementsByTagName(\"head\")[0].appendChild(s);\n",
       "}\n",
       "\n",
       "if(typeof(LDAvis) !== \"undefined\"){\n",
       "   // already loaded: just create the visualization\n",
       "   !function(LDAvis){\n",
       "       new LDAvis(\"#\" + \"ldavis_el22933140439905336320583119152\", ldavis_el22933140439905336320583119152_data);\n",
       "   }(LDAvis);\n",
       "}else if(typeof define === \"function\" && define.amd){\n",
       "   // require.js is available: use it to load d3/LDAvis\n",
       "   require.config({paths: {d3: \"https://cdnjs.cloudflare.com/ajax/libs/d3/3.5.5/d3.min\"}});\n",
       "   require([\"d3\"], function(d3){\n",
       "      window.d3 = d3;\n",
       "      LDAvis_load_lib(\"https://cdn.rawgit.com/bmabey/pyLDAvis/files/ldavis.v1.0.0.js\", function(){\n",
       "        new LDAvis(\"#\" + \"ldavis_el22933140439905336320583119152\", ldavis_el22933140439905336320583119152_data);\n",
       "      });\n",
       "    });\n",
       "}else{\n",
       "    // require.js not available: dynamically load d3 & LDAvis\n",
       "    LDAvis_load_lib(\"https://cdnjs.cloudflare.com/ajax/libs/d3/3.5.5/d3.min.js\", function(){\n",
       "         LDAvis_load_lib(\"https://cdn.rawgit.com/bmabey/pyLDAvis/files/ldavis.v1.0.0.js\", function(){\n",
       "                 new LDAvis(\"#\" + \"ldavis_el22933140439905336320583119152\", ldavis_el22933140439905336320583119152_data);\n",
       "            })\n",
       "         });\n",
       "}\n",
       "</script>"
      ],
      "text/plain": [
       "PreparedData(topic_coordinates=              x         y  topics  cluster       Freq\n",
       "topic                                                \n",
       "4     -0.206959 -0.005001       1        1  24.670803\n",
       "2      0.073481 -0.135082       2        1  23.290642\n",
       "1      0.042677  0.009317       3        1  20.397144\n",
       "0      0.066078  0.127202       4        1  15.836881\n",
       "3      0.024723  0.003565       5        1  15.804531, topic_info=   Category      Freq       Term     Total  loglift  logprob\n",
       "22  Default  4.000000    conduta  4.000000  30.0000  30.0000\n",
       "63  Default  2.000000         re  2.000000  29.0000  29.0000\n",
       "4   Default  3.000000      danar  3.000000  28.0000  28.0000\n",
       "52  Default  3.000000      autor  3.000000  27.0000  27.0000\n",
       "61  Default  2.000000  gravidade  2.000000  26.0000  26.0000\n",
       "..      ...       ...        ...       ...      ...      ...\n",
       "90   Topic5  0.122558  monetaria  2.026445  -0.9606  -5.0826\n",
       "89   Topic5  0.122558   corrente  2.026445  -0.9606  -5.0826\n",
       "78   Topic5  0.122558   quantiar  2.026445  -0.9606  -5.0826\n",
       "86   Topic5  0.122558  pagamento  2.026445  -0.9606  -5.0826\n",
       "84   Topic5  0.122558      pedir  2.026445  -0.9606  -5.0826\n",
       "\n",
       "[226 rows x 6 columns], token_table=      Topic      Freq            Term\n",
       "term                                 \n",
       "34        5  0.821696          abusar\n",
       "25        5  0.821694         abusivo\n",
       "20        3  0.869300        assediar\n",
       "77        1  0.986950            atar\n",
       "52        1  0.806142           autor\n",
       "23        2  0.689258          causar\n",
       "22        2  0.929389         conduta\n",
       "89        1  0.986950        corrente\n",
       "4         2  0.832686           danar\n",
       "91        1  0.986950         decisao\n",
       "32        3  0.785409         direito\n",
       "0         5  0.821696       doutrinar\n",
       "28        2  0.775591          efeito\n",
       "35        3  0.702133      empregador\n",
       "82        1  0.986950  enriquecimento\n",
       "76        1  0.986950           exame\n",
       "79        1  0.986950      finalidade\n",
       "19        5  0.821700          formar\n",
       "61        3  0.702133       gravidade\n",
       "87        4  0.510346     importancia\n",
       "83        4  0.510346          julgar\n",
       "90        1  0.986950       monetaria\n",
       "5         2  0.775595        natureza\n",
       "6         3  0.785409          ofenso\n",
       "86        1  0.986950       pagamento\n",
       "16        2  1.004795          partir\n",
       "80        4  0.510346      pedagogica\n",
       "84        1  0.986950           pedir\n",
       "11        3  0.785414          pessoa\n",
       "59        1  0.907454         propria\n",
       "78        1  0.986950        quantiar\n",
       "63        5  0.751067              re\n",
       "88        4  0.510346            real\n",
       "81        1  0.986950         relacao\n",
       "8         1  0.907454             sao\n",
       "85        4  0.510346          titulo\n",
       "92        4  0.510346             tst, R=30, lambda_step=0.01, plot_opts={'xlab': 'PC1', 'ylab': 'PC2'}, topic_order=[5, 3, 2, 1, 4])"
      ]
     },
     "execution_count": 18,
     "metadata": {},
     "output_type": "execute_result"
    }
   ],
   "source": [
    "pyLDAvis.enable_notebook()\n",
    "vis = pyLDAvis.gensim.prepare(aggregate[0][4], aggregate[0][3], aggregate[0][2])\n",
    "vis"
   ]
  },
  {
   "cell_type": "code",
   "execution_count": 19,
   "metadata": {},
   "outputs": [
    {
     "name": "stdout",
     "output_type": "stream",
     "text": [
      "[(0,\n",
      "  '0.083*\"sao\" + 0.042*\"constrangimento\" + 0.042*\"vidar\" + 0.042*\"finalidade\" '\n",
      "  '+ 0.042*\"assediar\" + 0.042*\"dificil\" + 0.042*\"usar\" + 0.042*\"exame\" + '\n",
      "  '0.042*\"convivio\" + 0.042*\"imagem\"'),\n",
      " (1,\n",
      "  '0.160*\"assediar\" + 0.080*\"pessoa\" + 0.080*\"propria\" + 0.040*\"tst\" + '\n",
      "  '0.040*\"necessidade\" + 0.040*\"ter\" + 0.040*\"causar\" + 0.040*\"quantiar\" + '\n",
      "  '0.040*\"confissao\" + 0.040*\"atitude\"'),\n",
      " (2,\n",
      "  '0.115*\"partir\" + 0.077*\"abusar\" + 0.038*\"ofensivo\" + 0.038*\"sociedade\" + '\n",
      "  '0.038*\"revelir\" + 0.038*\"indenizado\" + 0.038*\"dignidade\" + '\n",
      "  '0.038*\"trabalhador\" + 0.038*\"julgar\" + 0.038*\"empregador\"'),\n",
      " (3,\n",
      "  '0.261*\"conduta\" + 0.043*\"inicial\" + 0.043*\"efeito\" + 0.043*\"empregador\" + '\n",
      "  '0.043*\"submeter\" + 0.043*\"vexatorias\" + 0.043*\"fato\" + 0.043*\"partir\" + '\n",
      "  '0.043*\"fitar\" + 0.043*\"relacao\"'),\n",
      " (4,\n",
      "  '0.160*\"danar\" + 0.080*\"direito\" + 0.080*\"autor\" + 0.040*\"doutrinar\" + '\n",
      "  '0.040*\"ambientar\" + 0.040*\"atar\" + 0.040*\"causar\" + 0.040*\"reiteracao\" + '\n",
      "  '0.040*\"pedagogica\" + 0.040*\"efeito\"')]\n",
      "\n",
      "Coherence Score:  0.8506245322055286\n"
     ]
    }
   ],
   "source": [
    "pprint(aggregate[0][5].show_topics())\n",
    "\n",
    "# Compute Coherence Score\n",
    "coherence_model_ldamallet = CoherenceModel(model=aggregate[0][5], texts=aggregate[0][1], dictionary=aggregate[0][2], coherence='c_v')\n",
    "coherence_ldamallet = coherence_model_ldamallet.get_coherence()\n",
    "print('\\nCoherence Score: ', coherence_ldamallet)"
   ]
  },
  {
   "cell_type": "code",
   "execution_count": 20,
   "metadata": {},
   "outputs": [
    {
     "name": "stderr",
     "output_type": "stream",
     "text": [
      "/opt/anaconda/lib/python3.7/site-packages/gensim/models/wrappers/ldamallet.py:379: RuntimeWarning: invalid value encountered in true_divide\n",
      "  return topics / topics.sum(axis=1)[:, None]\n"
     ]
    }
   ],
   "source": [
    "model_list, coherence_values = compute_coherence_values(dictionary=aggregate[0][2], corpus=aggregate[0][3], texts=aggregate[0][1], start=2, limit=40, step=6)\n"
   ]
  },
  {
   "cell_type": "code",
   "execution_count": 21,
   "metadata": {},
   "outputs": [
    {
     "data": {
      "image/png": "[encoded data removed]",
      "text/plain": [
       "<Figure size 432x288 with 1 Axes>"
      ]
     },
     "metadata": {
      "needs_background": "light"
     },
     "output_type": "display_data"
    }
   ],
   "source": [
    "limit=40; start=2; step=6;\n",
    "x = range(start, limit, step)\n",
    "plt.plot(x, coherence_values)\n",
    "plt.xlabel(\"Num Topics\")\n",
    "plt.ylabel(\"Coherence score\")\n",
    "plt.legend((\"coherence_values\"), loc='best')\n",
    "plt.show()"
   ]
  },
  {
   "cell_type": "markdown",
   "metadata": {},
   "source": [
    "# Tópicos apenas levando em conta os Adjetivos\n"
   ]
  },
  {
   "cell_type": "code",
   "execution_count": 22,
   "metadata": {},
   "outputs": [
    {
     "name": "stdout",
     "output_type": "stream",
     "text": [
      "[(0,\n",
      "  '0.125*\"procedente\" + 0.125*\"psiquica\" + 0.125*\"atento\" + 0.125*\"economica\" '\n",
      "  '+ 0.125*\"reparaveis\" + 0.125*\"sexual\" + 0.022*\"moral\" + 0.021*\"mear\" + '\n",
      "  '0.021*\"mero\" + 0.021*\"psicologica\"'),\n",
      " (1,\n",
      "  '0.524*\"moral\" + 0.141*\"mear\" + 0.077*\"mero\" + 0.077*\"psicologica\" + '\n",
      "  '0.013*\"sexual\" + 0.013*\"economica\" + 0.013*\"procedente\" + 0.013*\"atento\" + '\n",
      "  '0.013*\"reparaveis\" + 0.013*\"psiquica\"'),\n",
      " (2,\n",
      "  '0.214*\"psicologico\" + 0.214*\"compensatoria\" + 0.036*\"moral\" + 0.036*\"mear\" '\n",
      "  '+ 0.036*\"reparaveis\" + 0.036*\"psicologica\" + 0.036*\"sexual\" + 0.036*\"bom\" + '\n",
      "  '0.036*\"ipsa\" + 0.036*\"procedente\"'),\n",
      " (3,\n",
      "  '0.214*\"decorrente\" + 0.214*\"presentar\" + 0.036*\"moral\" + 0.036*\"mear\" + '\n",
      "  '0.036*\"economica\" + 0.036*\"sexual\" + 0.036*\"ipsa\" + 0.036*\"passivar\" + '\n",
      "  '0.036*\"psicologica\" + 0.036*\"reparaveis\"'),\n",
      " (4,\n",
      "  '0.157*\"semelhante\" + 0.157*\"bom\" + 0.157*\"ipsa\" + 0.157*\"passivar\" + '\n",
      "  '0.030*\"moral\" + 0.026*\"mear\" + 0.026*\"psicologica\" + 0.026*\"psiquica\" + '\n",
      "  '0.026*\"atento\" + 0.026*\"sexual\"')]\n"
     ]
    }
   ],
   "source": [
    "pprint(aggregate[1][4].print_topics())\n",
    "doc_lda = aggregate[1][4][aggregate[1][3]]"
   ]
  },
  {
   "cell_type": "code",
   "execution_count": 23,
   "metadata": {},
   "outputs": [
    {
     "name": "stdout",
     "output_type": "stream",
     "text": [
      "\n",
      "Perplexity:  -4.0275606874089975\n",
      "\n",
      "Coherence Score:  0.8571460679804936\n"
     ]
    }
   ],
   "source": [
    "print('\\nPerplexity: ', aggregate[1][4].log_perplexity(aggregate[1][3]))  # a measure of how good the model is. lower the better.\n",
    "\n",
    "# Compute Coherence Score\n",
    "coherence_model_lda = CoherenceModel(model=aggregate[1][4], texts=aggregate[1][1], dictionary=aggregate[1][2], coherence='c_v')\n",
    "coherence_lda = coherence_model_lda.get_coherence()\n",
    "print('\\nCoherence Score: ', coherence_lda)"
   ]
  },
  {
   "cell_type": "code",
   "execution_count": 24,
   "metadata": {},
   "outputs": [
    {
     "name": "stderr",
     "output_type": "stream",
     "text": [
      "/opt/anaconda/lib/python3.7/site-packages/pyLDAvis/_prepare.py:257: FutureWarning: Sorting because non-concatenation axis is not aligned. A future version\n",
      "of pandas will change to not sort by default.\n",
      "\n",
      "To accept the future behavior, pass 'sort=False'.\n",
      "\n",
      "To retain the current behavior and silence the warning, pass 'sort=True'.\n",
      "\n",
      "  return pd.concat([default_term_info] + list(topic_dfs))\n"
     ]
    },
    {
     "data": {
      "text/html": [
       "\n",
       "<link rel=\"stylesheet\" type=\"text/css\" href=\"https://cdn.rawgit.com/bmabey/pyLDAvis/files/ldavis.v1.0.0.css\">\n",
       "\n",
       "\n",
       "<div id=\"ldavis_el229331404399134530321074711761\"></div>\n",
       "<script type=\"text/javascript\">\n",
       "\n",
       "var ldavis_el229331404399134530321074711761_data = {\"mdsDat\": {\"x\": [0.2359307511443893, -0.09657319622884378, -0.06095048863967854, -0.039179841160438406, -0.0392272251154285], \"y\": [-0.014139624134665057, -0.11010848279414436, 0.11158302772780407, 0.006331351588778257, 0.006333727612227147], \"topics\": [1, 2, 3, 4, 5], \"cluster\": [1, 1, 1, 1, 1], \"Freq\": [40.71901321411133, 22.072202682495117, 16.498016357421875, 10.363454818725586, 10.347319602966309]}, \"tinfo\": {\"Category\": [\"Default\", \"Default\", \"Default\", \"Default\", \"Default\", \"Default\", \"Default\", \"Default\", \"Default\", \"Default\", \"Default\", \"Default\", \"Default\", \"Default\", \"Default\", \"Default\", \"Default\", \"Default\", \"Topic1\", \"Topic1\", \"Topic1\", \"Topic1\", \"Topic1\", \"Topic1\", \"Topic1\", \"Topic1\", \"Topic1\", \"Topic1\", \"Topic1\", \"Topic1\", \"Topic1\", \"Topic1\", \"Topic1\", \"Topic1\", \"Topic1\", \"Topic1\", \"Topic2\", \"Topic2\", \"Topic2\", \"Topic2\", \"Topic2\", \"Topic2\", \"Topic2\", \"Topic2\", \"Topic2\", \"Topic2\", \"Topic2\", \"Topic2\", \"Topic2\", \"Topic2\", \"Topic2\", \"Topic2\", \"Topic2\", \"Topic2\", \"Topic3\", \"Topic3\", \"Topic3\", \"Topic3\", \"Topic3\", \"Topic3\", \"Topic3\", \"Topic3\", \"Topic3\", \"Topic3\", \"Topic3\", \"Topic3\", \"Topic3\", \"Topic3\", \"Topic3\", \"Topic3\", \"Topic3\", \"Topic3\", \"Topic4\", \"Topic4\", \"Topic4\", \"Topic4\", \"Topic4\", \"Topic4\", \"Topic4\", \"Topic4\", \"Topic4\", \"Topic4\", \"Topic4\", \"Topic4\", \"Topic4\", \"Topic4\", \"Topic4\", \"Topic4\", \"Topic4\", \"Topic4\", \"Topic5\", \"Topic5\", \"Topic5\", \"Topic5\", \"Topic5\", \"Topic5\", \"Topic5\", \"Topic5\", \"Topic5\", \"Topic5\", \"Topic5\", \"Topic5\", \"Topic5\", \"Topic5\", \"Topic5\", \"Topic5\", \"Topic5\", \"Topic5\"], \"Freq\": [5.0, 1.0, 1.0, 1.0, 1.0, 1.0, 1.0, 1.0, 1.0, 1.0, 1.0, 1.0, 1.0, 1.0, 1.0, 1.0, 1.0, 1.0, 5.551314353942871, 1.4960564374923706, 0.8159499764442444, 0.81592857837677, 0.13622383773326874, 0.1362106204032898, 0.1362154334783554, 0.13621123135089874, 0.13626763224601746, 0.13626092672348022, 0.13625772297382355, 0.1362578123807907, 0.13630466163158417, 0.13630446791648865, 0.13629715144634247, 0.13629381358623505, 0.13629397749900818, 0.13629335165023804, 0.7164293527603149, 0.7164139747619629, 0.7164106369018555, 0.716403603553772, 0.7164049744606018, 0.7163888812065125, 0.11954004317522049, 0.11953181773424149, 0.11953463405370712, 0.11953151226043701, 0.11955416202545166, 0.11954836547374725, 0.11954501271247864, 0.11953867226839066, 0.11958923935890198, 0.11957848817110062, 0.11960078775882721, 0.1252274364233017, 0.6745231747627258, 0.6745239496231079, 0.6744956374168396, 0.6744908690452576, 0.1125280037522316, 0.11252124607563019, 0.11252200603485107, 0.11251556128263474, 0.11255069822072983, 0.11254987120628357, 0.11254853010177612, 0.11254434287548065, 0.11253796517848969, 0.11253511905670166, 0.11255724728107452, 0.11254586279392242, 0.11257064342498779, 0.12842336297035217, 0.5770756602287292, 0.5770658254623413, 0.09625376760959625, 0.09625008702278137, 0.09625735133886337, 0.09625696390867233, 0.09625431895256042, 0.09624659270048141, 0.09626222401857376, 0.09625758230686188, 0.09625472128391266, 0.09625313431024551, 0.0962495431303978, 0.09624794870615005, 0.09626002609729767, 0.09624850749969482, 0.09629107266664505, 0.09651276469230652, 0.5761962532997131, 0.5761708617210388, 0.09610334783792496, 0.09610219299793243, 0.09611621499061584, 0.09611548483371735, 0.09609968960285187, 0.09609723091125488, 0.09612234681844711, 0.09611653536558151, 0.09611130505800247, 0.0961105227470398, 0.09610985964536667, 0.09610363841056824, 0.09611310809850693, 0.09611049294471741, 0.09612450003623962, 0.09627946466207504], \"Term\": [\"moral\", \"decorrente\", \"presentar\", \"psicologico\", \"compensatoria\", \"bom\", \"semelhante\", \"ipsa\", \"passivar\", \"procedente\", \"psiquica\", \"reparaveis\", \"atento\", \"economica\", \"sexual\", \"mear\", \"psicologica\", \"mero\", \"moral\", \"mear\", \"mero\", \"psicologica\", \"presentar\", \"decorrente\", \"compensatoria\", \"psicologico\", \"passivar\", \"ipsa\", \"bom\", \"semelhante\", \"sexual\", \"economica\", \"procedente\", \"reparaveis\", \"atento\", \"psiquica\", \"procedente\", \"psiquica\", \"atento\", \"reparaveis\", \"economica\", \"sexual\", \"presentar\", \"decorrente\", \"compensatoria\", \"psicologico\", \"semelhante\", \"passivar\", \"ipsa\", \"bom\", \"mero\", \"psicologica\", \"mear\", \"moral\", \"bom\", \"semelhante\", \"ipsa\", \"passivar\", \"presentar\", \"decorrente\", \"compensatoria\", \"psicologico\", \"psiquica\", \"atento\", \"sexual\", \"reparaveis\", \"economica\", \"procedente\", \"psicologica\", \"mero\", \"mear\", \"moral\", \"psicologico\", \"compensatoria\", \"presentar\", \"decorrente\", \"bom\", \"ipsa\", \"passivar\", \"semelhante\", \"reparaveis\", \"sexual\", \"procedente\", \"atento\", \"psiquica\", \"economica\", \"psicologica\", \"mero\", \"mear\", \"moral\", \"decorrente\", \"presentar\", \"psicologico\", \"compensatoria\", \"ipsa\", \"passivar\", \"bom\", \"semelhante\", \"economica\", \"sexual\", \"reparaveis\", \"psiquica\", \"atento\", \"procedente\", \"psicologica\", \"mero\", \"mear\", \"moral\"], \"Total\": [5.0, 1.0, 1.0, 1.0, 1.0, 1.0, 1.0, 1.0, 1.0, 1.0, 1.0, 1.0, 1.0, 1.0, 1.0, 1.0, 1.0, 1.0, 5.997757434844971, 1.9206434488296509, 1.2404440641403198, 1.2404375076293945, 1.040716528892517, 1.0407099723815918, 1.0414401292800903, 1.0414372682571411, 1.1226766109466553, 1.1226747035980225, 1.1226766109466553, 1.1226797103881836, 1.1576162576675415, 1.1576176881790161, 1.1576200723648071, 1.157615303993225, 1.1576175689697266, 1.1576180458068848, 1.1576200723648071, 1.1576180458068848, 1.1576175689697266, 1.157615303993225, 1.1576176881790161, 1.1576162576675415, 1.040716528892517, 1.0407099723815918, 1.0414401292800903, 1.0414372682571411, 1.1226797103881836, 1.1226766109466553, 1.1226747035980225, 1.1226766109466553, 1.2404440641403198, 1.2404375076293945, 1.9206434488296509, 5.997757434844971, 1.1226766109466553, 1.1226797103881836, 1.1226747035980225, 1.1226766109466553, 1.040716528892517, 1.0407099723815918, 1.0414401292800903, 1.0414372682571411, 1.1576180458068848, 1.1576175689697266, 1.1576162576675415, 1.157615303993225, 1.1576176881790161, 1.1576200723648071, 1.2404375076293945, 1.2404440641403198, 1.9206434488296509, 5.997757434844971, 1.0414372682571411, 1.0414401292800903, 1.040716528892517, 1.0407099723815918, 1.1226766109466553, 1.1226747035980225, 1.1226766109466553, 1.1226797103881836, 1.157615303993225, 1.1576162576675415, 1.1576200723648071, 1.1576175689697266, 1.1576180458068848, 1.1576176881790161, 1.2404375076293945, 1.2404440641403198, 1.9206434488296509, 5.997757434844971, 1.0407099723815918, 1.040716528892517, 1.0414372682571411, 1.0414401292800903, 1.1226747035980225, 1.1226766109466553, 1.1226766109466553, 1.1226797103881836, 1.1576176881790161, 1.1576162576675415, 1.157615303993225, 1.1576180458068848, 1.1576175689697266, 1.1576200723648071, 1.2404375076293945, 1.2404440641403198, 1.9206434488296509, 5.997757434844971], \"loglift\": [18.0, 17.0, 16.0, 15.0, 14.0, 13.0, 12.0, 11.0, 10.0, 9.0, 8.0, 7.0, 6.0, 5.0, 4.0, 3.0, 2.0, 1.0, 0.8210999965667725, 0.6485999822616577, 0.4796000123023987, 0.4796000123023987, -1.1348999738693237, -1.1349999904632568, -1.135599970817566, -1.135699987411499, -1.2103999853134155, -1.2103999853134155, -1.2103999853134155, -1.2103999853134155, -1.2408000230789185, -1.2408000230789185, -1.2408000230789185, -1.2408000230789185, -1.2408000230789185, -1.2408000230789185, 1.031000018119812, 1.031000018119812, 1.031000018119812, 1.031000018119812, 1.031000018119812, 1.031000018119812, -0.6531999707221985, -0.6531999707221985, -0.6539000272750854, -0.6539000272750854, -0.7289000153541565, -0.7289000153541565, -0.7289000153541565, -0.7289999723434448, -0.8282999992370605, -0.8284000158309937, -1.2654000520706177, -2.3582000732421875, 1.2925000190734863, 1.2925000190734863, 1.2924000024795532, 1.2924000024795532, -0.42250001430511475, -0.42260000109672546, -0.42329999804496765, -0.42329999804496765, -0.5288000106811523, -0.5288000106811523, -0.5288000106811523, -0.5288000106811523, -0.5289000272750854, -0.5289000272750854, -0.5978000164031982, -0.5978999733924866, -1.0348999500274658, -2.0418999195098877, 1.6764999628067017, 1.6764999628067017, -0.11379999667406082, -0.11379999667406082, -0.18960000574588776, -0.18960000574588776, -0.18960000574588776, -0.18970000743865967, -0.22020000219345093, -0.22020000219345093, -0.22020000219345093, -0.22030000388622284, -0.22030000388622284, -0.22030000388622284, -0.28929999470710754, -0.28940001130104065, -0.7261999845504761, -1.8625999689102173, 1.6771999597549438, 1.6771999597549438, -0.1145000010728836, -0.1145000010728836, -0.18950000405311584, -0.18950000405311584, -0.18960000574588776, -0.18970000743865967, -0.22010000050067902, -0.22010000050067902, -0.22020000219345093, -0.22020000219345093, -0.22020000219345093, -0.22030000388622284, -0.28929999470710754, -0.28929999470710754, -0.7263000011444092, -1.8633999824523926], \"logprob\": [18.0, 17.0, 16.0, 15.0, 14.0, 13.0, 12.0, 11.0, 10.0, 9.0, 8.0, 7.0, 6.0, 5.0, 4.0, 3.0, 2.0, 1.0, -0.6456000208854675, -1.9567999839782715, -2.562999963760376, -2.562999963760376, -4.353099822998047, -4.3531999588012695, -4.353099822998047, -4.3531999588012695, -4.352799892425537, -4.352799892425537, -4.352799892425537, -4.352799892425537, -4.352499961853027, -4.352499961853027, -4.352499961853027, -4.35260009765625, -4.35260009765625, -4.35260009765625, -2.080699920654297, -2.080699920654297, -2.080699920654297, -2.0808000564575195, -2.0808000564575195, -2.0808000564575195, -3.871299982070923, -3.8714001178741455, -3.8714001178741455, -3.8714001178741455, -3.8712000846862793, -3.871299982070923, -3.871299982070923, -3.8714001178741455, -3.8708999156951904, -3.871000051498413, -3.870800018310547, -3.824899911880493, -1.8499000072479248, -1.8499000072479248, -1.850000023841858, -1.850000023841858, -3.640700101852417, -3.6407999992370605, -3.6407999992370605, -3.6407999992370605, -3.640500068664551, -3.640500068664551, -3.640500068664551, -3.6405999660491943, -3.6405999660491943, -3.640700101852417, -3.640500068664551, -3.6405999660491943, -3.6403000354766846, -3.5085999965667725, -1.5410000085830688, -1.5410000085830688, -3.3320000171661377, -3.3320000171661377, -3.331899881362915, -3.331899881362915, -3.3320000171661377, -3.3320999145507812, -3.331899881362915, -3.331899881362915, -3.3320000171661377, -3.3320000171661377, -3.3320000171661377, -3.3320000171661377, -3.331899881362915, -3.3320000171661377, -3.3315999507904053, -3.3292999267578125, -1.5410000085830688, -1.5410000085830688, -3.3320000171661377, -3.3320000171661377, -3.331899881362915, -3.331899881362915, -3.3320000171661377, -3.3320000171661377, -3.3317999839782715, -3.3317999839782715, -3.331899881362915, -3.331899881362915, -3.331899881362915, -3.3320000171661377, -3.331899881362915, -3.331899881362915, -3.3317999839782715, -3.330199956893921]}, \"token.table\": {\"Topic\": [2, 3, 4, 5, 2, 3, 1, 1, 1, 3, 5, 2, 1, 4, 2, 2, 3, 2], \"Freq\": [0.8638431429862976, 0.8907284736633301, 0.9602088332176208, 0.9608824849128723, 0.8638430833816528, 0.8907299637794495, 0.5206588506698608, 0.8061628937721252, 1.0003739595413208, 0.8907284736633301, 0.96087646484375, 0.8638412952423096, 0.8061671853065491, 0.960211455821991, 0.863842785358429, 0.8638448119163513, 0.8907259702682495, 0.863844096660614], \"Term\": [\"atento\", \"bom\", \"compensatoria\", \"decorrente\", \"economica\", \"ipsa\", \"mear\", \"mero\", \"moral\", \"passivar\", \"presentar\", \"procedente\", \"psicologica\", \"psicologico\", \"psiquica\", \"reparaveis\", \"semelhante\", \"sexual\"]}, \"R\": 18, \"lambda.step\": 0.01, \"plot.opts\": {\"xlab\": \"PC1\", \"ylab\": \"PC2\"}, \"topic.order\": [2, 1, 5, 3, 4]};\n",
       "\n",
       "function LDAvis_load_lib(url, callback){\n",
       "  var s = document.createElement('script');\n",
       "  s.src = url;\n",
       "  s.async = true;\n",
       "  s.onreadystatechange = s.onload = callback;\n",
       "  s.onerror = function(){console.warn(\"failed to load library \" + url);};\n",
       "  document.getElementsByTagName(\"head\")[0].appendChild(s);\n",
       "}\n",
       "\n",
       "if(typeof(LDAvis) !== \"undefined\"){\n",
       "   // already loaded: just create the visualization\n",
       "   !function(LDAvis){\n",
       "       new LDAvis(\"#\" + \"ldavis_el229331404399134530321074711761\", ldavis_el229331404399134530321074711761_data);\n",
       "   }(LDAvis);\n",
       "}else if(typeof define === \"function\" && define.amd){\n",
       "   // require.js is available: use it to load d3/LDAvis\n",
       "   require.config({paths: {d3: \"https://cdnjs.cloudflare.com/ajax/libs/d3/3.5.5/d3.min\"}});\n",
       "   require([\"d3\"], function(d3){\n",
       "      window.d3 = d3;\n",
       "      LDAvis_load_lib(\"https://cdn.rawgit.com/bmabey/pyLDAvis/files/ldavis.v1.0.0.js\", function(){\n",
       "        new LDAvis(\"#\" + \"ldavis_el229331404399134530321074711761\", ldavis_el229331404399134530321074711761_data);\n",
       "      });\n",
       "    });\n",
       "}else{\n",
       "    // require.js not available: dynamically load d3 & LDAvis\n",
       "    LDAvis_load_lib(\"https://cdnjs.cloudflare.com/ajax/libs/d3/3.5.5/d3.min.js\", function(){\n",
       "         LDAvis_load_lib(\"https://cdn.rawgit.com/bmabey/pyLDAvis/files/ldavis.v1.0.0.js\", function(){\n",
       "                 new LDAvis(\"#\" + \"ldavis_el229331404399134530321074711761\", ldavis_el229331404399134530321074711761_data);\n",
       "            })\n",
       "         });\n",
       "}\n",
       "</script>"
      ],
      "text/plain": [
       "PreparedData(topic_coordinates=              x         y  topics  cluster       Freq\n",
       "topic                                                \n",
       "1      0.235931 -0.014140       1        1  40.719013\n",
       "0     -0.096573 -0.110108       2        1  22.072203\n",
       "4     -0.060950  0.111583       3        1  16.498016\n",
       "2     -0.039180  0.006331       4        1  10.363455\n",
       "3     -0.039227  0.006334       5        1  10.347320, topic_info=   Category      Freq           Term     Total  loglift  logprob\n",
       "1   Default  5.000000          moral  5.000000  18.0000  18.0000\n",
       "10  Default  1.000000     decorrente  1.000000  17.0000  17.0000\n",
       "17  Default  1.000000      presentar  1.000000  16.0000  16.0000\n",
       "4   Default  1.000000    psicologico  1.000000  15.0000  15.0000\n",
       "14  Default  1.000000  compensatoria  1.000000  14.0000  14.0000\n",
       "..      ...       ...            ...       ...      ...      ...\n",
       "15   Topic5  0.096104     procedente  1.157620  -0.2203  -3.3320\n",
       "6    Topic5  0.096113    psicologica  1.240438  -0.2893  -3.3319\n",
       "2    Topic5  0.096110           mero  1.240444  -0.2893  -3.3319\n",
       "9    Topic5  0.096125           mear  1.920643  -0.7263  -3.3318\n",
       "1    Topic5  0.096279          moral  5.997757  -1.8634  -3.3302\n",
       "\n",
       "[108 rows x 6 columns], token_table=      Topic      Freq           Term\n",
       "term                                \n",
       "7         2  0.863843         atento\n",
       "0         3  0.890728            bom\n",
       "14        4  0.960209  compensatoria\n",
       "10        5  0.960882     decorrente\n",
       "13        2  0.863843      economica\n",
       "11        3  0.890730           ipsa\n",
       "9         1  0.520659           mear\n",
       "2         1  0.806163           mero\n",
       "1         1  1.000374          moral\n",
       "16        3  0.890728       passivar\n",
       "17        5  0.960876      presentar\n",
       "15        2  0.863841     procedente\n",
       "6         1  0.806167    psicologica\n",
       "4         4  0.960211    psicologico\n",
       "8         2  0.863843       psiquica\n",
       "3         2  0.863845     reparaveis\n",
       "12        3  0.890726     semelhante\n",
       "5         2  0.863844         sexual, R=18, lambda_step=0.01, plot_opts={'xlab': 'PC1', 'ylab': 'PC2'}, topic_order=[2, 1, 5, 3, 4])"
      ]
     },
     "execution_count": 24,
     "metadata": {},
     "output_type": "execute_result"
    }
   ],
   "source": [
    "pyLDAvis.enable_notebook()\n",
    "vis = pyLDAvis.gensim.prepare(aggregate[1][4], aggregate[1][3], aggregate[1][2])\n",
    "vis"
   ]
  },
  {
   "cell_type": "code",
   "execution_count": 25,
   "metadata": {},
   "outputs": [
    {
     "name": "stdout",
     "output_type": "stream",
     "text": [
      "[(0,\n",
      "  'nan*\"decorrente\" + nan*\"psiquica\" + nan*\"passivar\" + nan*\"procedente\" + '\n",
      "  'nan*\"compensatoria\" + nan*\"economica\" + nan*\"semelhante\" + nan*\"ipsa\" + '\n",
      "  'nan*\"bom\" + nan*\"mear\"'),\n",
      " (1,\n",
      "  '0.250*\"procedente\" + 0.250*\"psiquica\" + 0.250*\"bom\" + 0.250*\"reparaveis\" + '\n",
      "  '0.000*\"semelhante\" + 0.000*\"decorrente\" + 0.000*\"passivar\" + 0.000*\"mero\" + '\n",
      "  '0.000*\"compensatoria\" + 0.000*\"economica\"'),\n",
      " (2,\n",
      "  '0.167*\"ipsa\" + 0.167*\"mero\" + 0.167*\"passivar\" + 0.167*\"sexual\" + '\n",
      "  '0.167*\"atento\" + 0.167*\"economica\" + 0.000*\"psiquica\" + 0.000*\"procedente\" '\n",
      "  '+ 0.000*\"compensatoria\" + 0.000*\"semelhante\"'),\n",
      " (3,\n",
      "  '0.700*\"moral\" + 0.100*\"decorrente\" + 0.100*\"psicologica\" + '\n",
      "  '0.100*\"semelhante\" + 0.000*\"psiquica\" + 0.000*\"passivar\" + '\n",
      "  '0.000*\"procedente\" + 0.000*\"compensatoria\" + 0.000*\"economica\" + '\n",
      "  '0.000*\"ipsa\"'),\n",
      " (4,\n",
      "  '0.333*\"mear\" + 0.167*\"presentar\" + 0.167*\"psicologico\" + '\n",
      "  '0.167*\"compensatoria\" + 0.167*\"moral\" + 0.000*\"ipsa\" + 0.000*\"passivar\" + '\n",
      "  '0.000*\"procedente\" + 0.000*\"economica\" + 0.000*\"semelhante\"')]\n"
     ]
    },
    {
     "name": "stderr",
     "output_type": "stream",
     "text": [
      "/opt/anaconda/lib/python3.7/site-packages/gensim/models/wrappers/ldamallet.py:448: RuntimeWarning: invalid value encountered in true_divide\n",
      "  topic = topic / topic.sum()  # normalize to probability dist\n",
      "/opt/anaconda/lib/python3.7/site-packages/gensim/models/wrappers/ldamallet.py:379: RuntimeWarning: invalid value encountered in true_divide\n",
      "  return topics / topics.sum(axis=1)[:, None]\n"
     ]
    },
    {
     "name": "stdout",
     "output_type": "stream",
     "text": [
      "\n",
      "Coherence Score:  0.8571460679804938\n"
     ]
    }
   ],
   "source": [
    "pprint(aggregate[1][5].show_topics())\n",
    "\n",
    "# Compute Coherence Score\n",
    "coherence_model_ldamallet = CoherenceModel(model=aggregate[1][5], texts=aggregate[1][1], dictionary=aggregate[1][2], coherence='c_v')\n",
    "coherence_ldamallet = coherence_model_ldamallet.get_coherence()\n",
    "print('\\nCoherence Score: ', coherence_ldamallet)"
   ]
  },
  {
   "cell_type": "code",
   "execution_count": 26,
   "metadata": {},
   "outputs": [],
   "source": [
    "model_list, coherence_values = compute_coherence_values(dictionary=aggregate[1][2], corpus=aggregate[1][3], texts=aggregate[1][1], start=2, limit=40, step=6)\n"
   ]
  },
  {
   "cell_type": "code",
   "execution_count": 27,
   "metadata": {},
   "outputs": [
    {
     "data": {
      "image/png": "[encoded data removed]",
      "text/plain": [
       "<Figure size 432x288 with 1 Axes>"
      ]
     },
     "metadata": {
      "needs_background": "light"
     },
     "output_type": "display_data"
    }
   ],
   "source": [
    "limit=40; start=2; step=6;\n",
    "x = range(start, limit, step)\n",
    "plt.plot(x, coherence_values)\n",
    "plt.xlabel(\"Num Topics\")\n",
    "plt.ylabel(\"Coherence score\")\n",
    "plt.legend((\"coherence_values\"), loc='best')\n",
    "plt.show()"
   ]
  },
  {
   "cell_type": "markdown",
   "metadata": {},
   "source": [
    "# Tópicos levando em conta os Adjetivos e Substantivos\n"
   ]
  },
  {
   "cell_type": "code",
   "execution_count": 28,
   "metadata": {},
   "outputs": [
    {
     "name": "stdout",
     "output_type": "stream",
     "text": [
      "[(0,\n",
      "  '0.072*\"assediar\" + 0.056*\"ofenso\" + 0.056*\"gravidade\" + 0.056*\"causar\" + '\n",
      "  '0.042*\"reiteracao\" + 0.042*\"monetaria\" + 0.042*\"economica\" + 0.032*\"mear\" + '\n",
      "  '0.032*\"pessoa\" + 0.032*\"natureza\"'),\n",
      " (1,\n",
      "  '0.062*\"efeito\" + 0.062*\"empregador\" + 0.062*\"abusivo\" + 0.047*\"relacao\" + '\n",
      "  '0.035*\"abusar\" + 0.020*\"veracidade\" + 0.020*\"indenizado\" + 0.020*\"fato\" + '\n",
      "  '0.020*\"atento\" + 0.020*\"psicologico\"'),\n",
      " (2,\n",
      "  '0.159*\"moral\" + 0.109*\"conduta\" + 0.092*\"autor\" + 0.031*\"doutrinar\" + '\n",
      "  '0.018*\"inicial\" + 0.018*\"reparacao\" + 0.018*\"imagem\" + 0.018*\"disciplinar\" '\n",
      "  '+ 0.018*\"individuar\" + 0.018*\"poder\"'),\n",
      " (3,\n",
      "  '0.040*\"re\" + 0.021*\"dificil\" + 0.021*\"finalidade\" + 0.021*\"quantiar\" + '\n",
      "  '0.021*\"tst\" + 0.021*\"ipsa\" + 0.021*\"atar\" + 0.021*\"exame\" + '\n",
      "  '0.021*\"semelhante\" + 0.021*\"lado\"'),\n",
      " (4,\n",
      "  '0.104*\"danar\" + 0.074*\"partir\" + 0.040*\"formar\" + 0.040*\"direito\" + '\n",
      "  '0.023*\"relevancia\" + 0.023*\"sentir\" + 0.023*\"ambientar\" + 0.023*\"submeter\" '\n",
      "  '+ 0.023*\"dignidade\" + 0.023*\"reparaveis\"')]\n"
     ]
    }
   ],
   "source": [
    "pprint(aggregate[2][4].print_topics())\n",
    "doc_lda = aggregate[2][4][aggregate[2][3]]"
   ]
  },
  {
   "cell_type": "code",
   "execution_count": 29,
   "metadata": {},
   "outputs": [
    {
     "name": "stdout",
     "output_type": "stream",
     "text": [
      "\n",
      "Perplexity:  -6.283402011785286\n",
      "\n",
      "Coherence Score:  0.8484589325168093\n"
     ]
    }
   ],
   "source": [
    "print('\\nPerplexity: ', aggregate[2][4].log_perplexity(aggregate[2][3]))  # a measure of how good the model is. lower the better.\n",
    "\n",
    "# Compute Coherence Score\n",
    "coherence_model_lda = CoherenceModel(model=aggregate[2][4], texts=aggregate[2][1], dictionary=aggregate[2][2], coherence='c_v')\n",
    "coherence_lda = coherence_model_lda.get_coherence()\n",
    "print('\\nCoherence Score: ', coherence_lda)"
   ]
  },
  {
   "cell_type": "code",
   "execution_count": 30,
   "metadata": {},
   "outputs": [
    {
     "name": "stderr",
     "output_type": "stream",
     "text": [
      "/opt/anaconda/lib/python3.7/site-packages/pyLDAvis/_prepare.py:257: FutureWarning: Sorting because non-concatenation axis is not aligned. A future version\n",
      "of pandas will change to not sort by default.\n",
      "\n",
      "To accept the future behavior, pass 'sort=False'.\n",
      "\n",
      "To retain the current behavior and silence the warning, pass 'sort=True'.\n",
      "\n",
      "  return pd.concat([default_term_info] + list(topic_dfs))\n"
     ]
    },
    {
     "data": {
      "text/html": [
       "\n",
       "<link rel=\"stylesheet\" type=\"text/css\" href=\"https://cdn.rawgit.com/bmabey/pyLDAvis/files/ldavis.v1.0.0.css\">\n",
       "\n",
       "\n",
       "<div id=\"ldavis_el229331404398499956244415512888\"></div>\n",
       "<script type=\"text/javascript\">\n",
       "\n",
       "var ldavis_el229331404398499956244415512888_data = {\"mdsDat\": {\"x\": [0.17117561730051292, -0.08892111700746415, -0.05442143381099463, -0.02295484966841169, -0.004878216813642278], \"y\": [-0.027631309249699067, -0.12970442026547865, 0.11167089776872899, 0.02785929191937757, 0.0178055398270711], \"topics\": [1, 2, 3, 4, 5], \"cluster\": [1, 1, 1, 1, 1], \"Freq\": [36.297882080078125, 18.41202735900879, 17.143190383911133, 14.83000659942627, 13.316890716552734]}, \"tinfo\": {\"Category\": [\"Default\", \"Default\", \"Default\", \"Default\", \"Default\", \"Default\", \"Default\", \"Default\", \"Default\", \"Default\", \"Default\", \"Default\", \"Default\", \"Default\", \"Default\", \"Default\", \"Default\", \"Default\", \"Default\", \"Default\", \"Default\", \"Default\", \"Default\", \"Default\", \"Default\", \"Default\", \"Default\", \"Default\", \"Default\", \"Default\", \"Topic1\", \"Topic1\", \"Topic1\", \"Topic1\", \"Topic1\", \"Topic1\", \"Topic1\", \"Topic1\", \"Topic1\", \"Topic1\", \"Topic1\", \"Topic1\", \"Topic1\", \"Topic1\", \"Topic1\", \"Topic1\", \"Topic1\", \"Topic1\", \"Topic1\", \"Topic1\", \"Topic1\", \"Topic1\", \"Topic1\", \"Topic1\", \"Topic1\", \"Topic1\", \"Topic1\", \"Topic1\", \"Topic1\", \"Topic1\", \"Topic1\", \"Topic1\", \"Topic1\", \"Topic1\", \"Topic2\", \"Topic2\", \"Topic2\", \"Topic2\", \"Topic2\", \"Topic2\", \"Topic2\", \"Topic2\", \"Topic2\", \"Topic2\", \"Topic2\", \"Topic2\", \"Topic2\", \"Topic2\", \"Topic2\", \"Topic2\", \"Topic2\", \"Topic2\", \"Topic2\", \"Topic2\", \"Topic2\", \"Topic2\", \"Topic2\", \"Topic2\", \"Topic2\", \"Topic2\", \"Topic2\", \"Topic2\", \"Topic2\", \"Topic2\", \"Topic2\", \"Topic2\", \"Topic2\", \"Topic2\", \"Topic2\", \"Topic2\", \"Topic2\", \"Topic2\", \"Topic2\", \"Topic2\", \"Topic2\", \"Topic2\", \"Topic2\", \"Topic2\", \"Topic2\", \"Topic2\", \"Topic2\", \"Topic2\", \"Topic2\", \"Topic3\", \"Topic3\", \"Topic3\", \"Topic3\", \"Topic3\", \"Topic3\", \"Topic3\", \"Topic3\", \"Topic3\", \"Topic3\", \"Topic3\", \"Topic3\", \"Topic3\", \"Topic3\", \"Topic3\", \"Topic3\", \"Topic3\", \"Topic3\", \"Topic3\", \"Topic3\", \"Topic3\", \"Topic3\", \"Topic3\", \"Topic3\", \"Topic3\", \"Topic3\", \"Topic3\", \"Topic3\", \"Topic3\", \"Topic3\", \"Topic3\", \"Topic3\", \"Topic3\", \"Topic3\", \"Topic3\", \"Topic3\", \"Topic3\", \"Topic3\", \"Topic3\", \"Topic3\", \"Topic3\", \"Topic3\", \"Topic3\", \"Topic3\", \"Topic4\", \"Topic4\", \"Topic4\", \"Topic4\", \"Topic4\", \"Topic4\", \"Topic4\", \"Topic4\", \"Topic4\", \"Topic4\", \"Topic4\", \"Topic4\", \"Topic4\", \"Topic4\", \"Topic4\", \"Topic4\", \"Topic4\", \"Topic4\", \"Topic4\", \"Topic4\", \"Topic4\", \"Topic4\", \"Topic4\", \"Topic4\", \"Topic4\", \"Topic4\", \"Topic4\", \"Topic4\", \"Topic4\", \"Topic4\", \"Topic4\", \"Topic4\", \"Topic4\", \"Topic4\", \"Topic4\", \"Topic4\", \"Topic4\", \"Topic4\", \"Topic4\", \"Topic4\", \"Topic4\", \"Topic4\", \"Topic4\", \"Topic4\", \"Topic5\", \"Topic5\", \"Topic5\", \"Topic5\", \"Topic5\", \"Topic5\", \"Topic5\", \"Topic5\", \"Topic5\", \"Topic5\", \"Topic5\", \"Topic5\", \"Topic5\", \"Topic5\", \"Topic5\", \"Topic5\", \"Topic5\", \"Topic5\", \"Topic5\", \"Topic5\", \"Topic5\", \"Topic5\", \"Topic5\", \"Topic5\", \"Topic5\", \"Topic5\", \"Topic5\", \"Topic5\", \"Topic5\", \"Topic5\", \"Topic5\", \"Topic5\", \"Topic5\", \"Topic5\", \"Topic5\", \"Topic5\", \"Topic5\", \"Topic5\", \"Topic5\", \"Topic5\", \"Topic5\", \"Topic5\", \"Topic5\", \"Topic5\", \"Topic5\", \"Topic5\", \"Topic5\", \"Topic5\", \"Topic5\", \"Topic5\", \"Topic5\"], \"Freq\": [4.0, 3.0, 2.0, 3.0, 1.0, 2.0, 1.0, 1.0, 1.0, 1.0, 1.0, 1.0, 1.0, 1.0, 1.0, 1.0, 1.0, 1.0, 1.0, 1.0, 1.0, 1.0, 1.0, 0.0, 0.0, 0.0, 0.0, 0.0, 0.0, 0.0, 2.178079843521118, 1.1485114097595215, 1.1485114097595215, 1.1485114097595215, 1.1485114097595215, 1.1485114097595215, 1.1485114097595215, 1.1485114097595215, 1.1485114097595215, 1.1485114097595215, 1.1485114097595215, 1.1485114097595215, 1.1485114097595215, 1.1485114097595215, 1.1485114097595215, 1.1485114097595215, 1.1485114097595215, 1.1485114097595215, 1.1485114097595215, 1.1485114097595215, 1.1485114097595215, 1.1485114097595215, 1.1485114097595215, 1.1485114097595215, 1.1485114097595215, 1.1485114097595215, 1.1485114097595215, 1.1485114097595215, 1.1485114097595215, 1.1485114097595215, 1.1485114097595215, 1.1485114097595215, 1.1485114097595215, 1.1485114097595215, 4.427129745483398, 3.018061876296997, 2.5656023025512695, 0.8642018437385559, 0.4918648898601532, 0.49186474084854126, 0.4918646812438965, 0.4918646514415741, 0.4918646514415741, 0.4918646514415741, 0.4918646514415741, 0.49186453223228455, 0.4918645918369293, 0.4918644428253174, 0.49186447262763977, 0.11995667219161987, 0.11995664238929749, 0.11995662748813629, 0.11995662748813629, 0.11995662748813629, 0.1199566051363945, 0.1199566051363945, 0.1199566051363945, 0.1199565902352333, 0.11995657533407211, 0.11995657533407211, 0.11995655298233032, 0.11995652318000793, 0.11995648592710495, 0.11995404213666916, 0.11995405703783035, 0.11995402723550797, 0.11995398998260498, 0.11995398998260498, 0.11997594684362411, 0.11997587978839874, 0.11997590959072113, 0.11997582018375397, 0.11997585743665695, 0.11997582018375397, 0.11997582018375397, 0.11997584253549576, 0.11997577548027039, 0.11997577548027039, 0.11997580528259277, 0.11997536569833755, 0.11997536569833755, 0.11997535079717636, 0.11997535079717636, 1.8751945495605469, 1.4470432996749878, 1.4470432996749878, 1.4470432996749878, 1.0945096015930176, 1.0945096015930176, 1.0945096015930176, 0.8180314898490906, 0.818031370639801, 0.8180311322212219, 0.4655637741088867, 0.46556371450424194, 0.4655636250972748, 0.46556368470191956, 0.46556368470191956, 0.46556356549263, 0.4655636250972748, 0.11353886872529984, 0.11353883147239685, 0.11353882402181625, 0.11353879421949387, 0.11353878676891327, 0.11353877186775208, 0.11353877186775208, 0.11353875696659088, 0.11353874951601028, 0.11353873461484909, 0.11353873461484909, 0.1135387271642685, 0.1135387122631073, 0.1135387271642685, 0.11357413977384567, 0.1135542169213295, 0.1135542020201683, 0.1135542169213295, 0.11355414241552353, 0.11355415731668472, 0.11355415731668472, 0.11355412751436234, 0.11355409026145935, 0.11355412751436234, 0.11355410516262054, 0.11355406790971756, 0.11355333030223846, 1.3957122564315796, 1.3957123756408691, 1.3957122564315796, 1.055689811706543, 0.7890223264694214, 0.44906431436538696, 0.4490642547607422, 0.44906413555145264, 0.44906413555145264, 0.44906413555145264, 0.44906410574913025, 0.4490640461444855, 0.4490640163421631, 0.4490640163421631, 0.4490639865398407, 0.4490639865398407, 0.4490639865398407, 0.44906389713287354, 0.4490637183189392, 0.10950031131505966, 0.1095002219080925, 0.10950023680925369, 0.1095002219080925, 0.1095002070069313, 0.10950019210577011, 0.10950016975402832, 0.10950016230344772, 0.10950016230344772, 0.10950243473052979, 0.109502412378788, 0.1095023825764656, 0.1095023900270462, 0.10950233787298203, 0.10953382402658463, 0.10953197628259659, 0.10950978845357895, 0.10950981080532074, 0.10950984060764313, 0.10950981825590134, 0.10950975865125656, 0.10950975865125656, 0.10950975865125656, 0.10950975865125656, 0.10950974375009537, 2.0977728366851807, 1.4846079349517822, 0.7975015640258789, 0.7974651455879211, 0.4539043605327606, 0.45390427112579346, 0.4539042115211487, 0.4539042115211487, 0.4539041817188263, 0.4539041817188263, 0.4539041221141815, 0.4539041221141815, 0.45390400290489197, 0.11066988855600357, 0.11066985875368118, 0.11066985130310059, 0.11066983640193939, 0.11066983640193939, 0.1106698215007782, 0.11066979914903641, 0.11066977679729462, 0.11066976934671402, 0.11066976934671402, 0.11066976189613342, 0.11066973954439163, 0.11066973954439163, 0.11066970974206924, 0.11067039519548416, 0.11067038774490356, 0.11067035794258118, 0.11067036539316177, 0.11067035049200058, 0.11067036539316177, 0.1106702908873558, 0.11074085533618927, 0.11073943227529526, 0.11067527532577515, 0.11067498475313187, 0.11067498475313187, 0.11067498475313187, 0.11067499220371246, 0.11067498475313187, 0.11067498475313187, 0.11067498475313187, 0.11067498475313187, 0.11067498475313187, 0.11067498475313187, 0.11067498475313187, 0.11067498475313187, 0.11067498475313187, 0.11067499220371246], \"Term\": [\"moral\", \"conduta\", \"danar\", \"autor\", \"partir\", \"assediar\", \"efeito\", \"empregador\", \"abusivo\", \"gravidade\", \"causar\", \"ofenso\", \"relacao\", \"economica\", \"monetaria\", \"reiteracao\", \"formar\", \"direito\", \"abusar\", \"mear\", \"pessoa\", \"natureza\", \"doutrinar\", \"relevancia\", \"sentir\", \"submeter\", \"dignidade\", \"reparaveis\", \"ambientar\", \"vexatorias\", \"re\", \"tst\", \"vulnerabilidade\", \"semelhante\", \"empresar\", \"fitar\", \"decisao\", \"carater\", \"patrimonio\", \"mitigar\", \"atar\", \"quantum\", \"necessidade\", \"lado\", \"dificil\", \"ipsa\", \"ilicito\", \"exame\", \"pedagogico\", \"passivar\", \"quantiar\", \"finalidade\", \"compensatoria\", \"pedagogica\", \"presentar\", \"enriquecimento\", \"julgar\", \"procedente\", \"pedir\", \"titulo\", \"corrente\", \"real\", \"importancia\", \"pagamento\", \"moral\", \"conduta\", \"autor\", \"doutrinar\", \"inicial\", \"reparacao\", \"imagem\", \"individuar\", \"revelir\", \"disciplinar\", \"poder\", \"psicologica\", \"personalidade\", \"atitude\", \"razao\", \"decorrente\", \"motivador\", \"confissao\", \"trabalhar\", \"humilhar\", \"empreendimento\", \"constrangimento\", \"atento\", \"pretensao\", \"psicologico\", \"bom\", \"indenizado\", \"veracidade\", \"fato\", \"ofensivo\", \"vexatorias\", \"reparaveis\", \"dignidade\", \"ficta\", \"inadimplemento\", \"psiquica\", \"sociedade\", \"mero\", \"entendimento\", \"fisicos\", \"sexual\", \"exclusao\", \"ter\", \"usar\", \"insito\", \"quantiar\", \"quantum\", \"decisao\", \"lado\", \"assediar\", \"gravidade\", \"causar\", \"ofenso\", \"economica\", \"monetaria\", \"reiteracao\", \"mear\", \"pessoa\", \"natureza\", \"jurisprudencia\", \"vidar\", \"morar\", \"brunir\", \"sr\", \"trabalhador\", \"convivio\", \"motivador\", \"fato\", \"trabalhar\", \"decorrente\", \"confissao\", \"humilhar\", \"empreendimento\", \"constrangimento\", \"psicologico\", \"indenizado\", \"bom\", \"pretensao\", \"veracidade\", \"atento\", \"doutrinar\", \"psiquica\", \"entendimento\", \"sexual\", \"mero\", \"sociedade\", \"inadimplemento\", \"usar\", \"fisicos\", \"ter\", \"exclusao\", \"insito\", \"decisao\", \"abusivo\", \"efeito\", \"empregador\", \"relacao\", \"abusar\", \"veracidade\", \"indenizado\", \"psicologico\", \"fato\", \"atento\", \"empreendimento\", \"pretensao\", \"bom\", \"confissao\", \"decorrente\", \"trabalhar\", \"constrangimento\", \"humilhar\", \"motivador\", \"ficta\", \"ambientar\", \"sentir\", \"vexatorias\", \"ofensivo\", \"dignidade\", \"submeter\", \"relevancia\", \"reparaveis\", \"sr\", \"brunir\", \"trabalhador\", \"jurisprudencia\", \"vidar\", \"direito\", \"danar\", \"sexual\", \"entendimento\", \"sociedade\", \"psiquica\", \"exclusao\", \"usar\", \"ter\", \"insito\", \"inadimplemento\", \"danar\", \"partir\", \"formar\", \"direito\", \"relevancia\", \"sentir\", \"ambientar\", \"submeter\", \"reparaveis\", \"dignidade\", \"ofensivo\", \"vexatorias\", \"ficta\", \"humilhar\", \"motivador\", \"constrangimento\", \"bom\", \"trabalhar\", \"decorrente\", \"psicologico\", \"pretensao\", \"confissao\", \"indenizado\", \"atento\", \"veracidade\", \"fato\", \"empreendimento\", \"morar\", \"brunir\", \"trabalhador\", \"sr\", \"vidar\", \"convivio\", \"jurisprudencia\", \"assediar\", \"moral\", \"re\", \"carater\", \"ilicito\", \"ipsa\", \"decisao\", \"lado\", \"necessidade\", \"quantum\", \"mitigar\", \"vulnerabilidade\", \"patrimonio\", \"tst\", \"pedagogico\", \"enriquecimento\", \"presentar\"], \"Total\": [4.0, 3.0, 2.0, 3.0, 1.0, 2.0, 1.0, 1.0, 1.0, 1.0, 1.0, 1.0, 1.0, 1.0, 1.0, 1.0, 1.0, 1.0, 1.0, 1.0, 1.0, 1.0, 1.0, 0.0, 0.0, 0.0, 0.0, 0.0, 0.0, 0.0, 2.631787061691284, 1.602224588394165, 1.602224588394165, 1.602224588394165, 1.602224588394165, 1.602224588394165, 1.602224588394165, 1.602224588394165, 1.602224588394165, 1.602224588394165, 1.602224588394165, 1.602224588394165, 1.602224588394165, 1.602224588394165, 1.602224588394165, 1.602224588394165, 1.602224588394165, 1.602224588394165, 1.602224588394165, 1.602224588394165, 1.602224588394165, 1.602224588394165, 1.602224588394165, 1.602224588394165, 1.602224588394165, 1.602224588394165, 1.602224588394165, 1.602224588394165, 1.602224588394165, 1.602224588394165, 1.602224588394165, 1.602224588394165, 1.602224588394165, 1.602224588394165, 4.880185604095459, 3.471046209335327, 3.018655300140381, 1.317283272743225, 0.9449756145477295, 0.9449756741523743, 0.9449756145477295, 0.9449755549430847, 0.9449755549430847, 0.9449756145477295, 0.9449756145477295, 0.9449755549430847, 0.9449756741523743, 0.9449755549430847, 0.9449756145477295, 0.9125994443893433, 0.9125993251800537, 0.9125993847846985, 0.9125994443893433, 0.9125994443893433, 0.9125994443893433, 0.9125994443893433, 0.9125994443893433, 0.9125993847846985, 0.9125993847846985, 0.9125993847846985, 0.9125993847846985, 0.9125993847846985, 0.9125994443893433, 0.9162380695343018, 0.9162381291389465, 0.9162381291389465, 0.9162381887435913, 0.9162381887435913, 0.9423570036888123, 0.9423569440841675, 0.9423570036888123, 0.9423569440841675, 0.9423568844795227, 0.9423569440841675, 0.9423569440841675, 0.9423570036888123, 0.9423569440841675, 0.9423569440841675, 0.9423569440841675, 1.602224588394165, 1.602224588394165, 1.602224588394165, 1.602224588394165, 2.334688901901245, 1.9064910411834717, 1.9064910411834717, 1.9064910411834717, 1.5540916919708252, 1.5540916919708252, 1.5540916919708252, 1.277490258216858, 1.277490258216858, 1.277490258216858, 0.9250906705856323, 0.9250906705856323, 0.9250906705856323, 0.9250907301902771, 0.9250907301902771, 0.9250906705856323, 0.9250907301902771, 0.9125993251800537, 0.9125994443893433, 0.9125994443893433, 0.9125994443893433, 0.9125993847846985, 0.9125994443893433, 0.9125994443893433, 0.9125994443893433, 0.9125993847846985, 0.9125993847846985, 0.9125993847846985, 0.9125993847846985, 0.9125993847846985, 0.9125994443893433, 1.317283272743225, 0.9423569440841675, 0.9423568844795227, 0.9423569440841675, 0.9423569440841675, 0.9423570036888123, 0.9423570036888123, 0.9423569440841675, 0.9423569440841675, 0.9423569440841675, 0.9423570036888123, 0.9423569440841675, 1.602224588394165, 1.8591768741607666, 1.8591768741607666, 1.8591768741607666, 1.5192856788635254, 1.2524932622909546, 0.9125993847846985, 0.9125993847846985, 0.9125993847846985, 0.9125994443893433, 0.9125994443893433, 0.9125994443893433, 0.9125993847846985, 0.9125993847846985, 0.9125993847846985, 0.9125994443893433, 0.9125994443893433, 0.9125994443893433, 0.9125994443893433, 0.9125993251800537, 0.9162381887435913, 0.9162380695343018, 0.9162381291389465, 0.9162381291389465, 0.9162380695343018, 0.9162381887435913, 0.9162380695343018, 0.9162380695343018, 0.9162381291389465, 0.9250907301902771, 0.9250907301902771, 0.9250906705856323, 0.9250906705856323, 0.9250906705856323, 1.25977623462677, 2.5600428581237793, 0.9423569440841675, 0.9423568844795227, 0.9423570036888123, 0.9423569440841675, 0.9423570036888123, 0.9423569440841675, 0.9423569440841675, 0.9423569440841675, 0.9423570036888123, 2.5600428581237793, 1.9468568563461304, 1.2597764730453491, 1.25977623462677, 0.9162380695343018, 0.9162381291389465, 0.9162380695343018, 0.9162380695343018, 0.9162381291389465, 0.9162381887435913, 0.9162380695343018, 0.9162381291389465, 0.9162381887435913, 0.9125994443893433, 0.9125993251800537, 0.9125994443893433, 0.9125993847846985, 0.9125994443893433, 0.9125994443893433, 0.9125993847846985, 0.9125993847846985, 0.9125993847846985, 0.9125993847846985, 0.9125994443893433, 0.9125993847846985, 0.9125994443893433, 0.9125994443893433, 0.9250906705856323, 0.9250907301902771, 0.9250906705856323, 0.9250907301902771, 0.9250906705856323, 0.9250907301902771, 0.9250906705856323, 2.334688901901245, 4.880185604095459, 2.631787061691284, 1.602224588394165, 1.602224588394165, 1.602224588394165, 1.602224588394165, 1.602224588394165, 1.602224588394165, 1.602224588394165, 1.602224588394165, 1.602224588394165, 1.602224588394165, 1.602224588394165, 1.602224588394165, 1.602224588394165, 1.602224588394165], \"loglift\": [30.0, 29.0, 28.0, 27.0, 26.0, 25.0, 24.0, 23.0, 22.0, 21.0, 20.0, 19.0, 18.0, 17.0, 16.0, 15.0, 14.0, 13.0, 12.0, 11.0, 10.0, 9.0, 8.0, 7.0, 6.0, 5.0, 4.0, 3.0, 2.0, 1.0, 0.8241999745368958, 0.6804999709129333, 0.6804999709129333, 0.6804999709129333, 0.6804999709129333, 0.6804999709129333, 0.6804999709129333, 0.6804999709129333, 0.6804999709129333, 0.6804999709129333, 0.6804999709129333, 0.6804999709129333, 0.6804999709129333, 0.6804999709129333, 0.6804999709129333, 0.6804999709129333, 0.6804999709129333, 0.6804999709129333, 0.6804999709129333, 0.6804999709129333, 0.6804999709129333, 0.6804999709129333, 0.6804999709129333, 0.6804999709129333, 0.6804999709129333, 0.6804999709129333, 0.6804999709129333, 0.6804999709129333, 0.6804999709129333, 0.6804999709129333, 0.6804999709129333, 0.6804999709129333, 0.6804999709129333, 0.6804999709129333, 1.5946999788284302, 1.552299976348877, 1.5295000076293945, 1.2705999612808228, 1.039199948310852, 1.039199948310852, 1.039199948310852, 1.039199948310852, 1.039199948310852, 1.039199948310852, 1.039199948310852, 1.039199948310852, 1.039199948310852, 1.039199948310852, 1.039199948310852, -0.3370000123977661, -0.3370000123977661, -0.3370000123977661, -0.3370000123977661, -0.3370000123977661, -0.3370000123977661, -0.3370000123977661, -0.3370000123977661, -0.3370000123977661, -0.3370000123977661, -0.3370000123977661, -0.3370000123977661, -0.3370000123977661, -0.3370000123977661, -0.3409999907016754, -0.3409999907016754, -0.3409999907016754, -0.3409999907016754, -0.3409999907016754, -0.36890000104904175, -0.36890000104904175, -0.36890000104904175, -0.36890000104904175, -0.36890000104904175, -0.36890000104904175, -0.36890000104904175, -0.36890000104904175, -0.36890000104904175, -0.36890000104904175, -0.36890000104904175, -0.8996999859809875, -0.8996999859809875, -0.8996999859809875, -0.8996999859809875, 1.5443999767303467, 1.4878000020980835, 1.4878000020980835, 1.4878000020980835, 1.4129999876022339, 1.4129999876022339, 1.4129999876022339, 1.3178000450134277, 1.3178000450134277, 1.3178000450134277, 1.0769000053405762, 1.0769000053405762, 1.0769000053405762, 1.0769000053405762, 1.0769000053405762, 1.0769000053405762, 1.0769000053405762, -0.3206000030040741, -0.3206000030040741, -0.3206000030040741, -0.3206000030040741, -0.3206000030040741, -0.3206000030040741, -0.3206000030040741, -0.3206000030040741, -0.3206000030040741, -0.3206000030040741, -0.3206000030040741, -0.3206000030040741, -0.3206000030040741, -0.3206000030040741, -0.6873000264167786, -0.35249999165534973, -0.35249999165534973, -0.35249999165534973, -0.35249999165534973, -0.35249999165534973, -0.35249999165534973, -0.35249999165534973, -0.35249999165534973, -0.35249999165534973, -0.35249999165534973, -0.35249999165534973, -0.8833000063896179, 1.6217999458312988, 1.6217999458312988, 1.6217999458312988, 1.5444999933242798, 1.4464000463485718, 1.1993999481201172, 1.1993999481201172, 1.1993999481201172, 1.1993999481201172, 1.1993999481201172, 1.1993999481201172, 1.1993999481201172, 1.1993999481201172, 1.1993999481201172, 1.1993999481201172, 1.1993999481201172, 1.1993999481201172, 1.1993999481201172, 1.1993999481201172, -0.21580000221729279, -0.21580000221729279, -0.21580000221729279, -0.21580000221729279, -0.21580000221729279, -0.21580000221729279, -0.21580000221729279, -0.21580000221729279, -0.21580000221729279, -0.22540000081062317, -0.22540000081062317, -0.22540000081062317, -0.22540000081062317, -0.22540000081062317, -0.5339000225067139, -1.2430000305175781, -0.24390000104904175, -0.24390000104904175, -0.24390000104904175, -0.24390000104904175, -0.24390000104904175, -0.24390000104904175, -0.24390000104904175, -0.24390000104904175, -0.24390000104904175, 1.8170000314712524, 1.7451000213623047, 1.558899998664856, 1.558899998664856, 1.3136999607086182, 1.3136999607086182, 1.3136999607086182, 1.3136999607086182, 1.3136999607086182, 1.3136999607086182, 1.3136999607086182, 1.3136999607086182, 1.3136999607086182, -0.09359999746084213, -0.09359999746084213, -0.09359999746084213, -0.09359999746084213, -0.09359999746084213, -0.09359999746084213, -0.09359999746084213, -0.09359999746084213, -0.09359999746084213, -0.09359999746084213, -0.09359999746084213, -0.09359999746084213, -0.09359999746084213, -0.09359999746084213, -0.10719999670982361, -0.10719999670982361, -0.10719999670982361, -0.10719999670982361, -0.10719999670982361, -0.10719999670982361, -0.10719999670982361, -1.0322999954223633, -1.7696000337600708, -1.1526999473571777, -0.6564000248908997, -0.6564000248908997, -0.6564000248908997, -0.6564000248908997, -0.6564000248908997, -0.6564000248908997, -0.6564000248908997, -0.6564000248908997, -0.6564000248908997, -0.6564000248908997, -0.6564000248908997, -0.6564000248908997, -0.6564000248908997, -0.6564000248908997], \"logprob\": [30.0, 29.0, 28.0, 27.0, 26.0, 25.0, 24.0, 23.0, 22.0, 21.0, 20.0, 19.0, 18.0, 17.0, 16.0, 15.0, 14.0, 13.0, 12.0, 11.0, 10.0, 9.0, 8.0, 7.0, 6.0, 5.0, 4.0, 3.0, 2.0, 1.0, -3.225399971008301, -3.8654000759124756, -3.8654000759124756, -3.8654000759124756, -3.8654000759124756, -3.8654000759124756, -3.8654000759124756, -3.8654000759124756, -3.8654000759124756, -3.8654000759124756, -3.8654000759124756, -3.8654000759124756, -3.8654000759124756, -3.8654000759124756, -3.8654000759124756, -3.8654000759124756, -3.8654000759124756, -3.8654000759124756, -3.8654000759124756, -3.8654000759124756, -3.8654000759124756, -3.8654000759124756, -3.8654000759124756, -3.8654000759124756, -3.8654000759124756, -3.8654000759124756, -3.8654000759124756, -3.8654000759124756, -3.8654000759124756, -3.8654000759124756, -3.8654000759124756, -3.8654000759124756, -3.8654000759124756, -3.8654000759124756, -1.837399959564209, -2.2204999923706055, -2.3828999996185303, -3.471100091934204, -4.0346999168396, -4.0346999168396, -4.0346999168396, -4.0346999168396, -4.0346999168396, -4.0346999168396, -4.0346999168396, -4.0346999168396, -4.0346999168396, -4.0346999168396, -4.0346999168396, -5.445700168609619, -5.445700168609619, -5.445700168609619, -5.445700168609619, -5.445700168609619, -5.445700168609619, -5.445700168609619, -5.445700168609619, -5.445700168609619, -5.445700168609619, -5.445700168609619, -5.445700168609619, -5.445700168609619, -5.445700168609619, -5.445799827575684, -5.445799827575684, -5.445799827575684, -5.445799827575684, -5.445799827575684, -5.4456000328063965, -5.4456000328063965, -5.4456000328063965, -5.4456000328063965, -5.4456000328063965, -5.4456000328063965, -5.4456000328063965, -5.4456000328063965, -5.4456000328063965, -5.4456000328063965, -5.4456000328063965, -5.4456000328063965, -5.4456000328063965, -5.4456000328063965, -5.4456000328063965, -2.625, -2.884200096130371, -2.884200096130371, -2.884200096130371, -3.1633999347686768, -3.1633999347686768, -3.1633999347686768, -3.4546000957489014, -3.4546000957489014, -3.4546000957489014, -4.018199920654297, -4.018199920654297, -4.018199920654297, -4.018199920654297, -4.018199920654297, -4.018199920654297, -4.018199920654297, -5.429299831390381, -5.429299831390381, -5.429299831390381, -5.429299831390381, -5.429299831390381, -5.429299831390381, -5.429299831390381, -5.429299831390381, -5.429299831390381, -5.429299831390381, -5.429299831390381, -5.429299831390381, -5.429299831390381, -5.429299831390381, -5.428999900817871, -5.429200172424316, -5.429200172424316, -5.429200172424316, -5.429200172424316, -5.429200172424316, -5.429200172424316, -5.429200172424316, -5.429200172424316, -5.429200172424316, -5.429200172424316, -5.429200172424316, -5.429200172424316, -2.775399923324585, -2.775399923324585, -2.775399923324585, -3.0546000003814697, -3.3457000255584717, -3.90939998626709, -3.90939998626709, -3.90939998626709, -3.90939998626709, -3.90939998626709, -3.90939998626709, -3.90939998626709, -3.90939998626709, -3.90939998626709, -3.90939998626709, -3.90939998626709, -3.90939998626709, -3.90939998626709, -3.90939998626709, -5.3206000328063965, -5.3206000328063965, -5.3206000328063965, -5.3206000328063965, -5.3206000328063965, -5.3206000328063965, -5.3206000328063965, -5.3206000328063965, -5.3206000328063965, -5.3206000328063965, -5.3206000328063965, -5.3206000328063965, -5.3206000328063965, -5.3206000328063965, -5.320300102233887, -5.320300102233887, -5.320499897003174, -5.320499897003174, -5.320499897003174, -5.320499897003174, -5.320499897003174, -5.320499897003174, -5.320499897003174, -5.320499897003174, -5.320499897003174, -2.2602999210357666, -2.6059999465942383, -3.227400064468384, -3.2274999618530273, -3.7909998893737793, -3.7909998893737793, -3.7909998893737793, -3.7909998893737793, -3.7909998893737793, -3.7909998893737793, -3.7909998893737793, -3.7909998893737793, -3.7909998893737793, -5.202300071716309, -5.202300071716309, -5.202300071716309, -5.202300071716309, -5.202300071716309, -5.202300071716309, -5.202300071716309, -5.202300071716309, -5.202300071716309, -5.202300071716309, -5.202300071716309, -5.202300071716309, -5.202300071716309, -5.202300071716309, -5.202300071716309, -5.202300071716309, -5.202300071716309, -5.202300071716309, -5.202300071716309, -5.202300071716309, -5.202300071716309, -5.201700210571289, -5.201700210571289, -5.202300071716309, -5.202300071716309, -5.202300071716309, -5.202300071716309, -5.202300071716309, -5.202300071716309, -5.202300071716309, -5.202300071716309, -5.202300071716309, -5.202300071716309, -5.202300071716309, -5.202300071716309, -5.202300071716309, -5.202300071716309, -5.202300071716309]}, \"token.table\": {\"Topic\": [4, 4, 3, 1, 2, 1, 3, 1, 2, 1, 5, 1, 1, 5, 2, 3, 4, 4, 1, 1, 1, 1, 1, 5, 3, 1, 1, 1, 1, 1, 3, 1, 3, 2, 3, 1, 3, 1, 5, 1, 1, 1, 1, 1, 3, 1, 1, 1, 1, 1, 1, 3, 4, 1, 1, 1, 1], \"Freq\": [0.7984074950218201, 0.5378724336624146, 0.8566451668739319, 0.6241322159767151, 0.9938200116157532, 0.6241322159767151, 0.5245238542556763, 0.6241322159767151, 0.8642927408218384, 0.6241322159767151, 0.7812369465827942, 0.6241322159767151, 0.6241322159767151, 0.7937917709350586, 0.7591381669044495, 0.6434626579284668, 0.5378724336624146, 0.5378724336624146, 0.6241322159767151, 0.6241322159767151, 0.6241322159767151, 0.6241322159767151, 0.6241322159767151, 0.7937915921211243, 0.5245238542556763, 0.6241322159767151, 0.6241322159767151, 0.6241322159767151, 0.6241322159767151, 0.6241322159767151, 0.7827848196029663, 0.6241322159767151, 0.6434626579284668, 0.8196409344673157, 0.7827848196029663, 0.6241322159767151, 0.5245238542556763, 0.6241322159767151, 0.5136484503746033, 0.6241322159767151, 0.6241322159767151, 0.6241322159767151, 0.6241322159767151, 0.6241322159767151, 0.7827848196029663, 0.6241322159767151, 0.6241322159767151, 0.6241322159767151, 0.6241322159767151, 0.7599399089813232, 0.6241322159767151, 0.6434626579284668, 0.6582040786743164, 0.6241322159767151, 0.6241322159767151, 0.6241322159767151, 0.6241322159767151], \"Term\": [\"abusar\", \"abusivo\", \"assediar\", \"atar\", \"autor\", \"carater\", \"causar\", \"compensatoria\", \"conduta\", \"corrente\", \"danar\", \"decisao\", \"dificil\", \"direito\", \"doutrinar\", \"economica\", \"efeito\", \"empregador\", \"empresar\", \"enriquecimento\", \"exame\", \"finalidade\", \"fitar\", \"formar\", \"gravidade\", \"ilicito\", \"importancia\", \"ipsa\", \"julgar\", \"lado\", \"mear\", \"mitigar\", \"monetaria\", \"moral\", \"natureza\", \"necessidade\", \"ofenso\", \"pagamento\", \"partir\", \"passivar\", \"patrimonio\", \"pedagogica\", \"pedagogico\", \"pedir\", \"pessoa\", \"presentar\", \"procedente\", \"quantiar\", \"quantum\", \"re\", \"real\", \"reiteracao\", \"relacao\", \"semelhante\", \"titulo\", \"tst\", \"vulnerabilidade\"]}, \"R\": 30, \"lambda.step\": 0.01, \"plot.opts\": {\"xlab\": \"PC1\", \"ylab\": \"PC2\"}, \"topic.order\": [4, 3, 1, 2, 5]};\n",
       "\n",
       "function LDAvis_load_lib(url, callback){\n",
       "  var s = document.createElement('script');\n",
       "  s.src = url;\n",
       "  s.async = true;\n",
       "  s.onreadystatechange = s.onload = callback;\n",
       "  s.onerror = function(){console.warn(\"failed to load library \" + url);};\n",
       "  document.getElementsByTagName(\"head\")[0].appendChild(s);\n",
       "}\n",
       "\n",
       "if(typeof(LDAvis) !== \"undefined\"){\n",
       "   // already loaded: just create the visualization\n",
       "   !function(LDAvis){\n",
       "       new LDAvis(\"#\" + \"ldavis_el229331404398499956244415512888\", ldavis_el229331404398499956244415512888_data);\n",
       "   }(LDAvis);\n",
       "}else if(typeof define === \"function\" && define.amd){\n",
       "   // require.js is available: use it to load d3/LDAvis\n",
       "   require.config({paths: {d3: \"https://cdnjs.cloudflare.com/ajax/libs/d3/3.5.5/d3.min\"}});\n",
       "   require([\"d3\"], function(d3){\n",
       "      window.d3 = d3;\n",
       "      LDAvis_load_lib(\"https://cdn.rawgit.com/bmabey/pyLDAvis/files/ldavis.v1.0.0.js\", function(){\n",
       "        new LDAvis(\"#\" + \"ldavis_el229331404398499956244415512888\", ldavis_el229331404398499956244415512888_data);\n",
       "      });\n",
       "    });\n",
       "}else{\n",
       "    // require.js not available: dynamically load d3 & LDAvis\n",
       "    LDAvis_load_lib(\"https://cdnjs.cloudflare.com/ajax/libs/d3/3.5.5/d3.min.js\", function(){\n",
       "         LDAvis_load_lib(\"https://cdn.rawgit.com/bmabey/pyLDAvis/files/ldavis.v1.0.0.js\", function(){\n",
       "                 new LDAvis(\"#\" + \"ldavis_el229331404398499956244415512888\", ldavis_el229331404398499956244415512888_data);\n",
       "            })\n",
       "         });\n",
       "}\n",
       "</script>"
      ],
      "text/plain": [
       "PreparedData(topic_coordinates=              x         y  topics  cluster       Freq\n",
       "topic                                                \n",
       "3      0.171176 -0.027631       1        1  36.297882\n",
       "2     -0.088921 -0.129704       2        1  18.412027\n",
       "0     -0.054421  0.111671       3        1  17.143190\n",
       "1     -0.022955  0.027859       4        1  14.830007\n",
       "4     -0.004878  0.017806       5        1  13.316891, topic_info=    Category      Freq            Term     Total  loglift  logprob\n",
       "6    Default  4.000000           moral  4.000000  30.0000  30.0000\n",
       "26   Default  3.000000         conduta  3.000000  29.0000  29.0000\n",
       "5    Default  2.000000           danar  2.000000  28.0000  28.0000\n",
       "63   Default  3.000000           autor  3.000000  27.0000  27.0000\n",
       "19   Default  1.000000          partir  1.000000  26.0000  26.0000\n",
       "..       ...       ...             ...       ...      ...      ...\n",
       "82    Topic5  0.110675      patrimonio  1.602225  -0.6564  -5.2023\n",
       "110   Topic5  0.110675             tst  1.602225  -0.6564  -5.2023\n",
       "84    Topic5  0.110675      pedagogico  1.602225  -0.6564  -5.2023\n",
       "97    Topic5  0.110675  enriquecimento  1.602225  -0.6564  -5.2023\n",
       "108   Topic5  0.110675       presentar  1.602225  -0.6564  -5.2023\n",
       "\n",
       "[252 rows x 6 columns], token_table=      Topic      Freq             Term\n",
       "term                                  \n",
       "43        4  0.798407           abusar\n",
       "31        4  0.537872          abusivo\n",
       "24        3  0.856645         assediar\n",
       "90        1  0.624132             atar\n",
       "63        2  0.993820            autor\n",
       "83        1  0.624132          carater\n",
       "27        3  0.524524           causar\n",
       "94        1  0.624132    compensatoria\n",
       "26        2  0.864293          conduta\n",
       "105       1  0.624132         corrente\n",
       "5         5  0.781237            danar\n",
       "109       1  0.624132          decisao\n",
       "76        1  0.624132          dificil\n",
       "41        5  0.793792          direito\n",
       "1         2  0.759138        doutrinar\n",
       "91        3  0.643463        economica\n",
       "37        4  0.537872           efeito\n",
       "44        4  0.537872       empregador\n",
       "86        1  0.624132         empresar\n",
       "97        1  0.624132   enriquecimento\n",
       "89        1  0.624132            exame\n",
       "93        1  0.624132       finalidade\n",
       "85        1  0.624132            fitar\n",
       "22        5  0.793792           formar\n",
       "72        3  0.524524        gravidade\n",
       "73        1  0.624132          ilicito\n",
       "103       1  0.624132      importancia\n",
       "75        1  0.624132             ipsa\n",
       "98        1  0.624132           julgar\n",
       "77        1  0.624132             lado\n",
       "45        3  0.782785             mear\n",
       "80        1  0.624132          mitigar\n",
       "107       3  0.643463        monetaria\n",
       "6         2  0.819641            moral\n",
       "7         3  0.782785         natureza\n",
       "78        1  0.624132      necessidade\n",
       "8         3  0.524524           ofenso\n",
       "102       1  0.624132        pagamento\n",
       "19        5  0.513648           partir\n",
       "106       1  0.624132         passivar\n",
       "82        1  0.624132       patrimonio\n",
       "95        1  0.624132       pedagogica\n",
       "84        1  0.624132       pedagogico\n",
       "100       1  0.624132            pedir\n",
       "13        3  0.782785           pessoa\n",
       "108       1  0.624132        presentar\n",
       "99        1  0.624132       procedente\n",
       "92        1  0.624132         quantiar\n",
       "79        1  0.624132          quantum\n",
       "74        1  0.759940               re\n",
       "104       1  0.624132             real\n",
       "87        3  0.643463       reiteracao\n",
       "96        4  0.658204          relacao\n",
       "88        1  0.624132       semelhante\n",
       "101       1  0.624132           titulo\n",
       "110       1  0.624132              tst\n",
       "81        1  0.624132  vulnerabilidade, R=30, lambda_step=0.01, plot_opts={'xlab': 'PC1', 'ylab': 'PC2'}, topic_order=[4, 3, 1, 2, 5])"
      ]
     },
     "execution_count": 30,
     "metadata": {},
     "output_type": "execute_result"
    }
   ],
   "source": [
    "pyLDAvis.enable_notebook()\n",
    "vis = pyLDAvis.gensim.prepare(aggregate[2][4], aggregate[2][3], aggregate[2][2])\n",
    "vis"
   ]
  },
  {
   "cell_type": "code",
   "execution_count": 31,
   "metadata": {},
   "outputs": [
    {
     "name": "stdout",
     "output_type": "stream",
     "text": [
      "[(0,\n",
      "  'nan*\"decorrente\" + nan*\"psiquica\" + nan*\"passivar\" + nan*\"procedente\" + '\n",
      "  'nan*\"compensatoria\" + nan*\"economica\" + nan*\"semelhante\" + nan*\"ipsa\" + '\n",
      "  'nan*\"bom\" + nan*\"mear\"'),\n",
      " (1,\n",
      "  '0.250*\"procedente\" + 0.250*\"psiquica\" + 0.250*\"bom\" + 0.250*\"reparaveis\" + '\n",
      "  '0.000*\"semelhante\" + 0.000*\"decorrente\" + 0.000*\"passivar\" + 0.000*\"mero\" + '\n",
      "  '0.000*\"compensatoria\" + 0.000*\"economica\"'),\n",
      " (2,\n",
      "  '0.167*\"ipsa\" + 0.167*\"mero\" + 0.167*\"passivar\" + 0.167*\"sexual\" + '\n",
      "  '0.167*\"atento\" + 0.167*\"economica\" + 0.000*\"psiquica\" + 0.000*\"procedente\" '\n",
      "  '+ 0.000*\"compensatoria\" + 0.000*\"semelhante\"'),\n",
      " (3,\n",
      "  '0.700*\"moral\" + 0.100*\"decorrente\" + 0.100*\"psicologica\" + '\n",
      "  '0.100*\"semelhante\" + 0.000*\"psiquica\" + 0.000*\"passivar\" + '\n",
      "  '0.000*\"procedente\" + 0.000*\"compensatoria\" + 0.000*\"economica\" + '\n",
      "  '0.000*\"ipsa\"'),\n",
      " (4,\n",
      "  '0.333*\"mear\" + 0.167*\"presentar\" + 0.167*\"psicologico\" + '\n",
      "  '0.167*\"compensatoria\" + 0.167*\"moral\" + 0.000*\"ipsa\" + 0.000*\"passivar\" + '\n",
      "  '0.000*\"procedente\" + 0.000*\"economica\" + 0.000*\"semelhante\"')]\n"
     ]
    },
    {
     "name": "stderr",
     "output_type": "stream",
     "text": [
      "/opt/anaconda/lib/python3.7/site-packages/gensim/models/wrappers/ldamallet.py:448: RuntimeWarning: invalid value encountered in true_divide\n",
      "  topic = topic / topic.sum()  # normalize to probability dist\n"
     ]
    },
    {
     "name": "stdout",
     "output_type": "stream",
     "text": [
      "\n",
      "Coherence Score:  0.8484766887298191\n"
     ]
    }
   ],
   "source": [
    "pprint(aggregate[1][5].show_topics())\n",
    "\n",
    "# Compute Coherence Score\n",
    "coherence_model_ldamallet = CoherenceModel(model=aggregate[2][5], texts=aggregate[2][1], dictionary=aggregate[2][2], coherence='c_v')\n",
    "coherence_ldamallet = coherence_model_ldamallet.get_coherence()\n",
    "print('\\nCoherence Score: ', coherence_ldamallet)"
   ]
  },
  {
   "cell_type": "code",
   "execution_count": 32,
   "metadata": {},
   "outputs": [
    {
     "name": "stderr",
     "output_type": "stream",
     "text": [
      "/opt/anaconda/lib/python3.7/site-packages/gensim/models/wrappers/ldamallet.py:379: RuntimeWarning: invalid value encountered in true_divide\n",
      "  return topics / topics.sum(axis=1)[:, None]\n"
     ]
    }
   ],
   "source": [
    "model_list, coherence_values = compute_coherence_values(dictionary=aggregate[2][2], corpus=aggregate[2][3], texts=aggregate[2][1], start=2, limit=40, step=6)\n"
   ]
  },
  {
   "cell_type": "code",
   "execution_count": 33,
   "metadata": {},
   "outputs": [
    {
     "data": {
      "image/png": "[encoded data removed]",
      "text/plain": [
       "<Figure size 432x288 with 1 Axes>"
      ]
     },
     "metadata": {
      "needs_background": "light"
     },
     "output_type": "display_data"
    }
   ],
   "source": [
    "limit=40; start=2; step=6;\n",
    "x = range(start, limit, step)\n",
    "plt.plot(x, coherence_values)\n",
    "plt.xlabel(\"Num Topics\")\n",
    "plt.ylabel(\"Coherence score\")\n",
    "plt.legend((\"coherence_values\"), loc='best')\n",
    "plt.show()"
   ]
  }
 ],
 "metadata": {
  "kernelspec": {
   "display_name": "Python 3",
   "language": "python",
   "name": "python3"
  },
  "language_info": {
   "codemirror_mode": {
    "name": "ipython",
    "version": 3
   },
   "file_extension": ".py",
   "mimetype": "text/x-python",
   "name": "python",
   "nbconvert_exporter": "python",
   "pygments_lexer": "ipython3",
   "version": "3.7.3"
  }
 },
 "nbformat": 4,
 "nbformat_minor": 2
}
