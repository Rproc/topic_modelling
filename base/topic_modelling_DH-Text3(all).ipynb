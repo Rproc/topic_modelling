{
 "cells": [
  {
   "cell_type": "code",
   "execution_count": 33,
   "metadata": {},
   "outputs": [],
   "source": [
    "import tika\n",
    "from tika import parser\n",
    "import re\n",
    "import numpy as np\n",
    "import pandas as pd\n",
    "from pprint import pprint\n",
    "import gensim\n",
    "import gensim.corpora as corpora\n",
    "from gensim.utils import simple_preprocess\n",
    "from gensim.models import CoherenceModel\n",
    "import spacy\n",
    "from nltk.corpus import stopwords\n",
    "import pyLDAvis\n",
    "import pyLDAvis.gensim \n",
    "import matplotlib.pyplot as plt\n",
    "import warnings\n",
    "from imp import reload\n",
    "warnings.filterwarnings(\"ignore\")"
   ]
  },
  {
   "cell_type": "code",
   "execution_count": 2,
   "metadata": {},
   "outputs": [],
   "source": [
    "topics = 5"
   ]
  },
  {
   "cell_type": "code",
   "execution_count": 3,
   "metadata": {
    "scrolled": true
   },
   "outputs": [],
   "source": [
    "tika.initVM()\n",
    "parsed = parser.from_file('article3.pdf')\n",
    "metadados = parsed[\"metadata\"]\n",
    "texto = parsed[\"content\"]"
   ]
  },
  {
   "cell_type": "code",
   "execution_count": 4,
   "metadata": {},
   "outputs": [],
   "source": [
    "stop_words = stopwords.words('english')\n",
    "stop_words.extend(['from', 'subject', 're', 'edu', 'use'])"
   ]
  },
  {
   "cell_type": "code",
   "execution_count": 5,
   "metadata": {},
   "outputs": [],
   "source": [
    "def split_pdf(string): \n",
    "    li = list(string.split(\" \")) \n",
    "    return li"
   ]
  },
  {
   "cell_type": "code",
   "execution_count": 6,
   "metadata": {},
   "outputs": [],
   "source": [
    "def first_clear(data):\n",
    "    # Remove Emails\n",
    "    data = [re.sub('\\S*@\\S*\\s?', '', sent) for sent in data]\n",
    "\n",
    "    #remove links and mark\n",
    "    data = [re.sub('(https:\\S+)|(@)|(¿)', '', sent) for sent in data]\n",
    "    \n",
    "    data = [re.sub('(http:\\S+)|(@)|(¿)', '', sent) for sent in data]\n",
    "    \n",
    "    data = [re.sub('(www.:\\S+)|(@)|(¿)', '', sent) for sent in data]\n",
    "\n",
    "    # Remove new line characters\n",
    "    data = [re.sub('\\s+', ' ', sent) for sent in data]\n",
    "\n",
    "    # remove spaces in begining and end\n",
    "    data = [re.sub(' +', ' ', sent) for sent in data]\n",
    "\n",
    "    # Remove distracting single quotes\n",
    "    data = [re.sub(\"\\'\", \"\", sent) for sent in data]\n",
    "\n",
    "    return data"
   ]
  },
  {
   "cell_type": "code",
   "execution_count": 7,
   "metadata": {},
   "outputs": [],
   "source": [
    "def sent_to_words(sentences):\n",
    "    for sentence in sentences:\n",
    "        yield(gensim.utils.simple_preprocess(str(sentence), deacc=True))  # deacc=True removes punctuations"
   ]
  },
  {
   "cell_type": "code",
   "execution_count": 8,
   "metadata": {},
   "outputs": [],
   "source": [
    "def bi_tri_gram(data):\n",
    "    bigram = gensim.models.Phrases(data, min_count=5, threshold=100) # higher threshold fewer phrases.\n",
    "    trigram = gensim.models.Phrases(bigram[data], threshold=100) \n",
    "    bigram_mod = gensim.models.phrases.Phraser(bigram)\n",
    "    trigram_mod = gensim.models.phrases.Phraser(trigram)\n",
    "    \n",
    "    return bigram_mod, trigram_mod"
   ]
  },
  {
   "cell_type": "code",
   "execution_count": 9,
   "metadata": {},
   "outputs": [],
   "source": [
    "def remove_stopwords(texts):\n",
    "    return [[word for word in simple_preprocess(str(doc)) if word not in stop_words] for doc in texts]"
   ]
  },
  {
   "cell_type": "code",
   "execution_count": 10,
   "metadata": {},
   "outputs": [],
   "source": [
    "def make_bigrams(texts):\n",
    "    return [bigram_mod[doc] for doc in texts]"
   ]
  },
  {
   "cell_type": "code",
   "execution_count": 11,
   "metadata": {},
   "outputs": [],
   "source": [
    "def make_trigrams(texts):\n",
    "    return [trigram_mod[bigram_mod[doc]] for doc in texts]"
   ]
  },
  {
   "cell_type": "code",
   "execution_count": 12,
   "metadata": {},
   "outputs": [],
   "source": [
    "def lemmatization(texts, allowed_postags=['NOUN', 'ADJ', 'VERB', 'ADV']):\n",
    "    \"\"\"https://spacy.io/api/annotation\"\"\"\n",
    "    texts_out = []\n",
    "    for sent in texts:\n",
    "        doc = nlp(\" \".join(sent)) \n",
    "        texts_out.append([token.lemma_ for token in doc if token.pos_ in allowed_postags])\n",
    "    return texts_out"
   ]
  },
  {
   "cell_type": "code",
   "execution_count": 13,
   "metadata": {},
   "outputs": [],
   "source": [
    "def compute_coherence_values(dictionary, corpus, texts, limit, start=2, step=3):\n",
    "    \"\"\"\n",
    "    Compute c_v coherence for various number of topics\n",
    "\n",
    "    Parameters:\n",
    "    ----------\n",
    "    dictionary : Gensim dictionary\n",
    "    corpus : Gensim corpus\n",
    "    texts : List of input texts\n",
    "    limit : Max num of topics\n",
    "\n",
    "    Returns:\n",
    "    -------\n",
    "    model_list : List of LDA topic models\n",
    "    coherence_values : Coherence values corresponding to the LDA model with respective number of topics\n",
    "    \"\"\"\n",
    "    coherence_values = []\n",
    "    model_list = []\n",
    "    for num_topics in range(start, limit, step):\n",
    "        model = gensim.models.wrappers.LdaMallet(mallet_path, corpus=corpus, num_topics=num_topics, id2word=id2word)\n",
    "        model_list.append(model)\n",
    "        coherencemodel = CoherenceModel(model=model, texts=texts, dictionary=dictionary, coherence='c_v')\n",
    "        coherence_values.append(coherencemodel.get_coherence())\n",
    "\n",
    "    return model_list, coherence_values"
   ]
  },
  {
   "cell_type": "code",
   "execution_count": 14,
   "metadata": {},
   "outputs": [],
   "source": [
    "def filter_pos_tagging(data, pos):\n",
    "    lista = []\n",
    "    for token in data:\n",
    "        for p in pos:\n",
    "            if (token.pos_ == p):\n",
    "                lista.append(token.text)\n",
    "#                 print(token.text)\n",
    "\n",
    "    \n",
    "    return [[el] for el in lista]"
   ]
  },
  {
   "cell_type": "code",
   "execution_count": 15,
   "metadata": {},
   "outputs": [],
   "source": [
    "nlp = spacy.load('en', disable=['parser', 'ner'])\n",
    "mallet_path = 'mallet-2.0.8/bin/mallet' \n",
    "\n",
    "data = split_pdf(texto)\n",
    "# print(data)\n",
    "\n",
    "data = first_clear(data)\n",
    "# print(data)\n",
    "\n",
    "data = list(sent_to_words(data))\n",
    "\n",
    "# Remove Stop Words\n",
    "data_words_nostops = remove_stopwords(data)\n",
    "\n",
    "aggregate = {}\n",
    "list_pos = [['NOUN'], ['ADJ'], ['NOUN', 'ADJ']]\n",
    "\n",
    "for i in range(0, len(list_pos)):\n",
    "    l = []\n",
    "    data_filtered = filter_pos_tagging(nlp(str(data_words_nostops)), list_pos[i] )\n",
    "\n",
    "    bigram_mod, trigram_mod = bi_tri_gram(data_filtered)\n",
    "    # Form Bigrams\n",
    "    data_words_bigrams = make_bigrams(data_filtered)\n",
    "    # Initialize spacy 'en' model, keeping only tagger component (for efficiency)\n",
    "\n",
    "    # Do lemmatization keeping only noun, adj, vb, adv\n",
    "    data_lemmatized = lemmatization(data_words_bigrams, allowed_postags=['NOUN', 'ADJ', 'VERB', 'ADV'])\n",
    "    \n",
    "    id2word = corpora.Dictionary(data_lemmatized)\n",
    "    texts = data_lemmatized\n",
    "    corpus = [id2word.doc2bow(text) for text in texts]\n",
    "    lda_model = gensim.models.ldamodel.LdaModel(corpus=corpus,id2word=id2word, num_topics=topics,random_state=100,\\\n",
    "                                            update_every=1, chunksize=100, passes=10, alpha='auto', per_word_topics=True)\n",
    "    \n",
    "    ldamallet = gensim.models.wrappers.LdaMallet(mallet_path, corpus=corpus, num_topics=topics, id2word=id2word)\n",
    "    \n",
    "    l.append(list_pos[i])\n",
    "    l.append(data_lemmatized)\n",
    "    l.append(id2word)\n",
    "    l.append(corpus)\n",
    "    l.append(lda_model)\n",
    "    l.append(ldamallet)\n",
    "    aggregate[i] = l"
   ]
  },
  {
   "cell_type": "markdown",
   "metadata": {},
   "source": [
    "# Tópicos apenas levando em conta os Substantivos"
   ]
  },
  {
   "cell_type": "code",
   "execution_count": 16,
   "metadata": {},
   "outputs": [
    {
     "name": "stdout",
     "output_type": "stream",
     "text": [
      "[(0,\n",
      "  '0.093*\"shamir\" + 0.093*\"style\" + 0.047*\"art\" + 0.045*\"journal\" + '\n",
      "  '0.044*\"phylogeny\" + 0.038*\"figure\" + 0.024*\"technology\" + 0.023*\"link\" + '\n",
      "  '0.023*\"aesthetic\" + 0.020*\"science\"'),\n",
      " (1,\n",
      "  '0.095*\"computer\" + 0.059*\"similarity\" + 0.042*\"colony\" + 0.036*\"pollock\" + '\n",
      "  '0.021*\"history\" + 0.018*\"berlin\" + 0.018*\"home\" + 0.018*\"distance\" + '\n",
      "  '0.018*\"study\" + 0.017*\"streetview\"'),\n",
      " (2,\n",
      "  '0.081*\"analysis\" + 0.070*\"city\" + 0.054*\"classification\" + '\n",
      "  '0.041*\"perception\" + 0.037*\"method\" + 0.031*\"heritage\" + '\n",
      "  '0.023*\"transaction\" + 0.022*\"datum\" + 0.019*\"vision\" + 0.018*\"environment\"'),\n",
      " (3,\n",
      "  '0.158*\"image\" + 0.108*\"architecture\" + 0.028*\"location\" + 0.028*\"research\" '\n",
      "  '+ 0.027*\"system\" + 0.026*\"planning\" + 0.021*\"compute\" + 0.017*\"recognition\" '\n",
      "  '+ 0.016*\"source\" + 0.015*\"show\"'),\n",
      " (4,\n",
      "  '0.072*\"building\" + 0.052*\"interest\" + 0.052*\"region\" + 0.038*\"information\" '\n",
      "  '+ 0.037*\"machine\" + 0.029*\"conference\" + 0.019*\"macura\" + 0.019*\"orlov\" + '\n",
      "  '0.018*\"press\" + 0.017*\"result\"')]\n"
     ]
    }
   ],
   "source": [
    "pprint(aggregate[0][4].print_topics())\n",
    "doc_lda = aggregate[0][4][aggregate[0][3]]"
   ]
  },
  {
   "cell_type": "code",
   "execution_count": 17,
   "metadata": {},
   "outputs": [
    {
     "name": "stdout",
     "output_type": "stream",
     "text": [
      "\n",
      "Perplexity:  -6.464593057159519\n",
      "\n",
      "Coherence Score:  0.8384848773708363\n"
     ]
    }
   ],
   "source": [
    "print('\\nPerplexity: ', aggregate[0][4].log_perplexity(aggregate[0][3]))  # a measure of how good the model is. lower the better.\n",
    "\n",
    "# Compute Coherence Score\n",
    "coherence_model_lda = CoherenceModel(model=aggregate[0][4], texts=aggregate[0][1], dictionary=aggregate[0][2], coherence='c_v')\n",
    "coherence_lda = coherence_model_lda.get_coherence()\n",
    "print('\\nCoherence Score: ', coherence_lda)"
   ]
  },
  {
   "cell_type": "code",
   "execution_count": 18,
   "metadata": {},
   "outputs": [
    {
     "data": {
      "text/html": [
       "\n",
       "<link rel=\"stylesheet\" type=\"text/css\" href=\"https://cdn.rawgit.com/bmabey/pyLDAvis/files/ldavis.v1.0.0.css\">\n",
       "\n",
       "\n",
       "<div id=\"ldavis_el231631399287272764243028091815\"></div>\n",
       "<script type=\"text/javascript\">\n",
       "\n",
       "var ldavis_el231631399287272764243028091815_data = {\"mdsDat\": {\"x\": [0.2676461203838495, -0.018622993267763486, -0.18605887982648245, -0.05860234113252977, -0.0043619061570736575], \"y\": [0.0835681685503302, -0.033082637035021366, 0.20109219785556484, -0.24584678952703828, -0.005730939843835337], \"topics\": [1, 2, 3, 4, 5], \"cluster\": [1, 1, 1, 1, 1], \"Freq\": [24.54776382446289, 20.905014038085938, 19.394392013549805, 18.820255279541016, 16.332576751708984]}, \"tinfo\": {\"Category\": [\"Default\", \"Default\", \"Default\", \"Default\", \"Default\", \"Default\", \"Default\", \"Default\", \"Default\", \"Default\", \"Default\", \"Default\", \"Default\", \"Default\", \"Default\", \"Default\", \"Default\", \"Default\", \"Default\", \"Default\", \"Default\", \"Default\", \"Default\", \"Default\", \"Default\", \"Default\", \"Default\", \"Default\", \"Default\", \"Default\", \"Topic1\", \"Topic1\", \"Topic1\", \"Topic1\", \"Topic1\", \"Topic1\", \"Topic1\", \"Topic1\", \"Topic1\", \"Topic1\", \"Topic1\", \"Topic1\", \"Topic1\", \"Topic1\", \"Topic1\", \"Topic1\", \"Topic1\", \"Topic1\", \"Topic1\", \"Topic1\", \"Topic1\", \"Topic1\", \"Topic1\", \"Topic1\", \"Topic1\", \"Topic1\", \"Topic1\", \"Topic1\", \"Topic1\", \"Topic1\", \"Topic2\", \"Topic2\", \"Topic2\", \"Topic2\", \"Topic2\", \"Topic2\", \"Topic2\", \"Topic2\", \"Topic2\", \"Topic2\", \"Topic2\", \"Topic2\", \"Topic2\", \"Topic2\", \"Topic2\", \"Topic2\", \"Topic2\", \"Topic2\", \"Topic2\", \"Topic2\", \"Topic2\", \"Topic2\", \"Topic2\", \"Topic2\", \"Topic2\", \"Topic2\", \"Topic2\", \"Topic2\", \"Topic2\", \"Topic2\", \"Topic2\", \"Topic2\", \"Topic2\", \"Topic2\", \"Topic2\", \"Topic3\", \"Topic3\", \"Topic3\", \"Topic3\", \"Topic3\", \"Topic3\", \"Topic3\", \"Topic3\", \"Topic3\", \"Topic3\", \"Topic3\", \"Topic3\", \"Topic3\", \"Topic3\", \"Topic3\", \"Topic3\", \"Topic3\", \"Topic3\", \"Topic3\", \"Topic3\", \"Topic3\", \"Topic3\", \"Topic3\", \"Topic3\", \"Topic3\", \"Topic3\", \"Topic3\", \"Topic3\", \"Topic3\", \"Topic3\", \"Topic4\", \"Topic4\", \"Topic4\", \"Topic4\", \"Topic4\", \"Topic4\", \"Topic4\", \"Topic4\", \"Topic4\", \"Topic4\", \"Topic4\", \"Topic4\", \"Topic4\", \"Topic4\", \"Topic4\", \"Topic4\", \"Topic4\", \"Topic4\", \"Topic4\", \"Topic4\", \"Topic4\", \"Topic4\", \"Topic4\", \"Topic4\", \"Topic4\", \"Topic4\", \"Topic4\", \"Topic4\", \"Topic4\", \"Topic4\", \"Topic4\", \"Topic5\", \"Topic5\", \"Topic5\", \"Topic5\", \"Topic5\", \"Topic5\", \"Topic5\", \"Topic5\", \"Topic5\", \"Topic5\", \"Topic5\", \"Topic5\", \"Topic5\", \"Topic5\", \"Topic5\", \"Topic5\", \"Topic5\", \"Topic5\", \"Topic5\", \"Topic5\", \"Topic5\", \"Topic5\", \"Topic5\", \"Topic5\", \"Topic5\", \"Topic5\", \"Topic5\", \"Topic5\", \"Topic5\", \"Topic5\"], \"Freq\": [68.0, 46.0, 32.0, 32.0, 27.0, 26.0, 26.0, 23.0, 17.0, 18.0, 19.0, 19.0, 16.0, 15.0, 15.0, 14.0, 12.0, 14.0, 13.0, 14.0, 12.0, 10.0, 10.0, 12.0, 12.0, 10.0, 12.0, 11.0, 8.0, 8.0, 67.40272521972656, 45.96601104736328, 12.054883003234863, 11.988211631774902, 11.41614055633545, 10.889028549194336, 8.961261749267578, 7.465513229370117, 6.649846076965332, 6.3523430824279785, 5.266629219055176, 5.090573310852051, 5.012883186340332, 4.734612941741943, 4.5788373947143555, 4.287605285644531, 4.258571624755859, 4.243259906768799, 4.243259906768799, 4.106538772583008, 3.8811888694763184, 3.8811888694763184, 3.881162643432617, 3.8811609745025635, 3.696934461593628, 3.5590648651123047, 3.5590648651123047, 3.1014339923858643, 2.8475959300994873, 2.5206289291381836, 26.112625122070312, 18.977148056030273, 18.86048698425293, 13.902444839477539, 13.374855995178223, 10.365123748779297, 6.780016899108887, 6.780016899108887, 6.457486152648926, 6.115798473358154, 6.080939769744873, 5.803120136260986, 5.518233776092529, 5.470991611480713, 4.800313472747803, 4.7293829917907715, 4.483547210693359, 4.560396671295166, 4.209108829498291, 3.6256892681121826, 3.6363322734832764, 3.5303022861480713, 3.412169933319092, 2.7476449012756348, 2.6621897220611572, 2.6537561416625977, 2.336862564086914, 2.336862564086914, 2.336862564086914, 2.336862325668335, 2.336862325668335, 2.336862325668335, 2.336862325668335, 2.336862325668335, 2.336862325668335, 31.465728759765625, 31.368865966796875, 15.889314651489258, 15.251564025878906, 14.852974891662598, 12.680012702941895, 8.088886260986328, 7.878972053527832, 7.8088059425354, 6.793828010559082, 6.307861804962158, 4.9672417640686035, 4.615567207336426, 4.53345251083374, 4.244264125823975, 3.5983710289001465, 3.5983712673187256, 3.306471586227417, 3.2015931606292725, 3.2015931606292725, 3.205172538757324, 2.870979070663452, 2.870979070663452, 2.870979070663452, 2.530668258666992, 2.4301068782806396, 2.315021276473999, 2.1728248596191406, 2.1728248596191406, 1.8292272090911865, 26.348047256469727, 23.02337646484375, 17.589599609375, 13.419764518737793, 12.183919906616211, 10.289855003356934, 7.479202747344971, 7.27635383605957, 6.073611259460449, 5.963733673095703, 5.276784896850586, 4.581440448760986, 4.547971725463867, 4.17871618270874, 4.110418796539307, 3.9469194412231445, 3.8747239112854004, 3.746755599975586, 3.667128801345825, 3.5549814701080322, 3.532837390899658, 3.4967730045318604, 3.3805558681488037, 3.3805558681488037, 3.2380638122558594, 3.2380549907684326, 3.238054037094116, 3.238051176071167, 3.2380480766296387, 3.2380475997924805, 3.238046169281006, 26.88777732849121, 16.717788696289062, 11.789606094360352, 10.09195613861084, 5.821773052215576, 5.075168132781982, 5.0525898933410645, 4.9976277351379395, 4.969473361968994, 4.892617225646973, 4.2969818115234375, 3.968207597732544, 3.7092394828796387, 3.6469526290893555, 3.5475151538848877, 3.5475151538848877, 3.268676996231079, 3.251307725906372, 3.2513034343719482, 3.2513015270233154, 3.2513012886047363, 3.2513012886047363, 3.2512965202331543, 3.2512950897216797, 3.2512946128845215, 2.97263765335083, 2.961181163787842, 2.961181163787842, 2.5999510288238525, 2.5202062129974365], \"Term\": [\"image\", \"architecture\", \"shamir\", \"style\", \"computer\", \"analysis\", \"building\", \"city\", \"similarity\", \"classification\", \"interest\", \"region\", \"art\", \"journal\", \"phylogeny\", \"perception\", \"colony\", \"information\", \"figure\", \"machine\", \"method\", \"pollock\", \"heritage\", \"location\", \"research\", \"conference\", \"system\", \"planning\", \"technology\", \"link\", \"image\", \"architecture\", \"location\", \"research\", \"system\", \"planning\", \"compute\", \"recognition\", \"source\", \"show\", \"reference\", \"dataset\", \"conclusion\", \"detection\", \"node\", \"form\", \"deviation\", \"software\", \"application\", \"window\", \"sakeena\", \"prediction\", \"sun\", \"retrieval\", \"edge\", \"lane\", \"tool\", \"law\", \"sky\", \"matrix\", \"building\", \"interest\", \"region\", \"information\", \"machine\", \"conference\", \"orlov\", \"macura\", \"press\", \"result\", \"comparison\", \"human\", \"pattern\", \"culture\", \"wndchrm\", \"accuracy\", \"contain\", \"ieee\", \"feature\", \"code\", \"approach\", \"vitruvius\", \"set\", \"part\", \"instance\", \"society\", \"scott\", \"lerone\", \"eckley\", \"dictionary\", \"le\", \"garcia\", \"symposium\", \"johnston\", \"painter\", \"shamir\", \"style\", \"art\", \"journal\", \"phylogeny\", \"figure\", \"technology\", \"link\", \"aesthetic\", \"science\", \"proceeding\", \"psychology\", \"van\", \"east\", \"architect\", \"springer\", \"scale\", \"introduction\", \"inference\", \"version\", \"nissel\", \"hidalgo\", \"naik\", \"october\", \"training\", \"shalunt\", \"notice\", \"wall\", \"area\", \"section\", \"analysis\", \"city\", \"classification\", \"perception\", \"method\", \"heritage\", \"transaction\", \"datum\", \"vision\", \"environment\", \"class\", \"phylip\", \"purpose\", \"tile\", \"tarakhovsky\", \"felsenstein\", \"analyze\", \"technique\", \"merchan\", \"package\", \"gogh\", \"zhang\", \"age\", \"zeppelzauer\", \"song\", \"yuriko\", \"leonardo\", \"play\", \"architectura\", \"despotovic\", \"prosaic\", \"computer\", \"similarity\", \"colony\", \"pollock\", \"history\", \"berlin\", \"home\", \"distance\", \"study\", \"streetview\", \"network\", \"engineering\", \"agreement\", \"school\", \"child\", \"animal\", \"content\", \"photograph\", \"june\", \"artist\", \"doller\", \"winner\", \"identity\", \"xiao\", \"url\", \"number\", \"frankfurt\", \"hamburg\", \"colonial\", \"expressionism\"], \"Total\": [68.0, 46.0, 32.0, 32.0, 27.0, 26.0, 26.0, 23.0, 17.0, 18.0, 19.0, 19.0, 16.0, 15.0, 15.0, 14.0, 12.0, 14.0, 13.0, 14.0, 12.0, 10.0, 10.0, 12.0, 12.0, 10.0, 12.0, 11.0, 8.0, 8.0, 68.01068878173828, 46.574058532714844, 12.662832260131836, 12.59791374206543, 12.024182319641113, 11.497626304626465, 9.569918632507324, 8.073993682861328, 7.2589640617370605, 6.960334777832031, 5.876895427703857, 5.698576927185059, 5.622710704803467, 5.3486151695251465, 5.190799236297607, 4.898431777954102, 4.867459774017334, 4.8653130531311035, 4.8653130531311035, 4.715317726135254, 4.518378734588623, 4.518379211425781, 4.518373012542725, 4.518373489379883, 4.309347629547119, 4.170525074005127, 4.170525074005127, 3.711029529571533, 3.4555552005767822, 3.1307296752929688, 26.742565155029297, 19.60715103149414, 19.490514755249023, 14.532487869262695, 14.005339622497559, 10.997523307800293, 7.4270339012146, 7.4270339012146, 7.0889692306518555, 6.746109962463379, 6.712628364562988, 6.436411380767822, 6.148220062255859, 6.101490497589111, 5.430383682250977, 5.359375953674316, 5.113691329956055, 5.211424350738525, 4.8389668464660645, 4.256979465484619, 4.271980285644531, 4.1717848777771, 4.041958332061768, 3.3776257038116455, 3.2921273708343506, 3.2853291034698486, 2.9952449798583984, 2.9952447414398193, 2.9952452182769775, 2.9952449798583984, 2.9952452182769775, 2.9952452182769775, 2.9952449798583984, 2.9952452182769775, 2.9952454566955566, 32.10516357421875, 32.00802993774414, 16.528881072998047, 15.892910957336426, 15.492294311523438, 13.31912612915039, 8.729287147521973, 8.518223762512207, 8.449759483337402, 7.434322834014893, 6.949483394622803, 5.6127495765686035, 5.25867223739624, 5.176487445831299, 4.895596027374268, 4.242937088012695, 4.242937088012695, 3.9593193531036377, 3.847156047821045, 3.847156047821045, 3.8835973739624023, 3.5252113342285156, 3.5252113342285156, 3.5252115726470947, 3.169705867767334, 3.0722298622131348, 2.961655378341675, 2.81425142288208, 2.81425142288208, 2.468642473220825, 26.98590660095215, 23.66106414794922, 18.227561950683594, 14.058438301086426, 12.822441101074219, 10.928624153137207, 8.126848220825195, 7.914228439331055, 6.711879253387451, 6.602468490600586, 5.914938449859619, 5.219538688659668, 5.185848712921143, 4.817439556121826, 4.749124526977539, 4.58499813079834, 4.512556552886963, 4.386122703552246, 4.309837341308594, 4.193418502807617, 4.174280166625977, 4.138820171356201, 4.027179718017578, 4.027179718017578, 3.9121007919311523, 3.9121007919311523, 3.9121015071868896, 3.9121012687683105, 3.9121012687683105, 3.9121017456054688, 3.9121015071868896, 27.525033950805664, 17.35486602783203, 12.427070617675781, 10.732970237731934, 6.4596028327941895, 5.712555885314941, 5.691319942474365, 5.634800434112549, 5.6080322265625, 5.529587745666504, 4.934478759765625, 4.613605499267578, 4.346665382385254, 4.284814357757568, 4.188385009765625, 4.188385009765625, 3.9056196212768555, 3.925205707550049, 3.925205707550049, 3.9252045154571533, 3.9252049922943115, 3.9252049922943115, 3.9252054691314697, 3.9252052307128906, 3.9252052307128906, 3.609941005706787, 3.5984535217285156, 3.5984535217285156, 3.2392473220825195, 3.1595404148101807], \"loglift\": [30.0, 29.0, 28.0, 27.0, 26.0, 25.0, 24.0, 23.0, 22.0, 21.0, 20.0, 19.0, 18.0, 17.0, 16.0, 15.0, 14.0, 13.0, 12.0, 11.0, 10.0, 9.0, 8.0, 7.0, 6.0, 5.0, 4.0, 3.0, 2.0, 1.0, 1.3955999612808228, 1.3913999795913696, 1.355299949645996, 1.3549000024795532, 1.3526999950408936, 1.3502000570297241, 1.3387999534606934, 1.326200008392334, 1.3169000148773193, 1.313099980354309, 1.2948999404907227, 1.291700005531311, 1.2897000312805176, 1.2826000452041626, 1.279099941253662, 1.271399974822998, 1.270900011062622, 1.267799973487854, 1.267799973487854, 1.2662999629974365, 1.252500057220459, 1.252500057220459, 1.252500057220459, 1.252500057220459, 1.2512999773025513, 1.246000051498413, 1.246000051498413, 1.225100040435791, 1.2109999656677246, 1.1878000497817993, 1.5413000583648682, 1.5325000286102295, 1.5322999954223633, 1.520900011062622, 1.5190999507904053, 1.50600004196167, 1.4739999771118164, 1.4739999771118164, 1.4718999862670898, 1.4671000242233276, 1.4663000106811523, 1.4615999460220337, 1.4571000337600708, 1.4560999870300293, 1.4419000148773193, 1.4400999546051025, 1.4336999654769897, 1.4316999912261963, 1.4256999492645264, 1.4047000408172607, 1.404099941253662, 1.3982000350952148, 1.395799994468689, 1.3588000535964966, 1.3528000116348267, 1.351699948310852, 1.3170000314712524, 1.3170000314712524, 1.3170000314712524, 1.3170000314712524, 1.3170000314712524, 1.3170000314712524, 1.3170000314712524, 1.3170000314712524, 1.3170000314712524, 1.6201000213623047, 1.6200000047683716, 1.6007000207901, 1.5989999771118164, 1.5980000495910645, 1.590999960899353, 1.5640000104904175, 1.5621999502182007, 1.5613000392913818, 1.5500999689102173, 1.5433000326156616, 1.5180000066757202, 1.5096999406814575, 1.5075000524520874, 1.4974000453948975, 1.4753999710083008, 1.4753999710083008, 1.4600000381469727, 1.4565000534057617, 1.4565000534057617, 1.448199987411499, 1.4349000453948975, 1.4349000453948975, 1.4349000453948975, 1.4149999618530273, 1.4056999683380127, 1.3939000368118286, 1.381500005722046, 1.381500005722046, 1.340399980545044, 1.646299958229065, 1.642899990081787, 1.634600043296814, 1.6237000226974487, 1.6191999912261963, 1.6100000143051147, 1.5872000455856323, 1.5861999988555908, 1.5702999830245972, 1.56850004196167, 1.5561000108718872, 1.5398000478744507, 1.5390000343322754, 1.527999997138977, 1.5257999897003174, 1.520400047302246, 1.517799973487854, 1.5126999616622925, 1.5087000131607056, 1.5051000118255615, 1.5033999681472778, 1.5017000436782837, 1.4952000379562378, 1.4952000379562378, 1.4810999631881714, 1.4810999631881714, 1.4810999631881714, 1.4810999631881714, 1.4810999631881714, 1.4810999631881714, 1.4810999631881714, 1.788599967956543, 1.7746000289916992, 1.7592999935150146, 1.7503999471664429, 1.7079999446868896, 1.6936999559402466, 1.6929999589920044, 1.6920000314712524, 1.691100001335144, 1.6895999908447266, 1.673699975013733, 1.6612999439239502, 1.65339994430542, 1.6507999897003174, 1.645900011062622, 1.645900011062622, 1.6339999437332153, 1.6236000061035156, 1.6236000061035156, 1.6236000061035156, 1.6236000061035156, 1.6236000061035156, 1.6236000061035156, 1.6236000061035156, 1.6236000061035156, 1.617799997329712, 1.6171000003814697, 1.6171000003814697, 1.5922000408172607, 1.5858999490737915], \"logprob\": [30.0, 29.0, 28.0, 27.0, 26.0, 25.0, 24.0, 23.0, 22.0, 21.0, 20.0, 19.0, 18.0, 17.0, 16.0, 15.0, 14.0, 13.0, 12.0, 11.0, 10.0, 9.0, 8.0, 7.0, 6.0, 5.0, 4.0, 3.0, 2.0, 1.0, -1.8452999591827393, -2.2279999256134033, -3.566499948501587, -3.572000026702881, -3.6208999156951904, -3.6682000160217285, -3.86299991607666, -4.045599937438965, -4.161300182342529, -4.207099914550781, -4.394599914550781, -4.428599834442139, -4.443900108337402, -4.500999927520752, -4.5345001220703125, -4.600200176239014, -4.60699987411499, -4.610599994659424, -4.610599994659424, -4.643400192260742, -4.69980001449585, -4.69980001449585, -4.69980001449585, -4.69980001449585, -4.7484002113342285, -4.786399841308594, -4.786399841308594, -4.924099922180176, -5.009500026702881, -5.131400108337402, -2.6328999996185303, -2.9521000385284424, -2.958199977874756, -3.263200044631958, -3.3018999099731445, -3.5569000244140625, -3.981300115585327, -3.981300115585327, -4.030099868774414, -4.084400177001953, -4.090199947357178, -4.136899948120117, -4.187300205230713, -4.195799827575684, -4.326600074768066, -4.3414998054504395, -4.394899845123291, -4.377900123596191, -4.458099842071533, -4.6072998046875, -4.604300022125244, -4.633900165557861, -4.668000221252441, -4.8846001625061035, -4.916200160980225, -4.919300079345703, -5.046500205993652, -5.046500205993652, -5.046500205993652, -5.046500205993652, -5.046500205993652, -5.046500205993652, -5.046500205993652, -5.046500205993652, -5.046500205993652, -2.3714001178741455, -2.374500036239624, -3.0546998977661133, -3.095599889755249, -3.1221001148223877, -3.2802999019622803, -3.72979998588562, -3.7560999393463135, -3.7651000022888184, -3.9042999744415283, -3.9784998893737793, -4.217400074005127, -4.290900230407715, -4.308800220489502, -4.37470006942749, -4.53980016708374, -4.53980016708374, -4.6244001388549805, -4.656700134277344, -4.656700134277344, -4.6554999351501465, -4.765699863433838, -4.765699863433838, -4.765699863433838, -4.8917999267578125, -4.932400226593018, -4.980899810791016, -5.044300079345703, -5.044300079345703, -5.216400146484375, -2.518899917602539, -2.653700113296509, -2.9228999614715576, -3.19350004196167, -3.29010009765625, -3.4591000080108643, -3.77810001373291, -3.8055999279022217, -3.986299991607666, -4.0046000480651855, -4.1269001960754395, -4.268199920654297, -4.275599956512451, -4.360199928283691, -4.376699924468994, -4.417300224304199, -4.435800075531006, -4.469399929046631, -4.490799903869629, -4.521900177001953, -4.528200149536133, -4.538400173187256, -4.572199821472168, -4.572199821472168, -4.615300178527832, -4.615300178527832, -4.615300178527832, -4.615300178527832, -4.615300178527832, -4.615300178527832, -4.615300178527832, -2.356800079345703, -2.8320000171661377, -3.181299924850464, -3.336699962615967, -3.886899948120117, -4.024099826812744, -4.028600215911865, -4.0395002365112305, -4.045199871063232, -4.060800075531006, -4.1905999183654785, -4.270199775695801, -4.337699890136719, -4.354599952697754, -4.382199764251709, -4.382199764251709, -4.464099884033203, -4.469399929046631, -4.469399929046631, -4.469399929046631, -4.469399929046631, -4.469399929046631, -4.469399929046631, -4.469399929046631, -4.469399929046631, -4.559000015258789, -4.562900066375732, -4.562900066375732, -4.692999839782715, -4.724100112915039]}, \"token.table\": {\"Topic\": [2, 3, 4, 5, 4, 4, 5, 1, 2, 3, 4, 1, 3, 3, 5, 5, 2, 5, 4, 4, 4, 2, 5, 5, 2, 1, 5, 1, 2, 2, 5, 2, 1, 4, 4, 1, 1, 2, 5, 5, 3, 2, 1, 5, 4, 5, 2, 4, 3, 1, 5, 2, 4, 5, 4, 3, 5, 5, 2, 5, 2, 1, 3, 2, 2, 2, 3, 2, 3, 5, 1, 1, 2, 4, 2, 3, 1, 2, 2, 1, 4, 4, 3, 5, 3, 1, 3, 5, 3, 2, 4, 2, 2, 2, 4, 5, 4, 3, 1, 4, 5, 1, 2, 3, 4, 3, 4, 1, 1, 2, 1, 2, 1, 1, 3, 5, 3, 2, 3, 2, 3, 3, 1, 5, 1, 2, 1, 4, 1, 3, 5, 5, 3, 1, 2, 1, 4, 4, 3, 4, 1, 3, 4, 5, 3, 3, 4, 2, 3, 1, 5, 2, 5, 4, 4, 4], \"Freq\": [0.9329444169998169, 0.9467725157737732, 0.7449381947517395, 0.9202456474304199, 0.9634658694267273, 0.8864154815673828, 0.9550220370292664, 0.822146475315094, 0.9363338947296143, 0.8170608878135681, 0.7668513059616089, 0.9876742959022522, 0.7106685638427734, 0.9680026173591614, 0.7642914056777954, 0.8752649426460266, 0.9722328186035156, 0.9550220370292664, 0.9720610976219177, 0.8453173041343689, 0.9875155091285706, 0.9396333694458008, 0.926141083240509, 0.9656338691711426, 0.8938376307487488, 0.9404468536376953, 0.9809252023696899, 0.8892508149147034, 0.9092956185340881, 0.7822138071060181, 0.768123984336853, 0.8194718956947327, 0.8774120211601257, 0.8844829201698303, 0.7668512463569641, 0.9348214268684387, 0.8217839002609253, 0.6677250266075134, 0.8873428702354431, 0.7642912864685059, 0.9659059643745422, 0.6677249670028687, 0.9282147288322449, 0.8670008778572083, 0.9087510108947754, 0.9495052099227905, 0.826622724533081, 0.8724104166030884, 0.9760400056838989, 0.8165878653526306, 0.8336914777755737, 0.6677249670028687, 0.958249032497406, 0.8336914777755737, 0.9150282740592957, 0.8510128259658813, 0.9288496971130371, 0.8785308003425598, 0.9321964979171753, 0.7642912268638611, 0.9594305753707886, 0.9851392507553101, 0.7797967791557312, 0.9633588194847107, 0.9112648367881775, 0.9690341949462891, 0.7577059864997864, 0.6677249670028687, 0.9438170194625854, 0.7642911672592163, 0.9591118693351746, 0.8084009885787964, 0.6677249670028687, 0.7668512463569641, 0.6677250862121582, 0.9391629099845886, 0.9476553201675415, 0.9282174110412598, 0.9425027370452881, 0.9582430720329285, 0.9281092882156372, 0.9358592629432678, 0.8510128259658813, 0.8106225728988647, 0.7724796533584595, 0.9632428288459778, 0.6752980351448059, 0.8310385346412659, 0.8510127663612366, 0.9425027370452881, 0.953875720500946, 0.6677249073982239, 0.8881978988647461, 0.975892186164856, 0.9247115254402161, 0.7642911672592163, 0.957939088344574, 0.9682232737541199, 0.9567192196846008, 0.7668513059616089, 0.9317085146903992, 0.8852732181549072, 0.8463854193687439, 0.8633735179901123, 0.7668512463569641, 0.8908289670944214, 0.9641623497009277, 0.8669810891151428, 0.8507893681526184, 0.9748331308364868, 0.9525386691093445, 0.8894014358520508, 0.8852742910385132, 0.885273277759552, 0.942743182182312, 0.9335293769836426, 0.9415786862373352, 0.6677250266075134, 0.8101618885993958, 0.7422145009040833, 0.6509929299354553, 0.9655767679214478, 0.8620275259017944, 0.9795523881912231, 0.8681672811508179, 0.9131505489349365, 0.822146475315094, 0.7668514251708984, 0.964324951171875, 0.942743182182312, 0.904226541519165, 0.8915783166885376, 0.9685069918632507, 0.8852744102478027, 0.6677250266075134, 0.9148231148719788, 0.842260479927063, 0.9119672179222107, 0.9164551496505737, 0.8303166031837463, 0.9591118693351746, 0.9464600682258606, 0.8613425493240356, 0.7642912268638611, 0.9508103728294373, 0.7797967791557312, 0.8939374089241028, 0.9588221907615662, 0.7106685638427734, 0.8482991456985474, 0.7642912864685059, 0.9207452535629272, 0.7642912268638611, 0.7668514251708984, 0.7449381947517395, 0.7248442769050598], \"Term\": [\"accuracy\", \"aesthetic\", \"age\", \"agreement\", \"analysis\", \"analyze\", \"animal\", \"application\", \"approach\", \"architect\", \"architectura\", \"architecture\", \"area\", \"art\", \"artist\", \"berlin\", \"building\", \"child\", \"city\", \"class\", \"classification\", \"code\", \"colonial\", \"colony\", \"comparison\", \"compute\", \"computer\", \"conclusion\", \"conference\", \"contain\", \"content\", \"culture\", \"dataset\", \"datum\", \"despotovic\", \"detection\", \"deviation\", \"dictionary\", \"distance\", \"doller\", \"east\", \"eckley\", \"edge\", \"engineering\", \"environment\", \"expressionism\", \"feature\", \"felsenstein\", \"figure\", \"form\", \"frankfurt\", \"garcia\", \"gogh\", \"hamburg\", \"heritage\", \"hidalgo\", \"history\", \"home\", \"human\", \"identity\", \"ieee\", \"image\", \"inference\", \"information\", \"instance\", \"interest\", \"introduction\", \"johnston\", \"journal\", \"june\", \"lane\", \"law\", \"le\", \"leonardo\", \"lerone\", \"link\", \"location\", \"machine\", \"macura\", \"matrix\", \"merchan\", \"method\", \"naik\", \"network\", \"nissel\", \"node\", \"notice\", \"number\", \"october\", \"orlov\", \"package\", \"painter\", \"part\", \"pattern\", \"perception\", \"photograph\", \"phylip\", \"phylogeny\", \"planning\", \"play\", \"pollock\", \"prediction\", \"press\", \"proceeding\", \"prosaic\", \"psychology\", \"purpose\", \"recognition\", \"reference\", \"region\", \"research\", \"result\", \"retrieval\", \"sakeena\", \"scale\", \"school\", \"science\", \"scott\", \"section\", \"set\", \"shalunt\", \"shamir\", \"show\", \"similarity\", \"sky\", \"society\", \"software\", \"song\", \"source\", \"springer\", \"streetview\", \"study\", \"style\", \"sun\", \"symposium\", \"system\", \"tarakhovsky\", \"technique\", \"technology\", \"tile\", \"tool\", \"training\", \"transaction\", \"url\", \"van\", \"version\", \"vision\", \"vitruvius\", \"wall\", \"window\", \"winner\", \"wndchrm\", \"xiao\", \"yuriko\", \"zeppelzauer\", \"zhang\"]}, \"R\": 30, \"lambda.step\": 0.01, \"plot.opts\": {\"xlab\": \"PC1\", \"ylab\": \"PC2\"}, \"topic.order\": [4, 5, 1, 3, 2]};\n",
       "\n",
       "function LDAvis_load_lib(url, callback){\n",
       "  var s = document.createElement('script');\n",
       "  s.src = url;\n",
       "  s.async = true;\n",
       "  s.onreadystatechange = s.onload = callback;\n",
       "  s.onerror = function(){console.warn(\"failed to load library \" + url);};\n",
       "  document.getElementsByTagName(\"head\")[0].appendChild(s);\n",
       "}\n",
       "\n",
       "if(typeof(LDAvis) !== \"undefined\"){\n",
       "   // already loaded: just create the visualization\n",
       "   !function(LDAvis){\n",
       "       new LDAvis(\"#\" + \"ldavis_el231631399287272764243028091815\", ldavis_el231631399287272764243028091815_data);\n",
       "   }(LDAvis);\n",
       "}else if(typeof define === \"function\" && define.amd){\n",
       "   // require.js is available: use it to load d3/LDAvis\n",
       "   require.config({paths: {d3: \"https://cdnjs.cloudflare.com/ajax/libs/d3/3.5.5/d3.min\"}});\n",
       "   require([\"d3\"], function(d3){\n",
       "      window.d3 = d3;\n",
       "      LDAvis_load_lib(\"https://cdn.rawgit.com/bmabey/pyLDAvis/files/ldavis.v1.0.0.js\", function(){\n",
       "        new LDAvis(\"#\" + \"ldavis_el231631399287272764243028091815\", ldavis_el231631399287272764243028091815_data);\n",
       "      });\n",
       "    });\n",
       "}else{\n",
       "    // require.js not available: dynamically load d3 & LDAvis\n",
       "    LDAvis_load_lib(\"https://cdnjs.cloudflare.com/ajax/libs/d3/3.5.5/d3.min.js\", function(){\n",
       "         LDAvis_load_lib(\"https://cdn.rawgit.com/bmabey/pyLDAvis/files/ldavis.v1.0.0.js\", function(){\n",
       "                 new LDAvis(\"#\" + \"ldavis_el231631399287272764243028091815\", ldavis_el231631399287272764243028091815_data);\n",
       "            })\n",
       "         });\n",
       "}\n",
       "</script>"
      ],
      "text/plain": [
       "PreparedData(topic_coordinates=              x         y  topics  cluster       Freq\n",
       "topic                                                \n",
       "3      0.267646  0.083568       1        1  24.547764\n",
       "4     -0.018623 -0.033083       2        1  20.905014\n",
       "0     -0.186059  0.201092       3        1  19.394392\n",
       "2     -0.058602 -0.245847       4        1  18.820255\n",
       "1     -0.004362 -0.005731       5        1  16.332577, topic_info=    Category       Freq           Term      Total  loglift  logprob\n",
       "8    Default  68.000000          image  68.000000  30.0000  30.0000\n",
       "7    Default  46.000000   architecture  46.000000  29.0000  29.0000\n",
       "13   Default  32.000000         shamir  32.000000  28.0000  28.0000\n",
       "31   Default  32.000000          style  32.000000  27.0000  27.0000\n",
       "5    Default  27.000000       computer  27.000000  26.0000  26.0000\n",
       "..       ...        ...            ...        ...      ...      ...\n",
       "200   Topic5   2.972638         number   3.609941   1.6178  -4.5590\n",
       "144   Topic5   2.961181      frankfurt   3.598454   1.6171  -4.5629\n",
       "145   Topic5   2.961181        hamburg   3.598454   1.6171  -4.5629\n",
       "302   Topic5   2.599951       colonial   3.239247   1.5922  -4.6930\n",
       "232   Topic5   2.520206  expressionism   3.159540   1.5859  -4.7241\n",
       "\n",
       "[186 rows x 6 columns], token_table=      Topic      Freq         Term\n",
       "term                              \n",
       "206       2  0.932944     accuracy\n",
       "62        3  0.946773    aesthetic\n",
       "119       4  0.744938          age\n",
       "222       5  0.920246    agreement\n",
       "6         4  0.963466     analysis\n",
       "...     ...       ...          ...\n",
       "212       2  0.920745      wndchrm\n",
       "460       5  0.764291         xiao\n",
       "448       4  0.766851       yuriko\n",
       "120       4  0.744938  zeppelzauer\n",
       "102       4  0.724844        zhang\n",
       "\n",
       "[156 rows x 3 columns], R=30, lambda_step=0.01, plot_opts={'xlab': 'PC1', 'ylab': 'PC2'}, topic_order=[4, 5, 1, 3, 2])"
      ]
     },
     "execution_count": 18,
     "metadata": {},
     "output_type": "execute_result"
    }
   ],
   "source": [
    "pyLDAvis.enable_notebook()\n",
    "vis = pyLDAvis.gensim.prepare(aggregate[0][4], aggregate[0][3], aggregate[0][2])\n",
    "vis"
   ]
  },
  {
   "cell_type": "code",
   "execution_count": 19,
   "metadata": {},
   "outputs": [
    {
     "name": "stdout",
     "output_type": "stream",
     "text": [
      "[(0,\n",
      "  '0.141*\"building\" + 0.101*\"shamir\" + 0.089*\"similarity\" + 0.061*\"phylogeny\" '\n",
      "  '+ 0.046*\"content\" + 0.037*\"datum\" + 0.024*\"dataset\" + 0.021*\"result\" + '\n",
      "  '0.018*\"planning\" + 0.015*\"mexico\"'),\n",
      " (1,\n",
      "  '0.083*\"interest\" + 0.061*\"figure\" + 0.053*\"streetview\" + 0.039*\"distance\" + '\n",
      "  '0.039*\"art\" + 0.033*\"feature\" + 0.033*\"tile\" + 0.031*\"link\" + '\n",
      "  '0.025*\"system\" + 0.025*\"experiment\"'),\n",
      " (2,\n",
      "  '0.153*\"architecture\" + 0.110*\"analysis\" + 0.063*\"location\" + 0.040*\"class\" '\n",
      "  '+ 0.037*\"method\" + 0.026*\"show\" + 0.020*\"research\" + 0.017*\"phylip\" + '\n",
      "  '0.017*\"label\" + 0.017*\"history\"'),\n",
      " (3,\n",
      "  '0.328*\"image\" + 0.084*\"region\" + 0.052*\"classification\" + 0.038*\"colony\" + '\n",
      "  '0.029*\"information\" + 0.029*\"pattern\" + 0.026*\"system\" + 0.020*\"country\" + '\n",
      "  '0.020*\"vision\" + 0.020*\"recognition\"'),\n",
      " (4,\n",
      "  '0.134*\"city\" + 0.131*\"style\" + 0.077*\"computer\" + 0.039*\"set\" + '\n",
      "  '0.030*\"accuracy\" + 0.027*\"machine\" + 0.021*\"sample\" + 0.018*\"difference\" + '\n",
      "  '0.018*\"part\" + 0.018*\"study\"')]\n",
      "\n",
      "Coherence Score:  0.8432691238730665\n"
     ]
    }
   ],
   "source": [
    "pprint(aggregate[0][5].show_topics())\n",
    "\n",
    "# Compute Coherence Score\n",
    "coherence_model_ldamallet = CoherenceModel(model=aggregate[0][5], texts=aggregate[0][1], dictionary=aggregate[0][2], coherence='c_v')\n",
    "coherence_ldamallet = coherence_model_ldamallet.get_coherence()\n",
    "print('\\nCoherence Score: ', coherence_ldamallet)"
   ]
  },
  {
   "cell_type": "code",
   "execution_count": 20,
   "metadata": {},
   "outputs": [],
   "source": [
    "model_list, coherence_values = compute_coherence_values(dictionary=aggregate[0][2], corpus=aggregate[0][3], texts=aggregate[0][1], start=2, limit=40, step=6)\n"
   ]
  },
  {
   "cell_type": "code",
   "execution_count": 21,
   "metadata": {},
   "outputs": [
    {
     "data": {
      "image/png": "[encoded data removed]",
      "text/plain": [
       "<Figure size 432x288 with 1 Axes>"
      ]
     },
     "metadata": {
      "needs_background": "light"
     },
     "output_type": "display_data"
    }
   ],
   "source": [
    "limit=40; start=2; step=6;\n",
    "x = range(start, limit, step)\n",
    "plt.plot(x, coherence_values)\n",
    "plt.xlabel(\"Num Topics\")\n",
    "plt.ylabel(\"Coherence score\")\n",
    "plt.legend((\"coherence_values\"), loc='best')\n",
    "plt.show()"
   ]
  },
  {
   "cell_type": "markdown",
   "metadata": {},
   "source": [
    "# Tópicos apenas levando em conta os Adjetivos\n"
   ]
  },
  {
   "cell_type": "code",
   "execution_count": 22,
   "metadata": {},
   "outputs": [
    {
     "name": "stdout",
     "output_type": "stream",
     "text": [
      "[(0,\n",
      "  '0.258*\"different\" + 0.106*\"visual\" + 0.078*\"quantitative\" + '\n",
      "  '0.057*\"european\" + 0.040*\"relate\" + 0.037*\"large\" + 0.032*\"geographic\" + '\n",
      "  '0.020*\"geological\" + 0.020*\"climatic\" + 0.019*\"astronomical\"'),\n",
      " (1,\n",
      "  '0.122*\"urban\" + 0.058*\"complex\" + 0.052*\"better\" + 0.049*\"able\" + '\n",
      "  '0.042*\"religious\" + 0.041*\"open\" + 0.036*\"computational\" + '\n",
      "  '0.033*\"influential\" + 0.031*\"abstract\" + 0.027*\"short\"'),\n",
      " (2,\n",
      "  '0.117*\"cultural\" + 0.089*\"british\" + 0.068*\"former\" + 0.054*\"standard\" + '\n",
      "  '0.044*\"asian\" + 0.044*\"spanish\" + 0.040*\"new\" + 0.035*\"german\" + '\n",
      "  '0.032*\"present\" + 0.028*\"low\"'),\n",
      " (3,\n",
      "  '0.265*\"architectural\" + 0.075*\"close\" + 0.048*\"high\" + 0.035*\"numerical\" + '\n",
      "  '0.032*\"sensitive\" + 0.028*\"informative\" + 0.027*\"correct\" + 0.026*\"first\" + '\n",
      "  '0.025*\"residential\" + 0.025*\"irfanview\"'),\n",
      " (4,\n",
      "  '0.099*\"automatic\" + 0.057*\"international\" + 0.052*\"social\" + '\n",
      "  '0.045*\"similar\" + 0.041*\"islamic\" + 0.028*\"original\" + 0.025*\"available\" + '\n",
      "  '0.023*\"artistic\" + 0.023*\"deep\" + 0.021*\"historical\"')]\n"
     ]
    }
   ],
   "source": [
    "pprint(aggregate[1][4].print_topics())\n",
    "doc_lda = aggregate[1][4][aggregate[1][3]]"
   ]
  },
  {
   "cell_type": "code",
   "execution_count": 23,
   "metadata": {},
   "outputs": [
    {
     "name": "stdout",
     "output_type": "stream",
     "text": [
      "\n",
      "Perplexity:  -5.52493691286673\n",
      "\n",
      "Coherence Score:  0.8411807519063667\n"
     ]
    }
   ],
   "source": [
    "print('\\nPerplexity: ', aggregate[1][4].log_perplexity(aggregate[1][3]))  # a measure of how good the model is. lower the better.\n",
    "\n",
    "# Compute Coherence Score\n",
    "coherence_model_lda = CoherenceModel(model=aggregate[1][4], texts=aggregate[1][1], dictionary=aggregate[1][2], coherence='c_v')\n",
    "coherence_lda = coherence_model_lda.get_coherence()\n",
    "print('\\nCoherence Score: ', coherence_lda)"
   ]
  },
  {
   "cell_type": "code",
   "execution_count": 24,
   "metadata": {},
   "outputs": [
    {
     "data": {
      "text/html": [
       "\n",
       "<link rel=\"stylesheet\" type=\"text/css\" href=\"https://cdn.rawgit.com/bmabey/pyLDAvis/files/ldavis.v1.0.0.css\">\n",
       "\n",
       "\n",
       "<div id=\"ldavis_el231631399287264212009702103415\"></div>\n",
       "<script type=\"text/javascript\">\n",
       "\n",
       "var ldavis_el231631399287264212009702103415_data = {\"mdsDat\": {\"x\": [0.2838564889904674, -0.11766341487960498, -0.08910700585339165, -0.04339328766135209, -0.033692780596118584], \"y\": [-0.03122042018519163, -0.23720831327633288, 0.1683988469119913, 0.06935918470704108, 0.03067070184249228], \"topics\": [1, 2, 3, 4, 5], \"cluster\": [1, 1, 1, 1, 1], \"Freq\": [30.595726013183594, 20.629364013671875, 19.408222198486328, 15.401512145996094, 13.965179443359375]}, \"tinfo\": {\"Category\": [\"Default\", \"Default\", \"Default\", \"Default\", \"Default\", \"Default\", \"Default\", \"Default\", \"Default\", \"Default\", \"Default\", \"Default\", \"Default\", \"Default\", \"Default\", \"Default\", \"Default\", \"Default\", \"Default\", \"Default\", \"Default\", \"Default\", \"Default\", \"Default\", \"Default\", \"Default\", \"Default\", \"Default\", \"Default\", \"Default\", \"Topic1\", \"Topic1\", \"Topic1\", \"Topic1\", \"Topic1\", \"Topic1\", \"Topic1\", \"Topic1\", \"Topic1\", \"Topic1\", \"Topic1\", \"Topic1\", \"Topic1\", \"Topic1\", \"Topic1\", \"Topic1\", \"Topic1\", \"Topic1\", \"Topic1\", \"Topic1\", \"Topic1\", \"Topic1\", \"Topic1\", \"Topic1\", \"Topic1\", \"Topic1\", \"Topic1\", \"Topic1\", \"Topic1\", \"Topic1\", \"Topic1\", \"Topic1\", \"Topic1\", \"Topic1\", \"Topic1\", \"Topic2\", \"Topic2\", \"Topic2\", \"Topic2\", \"Topic2\", \"Topic2\", \"Topic2\", \"Topic2\", \"Topic2\", \"Topic2\", \"Topic2\", \"Topic2\", \"Topic2\", \"Topic2\", \"Topic2\", \"Topic2\", \"Topic2\", \"Topic2\", \"Topic2\", \"Topic2\", \"Topic2\", \"Topic2\", \"Topic2\", \"Topic2\", \"Topic2\", \"Topic2\", \"Topic2\", \"Topic2\", \"Topic2\", \"Topic2\", \"Topic2\", \"Topic3\", \"Topic3\", \"Topic3\", \"Topic3\", \"Topic3\", \"Topic3\", \"Topic3\", \"Topic3\", \"Topic3\", \"Topic3\", \"Topic3\", \"Topic3\", \"Topic3\", \"Topic3\", \"Topic3\", \"Topic3\", \"Topic3\", \"Topic3\", \"Topic3\", \"Topic3\", \"Topic3\", \"Topic3\", \"Topic3\", \"Topic3\", \"Topic3\", \"Topic3\", \"Topic3\", \"Topic3\", \"Topic3\", \"Topic3\", \"Topic3\", \"Topic3\", \"Topic3\", \"Topic3\", \"Topic3\", \"Topic4\", \"Topic4\", \"Topic4\", \"Topic4\", \"Topic4\", \"Topic4\", \"Topic4\", \"Topic4\", \"Topic4\", \"Topic4\", \"Topic4\", \"Topic4\", \"Topic4\", \"Topic4\", \"Topic4\", \"Topic4\", \"Topic4\", \"Topic4\", \"Topic4\", \"Topic4\", \"Topic4\", \"Topic4\", \"Topic4\", \"Topic4\", \"Topic4\", \"Topic4\", \"Topic4\", \"Topic4\", \"Topic4\", \"Topic4\", \"Topic4\", \"Topic4\", \"Topic4\", \"Topic4\", \"Topic4\", \"Topic4\", \"Topic4\", \"Topic4\", \"Topic4\", \"Topic4\", \"Topic4\", \"Topic4\", \"Topic4\", \"Topic4\", \"Topic4\", \"Topic4\", \"Topic4\", \"Topic4\", \"Topic4\", \"Topic5\", \"Topic5\", \"Topic5\", \"Topic5\", \"Topic5\", \"Topic5\", \"Topic5\", \"Topic5\", \"Topic5\", \"Topic5\", \"Topic5\", \"Topic5\", \"Topic5\", \"Topic5\", \"Topic5\", \"Topic5\", \"Topic5\", \"Topic5\", \"Topic5\", \"Topic5\", \"Topic5\", \"Topic5\", \"Topic5\", \"Topic5\", \"Topic5\", \"Topic5\", \"Topic5\", \"Topic5\", \"Topic5\", \"Topic5\", \"Topic5\", \"Topic5\", \"Topic5\", \"Topic5\"], \"Freq\": [40.0, 20.0, 12.0, 9.0, 8.0, 10.0, 9.0, 11.0, 6.0, 7.0, 6.0, 4.0, 4.0, 6.0, 5.0, 4.0, 4.0, 7.0, 4.0, 5.0, 5.0, 4.0, 3.0, 3.0, 3.0, 4.0, 3.0, 3.0, 4.0, 2.0, 40.20207977294922, 11.381216049194336, 7.333927154541016, 5.315313816070557, 4.780933856964111, 4.274058818817139, 4.058645248413086, 3.8789916038513184, 3.8143043518066406, 3.8143041133880615, 3.4481887817382812, 3.4199912548065186, 3.232760429382324, 2.442656993865967, 2.442656993865967, 2.442656993865967, 2.1433796882629395, 1.9082399606704712, 1.6168071031570435, 1.4013490676879883, 1.4013490676879883, 1.4013490676879883, 1.2422677278518677, 1.0830060243606567, 0.7908267974853516, 0.7908267974853516, 0.7908267974853516, 0.7908267974853516, 0.7908267974853516, 0.7908267974853516, 0.7908267974853516, 0.7908267378807068, 0.7908267378807068, 0.7908267378807068, 0.7908267378807068, 11.931809425354004, 9.121417999267578, 6.996760368347168, 5.563297271728516, 4.488073825836182, 4.488073825836182, 4.088956356048584, 3.57224440574646, 3.3028833866119385, 2.8555126190185547, 2.8555126190185547, 2.178555727005005, 2.1734023094177246, 2.065042734146118, 1.7566617727279663, 1.5015807151794434, 1.5015807151794434, 1.5015807151794434, 1.5015804767608643, 0.8245335817337036, 0.8245335817337036, 0.8245335817337036, 0.8245335817337036, 0.8245335817337036, 0.8245335817337036, 0.8245335817337036, 0.8245335817337036, 0.8245335817337036, 0.8245335817337036, 0.648036003112793, 0.648036003112793, 9.566010475158691, 5.461238861083984, 4.985044956207275, 4.308907508850098, 3.9646639823913574, 2.6641504764556885, 2.413888454437256, 2.2605814933776855, 2.2605814933776855, 2.0226943492889404, 1.5124958753585815, 1.1935598850250244, 1.1935598850250244, 1.1935598850250244, 1.1935598850250244, 1.1935598850250244, 1.1935598850250244, 1.1935598850250244, 1.1935598850250244, 1.1935598850250244, 1.1935598850250244, 1.1935598850250244, 1.1935598850250244, 1.1935598850250244, 1.1935598850250244, 1.1935598850250244, 1.1935598850250244, 1.1935598850250244, 1.1935598850250244, 1.1935598850250244, 1.1935597658157349, 1.1935598850250244, 1.1935597658157349, 1.1935597658157349, 1.1935598850250244, 19.71905517578125, 8.083463668823242, 5.929048538208008, 4.377547740936279, 3.0778121948242188, 2.803478717803955, 2.464308977127075, 1.503705620765686, 1.503705620765686, 1.4540354013442993, 0.9310553073883057, 0.9310553073883057, 0.542991578578949, 0.542991578578949, 0.15535619854927063, 0.15535619854927063, 0.15535619854927063, 0.15535619854927063, 0.1553495079278946, 0.1553495079278946, 0.1553495079278946, 0.1553538590669632, 0.15535537898540497, 0.15535537898540497, 0.15535762906074524, 0.15535762906074524, 0.15536019206047058, 0.15536019206047058, 0.15536019206047058, 0.15536019206047058, 0.15536019206047058, 0.15536019206047058, 0.15536019206047058, 0.15538087487220764, 0.15538087487220764, 0.15537941455841064, 0.15537941455841064, 0.15537941455841064, 0.15537941455841064, 0.15537941455841064, 0.15537941455841064, 0.15537941455841064, 0.15537941455841064, 0.15537941455841064, 0.15537941455841064, 0.15537941455841064, 0.15537941455841064, 0.15537941455841064, 0.15537941455841064, 8.431199073791504, 3.991966485977173, 3.60418963432312, 3.4157166481018066, 2.877523899078369, 2.833235740661621, 2.4846079349517822, 2.302293300628662, 2.134756088256836, 1.8718370199203491, 1.7056457996368408, 1.6614066362380981, 1.3109809160232544, 1.3109809160232544, 1.1892799139022827, 1.0055569410324097, 1.0055569410324097, 1.0055569410324097, 1.0055569410324097, 1.0055569410324097, 1.0055569410324097, 1.0055569410324097, 1.0055569410324097, 0.48955368995666504, 0.4895537793636322, 0.48955368995666504, 0.14006264507770538, 0.14006264507770538, 0.14006264507770538, 0.14006264507770538, 0.14007511734962463, 0.14007383584976196, 0.14007383584976196, 0.14007383584976196], \"Term\": [\"architectural\", \"different\", \"cultural\", \"urban\", \"visual\", \"automatic\", \"british\", \"close\", \"quantitative\", \"former\", \"international\", \"european\", \"complex\", \"standard\", \"social\", \"better\", \"able\", \"high\", \"similar\", \"spanish\", \"asian\", \"islamic\", \"religious\", \"open\", \"relate\", \"new\", \"large\", \"computational\", \"german\", \"influential\", \"architectural\", \"close\", \"high\", \"numerical\", \"sensitive\", \"informative\", \"correct\", \"first\", \"residential\", \"irfanview\", \"typical\", \"clear\", \"due\", \"mere\", \"small\", \"much\", \"environmental\", \"possible\", \"separate\", \"iconic\", \"consistent\", \"natural\", \"substantial\", \"several\", \"unique\", \"financial\", \"modern\", \"various\", \"particular\", \"comprehensive\", \"perfect\", \"annotate\", \"famous\", \"respective\", \"specific\", \"cultural\", \"british\", \"former\", \"standard\", \"spanish\", \"asian\", \"new\", \"german\", \"present\", \"low\", \"flat\", \"equal\", \"difficult\", \"certain\", \"nasar\", \"average\", \"near\", \"less\", \"sized\", \"roi\", \"uninformative\", \"entire\", \"useful\", \"architetural\", \"capable\", \"elevate\", \"total\", \"technical\", \"genetic\", \"diverse\", \"mathematical\", \"automatic\", \"international\", \"social\", \"similar\", \"islamic\", \"original\", \"available\", \"artistic\", \"deep\", \"historical\", \"black\", \"hierarchical\", \"dependent\", \"public\", \"spatial\", \"american\", \"lepri\", \"safe\", \"lively\", \"preliminary\", \"popular\", \"impossible\", \"sparse\", \"royal\", \"everyday\", \"morphological\", \"opportunistic\", \"musolesi\", \"multi\", \"digital\", \"remote\", \"biological\", \"global\", \"monthly\", \"biomedical\", \"different\", \"visual\", \"quantitative\", \"european\", \"relate\", \"large\", \"geographic\", \"climatic\", \"geological\", \"astronomical\", \"technological\", \"basic\", \"powerful\", \"experimental\", \"independent\", \"main\", \"lior\", \"true\", \"old\", \"easy\", \"aesthetic\", \"cognitive\", \"crisp\", \"traditional\", \"diverse\", \"mathematical\", \"particular\", \"financial\", \"various\", \"von\", \"comprehensive\", \"specific\", \"perfect\", \"southern\", \"dragicevic\", \"dependent\", \"lively\", \"remote\", \"spatial\", \"hierarchical\", \"american\", \"lepri\", \"safe\", \"impossible\", \"sparse\", \"popular\", \"digital\", \"everyday\", \"biomedical\", \"urban\", \"complex\", \"better\", \"able\", \"religious\", \"open\", \"computational\", \"influential\", \"abstract\", \"short\", \"subjective\", \"political\", \"southern\", \"dragicevic\", \"geographical\", \"accessible\", \"prevalent\", \"strong\", \"great\", \"common\", \"distant\", \"trivial\", \"single\", \"old\", \"aesthetic\", \"easy\", \"true\", \"lior\", \"independent\", \"main\", \"astronomical\", \"spatial\", \"dependent\", \"impossible\"], \"Total\": [40.0, 20.0, 12.0, 9.0, 8.0, 10.0, 9.0, 11.0, 6.0, 7.0, 6.0, 4.0, 4.0, 6.0, 5.0, 4.0, 4.0, 7.0, 4.0, 5.0, 5.0, 4.0, 3.0, 3.0, 3.0, 4.0, 3.0, 3.0, 4.0, 2.0, 40.77313232421875, 11.952330589294434, 7.904999732971191, 5.886378765106201, 5.351993560791016, 4.84512186050415, 4.629715919494629, 4.4500603675842285, 4.3854756355285645, 4.3854756355285645, 4.019259452819824, 3.9910929203033447, 3.8038482666015625, 3.0137369632720947, 3.0137369632720947, 3.0137369632720947, 2.714535713195801, 2.479337215423584, 2.187882661819458, 1.972459316253662, 1.972459316253662, 1.972459316253662, 1.8133119344711304, 1.6540910005569458, 1.3619754314422607, 1.3619754314422607, 1.3619754314422607, 1.3619754314422607, 1.3619754314422607, 1.3619754314422607, 1.3619754314422607, 1.3619754314422607, 1.3619754314422607, 1.3619754314422607, 1.3619754314422607, 12.53573226928711, 9.72532844543457, 7.6006388664245605, 6.167160987854004, 5.091992378234863, 5.091992378234863, 4.692781925201416, 4.176139831542969, 3.9069056510925293, 3.4594006538391113, 3.4594006538391113, 2.782460927963257, 2.777174711227417, 2.668747901916504, 2.360699415206909, 2.1055212020874023, 2.1055212020874023, 2.1055212020874023, 2.1055212020874023, 1.4285823106765747, 1.4285823106765747, 1.4285823106765747, 1.4285823106765747, 1.4285823106765747, 1.4285823106765747, 1.4285823106765747, 1.4285823106765747, 1.4285823106765747, 1.4285823106765747, 1.2520225048065186, 1.2520225048065186, 10.190376281738281, 6.086009979248047, 5.6094651222229, 4.933302402496338, 4.589179515838623, 3.288626194000244, 3.0382585525512695, 2.885467529296875, 2.885467529296875, 2.6471540927886963, 2.1370131969451904, 1.8186473846435547, 1.8186473846435547, 1.8186473846435547, 1.8186473846435547, 1.8186473846435547, 1.8186473846435547, 1.8186473846435547, 1.8186473846435547, 1.8186473846435547, 1.8186473846435547, 1.8186473846435547, 1.8186473846435547, 1.8186473846435547, 1.8186473846435547, 1.8186473846435547, 1.8186473846435547, 1.8186473846435547, 1.8186473846435547, 1.8186473846435547, 1.8186473846435547, 1.8186473846435547, 1.8186473846435547, 1.8186473846435547, 1.8186473846435547, 20.315528869628906, 8.679933547973633, 6.525556564331055, 4.9741106033325195, 3.6743266582489014, 3.4000637531280518, 3.060936212539673, 2.100278615951538, 2.100278615951538, 2.0513851642608643, 1.52760910987854, 1.52760910987854, 1.1396161317825317, 1.1396161317825317, 1.0701719522476196, 1.0701719522476196, 1.0701719522476196, 1.0701719522476196, 1.1014776229858398, 1.1014776229858398, 1.1014777421951294, 1.1215368509292603, 1.202804446220398, 1.202804446220398, 1.2520225048065186, 1.2520225048065186, 1.3619754314422607, 1.3619754314422607, 1.3619754314422607, 1.3619754314422607, 1.3619754314422607, 1.3619754314422607, 1.3619754314422607, 1.9236125946044922, 1.9236125946044922, 1.8186473846435547, 1.8186473846435547, 1.8186473846435547, 1.8186473846435547, 1.8186473846435547, 1.8186473846435547, 1.8186473846435547, 1.8186473846435547, 1.8186473846435547, 1.8186473846435547, 1.8186473846435547, 1.8186473846435547, 1.8186473846435547, 1.8186473846435547, 9.043096542358398, 4.603701114654541, 4.216242790222168, 4.027473449707031, 3.4893336296081543, 3.445293426513672, 3.096412181854248, 2.9140541553497314, 2.7465972900390625, 2.4839606285095215, 2.3174285888671875, 2.2733850479125977, 1.9236125946044922, 1.9236125946044922, 1.8011051416397095, 1.6178271770477295, 1.6178271770477295, 1.6178271770477295, 1.6178271770477295, 1.6178271770477295, 1.6178271770477295, 1.6178271770477295, 1.6178271770477295, 1.1014776229858398, 1.1014777421951294, 1.1014776229858398, 1.0701719522476196, 1.0701719522476196, 1.0701719522476196, 1.0701719522476196, 2.0513851642608643, 1.8186473846435547, 1.8186473846435547, 1.8186473846435547], \"loglift\": [30.0, 29.0, 28.0, 27.0, 26.0, 25.0, 24.0, 23.0, 22.0, 21.0, 20.0, 19.0, 18.0, 17.0, 16.0, 15.0, 14.0, 13.0, 12.0, 11.0, 10.0, 9.0, 8.0, 7.0, 6.0, 5.0, 4.0, 3.0, 2.0, 1.0, 1.170199990272522, 1.1353000402450562, 1.1093000173568726, 1.0822999477386475, 1.0714999437332153, 1.058899998664856, 1.0527000427246094, 1.0470000505447388, 1.044800043106079, 1.044800043106079, 1.0311000347137451, 1.0298999547958374, 1.0216000080108643, 0.9742000102996826, 0.9742000102996826, 0.9742000102996826, 0.9480999708175659, 0.9225000143051147, 0.8817999958992004, 0.8424999713897705, 0.8424999713897705, 0.8424999713897705, 0.8061000108718872, 0.7608000040054321, 0.6406999826431274, 0.6406999826431274, 0.6406999826431274, 0.6406999826431274, 0.6406999826431274, 0.6406999826431274, 0.6406999826431274, 0.6406999826431274, 0.6406999826431274, 0.6406999826431274, 0.6406999826431274, 1.529099941253662, 1.514299988746643, 1.4957000017166138, 1.4753999710083008, 1.4522000551223755, 1.4522000551223755, 1.4407000541687012, 1.4222999811172485, 1.4105000495910645, 1.3866000175476074, 1.3866000175476074, 1.333799958229065, 1.333299994468689, 1.3220000267028809, 1.2828999757766724, 1.240399956703186, 1.240399956703186, 1.240399956703186, 1.240399956703186, 1.0288000106811523, 1.0288000106811523, 1.0288000106811523, 1.0288000106811523, 1.0288000106811523, 1.0288000106811523, 1.0288000106811523, 1.0288000106811523, 1.0288000106811523, 1.0288000106811523, 0.9199000000953674, 0.9199000000953674, 1.576200008392334, 1.5312000513076782, 1.5214999914169312, 1.50409996509552, 1.4931999444961548, 1.4289000034332275, 1.4093999862670898, 1.395400047302246, 1.395400047302246, 1.3703999519348145, 1.2937999963760376, 1.2182999849319458, 1.2182999849319458, 1.2182999849319458, 1.2182999849319458, 1.2182999849319458, 1.2182999849319458, 1.2182999849319458, 1.2182999849319458, 1.2182999849319458, 1.2182999849319458, 1.2182999849319458, 1.2182999849319458, 1.2182999849319458, 1.2182999849319458, 1.2182999849319458, 1.2182999849319458, 1.2182999849319458, 1.2182999849319458, 1.2182999849319458, 1.2182999849319458, 1.2182999849319458, 1.2182999849319458, 1.2182999849319458, 1.2182999849319458, 1.84089994430542, 1.7994999885559082, 1.7747999429702759, 1.742900013923645, 1.693600058555603, 1.6778000593185425, 1.6539000272750854, 1.5365999937057495, 1.5365999937057495, 1.5264999866485596, 1.375599980354309, 1.375599980354309, 1.1294000148773193, 1.1294000148773193, -0.05909999832510948, -0.05909999832510948, -0.05909999832510948, -0.05909999832510948, -0.08799999952316284, -0.08799999952316284, -0.08799999952316284, -0.10599999874830246, -0.17599999904632568, -0.17599999904632568, -0.21610000729560852, -0.21610000729560852, -0.3001999855041504, -0.3001999855041504, -0.3001999855041504, -0.3001999855041504, -0.3001999855041504, -0.3001999855041504, -0.3001999855041504, -0.6453999876976013, -0.6453999876976013, -0.5892999768257141, -0.5892999768257141, -0.5892999768257141, -0.5892999768257141, -0.5892999768257141, -0.5892999768257141, -0.5892999768257141, -0.5892999768257141, -0.5892999768257141, -0.5892999768257141, -0.5892999768257141, -0.5892999768257141, -0.5892999768257141, -0.5892999768257141, 1.8984999656677246, 1.8259999752044678, 1.8118000030517578, 1.8039000034332275, 1.7757999897003174, 1.7730000019073486, 1.7484999895095825, 1.7330000400543213, 1.716599941253662, 1.6857000589370728, 1.6620999574661255, 1.6549999713897705, 1.5851999521255493, 1.5851999521255493, 1.5535999536514282, 1.4931000471115112, 1.4931000471115112, 1.4931000471115112, 1.4931000471115112, 1.4931000471115112, 1.4931000471115112, 1.4931000471115112, 1.4931000471115112, 1.1576999425888062, 1.1576999425888062, 1.1576999425888062, -0.0649000033736229, -0.0649000033736229, -0.0649000033736229, -0.0649000033736229, -0.715499997138977, -0.5950999855995178, -0.5950999855995178, -0.5950999855995178], \"logprob\": [30.0, 29.0, 28.0, 27.0, 26.0, 25.0, 24.0, 23.0, 22.0, 21.0, 20.0, 19.0, 18.0, 17.0, 16.0, 15.0, 14.0, 13.0, 12.0, 11.0, 10.0, 9.0, 8.0, 7.0, 6.0, 5.0, 4.0, 3.0, 2.0, 1.0, -1.3282999992370605, -2.5903000831604004, -3.0297999382019043, -3.3517000675201416, -3.4576001167297363, -3.569700002670288, -3.6214001178741455, -3.6666998863220215, -3.683500051498413, -3.683500051498413, -3.78439998626709, -3.79259991645813, -3.848900079727173, -4.129199981689453, -4.129199981689453, -4.129199981689453, -4.259900093078613, -4.376100063323975, -4.541800022125244, -4.684800148010254, -4.684800148010254, -4.684800148010254, -4.805300235748291, -4.942500114440918, -5.256899833679199, -5.256899833679199, -5.256899833679199, -5.256899833679199, -5.256899833679199, -5.256899833679199, -5.256899833679199, -5.256899833679199, -5.256899833679199, -5.256899833679199, -5.256899833679199, -2.148900032043457, -2.4175000190734863, -2.6826999187469482, -2.911900043487549, -3.126699924468994, -3.126699924468994, -3.2197999954223633, -3.3548998832702637, -3.433300018310547, -3.578900098800659, -3.578900098800659, -3.8494999408721924, -3.851799964904785, -3.9030001163482666, -4.064700126647949, -4.22160005569458, -4.22160005569458, -4.22160005569458, -4.22160005569458, -4.821100234985352, -4.821100234985352, -4.821100234985352, -4.821100234985352, -4.821100234985352, -4.821100234985352, -4.821100234985352, -4.821100234985352, -4.821100234985352, -4.821100234985352, -5.0619001388549805, -5.0619001388549805, -2.3089001178741455, -2.8694000244140625, -2.960700035095215, -3.1064000129699707, -3.18969988822937, -3.5871999263763428, -3.6858999729156494, -3.751499891281128, -3.751499891281128, -3.8626999855041504, -4.153299808502197, -4.390200138092041, -4.390200138092041, -4.390200138092041, -4.390200138092041, -4.390200138092041, -4.390200138092041, -4.390200138092041, -4.390200138092041, -4.390200138092041, -4.390200138092041, -4.390200138092041, -4.390200138092041, -4.390200138092041, -4.390200138092041, -4.390200138092041, -4.390200138092041, -4.390200138092041, -4.390200138092041, -4.390200138092041, -4.390200138092041, -4.390200138092041, -4.390200138092041, -4.390200138092041, -4.390200138092041, -1.3543000221252441, -2.2460999488830566, -2.555999994277954, -2.8594000339508057, -3.211699962615967, -3.305000066757202, -3.434000015258789, -3.9279000759124756, -3.9279000759124756, -3.9614999294281006, -4.407299995422363, -4.407299995422363, -4.946499824523926, -4.946499824523926, -6.19789981842041, -6.19789981842041, -6.19789981842041, -6.19789981842041, -6.19789981842041, -6.19789981842041, -6.19789981842041, -6.19789981842041, -6.19789981842041, -6.19789981842041, -6.19789981842041, -6.19789981842041, -6.19789981842041, -6.19789981842041, -6.19789981842041, -6.19789981842041, -6.19789981842041, -6.19789981842041, -6.19789981842041, -6.197700023651123, -6.197700023651123, -6.197800159454346, -6.197800159454346, -6.197800159454346, -6.197800159454346, -6.197800159454346, -6.197800159454346, -6.197800159454346, -6.197800159454346, -6.197800159454346, -6.197800159454346, -6.197800159454346, -6.197800159454346, -6.197800159454346, -6.197800159454346, -2.1059999465942383, -2.8536999225616455, -2.955899953842163, -3.0095999240875244, -3.180999994277954, -3.1965999603271484, -3.327899932861328, -3.404099941253662, -3.479599952697754, -3.6110999584198, -3.7039999961853027, -3.730299949645996, -3.9672000408172607, -3.9672000408172607, -4.064599990844727, -4.232399940490723, -4.232399940490723, -4.232399940490723, -4.232399940490723, -4.232399940490723, -4.232399940490723, -4.232399940490723, -4.232399940490723, -4.952199935913086, -4.952199935913086, -4.952199935913086, -6.20359992980957, -6.20359992980957, -6.20359992980957, -6.20359992980957, -6.203499794006348, -6.20359992980957, -6.20359992980957, -6.20359992980957]}, \"token.table\": {\"Topic\": [5, 5, 5, 3, 1, 1, 2, 3, 2, 4, 3, 3, 2, 4, 5, 3, 3, 3, 2, 2, 2, 1, 4, 1, 2, 5, 5, 1, 5, 1, 1, 1, 2, 3, 3, 4, 2, 3, 5, 2, 5, 1, 2, 2, 1, 2, 4, 3, 4, 1, 1, 1, 2, 2, 2, 4, 5, 4, 2, 3, 5, 3, 1, 3, 1, 3, 5, 1, 3, 1, 3, 4, 3, 2, 3, 2, 2, 1, 1, 3, 3, 1, 3, 3, 2, 1, 2, 2, 1, 5, 3, 3, 1, 1, 5, 3, 1, 4, 3, 2, 5, 3, 4, 4, 5, 3, 1, 1, 2, 3, 3, 1, 1, 1, 5, 3, 5, 2, 1, 3, 5, 2, 3, 3, 1, 2, 5, 5, 1, 2, 4, 2, 1, 5, 1, 2, 1, 5, 2, 1, 4, 1], \"Freq\": [0.7448838949203491, 0.7281737327575684, 0.6181129813194275, 0.5498592257499695, 0.7342276573181152, 0.9810382127761841, 0.699994683265686, 0.6931285858154297, 0.785547137260437, 0.4874754846096039, 0.9813180565834045, 0.658271849155426, 0.9498835802078247, 0.6546177268028259, 0.9487119913101196, 0.5498592257499695, 0.5498592257499695, 0.9358856678009033, 0.9254186153411865, 0.699994683265686, 0.7494150996208191, 0.7516738176345825, 0.952254593372345, 0.920322597026825, 0.8916336297988892, 0.6181129813194275, 0.8688661456108093, 0.7342276573181152, 0.6459088325500488, 0.5069813132286072, 0.8639838695526123, 0.8313903212547302, 0.9572635889053345, 0.6931285858154297, 0.5498592257499695, 0.9844685792922974, 0.7201563715934753, 0.5498592257499695, 0.6181129813194275, 0.7987076640129089, 0.5198552012443542, 0.7886750102043152, 0.699994683265686, 0.699994683265686, 0.7367742657661438, 0.7187881469726562, 0.8041638731956482, 0.5498592257499695, 0.8774884343147278, 0.7342276573181152, 0.7342276573181152, 0.898864209651947, 0.8672022223472595, 0.9209752082824707, 0.699994683265686, 0.653394877910614, 0.5552146434783936, 0.952254593372345, 0.957822322845459, 0.5498592257499695, 0.6181129813194275, 0.5498592257499695, 0.8855155110359192, 0.7555283904075623, 0.5069813132286072, 0.5498592257499695, 0.6863290667533875, 0.8255726099014282, 0.8215563297271729, 0.9121017456054688, 0.8716155290603638, 0.8823363780975342, 0.5498592257499695, 0.9498835802078247, 0.5498592257499695, 0.8672022223472595, 0.7987076640129089, 0.6636279225349426, 0.7342276573181152, 0.5498592257499695, 0.5498592257499695, 0.6636279225349426, 0.5498592257499695, 0.5498592257499695, 0.8472065329551697, 0.5069813132286072, 0.9498835802078247, 0.8523728847503662, 0.8494186401367188, 0.8707531094551086, 0.5498592257499695, 0.9122350215911865, 0.7342276573181152, 0.7342276573181152, 0.879745364189148, 0.5498592257499695, 0.8066672086715698, 0.8774884343147278, 0.5498592257499695, 0.7678711414337158, 0.6181129813194275, 0.5498592257499695, 0.9194617867469788, 0.8164761066436768, 0.8597630262374878, 0.5498592257499695, 0.9121017456054688, 0.7342276573181152, 0.699994683265686, 0.5498592257499695, 0.5498592257499695, 0.9342313408851624, 0.9141258001327515, 0.6045616865158081, 0.8051657676696777, 0.8108158707618713, 0.6181129813194275, 0.9498835802078247, 0.6636279225349426, 0.8913505673408508, 0.5198552012443542, 0.785547137260437, 0.5498592257499695, 0.5498592257499695, 0.7342276573181152, 0.9728949666023254, 0.6181129813194275, 0.8630254864692688, 0.5514770746231079, 0.699994683265686, 0.6546177268028259, 0.699994683265686, 0.8313903212547302, 0.6181129813194275, 0.7464061379432678, 0.699994683265686, 0.7342276573181152, 0.8846527338027954, 0.699994683265686, 0.7342276573181152, 0.9216660261154175, 0.7342276573181152], \"Term\": [\"able\", \"abstract\", \"accessible\", \"american\", \"annotate\", \"architectural\", \"architetural\", \"artistic\", \"asian\", \"astronomical\", \"automatic\", \"available\", \"average\", \"basic\", \"better\", \"biological\", \"biomedical\", \"black\", \"british\", \"capable\", \"certain\", \"clear\", \"climatic\", \"close\", \"cognitive\", \"common\", \"complex\", \"comprehensive\", \"computational\", \"consistent\", \"correct\", \"crisp\", \"cultural\", \"deep\", \"dependent\", \"different\", \"difficult\", \"digital\", \"distant\", \"diverse\", \"dragicevic\", \"due\", \"elevate\", \"entire\", \"environmental\", \"equal\", \"european\", \"everyday\", \"experimental\", \"famous\", \"financial\", \"first\", \"flat\", \"former\", \"genetic\", \"geographic\", \"geographical\", \"geological\", \"german\", \"global\", \"great\", \"hierarchical\", \"high\", \"historical\", \"iconic\", \"impossible\", \"influential\", \"informative\", \"international\", \"irfanview\", \"islamic\", \"large\", \"lepri\", \"less\", \"lively\", \"low\", \"mathematical\", \"mere\", \"modern\", \"monthly\", \"morphological\", \"much\", \"multi\", \"musolesi\", \"nasar\", \"natural\", \"near\", \"new\", \"numerical\", \"open\", \"opportunistic\", \"original\", \"particular\", \"perfect\", \"political\", \"popular\", \"possible\", \"powerful\", \"preliminary\", \"present\", \"prevalent\", \"public\", \"quantitative\", \"relate\", \"religious\", \"remote\", \"residential\", \"respective\", \"roi\", \"royal\", \"safe\", \"sensitive\", \"separate\", \"several\", \"short\", \"similar\", \"single\", \"sized\", \"small\", \"social\", \"southern\", \"spanish\", \"sparse\", \"spatial\", \"specific\", \"standard\", \"strong\", \"subjective\", \"substantial\", \"technical\", \"technological\", \"total\", \"traditional\", \"trivial\", \"typical\", \"uninformative\", \"unique\", \"urban\", \"useful\", \"various\", \"visual\", \"von\"]}, \"R\": 30, \"lambda.step\": 0.01, \"plot.opts\": {\"xlab\": \"PC1\", \"ylab\": \"PC2\"}, \"topic.order\": [4, 3, 5, 1, 2]};\n",
       "\n",
       "function LDAvis_load_lib(url, callback){\n",
       "  var s = document.createElement('script');\n",
       "  s.src = url;\n",
       "  s.async = true;\n",
       "  s.onreadystatechange = s.onload = callback;\n",
       "  s.onerror = function(){console.warn(\"failed to load library \" + url);};\n",
       "  document.getElementsByTagName(\"head\")[0].appendChild(s);\n",
       "}\n",
       "\n",
       "if(typeof(LDAvis) !== \"undefined\"){\n",
       "   // already loaded: just create the visualization\n",
       "   !function(LDAvis){\n",
       "       new LDAvis(\"#\" + \"ldavis_el231631399287264212009702103415\", ldavis_el231631399287264212009702103415_data);\n",
       "   }(LDAvis);\n",
       "}else if(typeof define === \"function\" && define.amd){\n",
       "   // require.js is available: use it to load d3/LDAvis\n",
       "   require.config({paths: {d3: \"https://cdnjs.cloudflare.com/ajax/libs/d3/3.5.5/d3.min\"}});\n",
       "   require([\"d3\"], function(d3){\n",
       "      window.d3 = d3;\n",
       "      LDAvis_load_lib(\"https://cdn.rawgit.com/bmabey/pyLDAvis/files/ldavis.v1.0.0.js\", function(){\n",
       "        new LDAvis(\"#\" + \"ldavis_el231631399287264212009702103415\", ldavis_el231631399287264212009702103415_data);\n",
       "      });\n",
       "    });\n",
       "}else{\n",
       "    // require.js not available: dynamically load d3 & LDAvis\n",
       "    LDAvis_load_lib(\"https://cdnjs.cloudflare.com/ajax/libs/d3/3.5.5/d3.min.js\", function(){\n",
       "         LDAvis_load_lib(\"https://cdn.rawgit.com/bmabey/pyLDAvis/files/ldavis.v1.0.0.js\", function(){\n",
       "                 new LDAvis(\"#\" + \"ldavis_el231631399287264212009702103415\", ldavis_el231631399287264212009702103415_data);\n",
       "            })\n",
       "         });\n",
       "}\n",
       "</script>"
      ],
      "text/plain": [
       "PreparedData(topic_coordinates=              x         y  topics  cluster       Freq\n",
       "topic                                                \n",
       "3      0.283856 -0.031220       1        1  30.595726\n",
       "2     -0.117663 -0.237208       2        1  20.629364\n",
       "4     -0.089107  0.168399       3        1  19.408222\n",
       "0     -0.043393  0.069359       4        1  15.401512\n",
       "1     -0.033693  0.030671       5        1  13.965179, topic_info=    Category       Freq           Term      Total  loglift  logprob\n",
       "6    Default  40.000000  architectural  40.000000  30.0000  30.0000\n",
       "13   Default  20.000000      different  20.000000  29.0000  29.0000\n",
       "26   Default  12.000000       cultural  12.000000  28.0000  28.0000\n",
       "49   Default   9.000000          urban   9.000000  27.0000  27.0000\n",
       "7    Default   8.000000         visual   8.000000  26.0000  26.0000\n",
       "..       ...        ...            ...        ...      ...      ...\n",
       "51    Topic5   0.140063           main   1.070172  -0.0649  -6.2036\n",
       "154   Topic5   0.140075   astronomical   2.051385  -0.7155  -6.2035\n",
       "125   Topic5   0.140074        spatial   1.818647  -0.5951  -6.2036\n",
       "122   Topic5   0.140074      dependent   1.818647  -0.5951  -6.2036\n",
       "123   Topic5   0.140074     impossible   1.818647  -0.5951  -6.2036\n",
       "\n",
       "[214 rows x 6 columns], token_table=      Topic      Freq        Term\n",
       "term                             \n",
       "10        5  0.744884        able\n",
       "3         5  0.728174    abstract\n",
       "121       5  0.618113  accessible\n",
       "129       3  0.549859    american\n",
       "70        1  0.734228    annotate\n",
       "...     ...       ...         ...\n",
       "49        5  0.884653       urban\n",
       "105       2  0.699995      useful\n",
       "82        1  0.734228     various\n",
       "7         4  0.921666      visual\n",
       "85        1  0.734228         von\n",
       "\n",
       "[142 rows x 3 columns], R=30, lambda_step=0.01, plot_opts={'xlab': 'PC1', 'ylab': 'PC2'}, topic_order=[4, 3, 5, 1, 2])"
      ]
     },
     "execution_count": 24,
     "metadata": {},
     "output_type": "execute_result"
    }
   ],
   "source": [
    "pyLDAvis.enable_notebook()\n",
    "vis = pyLDAvis.gensim.prepare(aggregate[1][4], aggregate[1][3], aggregate[1][2])\n",
    "vis"
   ]
  },
  {
   "cell_type": "code",
   "execution_count": 25,
   "metadata": {},
   "outputs": [
    {
     "name": "stdout",
     "output_type": "stream",
     "text": [
      "[(0,\n",
      "  '0.205*\"automatic\" + 0.167*\"visual\" + 0.141*\"close\" + 0.051*\"religious\" + '\n",
      "  '0.051*\"social\" + 0.051*\"architectural\" + 0.026*\"historical\" + '\n",
      "  '0.026*\"environmental\" + 0.026*\"technological\" + 0.013*\"global\"'),\n",
      " (1,\n",
      "  '0.096*\"standard\" + 0.084*\"numerical\" + 0.072*\"similar\" + 0.072*\"correct\" + '\n",
      "  '0.060*\"due\" + 0.048*\"german\" + 0.048*\"influential\" + 0.048*\"european\" + '\n",
      "  '0.048*\"computational\" + 0.036*\"difficult\"'),\n",
      " (2,\n",
      "  '0.099*\"quantitative\" + 0.099*\"complex\" + 0.074*\"british\" + '\n",
      "  '0.074*\"informative\" + 0.062*\"international\" + 0.062*\"asian\" + '\n",
      "  '0.049*\"original\" + 0.049*\"relate\" + 0.037*\"equal\" + 0.037*\"geographic\"'),\n",
      " (3,\n",
      "  '0.435*\"architectural\" + 0.076*\"high\" + 0.054*\"islamic\" + 0.054*\"typical\" + '\n",
      "  '0.043*\"low\" + 0.033*\"geographical\" + 0.033*\"mere\" + 0.033*\"present\" + '\n",
      "  '0.033*\"british\" + 0.033*\"irfanview\"'),\n",
      " (4,\n",
      "  '0.160*\"cultural\" + 0.111*\"urban\" + 0.074*\"sensitive\" + 0.062*\"spanish\" + '\n",
      "  '0.037*\"flat\" + 0.037*\"residential\" + 0.037*\"clear\" + 0.037*\"open\" + '\n",
      "  '0.037*\"social\" + 0.037*\"architectural\"')]\n",
      "\n",
      "Coherence Score:  0.8453912869460348\n"
     ]
    }
   ],
   "source": [
    "pprint(aggregate[1][5].show_topics())\n",
    "\n",
    "# Compute Coherence Score\n",
    "coherence_model_ldamallet = CoherenceModel(model=aggregate[1][5], texts=aggregate[1][1], dictionary=aggregate[1][2], coherence='c_v')\n",
    "coherence_ldamallet = coherence_model_ldamallet.get_coherence()\n",
    "print('\\nCoherence Score: ', coherence_ldamallet)"
   ]
  },
  {
   "cell_type": "code",
   "execution_count": 34,
   "metadata": {},
   "outputs": [
    {
     "ename": "KeyError",
     "evalue": "415",
     "output_type": "error",
     "traceback": [
      "\u001b[0;31m---------------------------------------------------------------------------\u001b[0m",
      "\u001b[0;31mKeyError\u001b[0m                                  Traceback (most recent call last)",
      "\u001b[0;32m<ipython-input-34-6d522ccc13b2>\u001b[0m in \u001b[0;36m<module>\u001b[0;34m\u001b[0m\n\u001b[0;32m----> 1\u001b[0;31m \u001b[0mmodel_list\u001b[0m\u001b[0;34m,\u001b[0m \u001b[0mcoherence_values\u001b[0m \u001b[0;34m=\u001b[0m \u001b[0mcompute_coherence_values\u001b[0m\u001b[0;34m(\u001b[0m\u001b[0mdictionary\u001b[0m\u001b[0;34m=\u001b[0m\u001b[0maggregate\u001b[0m\u001b[0;34m[\u001b[0m\u001b[0;36m1\u001b[0m\u001b[0;34m]\u001b[0m\u001b[0;34m[\u001b[0m\u001b[0;36m2\u001b[0m\u001b[0;34m]\u001b[0m\u001b[0;34m,\u001b[0m \u001b[0mcorpus\u001b[0m\u001b[0;34m=\u001b[0m\u001b[0maggregate\u001b[0m\u001b[0;34m[\u001b[0m\u001b[0;36m1\u001b[0m\u001b[0;34m]\u001b[0m\u001b[0;34m[\u001b[0m\u001b[0;36m3\u001b[0m\u001b[0;34m]\u001b[0m\u001b[0;34m,\u001b[0m \u001b[0mtexts\u001b[0m\u001b[0;34m=\u001b[0m\u001b[0maggregate\u001b[0m\u001b[0;34m[\u001b[0m\u001b[0;36m1\u001b[0m\u001b[0;34m]\u001b[0m\u001b[0;34m[\u001b[0m\u001b[0;36m1\u001b[0m\u001b[0;34m]\u001b[0m\u001b[0;34m,\u001b[0m \u001b[0mstart\u001b[0m\u001b[0;34m=\u001b[0m\u001b[0;36m2\u001b[0m\u001b[0;34m,\u001b[0m \u001b[0mlimit\u001b[0m\u001b[0;34m=\u001b[0m\u001b[0;36m40\u001b[0m\u001b[0;34m,\u001b[0m \u001b[0mstep\u001b[0m\u001b[0;34m=\u001b[0m\u001b[0;36m6\u001b[0m\u001b[0;34m)\u001b[0m\u001b[0;34m\u001b[0m\u001b[0;34m\u001b[0m\u001b[0m\n\u001b[0m",
      "\u001b[0;32m<ipython-input-13-f6c10e56a163>\u001b[0m in \u001b[0;36mcompute_coherence_values\u001b[0;34m(dictionary, corpus, texts, limit, start, step)\u001b[0m\n\u001b[1;32m     21\u001b[0m         \u001b[0mmodel_list\u001b[0m\u001b[0;34m.\u001b[0m\u001b[0mappend\u001b[0m\u001b[0;34m(\u001b[0m\u001b[0mmodel\u001b[0m\u001b[0;34m)\u001b[0m\u001b[0;34m\u001b[0m\u001b[0;34m\u001b[0m\u001b[0m\n\u001b[1;32m     22\u001b[0m         \u001b[0mcoherencemodel\u001b[0m \u001b[0;34m=\u001b[0m \u001b[0mCoherenceModel\u001b[0m\u001b[0;34m(\u001b[0m\u001b[0mmodel\u001b[0m\u001b[0;34m=\u001b[0m\u001b[0mmodel\u001b[0m\u001b[0;34m,\u001b[0m \u001b[0mtexts\u001b[0m\u001b[0;34m=\u001b[0m\u001b[0mtexts\u001b[0m\u001b[0;34m,\u001b[0m \u001b[0mdictionary\u001b[0m\u001b[0;34m=\u001b[0m\u001b[0mdictionary\u001b[0m\u001b[0;34m,\u001b[0m \u001b[0mcoherence\u001b[0m\u001b[0;34m=\u001b[0m\u001b[0;34m'c_v'\u001b[0m\u001b[0;34m)\u001b[0m\u001b[0;34m\u001b[0m\u001b[0;34m\u001b[0m\u001b[0m\n\u001b[0;32m---> 23\u001b[0;31m         \u001b[0mcoherence_values\u001b[0m\u001b[0;34m.\u001b[0m\u001b[0mappend\u001b[0m\u001b[0;34m(\u001b[0m\u001b[0mcoherencemodel\u001b[0m\u001b[0;34m.\u001b[0m\u001b[0mget_coherence\u001b[0m\u001b[0;34m(\u001b[0m\u001b[0;34m)\u001b[0m\u001b[0;34m)\u001b[0m\u001b[0;34m\u001b[0m\u001b[0;34m\u001b[0m\u001b[0m\n\u001b[0m\u001b[1;32m     24\u001b[0m \u001b[0;34m\u001b[0m\u001b[0m\n\u001b[1;32m     25\u001b[0m     \u001b[0;32mreturn\u001b[0m \u001b[0mmodel_list\u001b[0m\u001b[0;34m,\u001b[0m \u001b[0mcoherence_values\u001b[0m\u001b[0;34m\u001b[0m\u001b[0;34m\u001b[0m\u001b[0m\n",
      "\u001b[0;32m/opt/anaconda/lib/python3.7/site-packages/gensim/models/coherencemodel.py\u001b[0m in \u001b[0;36mget_coherence\u001b[0;34m(self)\u001b[0m\n\u001b[1;32m    607\u001b[0m \u001b[0;34m\u001b[0m\u001b[0m\n\u001b[1;32m    608\u001b[0m         \"\"\"\n\u001b[0;32m--> 609\u001b[0;31m         \u001b[0mconfirmed_measures\u001b[0m \u001b[0;34m=\u001b[0m \u001b[0mself\u001b[0m\u001b[0;34m.\u001b[0m\u001b[0mget_coherence_per_topic\u001b[0m\u001b[0;34m(\u001b[0m\u001b[0;34m)\u001b[0m\u001b[0;34m\u001b[0m\u001b[0;34m\u001b[0m\u001b[0m\n\u001b[0m\u001b[1;32m    610\u001b[0m         \u001b[0;32mreturn\u001b[0m \u001b[0mself\u001b[0m\u001b[0;34m.\u001b[0m\u001b[0maggregate_measures\u001b[0m\u001b[0;34m(\u001b[0m\u001b[0mconfirmed_measures\u001b[0m\u001b[0;34m)\u001b[0m\u001b[0;34m\u001b[0m\u001b[0;34m\u001b[0m\u001b[0m\n\u001b[1;32m    611\u001b[0m \u001b[0;34m\u001b[0m\u001b[0m\n",
      "\u001b[0;32m/opt/anaconda/lib/python3.7/site-packages/gensim/models/coherencemodel.py\u001b[0m in \u001b[0;36mget_coherence_per_topic\u001b[0;34m(self, segmented_topics, with_std, with_support)\u001b[0m\n\u001b[1;32m    567\u001b[0m             \u001b[0msegmented_topics\u001b[0m \u001b[0;34m=\u001b[0m \u001b[0mmeasure\u001b[0m\u001b[0;34m.\u001b[0m\u001b[0mseg\u001b[0m\u001b[0;34m(\u001b[0m\u001b[0mself\u001b[0m\u001b[0;34m.\u001b[0m\u001b[0mtopics\u001b[0m\u001b[0;34m)\u001b[0m\u001b[0;34m\u001b[0m\u001b[0;34m\u001b[0m\u001b[0m\n\u001b[1;32m    568\u001b[0m         \u001b[0;32mif\u001b[0m \u001b[0mself\u001b[0m\u001b[0;34m.\u001b[0m\u001b[0m_accumulator\u001b[0m \u001b[0;32mis\u001b[0m \u001b[0;32mNone\u001b[0m\u001b[0;34m:\u001b[0m\u001b[0;34m\u001b[0m\u001b[0;34m\u001b[0m\u001b[0m\n\u001b[0;32m--> 569\u001b[0;31m             \u001b[0mself\u001b[0m\u001b[0;34m.\u001b[0m\u001b[0mestimate_probabilities\u001b[0m\u001b[0;34m(\u001b[0m\u001b[0msegmented_topics\u001b[0m\u001b[0;34m)\u001b[0m\u001b[0;34m\u001b[0m\u001b[0;34m\u001b[0m\u001b[0m\n\u001b[0m\u001b[1;32m    570\u001b[0m \u001b[0;34m\u001b[0m\u001b[0m\n\u001b[1;32m    571\u001b[0m         \u001b[0mkwargs\u001b[0m \u001b[0;34m=\u001b[0m \u001b[0mdict\u001b[0m\u001b[0;34m(\u001b[0m\u001b[0mwith_std\u001b[0m\u001b[0;34m=\u001b[0m\u001b[0mwith_std\u001b[0m\u001b[0;34m,\u001b[0m \u001b[0mwith_support\u001b[0m\u001b[0;34m=\u001b[0m\u001b[0mwith_support\u001b[0m\u001b[0;34m)\u001b[0m\u001b[0;34m\u001b[0m\u001b[0;34m\u001b[0m\u001b[0m\n",
      "\u001b[0;32m/opt/anaconda/lib/python3.7/site-packages/gensim/models/coherencemodel.py\u001b[0m in \u001b[0;36mestimate_probabilities\u001b[0;34m(self, segmented_topics)\u001b[0m\n\u001b[1;32m    539\u001b[0m                 \u001b[0mkwargs\u001b[0m\u001b[0;34m[\u001b[0m\u001b[0;34m'model'\u001b[0m\u001b[0;34m]\u001b[0m \u001b[0;34m=\u001b[0m \u001b[0mself\u001b[0m\u001b[0;34m.\u001b[0m\u001b[0mkeyed_vectors\u001b[0m\u001b[0;34m\u001b[0m\u001b[0;34m\u001b[0m\u001b[0m\n\u001b[1;32m    540\u001b[0m \u001b[0;34m\u001b[0m\u001b[0m\n\u001b[0;32m--> 541\u001b[0;31m             \u001b[0mself\u001b[0m\u001b[0;34m.\u001b[0m\u001b[0m_accumulator\u001b[0m \u001b[0;34m=\u001b[0m \u001b[0mself\u001b[0m\u001b[0;34m.\u001b[0m\u001b[0mmeasure\u001b[0m\u001b[0;34m.\u001b[0m\u001b[0mprob\u001b[0m\u001b[0;34m(\u001b[0m\u001b[0;34m**\u001b[0m\u001b[0mkwargs\u001b[0m\u001b[0;34m)\u001b[0m\u001b[0;34m\u001b[0m\u001b[0;34m\u001b[0m\u001b[0m\n\u001b[0m\u001b[1;32m    542\u001b[0m \u001b[0;34m\u001b[0m\u001b[0m\n\u001b[1;32m    543\u001b[0m         \u001b[0;32mreturn\u001b[0m \u001b[0mself\u001b[0m\u001b[0;34m.\u001b[0m\u001b[0m_accumulator\u001b[0m\u001b[0;34m\u001b[0m\u001b[0;34m\u001b[0m\u001b[0m\n",
      "\u001b[0;32m/opt/anaconda/lib/python3.7/site-packages/gensim/topic_coherence/probability_estimation.py\u001b[0m in \u001b[0;36mp_boolean_sliding_window\u001b[0;34m(texts, segmented_topics, dictionary, window_size, processes)\u001b[0m\n\u001b[1;32m    152\u001b[0m         \u001b[0maccumulator\u001b[0m \u001b[0;34m=\u001b[0m \u001b[0mWordOccurrenceAccumulator\u001b[0m\u001b[0;34m(\u001b[0m\u001b[0mtop_ids\u001b[0m\u001b[0;34m,\u001b[0m \u001b[0mdictionary\u001b[0m\u001b[0;34m)\u001b[0m\u001b[0;34m\u001b[0m\u001b[0;34m\u001b[0m\u001b[0m\n\u001b[1;32m    153\u001b[0m     \u001b[0;32melse\u001b[0m\u001b[0;34m:\u001b[0m\u001b[0;34m\u001b[0m\u001b[0;34m\u001b[0m\u001b[0m\n\u001b[0;32m--> 154\u001b[0;31m         \u001b[0maccumulator\u001b[0m \u001b[0;34m=\u001b[0m \u001b[0mParallelWordOccurrenceAccumulator\u001b[0m\u001b[0;34m(\u001b[0m\u001b[0mprocesses\u001b[0m\u001b[0;34m,\u001b[0m \u001b[0mtop_ids\u001b[0m\u001b[0;34m,\u001b[0m \u001b[0mdictionary\u001b[0m\u001b[0;34m)\u001b[0m\u001b[0;34m\u001b[0m\u001b[0;34m\u001b[0m\u001b[0m\n\u001b[0m\u001b[1;32m    155\u001b[0m     \u001b[0mlogger\u001b[0m\u001b[0;34m.\u001b[0m\u001b[0minfo\u001b[0m\u001b[0;34m(\u001b[0m\u001b[0;34m\"using %s to estimate probabilities from sliding windows\"\u001b[0m\u001b[0;34m,\u001b[0m \u001b[0maccumulator\u001b[0m\u001b[0;34m)\u001b[0m\u001b[0;34m\u001b[0m\u001b[0;34m\u001b[0m\u001b[0m\n\u001b[1;32m    156\u001b[0m     \u001b[0;32mreturn\u001b[0m \u001b[0maccumulator\u001b[0m\u001b[0;34m.\u001b[0m\u001b[0maccumulate\u001b[0m\u001b[0;34m(\u001b[0m\u001b[0mtexts\u001b[0m\u001b[0;34m,\u001b[0m \u001b[0mwindow_size\u001b[0m\u001b[0;34m)\u001b[0m\u001b[0;34m\u001b[0m\u001b[0;34m\u001b[0m\u001b[0m\n",
      "\u001b[0;32m/opt/anaconda/lib/python3.7/site-packages/gensim/topic_coherence/text_analysis.py\u001b[0m in \u001b[0;36m__init__\u001b[0;34m(self, processes, *args, **kwargs)\u001b[0m\n\u001b[1;32m    430\u001b[0m \u001b[0;34m\u001b[0m\u001b[0m\n\u001b[1;32m    431\u001b[0m     \u001b[0;32mdef\u001b[0m \u001b[0m__init__\u001b[0m\u001b[0;34m(\u001b[0m\u001b[0mself\u001b[0m\u001b[0;34m,\u001b[0m \u001b[0mprocesses\u001b[0m\u001b[0;34m,\u001b[0m \u001b[0;34m*\u001b[0m\u001b[0margs\u001b[0m\u001b[0;34m,\u001b[0m \u001b[0;34m**\u001b[0m\u001b[0mkwargs\u001b[0m\u001b[0;34m)\u001b[0m\u001b[0;34m:\u001b[0m\u001b[0;34m\u001b[0m\u001b[0;34m\u001b[0m\u001b[0m\n\u001b[0;32m--> 432\u001b[0;31m         \u001b[0msuper\u001b[0m\u001b[0;34m(\u001b[0m\u001b[0mParallelWordOccurrenceAccumulator\u001b[0m\u001b[0;34m,\u001b[0m \u001b[0mself\u001b[0m\u001b[0;34m)\u001b[0m\u001b[0;34m.\u001b[0m\u001b[0m__init__\u001b[0m\u001b[0;34m(\u001b[0m\u001b[0;34m*\u001b[0m\u001b[0margs\u001b[0m\u001b[0;34m)\u001b[0m\u001b[0;34m\u001b[0m\u001b[0;34m\u001b[0m\u001b[0m\n\u001b[0m\u001b[1;32m    433\u001b[0m         \u001b[0;32mif\u001b[0m \u001b[0mprocesses\u001b[0m \u001b[0;34m<\u001b[0m \u001b[0;36m2\u001b[0m\u001b[0;34m:\u001b[0m\u001b[0;34m\u001b[0m\u001b[0;34m\u001b[0m\u001b[0m\n\u001b[1;32m    434\u001b[0m             raise ValueError(\n",
      "\u001b[0;32m/opt/anaconda/lib/python3.7/site-packages/gensim/topic_coherence/text_analysis.py\u001b[0m in \u001b[0;36m__init__\u001b[0;34m(self, relevant_ids, dictionary)\u001b[0m\n\u001b[1;32m    286\u001b[0m \u001b[0;34m\u001b[0m\u001b[0m\n\u001b[1;32m    287\u001b[0m         \"\"\"\n\u001b[0;32m--> 288\u001b[0;31m         \u001b[0msuper\u001b[0m\u001b[0;34m(\u001b[0m\u001b[0mWindowedTextsAnalyzer\u001b[0m\u001b[0;34m,\u001b[0m \u001b[0mself\u001b[0m\u001b[0;34m)\u001b[0m\u001b[0;34m.\u001b[0m\u001b[0m__init__\u001b[0m\u001b[0;34m(\u001b[0m\u001b[0mrelevant_ids\u001b[0m\u001b[0;34m,\u001b[0m \u001b[0mdictionary\u001b[0m\u001b[0;34m)\u001b[0m\u001b[0;34m\u001b[0m\u001b[0;34m\u001b[0m\u001b[0m\n\u001b[0m\u001b[1;32m    289\u001b[0m         \u001b[0mself\u001b[0m\u001b[0;34m.\u001b[0m\u001b[0m_none_token\u001b[0m \u001b[0;34m=\u001b[0m \u001b[0mself\u001b[0m\u001b[0;34m.\u001b[0m\u001b[0m_vocab_size\u001b[0m  \u001b[0;31m# see _iter_texts for use of none token\u001b[0m\u001b[0;34m\u001b[0m\u001b[0;34m\u001b[0m\u001b[0m\n\u001b[1;32m    290\u001b[0m \u001b[0;34m\u001b[0m\u001b[0m\n",
      "\u001b[0;32m/opt/anaconda/lib/python3.7/site-packages/gensim/topic_coherence/text_analysis.py\u001b[0m in \u001b[0;36m__init__\u001b[0;34m(self, relevant_ids, dictionary)\u001b[0m\n\u001b[1;32m    189\u001b[0m         \"\"\"\n\u001b[1;32m    190\u001b[0m         \u001b[0msuper\u001b[0m\u001b[0;34m(\u001b[0m\u001b[0mUsesDictionary\u001b[0m\u001b[0;34m,\u001b[0m \u001b[0mself\u001b[0m\u001b[0;34m)\u001b[0m\u001b[0;34m.\u001b[0m\u001b[0m__init__\u001b[0m\u001b[0;34m(\u001b[0m\u001b[0mrelevant_ids\u001b[0m\u001b[0;34m)\u001b[0m\u001b[0;34m\u001b[0m\u001b[0;34m\u001b[0m\u001b[0m\n\u001b[0;32m--> 191\u001b[0;31m         \u001b[0mself\u001b[0m\u001b[0;34m.\u001b[0m\u001b[0mrelevant_words\u001b[0m \u001b[0;34m=\u001b[0m \u001b[0m_ids_to_words\u001b[0m\u001b[0;34m(\u001b[0m\u001b[0mself\u001b[0m\u001b[0;34m.\u001b[0m\u001b[0mrelevant_ids\u001b[0m\u001b[0;34m,\u001b[0m \u001b[0mdictionary\u001b[0m\u001b[0;34m)\u001b[0m\u001b[0;34m\u001b[0m\u001b[0;34m\u001b[0m\u001b[0m\n\u001b[0m\u001b[1;32m    192\u001b[0m         \u001b[0mself\u001b[0m\u001b[0;34m.\u001b[0m\u001b[0mdictionary\u001b[0m \u001b[0;34m=\u001b[0m \u001b[0mdictionary\u001b[0m\u001b[0;34m\u001b[0m\u001b[0;34m\u001b[0m\u001b[0m\n\u001b[1;32m    193\u001b[0m         \u001b[0mself\u001b[0m\u001b[0;34m.\u001b[0m\u001b[0mtoken2id\u001b[0m \u001b[0;34m=\u001b[0m \u001b[0mdictionary\u001b[0m\u001b[0;34m.\u001b[0m\u001b[0mtoken2id\u001b[0m\u001b[0;34m\u001b[0m\u001b[0;34m\u001b[0m\u001b[0m\n",
      "\u001b[0;32m/opt/anaconda/lib/python3.7/site-packages/gensim/topic_coherence/text_analysis.py\u001b[0m in \u001b[0;36m_ids_to_words\u001b[0;34m(ids, dictionary)\u001b[0m\n\u001b[1;32m     60\u001b[0m     \u001b[0mtop_words\u001b[0m \u001b[0;34m=\u001b[0m \u001b[0mset\u001b[0m\u001b[0;34m(\u001b[0m\u001b[0;34m)\u001b[0m\u001b[0;34m\u001b[0m\u001b[0;34m\u001b[0m\u001b[0m\n\u001b[1;32m     61\u001b[0m     \u001b[0;32mfor\u001b[0m \u001b[0mword_id\u001b[0m \u001b[0;32min\u001b[0m \u001b[0mids\u001b[0m\u001b[0;34m:\u001b[0m\u001b[0;34m\u001b[0m\u001b[0;34m\u001b[0m\u001b[0m\n\u001b[0;32m---> 62\u001b[0;31m         \u001b[0mword\u001b[0m \u001b[0;34m=\u001b[0m \u001b[0mdictionary\u001b[0m\u001b[0;34m.\u001b[0m\u001b[0mid2token\u001b[0m\u001b[0;34m[\u001b[0m\u001b[0mword_id\u001b[0m\u001b[0;34m]\u001b[0m\u001b[0;34m\u001b[0m\u001b[0;34m\u001b[0m\u001b[0m\n\u001b[0m\u001b[1;32m     63\u001b[0m         \u001b[0;32mif\u001b[0m \u001b[0misinstance\u001b[0m\u001b[0;34m(\u001b[0m\u001b[0mword\u001b[0m\u001b[0;34m,\u001b[0m \u001b[0mset\u001b[0m\u001b[0;34m)\u001b[0m\u001b[0;34m:\u001b[0m\u001b[0;34m\u001b[0m\u001b[0;34m\u001b[0m\u001b[0m\n\u001b[1;32m     64\u001b[0m             \u001b[0mtop_words\u001b[0m \u001b[0;34m=\u001b[0m \u001b[0mtop_words\u001b[0m\u001b[0;34m.\u001b[0m\u001b[0munion\u001b[0m\u001b[0;34m(\u001b[0m\u001b[0mword\u001b[0m\u001b[0;34m)\u001b[0m\u001b[0;34m\u001b[0m\u001b[0;34m\u001b[0m\u001b[0m\n",
      "\u001b[0;31mKeyError\u001b[0m: 415"
     ]
    }
   ],
   "source": [
    "model_list, coherence_values = compute_coherence_values(dictionary=aggregate[1][2], corpus=aggregate[1][3], texts=aggregate[1][1], start=2, limit=40, step=6)\n"
   ]
  },
  {
   "cell_type": "code",
   "execution_count": null,
   "metadata": {},
   "outputs": [],
   "source": [
    "limit=40; start=2; step=6;\n",
    "x = range(start, limit, step)\n",
    "plt.plot(x, coherence_values)\n",
    "plt.xlabel(\"Num Topics\")\n",
    "plt.ylabel(\"Coherence score\")\n",
    "plt.legend((\"coherence_values\"), loc='best')\n",
    "plt.show()"
   ]
  },
  {
   "cell_type": "markdown",
   "metadata": {},
   "source": [
    "# Tópicos levando em conta os Adjetivos e Substantivos\n"
   ]
  },
  {
   "cell_type": "code",
   "execution_count": 27,
   "metadata": {},
   "outputs": [
    {
     "name": "stdout",
     "output_type": "stream",
     "text": [
      "[(0,\n",
      "  '0.070*\"shamir\" + 0.057*\"architectural\" + 0.040*\"classification\" + '\n",
      "  '0.037*\"interest\" + 0.036*\"region\" + 0.034*\"similarity\" + 0.031*\"phylogeny\" '\n",
      "  '+ 0.016*\"proceeding\" + 0.016*\"macura\" + 0.013*\"result\"'),\n",
      " (1,\n",
      "  '0.077*\"style\" + 0.060*\"building\" + 0.034*\"perception\" + 0.031*\"automatic\" + '\n",
      "  '0.029*\"british\" + 0.027*\"colony\" + 0.023*\"system\" + 0.021*\"transaction\" + '\n",
      "  '0.017*\"recognition\" + 0.013*\"berlin\"'),\n",
      " (2,\n",
      "  '0.070*\"analysis\" + 0.065*\"computer\" + 0.056*\"city\" + 0.036*\"machine\" + '\n",
      "  '0.031*\"urban\" + 0.029*\"research\" + 0.026*\"planning\" + 0.020*\"datum\" + '\n",
      "  '0.019*\"orlov\" + 0.017*\"comparison\"'),\n",
      " (3,\n",
      "  '0.142*\"image\" + 0.101*\"architecture\" + 0.044*\"journal\" + 0.030*\"pollock\" + '\n",
      "  '0.027*\"heritage\" + 0.024*\"location\" + 0.023*\"aesthetic\" + 0.016*\"former\" + '\n",
      "  '0.014*\"home\" + 0.012*\"phylip\"'),\n",
      " (4,\n",
      "  '0.033*\"art\" + 0.027*\"cultural\" + 0.027*\"international\" + '\n",
      "  '0.027*\"information\" + 0.026*\"method\" + 0.024*\"different\" + 0.023*\"figure\" + '\n",
      "  '0.022*\"conference\" + 0.018*\"technology\" + 0.016*\"close\"')]\n"
     ]
    }
   ],
   "source": [
    "pprint(aggregate[2][4].print_topics())\n",
    "doc_lda = aggregate[2][4][aggregate[2][3]]"
   ]
  },
  {
   "cell_type": "code",
   "execution_count": 28,
   "metadata": {},
   "outputs": [
    {
     "name": "stdout",
     "output_type": "stream",
     "text": [
      "\n",
      "Perplexity:  -6.939470235548494\n",
      "\n",
      "Coherence Score:  0.8381212277423135\n"
     ]
    }
   ],
   "source": [
    "print('\\nPerplexity: ', aggregate[2][4].log_perplexity(aggregate[2][3]))  # a measure of how good the model is. lower the better.\n",
    "\n",
    "# Compute Coherence Score\n",
    "coherence_model_lda = CoherenceModel(model=aggregate[2][4], texts=aggregate[2][1], dictionary=aggregate[2][2], coherence='c_v')\n",
    "coherence_lda = coherence_model_lda.get_coherence()\n",
    "print('\\nCoherence Score: ', coherence_lda)"
   ]
  },
  {
   "cell_type": "code",
   "execution_count": 29,
   "metadata": {},
   "outputs": [
    {
     "data": {
      "text/html": [
       "\n",
       "<link rel=\"stylesheet\" type=\"text/css\" href=\"https://cdn.rawgit.com/bmabey/pyLDAvis/files/ldavis.v1.0.0.css\">\n",
       "\n",
       "\n",
       "<div id=\"ldavis_el231631399287238057923396612832\"></div>\n",
       "<script type=\"text/javascript\">\n",
       "\n",
       "var ldavis_el231631399287238057923396612832_data = {\"mdsDat\": {\"x\": [0.15621150538793838, -0.26962156058678555, 0.024568593446614363, 0.05604056595903109, 0.03280089579320158], \"y\": [0.2109576694101124, 0.07055877937378494, -0.04172545137595319, -0.21684265303718142, -0.022948344370762336], \"topics\": [1, 2, 3, 4, 5], \"cluster\": [1, 1, 1, 1, 1], \"Freq\": [23.44906234741211, 22.164077758789062, 19.60520362854004, 17.54593849182129, 17.235713958740234]}, \"tinfo\": {\"Category\": [\"Default\", \"Default\", \"Default\", \"Default\", \"Default\", \"Default\", \"Default\", \"Default\", \"Default\", \"Default\", \"Default\", \"Default\", \"Default\", \"Default\", \"Default\", \"Default\", \"Default\", \"Default\", \"Default\", \"Default\", \"Default\", \"Default\", \"Default\", \"Default\", \"Default\", \"Default\", \"Default\", \"Default\", \"Default\", \"Default\", \"Topic1\", \"Topic1\", \"Topic1\", \"Topic1\", \"Topic1\", \"Topic1\", \"Topic1\", \"Topic1\", \"Topic1\", \"Topic1\", \"Topic1\", \"Topic1\", \"Topic1\", \"Topic1\", \"Topic1\", \"Topic1\", \"Topic1\", \"Topic1\", \"Topic1\", \"Topic1\", \"Topic1\", \"Topic1\", \"Topic1\", \"Topic1\", \"Topic1\", \"Topic1\", \"Topic1\", \"Topic1\", \"Topic1\", \"Topic1\", \"Topic1\", \"Topic2\", \"Topic2\", \"Topic2\", \"Topic2\", \"Topic2\", \"Topic2\", \"Topic2\", \"Topic2\", \"Topic2\", \"Topic2\", \"Topic2\", \"Topic2\", \"Topic2\", \"Topic2\", \"Topic2\", \"Topic2\", \"Topic2\", \"Topic2\", \"Topic2\", \"Topic2\", \"Topic2\", \"Topic2\", \"Topic2\", \"Topic2\", \"Topic2\", \"Topic2\", \"Topic2\", \"Topic2\", \"Topic2\", \"Topic2\", \"Topic2\", \"Topic3\", \"Topic3\", \"Topic3\", \"Topic3\", \"Topic3\", \"Topic3\", \"Topic3\", \"Topic3\", \"Topic3\", \"Topic3\", \"Topic3\", \"Topic3\", \"Topic3\", \"Topic3\", \"Topic3\", \"Topic3\", \"Topic3\", \"Topic3\", \"Topic3\", \"Topic3\", \"Topic3\", \"Topic3\", \"Topic3\", \"Topic3\", \"Topic3\", \"Topic3\", \"Topic3\", \"Topic3\", \"Topic3\", \"Topic3\", \"Topic3\", \"Topic3\", \"Topic3\", \"Topic3\", \"Topic4\", \"Topic4\", \"Topic4\", \"Topic4\", \"Topic4\", \"Topic4\", \"Topic4\", \"Topic4\", \"Topic4\", \"Topic4\", \"Topic4\", \"Topic4\", \"Topic4\", \"Topic4\", \"Topic4\", \"Topic4\", \"Topic4\", \"Topic4\", \"Topic4\", \"Topic4\", \"Topic4\", \"Topic4\", \"Topic4\", \"Topic4\", \"Topic4\", \"Topic4\", \"Topic4\", \"Topic4\", \"Topic4\", \"Topic4\", \"Topic5\", \"Topic5\", \"Topic5\", \"Topic5\", \"Topic5\", \"Topic5\", \"Topic5\", \"Topic5\", \"Topic5\", \"Topic5\", \"Topic5\", \"Topic5\", \"Topic5\", \"Topic5\", \"Topic5\", \"Topic5\", \"Topic5\", \"Topic5\", \"Topic5\", \"Topic5\", \"Topic5\", \"Topic5\", \"Topic5\", \"Topic5\", \"Topic5\", \"Topic5\", \"Topic5\", \"Topic5\", \"Topic5\", \"Topic5\", \"Topic5\", \"Topic5\"], \"Freq\": [56.0, 40.0, 34.0, 35.0, 27.0, 25.0, 27.0, 28.0, 22.0, 17.0, 20.0, 18.0, 18.0, 17.0, 18.0, 14.0, 15.0, 15.0, 13.0, 12.0, 12.0, 13.0, 11.0, 14.0, 14.0, 14.0, 12.0, 14.0, 11.0, 10.0, 17.435653686523438, 14.247918128967285, 14.197004318237305, 14.069814682006836, 13.57372760772705, 12.746333122253418, 12.025171279907227, 11.293177604675293, 9.548981666564941, 8.482168197631836, 8.388498306274414, 8.020339012145996, 7.745092391967773, 7.962901592254639, 7.524885654449463, 7.238584518432617, 7.239040374755859, 6.989861488342285, 6.082151889801025, 5.873548984527588, 5.3773512840271, 5.492299556732178, 5.492299556732178, 5.308549880981445, 5.027983665466309, 4.573888778686523, 4.342190265655518, 4.134960651397705, 3.9669668674468994, 4.411128520965576, 4.01223611831665, 34.85702133178711, 28.258235931396484, 19.601276397705078, 18.140262603759766, 18.055124282836914, 16.712909698486328, 15.243793487548828, 7.807427406311035, 7.732470989227295, 6.597991943359375, 6.566750526428223, 6.33184289932251, 5.779239177703857, 5.514236927032471, 5.580491065979004, 5.152982711791992, 4.776310443878174, 5.020971775054932, 4.279349327087402, 4.290596008300781, 4.2905964851379395, 4.214728355407715, 4.0649542808532715, 3.9560468196868896, 4.486151695251465, 3.949329137802124, 3.8335959911346436, 3.4713990688323975, 3.2989120483398438, 3.0261542797088623, 3.8600564002990723, 33.59423065185547, 26.41602325439453, 15.038424491882324, 13.365437507629395, 12.528698921203613, 11.918123245239258, 10.179051399230957, 9.270610809326172, 7.329069137573242, 5.561005592346191, 5.502153396606445, 4.754910469055176, 4.495868682861328, 4.438374042510986, 4.583415508270264, 4.583412170410156, 4.377127647399902, 4.2667236328125, 4.282296180725098, 4.032751083374023, 3.9679601192474365, 3.9148852825164795, 4.114684581756592, 3.5403072834014893, 3.6785483360290527, 3.678548812866211, 3.0330018997192383, 2.9093289375305176, 2.9093289375305176, 2.9093291759490967, 3.8024022579193115, 3.8023390769958496, 2.9093291759490967, 2.9093291759490967, 55.46883773803711, 39.61793899536133, 17.111370086669922, 11.692944526672363, 10.499944686889648, 9.568934440612793, 9.111467361450195, 6.132354736328125, 5.450254440307617, 4.688022136688232, 4.491946697235107, 4.178483486175537, 4.058675289154053, 3.9432144165039062, 3.449749231338501, 3.410914897918701, 3.1597814559936523, 3.2813591957092285, 3.2813379764556885, 2.9698259830474854, 3.6633832454681396, 3.6633636951446533, 3.663363218307495, 3.663360834121704, 3.663358449935913, 3.663353681564331, 3.6633403301239014, 3.6633217334747314, 2.7899906635284424, 2.789990186691284, 26.894824981689453, 24.935033798217773, 21.687952041625977, 13.700028419494629, 11.916532516479492, 11.146337509155273, 10.165600776672363, 7.52440881729126, 7.180224895477295, 6.449164390563965, 5.822855472564697, 5.832829475402832, 5.2796478271484375, 4.743476390838623, 4.659409523010254, 4.379267692565918, 4.324853897094727, 4.165485382080078, 3.9168541431427, 3.8513689041137695, 3.805161476135254, 3.827306032180786, 3.827305316925049, 3.351304531097412, 3.0507900714874268, 3.5882041454315186, 3.5881919860839844, 3.588186264038086, 3.588165044784546, 3.588162899017334, 3.588151693344116, 3.5881500244140625], \"Term\": [\"image\", \"architecture\", \"style\", \"shamir\", \"analysis\", \"computer\", \"building\", \"architectural\", \"city\", \"journal\", \"classification\", \"interest\", \"region\", \"similarity\", \"art\", \"machine\", \"perception\", \"phylogeny\", \"automatic\", \"urban\", \"pollock\", \"british\", \"research\", \"cultural\", \"international\", \"information\", \"colony\", \"method\", \"heritage\", \"planning\", \"art\", \"cultural\", \"international\", \"information\", \"method\", \"different\", \"figure\", \"conference\", \"technology\", \"close\", \"link\", \"compute\", \"science\", \"irfanview\", \"social\", \"vision\", \"press\", \"source\", \"psychology\", \"culture\", \"show\", \"artistic\", \"reference\", \"wndchrm\", \"open\", \"class\", \"code\", \"approach\", \"window\", \"application\", \"introduction\", \"shamir\", \"architectural\", \"classification\", \"interest\", \"region\", \"similarity\", \"phylogeny\", \"proceeding\", \"macura\", \"result\", \"human\", \"islamic\", \"pattern\", \"european\", \"van\", \"purpose\", \"high\", \"detection\", \"school\", \"gogh\", \"animal\", \"zhang\", \"similar\", \"technique\", \"software\", \"form\", \"feature\", \"october\", \"large\", \"set\", \"photograph\", \"style\", \"building\", \"perception\", \"automatic\", \"british\", \"colony\", \"system\", \"transaction\", \"recognition\", \"berlin\", \"architect\", \"visual\", \"streetview\", \"asian\", \"engineering\", \"springer\", \"distance\", \"quantitative\", \"abstract\", \"package\", \"spanish\", \"tile\", \"scale\", \"better\", \"inference\", \"version\", \"colonial\", \"johannesburg\", \"frankfurt\", \"hamburg\", \"play\", \"june\", \"aire\", \"bueno\", \"image\", \"architecture\", \"journal\", \"pollock\", \"heritage\", \"location\", \"aesthetic\", \"former\", \"home\", \"phylip\", \"dataset\", \"felsenstein\", \"child\", \"deep\", \"node\", \"lane\", \"residential\", \"naik\", \"hidalgo\", \"german\", \"xiao\", \"yuriko\", \"doller\", \"koch\", \"prediction\", \"url\", \"leonardo\", \"nissel\", \"wellington\", \"mexico\", \"analysis\", \"computer\", \"city\", \"machine\", \"urban\", \"research\", \"planning\", \"datum\", \"orlov\", \"comparison\", \"history\", \"environment\", \"study\", \"conclusion\", \"ieee\", \"east\", \"merchan\", \"network\", \"present\", \"analyze\", \"accuracy\", \"age\", \"zeppelzauer\", \"tool\", \"new\", \"blocklet\", \"hierarchical\", \"sparse\", \"winner\", \"despotovic\", \"identity\", \"retrieval\"], \"Total\": [56.0, 40.0, 34.0, 35.0, 27.0, 25.0, 27.0, 28.0, 22.0, 17.0, 20.0, 18.0, 18.0, 17.0, 18.0, 14.0, 15.0, 15.0, 13.0, 12.0, 12.0, 13.0, 11.0, 14.0, 14.0, 14.0, 12.0, 14.0, 11.0, 10.0, 18.06060218811035, 14.872576713562012, 14.824895858764648, 14.694011688232422, 14.199483871459961, 13.370221138000488, 12.649173736572266, 11.922025680541992, 10.17645263671875, 9.106471061706543, 9.012727737426758, 8.646941184997559, 8.373298645019531, 8.621685028076172, 8.149690628051758, 7.864202976226807, 7.887272357940674, 7.618820667266846, 6.717092514038086, 6.4991254806518555, 6.00136137008667, 6.1297454833984375, 6.129746437072754, 5.933071136474609, 5.666399002075195, 5.198620319366455, 4.972339630126953, 4.780416488647461, 4.5936126708984375, 5.129375457763672, 4.689404010772705, 35.47920227050781, 28.87969207763672, 20.223241806030273, 18.761781692504883, 18.67667007446289, 17.334331512451172, 15.8657808303833, 8.437252044677734, 8.374895095825195, 7.2202935218811035, 7.200814723968506, 6.955854415893555, 6.4009833335876465, 6.136544227600098, 6.216109752655029, 5.774895668029785, 5.397793292999268, 5.681436538696289, 4.902658939361572, 4.925914287567139, 4.925914764404297, 4.857334613800049, 4.686844825744629, 4.583168983459473, 5.19919490814209, 4.582370758056641, 4.45486307144165, 4.120075225830078, 3.9223527908325195, 3.64729380607605, 4.666194915771484, 34.21809768676758, 27.039810180664062, 15.664243698120117, 13.989652633666992, 13.153214454650879, 12.542659759521484, 10.803228378295898, 9.946557998657227, 7.954524040222168, 6.185235977172852, 6.189764976501465, 5.378828525543213, 5.119311809539795, 5.063817501068115, 5.235474109649658, 5.235474109649658, 5.001914024353027, 4.891904830932617, 4.917190074920654, 4.6607279777526855, 4.593525409698486, 4.539299488067627, 4.7715744972229, 4.167957305908203, 4.380313873291016, 4.380314350128174, 3.6626532077789307, 3.5332536697387695, 3.5332536697387695, 3.5332541465759277, 4.618228435516357, 4.618225574493408, 3.5332541465759277, 3.5332541465759277, 56.099037170410156, 40.248374938964844, 17.74502944946289, 12.337098121643066, 11.133977890014648, 10.19906997680664, 9.74622631072998, 6.764519214630127, 6.082766056060791, 5.319590091705322, 5.122371196746826, 4.8105950355529785, 4.702693939208984, 4.60964822769165, 4.099688529968262, 4.059808254241943, 3.79303240776062, 3.9415123462677, 3.941511631011963, 3.6030547618865967, 4.473105430603027, 4.473104953765869, 4.473105430603027, 4.4731059074401855, 4.473104953765869, 4.473105430603027, 4.473104476928711, 4.473105430603027, 3.4204790592193604, 3.420478582382202, 27.52815055847168, 25.56819725036621, 22.320831298828125, 14.3345308303833, 12.551627159118652, 11.787620544433594, 10.801512718200684, 8.15785026550293, 7.837200164794922, 7.086828708648682, 6.457460880279541, 6.468639850616455, 5.915046691894531, 5.3845319747924805, 5.3371663093566895, 5.020663261413574, 4.982208251953125, 4.799501419067383, 4.551612854003906, 4.484642505645752, 4.438260078430176, 4.502527236938477, 4.502527236938477, 4.001796245574951, 3.684220790863037, 4.410348415374756, 4.410348415374756, 4.410348415374756, 4.410349369049072, 4.410348892211914, 4.410348892211914, 4.410349369049072], \"loglift\": [30.0, 29.0, 28.0, 27.0, 26.0, 25.0, 24.0, 23.0, 22.0, 21.0, 20.0, 19.0, 18.0, 17.0, 16.0, 15.0, 14.0, 13.0, 12.0, 11.0, 10.0, 9.0, 8.0, 7.0, 6.0, 5.0, 4.0, 3.0, 2.0, 1.0, 1.4150999784469604, 1.4074000120162964, 1.407099962234497, 1.4069000482559204, 1.4053000211715698, 1.4026000499725342, 1.3997000455856323, 1.3961999416351318, 1.3867000341415405, 1.3792999982833862, 1.378600001335144, 1.375100016593933, 1.3724000453948975, 1.37090003490448, 1.3705999851226807, 1.367400050163269, 1.3645999431610107, 1.3641999959945679, 1.3509999513626099, 1.3490999937057495, 1.340499997138977, 1.340499997138977, 1.340499997138977, 1.3391000032424927, 1.3308000564575195, 1.3222999572753906, 1.3148000240325928, 1.305299997329712, 1.3036999702453613, 1.2994999885559082, 1.2943999767303467, 1.4889999628067017, 1.4848999977111816, 1.4754999876022339, 1.4730000495910645, 1.4729000329971313, 1.4701999425888062, 1.4666999578475952, 1.4291000366210938, 1.426900029182434, 1.416599988937378, 1.4144999980926514, 1.4127000570297241, 1.4045000076293945, 1.3997999429702759, 1.398800015449524, 1.392799973487854, 1.3844000101089478, 1.3831000328063965, 1.3707000017166138, 1.3686000108718872, 1.3686000108718872, 1.364799976348877, 1.364300012588501, 1.3595999479293823, 1.3592000007629395, 1.3580000400543213, 1.3565000295639038, 1.3353999853134155, 1.3336000442504883, 1.3200000524520874, 1.3170000314712524, 1.6109999418258667, 1.6059999465942383, 1.5886000394821167, 1.5836999416351318, 1.5807000398635864, 1.5782999992370605, 1.5699000358581543, 1.559000015258789, 1.5475000143051147, 1.5230000019073486, 1.5116000175476074, 1.506100058555603, 1.499500036239624, 1.497499942779541, 1.496399998664856, 1.496399998664856, 1.49590003490448, 1.4925999641418457, 1.4910999536514282, 1.4846999645233154, 1.4830000400543213, 1.4814000129699707, 1.4812999963760376, 1.4661999940872192, 1.454800009727478, 1.454800009727478, 1.4407000541687012, 1.4350999593734741, 1.4350999593734741, 1.4350999593734741, 1.434999942779541, 1.434999942779541, 1.4350999593734741, 1.4350999593734741, 1.729099988937378, 1.7245999574661255, 1.7039999961853027, 1.6866999864578247, 1.6816999912261963, 1.6765999794006348, 1.6729999780654907, 1.642199993133545, 1.6305999755859375, 1.6139999628067017, 1.6089999675750732, 1.5994999408721924, 1.5930999517440796, 1.5842000246047974, 1.5677000284194946, 1.5662000179290771, 1.5577000379562378, 1.5570000410079956, 1.5570000410079956, 1.5470999479293823, 1.5406999588012695, 1.5405999422073364, 1.5405999422073364, 1.5405999422073364, 1.5405999422073364, 1.5405999422073364, 1.5405999422073364, 1.5405999422073364, 1.5365999937057495, 1.5365999937057495, 1.7348999977111816, 1.7331000566482544, 1.7294000387191772, 1.7129000425338745, 1.7063000202178955, 1.7022000551223755, 1.6974999904632568, 1.67739999294281, 1.6706000566482544, 1.6639000177383423, 1.6547000408172607, 1.6547000408172607, 1.6445000171661377, 1.6313999891281128, 1.6224000453948975, 1.621500015258789, 1.6167000532150269, 1.6165000200271606, 1.6080000400543213, 1.6059999465942383, 1.6043000221252441, 1.5957000255584717, 1.5957000255584717, 1.5808000564575195, 1.5694999694824219, 1.551900029182434, 1.551900029182434, 1.551900029182434, 1.551900029182434, 1.551900029182434, 1.551900029182434, 1.551900029182434], \"logprob\": [30.0, 29.0, 28.0, 27.0, 26.0, 25.0, 24.0, 23.0, 22.0, 21.0, 20.0, 19.0, 18.0, 17.0, 16.0, 15.0, 14.0, 13.0, 12.0, 11.0, 10.0, 9.0, 8.0, 7.0, 6.0, 5.0, 4.0, 3.0, 2.0, 1.0, -3.4026999473571777, -3.604599952697754, -3.6082000732421875, -3.6171998977661133, -3.65310001373291, -3.7160000801086426, -3.774199962615967, -3.8369998931884766, -4.004799842834473, -4.123199939727783, -4.134300231933594, -4.179200172424316, -4.214099884033203, -4.186399936676025, -4.243000030517578, -4.281799793243408, -4.281700134277344, -4.316699981689453, -4.4558000564575195, -4.490699768066406, -4.578999996185303, -4.5578999519348145, -4.5578999519348145, -4.591899871826172, -4.646200180053711, -4.740799903869629, -4.792799949645996, -4.841700077056885, -4.883200168609619, -4.777100086212158, -4.8719000816345215, -2.653599977493286, -2.8635001182556152, -3.229300022125244, -3.3066999912261963, -3.3113999366760254, -3.388700008392334, -3.4807000160217285, -4.149799823760986, -4.15939998626709, -4.3180999755859375, -4.322800159454346, -4.359300136566162, -4.4506001472473145, -4.497499942779541, -4.485599994659424, -4.565299987792969, -4.641200065612793, -4.59119987487793, -4.750999927520752, -4.7484002113342285, -4.7484002113342285, -4.766300201416016, -4.8024001121521, -4.829599857330322, -4.70389986038208, -4.831299781799316, -4.861000061035156, -4.960299968719482, -5.011300086975098, -5.097599983215332, -4.8541998863220215, -2.5678000450134277, -2.808199882507324, -3.3715999126434326, -3.489500045776367, -3.5541000366210938, -3.604099988937378, -3.7618000507354736, -3.855299949645996, -4.0903000831604, -4.366399765014648, -4.376999855041504, -4.5229997634887695, -4.578999996185303, -4.591899871826172, -4.559700012207031, -4.559700012207031, -4.605800151824951, -4.63129997253418, -4.627699851989746, -4.687699794769287, -4.70389986038208, -4.717400074005127, -4.667600154876709, -4.817999839782715, -4.779699802398682, -4.779699802398682, -4.972599983215332, -5.014200210571289, -5.014200210571289, -5.014200210571289, -4.746500015258789, -4.746600151062012, -5.014200210571289, -5.014200210571289, -1.955399990081787, -2.2918999195098877, -3.131500005722046, -3.512200117111206, -3.619800090789795, -3.7126998901367188, -3.761699914932251, -4.157599925994873, -4.2754998207092285, -4.426199913024902, -4.468900203704834, -4.541200160980225, -4.570300102233887, -4.5991997718811035, -4.732900142669678, -4.744200229644775, -4.820700168609619, -4.782899856567383, -4.782899856567383, -4.882699966430664, -4.672800064086914, -4.672800064086914, -4.672800064086914, -4.672800064086914, -4.672800064086914, -4.672800064086914, -4.672800064086914, -4.672800064086914, -4.945199966430664, -4.945199966430664, -2.661400079727173, -2.7370998859405518, -2.8766000270843506, -3.3359999656677246, -3.475399971008301, -3.5422000885009766, -3.6342999935150146, -3.9351999759674072, -3.9820001125335693, -4.089399814605713, -4.1915998458862305, -4.189899921417236, -4.2895002365112305, -4.396599769592285, -4.4145002365112305, -4.476500034332275, -4.488999843597412, -4.526500225067139, -4.588099956512451, -4.604899883270264, -4.617000102996826, -4.611199855804443, -4.611199855804443, -4.74399995803833, -4.8379998207092285, -4.6757001876831055, -4.6757001876831055, -4.6757001876831055, -4.6757001876831055, -4.6757001876831055, -4.6757001876831055, -4.6757001876831055]}, \"token.table\": {\"Topic\": [3, 5, 4, 5, 3, 5, 5, 2, 1, 1, 3, 2, 4, 1, 1, 3, 3, 3, 3, 5, 3, 3, 3, 4, 5, 1, 2, 1, 1, 3, 3, 5, 1, 5, 5, 1, 1, 1, 4, 5, 4, 5, 2, 1, 3, 4, 5, 3, 5, 2, 2, 4, 1, 2, 4, 3, 4, 2, 3, 4, 4, 5, 2, 5, 4, 2, 5, 5, 4, 3, 1, 2, 1, 1, 1, 2, 3, 4, 3, 4, 4, 2, 4, 1, 4, 5, 2, 5, 1, 4, 4, 5, 5, 4, 4, 2, 1, 5, 3, 2, 3, 2, 4, 2, 5, 3, 4, 4, 5, 1, 2, 1, 2, 3, 3, 1, 2, 5, 4, 2, 5, 3, 2, 1, 2, 2, 1, 2, 2, 1, 2, 1, 3, 5, 3, 3, 5, 3, 3, 2, 1, 3, 5, 3, 5, 4, 2, 3, 1, 3, 4, 1, 5, 1, 4, 4, 5, 2], \"Freq\": [0.8134727478027344, 0.9012540578842163, 0.923434317111969, 0.8883899450302124, 0.8490756154060364, 0.9808141589164734, 0.8919328451156616, 0.8120319247245789, 0.779822051525116, 0.8367471694946289, 0.9693421125411987, 0.9695394039154053, 0.9938289523124695, 0.9412753582000732, 0.8156945705413818, 0.7899178862571716, 0.9292582273483276, 0.9700518846511841, 0.959702730178833, 0.9069578051567078, 0.988351583480835, 0.8490756154060364, 0.9615452289581299, 0.8505762815475464, 0.9856263995170593, 0.9617936611175537, 0.9889611005783081, 0.8784961700439453, 0.804450273513794, 0.8190783858299255, 0.9567348957061768, 0.8466410636901855, 0.9251826405525208, 0.9777771830558777, 0.9285858273506165, 0.9226620197296143, 0.941329836845398, 0.9232011437416077, 0.7808883786201477, 0.9806504845619202, 0.8677451610565186, 0.906957745552063, 0.8800591230392456, 0.9723100066184998, 0.7996938824653625, 0.8942333459854126, 0.7967075109481812, 0.9550233483314514, 0.9275520443916321, 0.9777489900588989, 0.8978951573371887, 0.8314979672431946, 0.9486785531044006, 0.8729106187820435, 0.8869810104370117, 0.8490757346153259, 0.8326268196105957, 0.8120319843292236, 0.8490756154060364, 0.8981515765190125, 0.7611293196678162, 0.9069578051567078, 0.9263044595718384, 0.9291577935218811, 0.8219944834709167, 0.972112238407135, 0.906957745552063, 0.9368267059326172, 0.9804089665412903, 0.9131765961647034, 0.9527691006660461, 0.9593971371650696, 0.9443573951721191, 0.8529868721961975, 0.9278928637504578, 0.8625827431678772, 0.8490757346153259, 0.958014726638794, 0.8661335110664368, 0.894233226776123, 0.7389511466026306, 0.7648470401763916, 0.8942335247993469, 0.8876336216926575, 0.9804815649986267, 0.9766625761985779, 0.9552358388900757, 0.8028568625450134, 0.98595130443573, 0.8770702481269836, 0.7611291408538818, 0.833419919013977, 0.8142834305763245, 0.8942333459854126, 0.7317628860473633, 0.7281420230865479, 0.8823946118354797, 0.8931761384010315, 0.8582350015640259, 0.9373559951782227, 0.9575949311256409, 0.8572295308113098, 0.939922034740448, 0.9454309344291687, 0.9257962703704834, 0.8661329746246338, 0.9726760387420654, 0.8942334055900574, 0.87880939245224, 0.887505829334259, 0.9481760263442993, 0.8932436108589172, 0.8658165335655212, 0.81767737865448, 0.8800023794174194, 0.8156944513320923, 0.963769257068634, 0.933182418346405, 0.7909238934516907, 0.9694896936416626, 0.9069576263427734, 0.8382977247238159, 0.8158838152885437, 0.9554179906845093, 0.8225276470184326, 0.9864934086799622, 0.8331443071365356, 0.8534526228904724, 0.9807127714157104, 0.9816323518753052, 0.7693498730659485, 0.918777346611023, 0.8707908987998962, 0.9069578051567078, 0.9550233483314514, 0.7813550233840942, 0.8453018665313721, 0.9936262369155884, 0.9256492257118225, 0.8727585673332214, 0.982660710811615, 0.881193220615387, 0.7496633529663086, 0.9048356413841248, 0.9560513496398926, 0.8942333459854126, 0.9652339220046997, 0.9131764769554138, 0.8901093006134033, 0.9295704364776611, 0.8770701289176941, 0.8707743287086487, 0.9069576263427734, 0.8427338600158691, 0.8942333459854126, 0.8942334055900574, 0.8883899450302124, 0.8234968781471252], \"Term\": [\"abstract\", \"accuracy\", \"aesthetic\", \"age\", \"aire\", \"analysis\", \"analyze\", \"animal\", \"application\", \"approach\", \"architect\", \"architectural\", \"architecture\", \"art\", \"artistic\", \"asian\", \"automatic\", \"berlin\", \"better\", \"blocklet\", \"british\", \"bueno\", \"building\", \"child\", \"city\", \"class\", \"classification\", \"close\", \"code\", \"colonial\", \"colony\", \"comparison\", \"compute\", \"computer\", \"conclusion\", \"conference\", \"cultural\", \"culture\", \"dataset\", \"datum\", \"deep\", \"despotovic\", \"detection\", \"different\", \"distance\", \"doller\", \"east\", \"engineering\", \"environment\", \"european\", \"feature\", \"felsenstein\", \"figure\", \"form\", \"former\", \"frankfurt\", \"german\", \"gogh\", \"hamburg\", \"heritage\", \"hidalgo\", \"hierarchical\", \"high\", \"history\", \"home\", \"human\", \"identity\", \"ieee\", \"image\", \"inference\", \"information\", \"interest\", \"international\", \"introduction\", \"irfanview\", \"islamic\", \"johannesburg\", \"journal\", \"june\", \"koch\", \"lane\", \"large\", \"leonardo\", \"link\", \"location\", \"machine\", \"macura\", \"merchan\", \"method\", \"mexico\", \"naik\", \"network\", \"new\", \"nissel\", \"node\", \"october\", \"open\", \"orlov\", \"package\", \"pattern\", \"perception\", \"photograph\", \"phylip\", \"phylogeny\", \"planning\", \"play\", \"pollock\", \"prediction\", \"present\", \"press\", \"proceeding\", \"psychology\", \"purpose\", \"quantitative\", \"recognition\", \"reference\", \"region\", \"research\", \"residential\", \"result\", \"retrieval\", \"scale\", \"school\", \"science\", \"set\", \"shamir\", \"show\", \"similar\", \"similarity\", \"social\", \"software\", \"source\", \"spanish\", \"sparse\", \"springer\", \"streetview\", \"study\", \"style\", \"system\", \"technique\", \"technology\", \"tile\", \"tool\", \"transaction\", \"urban\", \"url\", \"van\", \"version\", \"vision\", \"visual\", \"wellington\", \"window\", \"winner\", \"wndchrm\", \"xiao\", \"yuriko\", \"zeppelzauer\", \"zhang\"]}, \"R\": 30, \"lambda.step\": 0.01, \"plot.opts\": {\"xlab\": \"PC1\", \"ylab\": \"PC2\"}, \"topic.order\": [5, 1, 2, 4, 3]};\n",
       "\n",
       "function LDAvis_load_lib(url, callback){\n",
       "  var s = document.createElement('script');\n",
       "  s.src = url;\n",
       "  s.async = true;\n",
       "  s.onreadystatechange = s.onload = callback;\n",
       "  s.onerror = function(){console.warn(\"failed to load library \" + url);};\n",
       "  document.getElementsByTagName(\"head\")[0].appendChild(s);\n",
       "}\n",
       "\n",
       "if(typeof(LDAvis) !== \"undefined\"){\n",
       "   // already loaded: just create the visualization\n",
       "   !function(LDAvis){\n",
       "       new LDAvis(\"#\" + \"ldavis_el231631399287238057923396612832\", ldavis_el231631399287238057923396612832_data);\n",
       "   }(LDAvis);\n",
       "}else if(typeof define === \"function\" && define.amd){\n",
       "   // require.js is available: use it to load d3/LDAvis\n",
       "   require.config({paths: {d3: \"https://cdnjs.cloudflare.com/ajax/libs/d3/3.5.5/d3.min\"}});\n",
       "   require([\"d3\"], function(d3){\n",
       "      window.d3 = d3;\n",
       "      LDAvis_load_lib(\"https://cdn.rawgit.com/bmabey/pyLDAvis/files/ldavis.v1.0.0.js\", function(){\n",
       "        new LDAvis(\"#\" + \"ldavis_el231631399287238057923396612832\", ldavis_el231631399287238057923396612832_data);\n",
       "      });\n",
       "    });\n",
       "}else{\n",
       "    // require.js not available: dynamically load d3 & LDAvis\n",
       "    LDAvis_load_lib(\"https://cdnjs.cloudflare.com/ajax/libs/d3/3.5.5/d3.min.js\", function(){\n",
       "         LDAvis_load_lib(\"https://cdn.rawgit.com/bmabey/pyLDAvis/files/ldavis.v1.0.0.js\", function(){\n",
       "                 new LDAvis(\"#\" + \"ldavis_el231631399287238057923396612832\", ldavis_el231631399287238057923396612832_data);\n",
       "            })\n",
       "         });\n",
       "}\n",
       "</script>"
      ],
      "text/plain": [
       "PreparedData(topic_coordinates=              x         y  topics  cluster       Freq\n",
       "topic                                                \n",
       "4      0.156212  0.210958       1        1  23.449062\n",
       "0     -0.269622  0.070559       2        1  22.164078\n",
       "1      0.024569 -0.041725       3        1  19.605204\n",
       "3      0.056041 -0.216843       4        1  17.545938\n",
       "2      0.032801 -0.022948       5        1  17.235714, topic_info=    Category       Freq          Term      Total  loglift  logprob\n",
       "9    Default  56.000000         image  56.000000  30.0000  30.0000\n",
       "7    Default  40.000000  architecture  40.000000  29.0000  29.0000\n",
       "38   Default  34.000000         style  34.000000  28.0000  28.0000\n",
       "15   Default  35.000000        shamir  35.000000  27.0000  27.0000\n",
       "6    Default  27.000000      analysis  27.000000  26.0000  26.0000\n",
       "..       ...        ...           ...        ...      ...      ...\n",
       "618   Topic5   3.588186        sparse   4.410348   1.5519  -4.6757\n",
       "597   Topic5   3.588165        winner   4.410349   1.5519  -4.6757\n",
       "607   Topic5   3.588163    despotovic   4.410349   1.5519  -4.6757\n",
       "606   Topic5   3.588152      identity   4.410349   1.5519  -4.6757\n",
       "613   Topic5   3.588150     retrieval   4.410349   1.5519  -4.6757\n",
       "\n",
       "[188 rows x 6 columns], token_table=      Topic      Freq         Term\n",
       "term                              \n",
       "21        3  0.813473     abstract\n",
       "280       5  0.901254     accuracy\n",
       "79        4  0.923434    aesthetic\n",
       "168       5  0.888390          age\n",
       "190       3  0.849076         aire\n",
       "...     ...       ...          ...\n",
       "292       1  0.842734      wndchrm\n",
       "615       4  0.894233         xiao\n",
       "602       4  0.894233       yuriko\n",
       "169       5  0.888390  zeppelzauer\n",
       "150       2  0.823497        zhang\n",
       "\n",
       "[158 rows x 3 columns], R=30, lambda_step=0.01, plot_opts={'xlab': 'PC1', 'ylab': 'PC2'}, topic_order=[5, 1, 2, 4, 3])"
      ]
     },
     "execution_count": 29,
     "metadata": {},
     "output_type": "execute_result"
    }
   ],
   "source": [
    "pyLDAvis.enable_notebook()\n",
    "vis = pyLDAvis.gensim.prepare(aggregate[2][4], aggregate[2][3], aggregate[2][2])\n",
    "vis"
   ]
  },
  {
   "cell_type": "code",
   "execution_count": 30,
   "metadata": {},
   "outputs": [
    {
     "name": "stdout",
     "output_type": "stream",
     "text": [
      "[(0,\n",
      "  '0.205*\"automatic\" + 0.167*\"visual\" + 0.141*\"close\" + 0.051*\"religious\" + '\n",
      "  '0.051*\"social\" + 0.051*\"architectural\" + 0.026*\"historical\" + '\n",
      "  '0.026*\"environmental\" + 0.026*\"technological\" + 0.013*\"global\"'),\n",
      " (1,\n",
      "  '0.096*\"standard\" + 0.084*\"numerical\" + 0.072*\"similar\" + 0.072*\"correct\" + '\n",
      "  '0.060*\"due\" + 0.048*\"german\" + 0.048*\"influential\" + 0.048*\"european\" + '\n",
      "  '0.048*\"computational\" + 0.036*\"difficult\"'),\n",
      " (2,\n",
      "  '0.099*\"quantitative\" + 0.099*\"complex\" + 0.074*\"british\" + '\n",
      "  '0.074*\"informative\" + 0.062*\"international\" + 0.062*\"asian\" + '\n",
      "  '0.049*\"original\" + 0.049*\"relate\" + 0.037*\"equal\" + 0.037*\"geographic\"'),\n",
      " (3,\n",
      "  '0.435*\"architectural\" + 0.076*\"high\" + 0.054*\"islamic\" + 0.054*\"typical\" + '\n",
      "  '0.043*\"low\" + 0.033*\"geographical\" + 0.033*\"mere\" + 0.033*\"present\" + '\n",
      "  '0.033*\"british\" + 0.033*\"irfanview\"'),\n",
      " (4,\n",
      "  '0.160*\"cultural\" + 0.111*\"urban\" + 0.074*\"sensitive\" + 0.062*\"spanish\" + '\n",
      "  '0.037*\"flat\" + 0.037*\"residential\" + 0.037*\"clear\" + 0.037*\"open\" + '\n",
      "  '0.037*\"social\" + 0.037*\"architectural\"')]\n",
      "\n",
      "Coherence Score:  0.8437444180805086\n"
     ]
    }
   ],
   "source": [
    "pprint(aggregate[1][5].show_topics())\n",
    "\n",
    "# Compute Coherence Score\n",
    "coherence_model_ldamallet = CoherenceModel(model=aggregate[2][5], texts=aggregate[2][1], dictionary=aggregate[2][2], coherence='c_v')\n",
    "coherence_ldamallet = coherence_model_ldamallet.get_coherence()\n",
    "print('\\nCoherence Score: ', coherence_ldamallet)"
   ]
  },
  {
   "cell_type": "code",
   "execution_count": 31,
   "metadata": {},
   "outputs": [],
   "source": [
    "model_list, coherence_values = compute_coherence_values(dictionary=aggregate[2][2], corpus=aggregate[2][3], texts=aggregate[2][1], start=2, limit=40, step=6)\n"
   ]
  },
  {
   "cell_type": "code",
   "execution_count": 32,
   "metadata": {},
   "outputs": [
    {
     "data": {
      "image/png": "[encoded data removed]",
      "text/plain": [
       "<Figure size 432x288 with 1 Axes>"
      ]
     },
     "metadata": {
      "needs_background": "light"
     },
     "output_type": "display_data"
    }
   ],
   "source": [
    "limit=40; start=2; step=6;\n",
    "x = range(start, limit, step)\n",
    "plt.plot(x, coherence_values)\n",
    "plt.xlabel(\"Num Topics\")\n",
    "plt.ylabel(\"Coherence score\")\n",
    "plt.legend((\"coherence_values\"), loc='best')\n",
    "plt.show()"
   ]
  }
 ],
 "metadata": {
  "kernelspec": {
   "display_name": "Python 3",
   "language": "python",
   "name": "python3"
  },
  "language_info": {
   "codemirror_mode": {
    "name": "ipython",
    "version": 3
   },
   "file_extension": ".py",
   "mimetype": "text/x-python",
   "name": "python",
   "nbconvert_exporter": "python",
   "pygments_lexer": "ipython3",
   "version": "3.7.3"
  }
 },
 "nbformat": 4,
 "nbformat_minor": 2
}
