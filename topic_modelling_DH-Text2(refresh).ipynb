{
 "cells": [
  {
   "cell_type": "code",
   "execution_count": 1,
   "metadata": {},
   "outputs": [],
   "source": [
    "import tika\n",
    "from tika import parser\n",
    "import re\n",
    "import numpy as np\n",
    "import pandas as pd\n",
    "from pprint import pprint\n",
    "import gensim\n",
    "import gensim.corpora as corpora\n",
    "from gensim.utils import simple_preprocess\n",
    "from gensim.models import CoherenceModel\n",
    "import spacy\n",
    "from nltk.corpus import stopwords\n",
    "import pyLDAvis\n",
    "import pyLDAvis.gensim \n",
    "import matplotlib.pyplot as plt\n",
    "import warnings\n",
    "warnings.filterwarnings(\"ignore\")"
   ]
  },
  {
   "cell_type": "code",
   "execution_count": 2,
   "metadata": {},
   "outputs": [],
   "source": [
    "topics = 5"
   ]
  },
  {
   "cell_type": "code",
   "execution_count": 3,
   "metadata": {
    "scrolled": false
   },
   "outputs": [],
   "source": [
    "# tika.initVM()\n",
    "# parsed = parser.from_file('article2.pdf')\n",
    "# metadados = parsed[\"metadata\"]\n",
    "# texto = parsed[\"content\"]"
   ]
  },
  {
   "cell_type": "code",
   "execution_count": 4,
   "metadata": {},
   "outputs": [],
   "source": [
    "# f = open (\"artigo2.txt\", \"w\")\n",
    "# f.write (str(texto))\n",
    "# f.close ()"
   ]
  },
  {
   "cell_type": "code",
   "execution_count": 5,
   "metadata": {},
   "outputs": [],
   "source": [
    "f = open (\"artigo2.txt\", \"r\")\n",
    "texto = f.read()"
   ]
  },
  {
   "cell_type": "code",
   "execution_count": 6,
   "metadata": {},
   "outputs": [],
   "source": [
    "stop_words = stopwords.words('english')\n",
    "stop_words.extend(['from', 'subject', 're', 'edu', 'use'])"
   ]
  },
  {
   "cell_type": "code",
   "execution_count": 7,
   "metadata": {},
   "outputs": [],
   "source": [
    "def split_pdf(string): \n",
    "    li = list(string.split(\" \")) \n",
    "    return li"
   ]
  },
  {
   "cell_type": "code",
   "execution_count": 8,
   "metadata": {},
   "outputs": [],
   "source": [
    "def first_clear(data):\n",
    "    # Remove Emails\n",
    "    data = [re.sub('\\S*@\\S*\\s?', '', sent) for sent in data]\n",
    "\n",
    "    #remove links and mark\n",
    "    data = [re.sub('(https:\\S+)|(@)|(¿)', '', sent) for sent in data]\n",
    "    \n",
    "    data = [re.sub('(http:\\S+)|(@)|(¿)', '', sent) for sent in data]\n",
    "    \n",
    "    data = [re.sub('(www.:\\S+)|(@)|(¿)', '', sent) for sent in data]\n",
    "\n",
    "    # Remove new line characters\n",
    "    data = [re.sub('\\s+', ' ', sent) for sent in data]\n",
    "\n",
    "    # remove spaces in begining and end\n",
    "    data = [re.sub(' +', ' ', sent) for sent in data]\n",
    "\n",
    "    # Remove distracting single quotes\n",
    "    data = [re.sub(\"\\'\", \"\", sent) for sent in data]\n",
    "\n",
    "    return data"
   ]
  },
  {
   "cell_type": "code",
   "execution_count": 9,
   "metadata": {},
   "outputs": [],
   "source": [
    "def sent_to_words(sentences):\n",
    "    for sentence in sentences:\n",
    "        yield(gensim.utils.simple_preprocess(str(sentence), deacc=True))  # deacc=True removes punctuations"
   ]
  },
  {
   "cell_type": "code",
   "execution_count": 10,
   "metadata": {},
   "outputs": [],
   "source": [
    "def bi_tri_gram(data):\n",
    "    bigram = gensim.models.Phrases(data, min_count=5, threshold=100) # higher threshold fewer phrases.\n",
    "    trigram = gensim.models.Phrases(bigram[data], threshold=100) \n",
    "    bigram_mod = gensim.models.phrases.Phraser(bigram)\n",
    "    trigram_mod = gensim.models.phrases.Phraser(trigram)\n",
    "    \n",
    "    return bigram_mod, trigram_mod"
   ]
  },
  {
   "cell_type": "code",
   "execution_count": 11,
   "metadata": {},
   "outputs": [],
   "source": [
    "def remove_stopwords(texts):\n",
    "    return [[word for word in simple_preprocess(str(doc)) if word not in stop_words] for doc in texts]"
   ]
  },
  {
   "cell_type": "code",
   "execution_count": 12,
   "metadata": {},
   "outputs": [],
   "source": [
    "def make_bigrams(texts):\n",
    "    return [bigram_mod[doc] for doc in texts]"
   ]
  },
  {
   "cell_type": "code",
   "execution_count": 13,
   "metadata": {},
   "outputs": [],
   "source": [
    "def make_trigrams(texts):\n",
    "    return [trigram_mod[bigram_mod[doc]] for doc in texts]"
   ]
  },
  {
   "cell_type": "code",
   "execution_count": 14,
   "metadata": {},
   "outputs": [],
   "source": [
    "def lemmatization(texts, allowed_postags=['NOUN', 'ADJ', 'VERB', 'ADV']):\n",
    "    \"\"\"https://spacy.io/api/annotation\"\"\"\n",
    "    texts_out = []\n",
    "    for sent in texts:\n",
    "        doc = nlp(\" \".join(sent)) \n",
    "        texts_out.append([token.lemma_ for token in doc if token.pos_ in allowed_postags])\n",
    "    return texts_out"
   ]
  },
  {
   "cell_type": "code",
   "execution_count": 15,
   "metadata": {},
   "outputs": [],
   "source": [
    "def compute_coherence_values(dictionary, corpus, texts, limit, start=2, step=3):\n",
    "    \"\"\"\n",
    "    Compute c_v coherence for various number of topics\n",
    "\n",
    "    Parameters:\n",
    "    ----------\n",
    "    dictionary : Gensim dictionary\n",
    "    corpus : Gensim corpus\n",
    "    texts : List of input texts\n",
    "    limit : Max num of topics\n",
    "\n",
    "    Returns:\n",
    "    -------\n",
    "    model_list : List of LDA topic models\n",
    "    coherence_values : Coherence values corresponding to the LDA model with respective number of topics\n",
    "    \"\"\"\n",
    "    coherence_values = []\n",
    "    model_list = []\n",
    "    for num_topics in range(start, limit, step):\n",
    "        model = gensim.models.wrappers.LdaMallet(mallet_path, corpus=corpus, num_topics=num_topics, id2word=dictionary)\n",
    "        model_list.append(model)\n",
    "        coherencemodel = CoherenceModel(model=model, texts=texts, dictionary=dictionary, coherence='c_v')\n",
    "        coherence_values.append(coherencemodel.get_coherence())\n",
    "\n",
    "    return model_list, coherence_values"
   ]
  },
  {
   "cell_type": "code",
   "execution_count": 16,
   "metadata": {},
   "outputs": [],
   "source": [
    "def filter_pos_tagging(data, pos):\n",
    "    lista = []\n",
    "    for token in data:\n",
    "        for p in pos:\n",
    "            if (token.pos_ == p):\n",
    "                lista.append(token.text)\n",
    "#                 print(token.text)\n",
    "\n",
    "    \n",
    "    return [[el] for el in lista]"
   ]
  },
  {
   "cell_type": "code",
   "execution_count": 17,
   "metadata": {},
   "outputs": [],
   "source": [
    "nlp = spacy.load('en', disable=['parser', 'ner'])\n",
    "mallet_path = 'mallet-2.0.8/bin/mallet' \n",
    "\n",
    "data = split_pdf(texto)\n",
    "# print(data)\n",
    "\n",
    "data = first_clear(data)\n",
    "# print(data)\n",
    "\n",
    "data = list(sent_to_words(data))\n",
    "\n",
    "# Remove Stop Words\n",
    "data_words_nostops = remove_stopwords(data)\n",
    "\n",
    "aggregate = {}\n",
    "list_pos = [['NOUN'], ['ADJ'], ['NOUN', 'ADJ']]\n",
    "\n",
    "for i in range(0, len(list_pos)):\n",
    "    l = []\n",
    "    data_filtered = filter_pos_tagging(nlp(str(data_words_nostops)), list_pos[i] )\n",
    "\n",
    "    bigram_mod, trigram_mod = bi_tri_gram(data_filtered)\n",
    "    # Form Bigrams\n",
    "    data_words_bigrams = make_bigrams(data_filtered)\n",
    "    # Initialize spacy 'en' model, keeping only tagger component (for efficiency)\n",
    "\n",
    "    # Do lemmatization keeping only noun, adj, vb, adv\n",
    "    data_lemmatized = lemmatization(data_words_bigrams, allowed_postags=['NOUN', 'ADJ', 'VERB', 'ADV'])\n",
    "    \n",
    "    id2word = corpora.Dictionary(data_lemmatized)\n",
    "    texts = data_lemmatized\n",
    "    corpus = [id2word.doc2bow(text) for text in texts]\n",
    "    lda_model = gensim.models.ldamodel.LdaModel(corpus=corpus,id2word=id2word, num_topics=topics,random_state=100,\\\n",
    "                                            update_every=1, chunksize=100, passes=10, alpha='auto', per_word_topics=True)\n",
    "    \n",
    "    ldamallet = gensim.models.wrappers.LdaMallet(mallet_path, corpus=corpus, num_topics=topics, id2word=id2word)\n",
    "    \n",
    "    l.append(list_pos[i])\n",
    "    l.append(data_lemmatized)\n",
    "    l.append(id2word)\n",
    "    l.append(corpus)\n",
    "    l.append(lda_model)\n",
    "    l.append(ldamallet)\n",
    "    aggregate[i] = l"
   ]
  },
  {
   "cell_type": "markdown",
   "metadata": {},
   "source": [
    "# Tópicos apenas levando em conta os Substantivos"
   ]
  },
  {
   "cell_type": "code",
   "execution_count": 18,
   "metadata": {},
   "outputs": [
    {
     "name": "stdout",
     "output_type": "stream",
     "text": [
      "[(0,\n",
      "  '0.100*\"transcription\" + 0.078*\"foucault\" + 0.057*\"text\" + 0.045*\"note\" + '\n",
      "  '0.032*\"mining\" + 0.027*\"work\" + 0.023*\"archive\" + 0.019*\"eman\" + '\n",
      "  '0.013*\"handwriting\" + 0.012*\"user\"'),\n",
      " (1,\n",
      "  '0.086*\"october\" + 0.051*\"humanity\" + 0.049*\"access\" + 0.039*\"search\" + '\n",
      "  '0.024*\"character\" + 0.019*\"space\" + 0.016*\"dictionary\" + '\n",
      "  '0.014*\"segmentation\" + 0.012*\"labahn\" + 0.012*\"folio\"'),\n",
      " (2,\n",
      "  '0.085*\"transkribus\" + 0.080*\"image\" + 0.075*\"journal\" + 0.040*\"document\" + '\n",
      "  '0.039*\"software\" + 0.023*\"transcribe\" + 0.021*\"time\" + 0.019*\"result\" + '\n",
      "  '0.018*\"term\" + 0.016*\"transcript\"'),\n",
      " (3,\n",
      "  '0.058*\"corpus\" + 0.057*\"project\" + 0.050*\"word\" + 0.044*\"manuscript\" + '\n",
      "  '0.044*\"tool\" + 0.032*\"box\" + 0.020*\"training\" + 0.018*\"letter\" + '\n",
      "  '0.014*\"model\" + 0.013*\"facilitate\"'),\n",
      " (4,\n",
      "  '0.065*\"datum\" + 0.038*\"line\" + 0.037*\"network\" + 0.036*\"recognition\" + '\n",
      "  '0.028*\"platform\" + 0.019*\"figure\" + 0.019*\"fuzzyquery\" + 0.015*\"feature\" + '\n",
      "  '0.015*\"difficulty\" + 0.014*\"rate\"')]\n"
     ]
    }
   ],
   "source": [
    "pprint(aggregate[0][4].print_topics())\n",
    "doc_lda = aggregate[0][4][aggregate[0][3]]"
   ]
  },
  {
   "cell_type": "code",
   "execution_count": 19,
   "metadata": {},
   "outputs": [
    {
     "name": "stdout",
     "output_type": "stream",
     "text": [
      "\n",
      "Perplexity:  -7.561130280412423\n",
      "\n",
      "Coherence Score:  0.8411215390796307\n"
     ]
    }
   ],
   "source": [
    "print('\\nPerplexity: ', aggregate[0][4].log_perplexity(aggregate[0][3]))  # a measure of how good the model is. lower the better.\n",
    "\n",
    "# Compute Coherence Score\n",
    "coherence_model_lda = CoherenceModel(model=aggregate[0][4], texts=aggregate[0][1], dictionary=aggregate[0][2], coherence='c_v')\n",
    "coherence_lda = coherence_model_lda.get_coherence()\n",
    "print('\\nCoherence Score: ', coherence_lda)"
   ]
  },
  {
   "cell_type": "code",
   "execution_count": 20,
   "metadata": {},
   "outputs": [
    {
     "data": {
      "text/html": [
       "\n",
       "<link rel=\"stylesheet\" type=\"text/css\" href=\"https://cdn.rawgit.com/bmabey/pyLDAvis/files/ldavis.v1.0.0.css\">\n",
       "\n",
       "\n",
       "<div id=\"ldavis_el150151403832579600245262087961\"></div>\n",
       "<script type=\"text/javascript\">\n",
       "\n",
       "var ldavis_el150151403832579600245262087961_data = {\"mdsDat\": {\"x\": [-0.08498858594461726, -0.053883727763489445, 0.23397626234243, -0.048230745089553245, -0.04687320354476991], \"y\": [0.20033878605940655, -0.05398426593413216, 0.0255125132444927, -0.06803159624360737, -0.10383543712615967], \"topics\": [1, 2, 3, 4, 5], \"cluster\": [1, 1, 1, 1, 1], \"Freq\": [24.770078659057617, 21.611652374267578, 20.909252166748047, 17.567716598510742, 15.141302108764648]}, \"tinfo\": {\"Category\": [\"Default\", \"Default\", \"Default\", \"Default\", \"Default\", \"Default\", \"Default\", \"Default\", \"Default\", \"Default\", \"Default\", \"Default\", \"Default\", \"Default\", \"Default\", \"Default\", \"Default\", \"Default\", \"Default\", \"Default\", \"Default\", \"Default\", \"Default\", \"Default\", \"Default\", \"Default\", \"Default\", \"Default\", \"Default\", \"Default\", \"Topic1\", \"Topic1\", \"Topic1\", \"Topic1\", \"Topic1\", \"Topic1\", \"Topic1\", \"Topic1\", \"Topic1\", \"Topic1\", \"Topic1\", \"Topic1\", \"Topic1\", \"Topic1\", \"Topic1\", \"Topic1\", \"Topic1\", \"Topic1\", \"Topic1\", \"Topic1\", \"Topic1\", \"Topic1\", \"Topic1\", \"Topic1\", \"Topic1\", \"Topic1\", \"Topic1\", \"Topic1\", \"Topic1\", \"Topic1\", \"Topic1\", \"Topic2\", \"Topic2\", \"Topic2\", \"Topic2\", \"Topic2\", \"Topic2\", \"Topic2\", \"Topic2\", \"Topic2\", \"Topic2\", \"Topic2\", \"Topic2\", \"Topic2\", \"Topic2\", \"Topic2\", \"Topic2\", \"Topic2\", \"Topic2\", \"Topic2\", \"Topic2\", \"Topic2\", \"Topic2\", \"Topic2\", \"Topic2\", \"Topic2\", \"Topic2\", \"Topic2\", \"Topic2\", \"Topic2\", \"Topic2\", \"Topic2\", \"Topic2\", \"Topic2\", \"Topic3\", \"Topic3\", \"Topic3\", \"Topic3\", \"Topic3\", \"Topic3\", \"Topic3\", \"Topic3\", \"Topic3\", \"Topic3\", \"Topic3\", \"Topic3\", \"Topic3\", \"Topic3\", \"Topic3\", \"Topic3\", \"Topic3\", \"Topic3\", \"Topic3\", \"Topic3\", \"Topic3\", \"Topic3\", \"Topic3\", \"Topic3\", \"Topic3\", \"Topic3\", \"Topic3\", \"Topic3\", \"Topic3\", \"Topic3\", \"Topic4\", \"Topic4\", \"Topic4\", \"Topic4\", \"Topic4\", \"Topic4\", \"Topic4\", \"Topic4\", \"Topic4\", \"Topic4\", \"Topic4\", \"Topic4\", \"Topic4\", \"Topic4\", \"Topic4\", \"Topic4\", \"Topic4\", \"Topic4\", \"Topic4\", \"Topic4\", \"Topic4\", \"Topic4\", \"Topic4\", \"Topic4\", \"Topic4\", \"Topic4\", \"Topic4\", \"Topic4\", \"Topic4\", \"Topic4\", \"Topic4\", \"Topic4\", \"Topic4\", \"Topic5\", \"Topic5\", \"Topic5\", \"Topic5\", \"Topic5\", \"Topic5\", \"Topic5\", \"Topic5\", \"Topic5\", \"Topic5\", \"Topic5\", \"Topic5\", \"Topic5\", \"Topic5\", \"Topic5\", \"Topic5\", \"Topic5\", \"Topic5\", \"Topic5\", \"Topic5\", \"Topic5\", \"Topic5\", \"Topic5\", \"Topic5\", \"Topic5\", \"Topic5\", \"Topic5\", \"Topic5\", \"Topic5\", \"Topic5\"], \"Freq\": [61.0, 44.0, 37.0, 47.0, 41.0, 39.0, 34.0, 35.0, 21.0, 21.0, 22.0, 21.0, 27.0, 19.0, 21.0, 16.0, 16.0, 20.0, 20.0, 20.0, 17.0, 19.0, 19.0, 12.0, 17.0, 15.0, 14.0, 12.0, 10.0, 11.0, 60.43560028076172, 47.10633087158203, 34.50339889526367, 27.143041610717773, 19.332353591918945, 16.626224517822266, 14.103924751281738, 11.219758033752441, 7.811344623565674, 7.558473587036133, 6.6578874588012695, 5.381450653076172, 5.9761834144592285, 5.9761834144592285, 5.9761834144592285, 5.110153675079346, 4.811550140380859, 4.662421703338623, 3.816892385482788, 3.272437334060669, 3.0289206504821777, 2.793020486831665, 2.432741165161133, 2.354187488555908, 2.354187488555908, 2.354184865951538, 2.35418438911438, 2.1215529441833496, 3.581163167953491, 2.6229054927825928, 2.1244893074035645, 34.21855926513672, 19.86979103088379, 19.80605697631836, 19.259798049926758, 14.762941360473633, 10.250648498535156, 7.655012607574463, 7.725454330444336, 8.111265182495117, 6.939774990081787, 6.820765495300293, 9.949021339416504, 5.480861186981201, 5.473536014556885, 7.104189395904541, 4.919915199279785, 4.973779678344727, 4.642714977264404, 4.576164245605469, 4.38209867477417, 4.15663480758667, 4.093170166015625, 4.290874481201172, 3.8741562366485596, 4.213766574859619, 3.3561253547668457, 4.126567840576172, 3.256950855255127, 3.266857147216797, 2.87225341796875, 3.8542439937591553, 5.78439474105835, 3.575679302215576, 43.58057403564453, 40.76713562011719, 38.40188217163086, 20.455211639404297, 20.158777236938477, 11.949105262756348, 10.950032234191895, 9.747823715209961, 9.003338813781738, 8.358263969421387, 7.3954548835754395, 7.265796661376953, 6.13599967956543, 5.721880912780762, 5.639077663421631, 5.6413750648498535, 4.563592910766602, 4.596695423126221, 4.477054595947266, 4.263626575469971, 3.8082170486450195, 3.6553454399108887, 3.239928722381592, 2.939526081085205, 2.4313833713531494, 2.4196736812591553, 2.419672727584839, 3.5024168491363525, 2.234947681427002, 2.2441298961639404, 37.009944915771484, 22.099071502685547, 21.1539306640625, 16.684677124023438, 10.341405868530273, 8.308249473571777, 6.718092441558838, 5.94011116027832, 5.119193077087402, 5.055617809295654, 5.11444091796875, 4.724706172943115, 4.431167125701904, 4.203171730041504, 5.0813140869140625, 5.1176300048828125, 3.763315200805664, 4.326132774353027, 4.292567729949951, 3.519974708557129, 3.296618938446045, 2.815769672393799, 2.760974645614624, 2.5102686882019043, 3.351827383041382, 2.331425189971924, 2.331425189971924, 2.975264549255371, 2.117579936981201, 2.2787258625030518, 5.1377177238464355, 3.2572789192199707, 2.9122707843780518, 21.316286087036133, 21.17794418334961, 18.513107299804688, 16.260404586791992, 16.151845932006836, 11.809954643249512, 7.57855224609375, 6.651662349700928, 5.30183219909668, 4.876976490020752, 4.560102939605713, 4.563004970550537, 4.136534690856934, 4.19140100479126, 4.09960412979126, 3.8953309059143066, 4.077757835388184, 3.481642246246338, 3.1278936862945557, 2.7054431438446045, 2.5546555519104004, 2.6728971004486084, 2.2566051483154297, 4.835218906402588, 2.0966129302978516, 2.258596897125244, 1.9245434999465942, 2.3833906650543213, 1.7605891227722168, 2.064840078353882], \"Term\": [\"transcription\", \"transkribus\", \"october\", \"foucault\", \"image\", \"journal\", \"datum\", \"text\", \"corpus\", \"project\", \"humanity\", \"access\", \"note\", \"word\", \"document\", \"manuscript\", \"tool\", \"software\", \"line\", \"network\", \"search\", \"recognition\", \"mining\", \"box\", \"work\", \"platform\", \"archive\", \"transcribe\", \"character\", \"time\", \"transcription\", \"foucault\", \"text\", \"note\", \"mining\", \"work\", \"archive\", \"eman\", \"handwriting\", \"user\", \"type\", \"addition\", \"prospect\", \"experiment\", \"assessment\", \"editor\", \"service\", \"france\", \"decipher\", \"function\", \"philosopher\", \"sforzini\", \"set\", \"elisabetta\", \"server\", \"install\", \"penale\", \"lecture\", \"baseline\", \"community\", \"contributor\", \"datum\", \"line\", \"network\", \"recognition\", \"platform\", \"figure\", \"rate\", \"difficulty\", \"feature\", \"team\", \"fur\", \"fuzzyquery\", \"enrich\", \"muhlberger\", \"sharing\", \"account\", \"future\", \"analysis\", \"archival\", \"author\", \"record\", \"order\", \"description\", \"produce\", \"correction\", \"rdf\", \"capture\", \"reference\", \"collaboration\", \"tend\", \"computer\", \"leifert\", \"omeka\", \"transkribus\", \"image\", \"journal\", \"document\", \"software\", \"transcribe\", \"time\", \"result\", \"term\", \"transcript\", \"annotation\", \"example\", \"system\", \"phase\", \"information\", \"test\", \"researcher\", \"ead\", \"bibliotheque\", \"index\", \"context\", \"write\", \"interface\", \"concept\", \"massot\", \"item\", \"plan\", \"remark\", \"paper\", \"section\", \"october\", \"humanity\", \"access\", \"search\", \"character\", \"space\", \"dictionary\", \"segmentation\", \"folio\", \"number\", \"abbreviation\", \"difference\", \"case\", \"process\", \"transcriber\", \"hal\", \"page\", \"terbul\", \"prototype\", \"source\", \"interpretation\", \"region\", \"knowledge\", \"entity\", \"education\", \"laure\", \"marie\", \"medium\", \"series\", \"scale\", \"labahn\", \"possibility\", \"conference\", \"corpus\", \"project\", \"word\", \"manuscript\", \"tool\", \"box\", \"training\", \"letter\", \"model\", \"facilitate\", \"way\", \"specialist\", \"research\", \"collection\", \"org\", \"overview\", \"window\", \"institution\", \"method\", \"form\", \"content\", \"science\", \"arianna\", \"plat\", \"file\", \"exploration\", \"notice\", \"path\", \"connection\", \"understanding\"], \"Total\": [61.0, 44.0, 37.0, 47.0, 41.0, 39.0, 34.0, 35.0, 21.0, 21.0, 22.0, 21.0, 27.0, 19.0, 21.0, 16.0, 16.0, 20.0, 20.0, 20.0, 17.0, 19.0, 19.0, 12.0, 17.0, 15.0, 14.0, 12.0, 10.0, 11.0, 61.01948547363281, 47.6865234375, 35.08407974243164, 27.722820281982422, 19.914777755737305, 17.20638084411621, 14.688924789428711, 11.88741397857666, 8.395759582519531, 8.146453857421875, 7.2401652336120605, 5.9635467529296875, 6.641026020050049, 6.641026020050049, 6.641026496887207, 5.75938081741333, 5.451749801635742, 5.299263000488281, 4.424401760101318, 3.88580584526062, 3.628779649734497, 3.3805091381073, 3.038006067276001, 2.9939515590667725, 2.9939515590667725, 2.993950843811035, 2.9939513206481934, 2.6989595890045166, 4.565919399261475, 3.3867430686950684, 3.9157135486602783, 34.817012786865234, 20.470043182373047, 20.421371459960938, 19.867843627929688, 15.362102508544922, 10.851142883300781, 8.261029243469238, 8.343759536743164, 8.78731918334961, 7.5377702713012695, 7.466747283935547, 10.935314178466797, 6.097858428955078, 6.115645885467529, 7.9581170082092285, 5.5301127433776855, 5.6139044761657715, 5.264380931854248, 5.2008748054504395, 4.995965957641602, 4.760956287384033, 4.690193176269531, 4.940906047821045, 4.473133087158203, 4.901700496673584, 3.956979990005493, 4.877804279327393, 3.850440502166748, 3.8926923274993896, 3.4983911514282227, 4.698094844818115, 7.164679050445557, 4.806798934936523, 44.18740463256836, 41.37352752685547, 39.00837707519531, 21.06028938293457, 20.768856048583984, 12.55448055267334, 11.552153587341309, 10.359013557434082, 9.621908187866211, 8.972139358520508, 8.001853942871094, 7.886346340179443, 6.741856098175049, 6.337889194488525, 6.249111652374268, 6.257927417755127, 5.1719865798950195, 5.222158432006836, 5.106100559234619, 4.909210681915283, 4.42600679397583, 4.258493900299072, 3.8670997619628906, 3.5520405769348145, 3.044241189956665, 3.0886898040771484, 3.0886898040771484, 4.471271514892578, 2.857173442840576, 2.8802132606506348, 37.63198471069336, 22.71207618713379, 21.764789581298828, 17.29990577697754, 10.965831756591797, 8.937430381774902, 7.343967437744141, 6.567924976348877, 5.739580154418945, 5.674075603485107, 5.75029993057251, 5.339168071746826, 5.066080570220947, 4.814112663269043, 5.839094161987305, 5.890598297119141, 4.372074127197266, 5.040679931640625, 5.0272674560546875, 4.125110149383545, 3.9087471961975098, 3.479100227355957, 3.441192626953125, 3.147538900375366, 4.233241081237793, 2.9483861923217773, 2.9483861923217773, 3.8003733158111572, 2.7429301738739014, 2.9630343914031982, 6.769781589508057, 4.563735485076904, 4.312540531158447, 21.931385040283203, 21.792917251586914, 19.13022804260254, 16.874258041381836, 16.769853591918945, 12.425251007080078, 8.232133865356445, 7.27627420425415, 5.9166975021362305, 5.503632068634033, 5.172798156738281, 5.194286346435547, 4.755155563354492, 4.824515342712402, 4.75013542175293, 4.5591535568237305, 4.781009197235107, 4.1039581298828125, 3.7593939304351807, 3.3287010192871094, 3.1833691596984863, 3.370814323425293, 2.879504680633545, 6.175595760345459, 2.708308219909668, 2.9277992248535156, 2.585766315460205, 3.2548537254333496, 2.410146713256836, 2.839411497116089], \"loglift\": [30.0, 29.0, 28.0, 27.0, 26.0, 25.0, 24.0, 23.0, 22.0, 21.0, 20.0, 19.0, 18.0, 17.0, 16.0, 15.0, 14.0, 13.0, 12.0, 11.0, 10.0, 9.0, 8.0, 7.0, 6.0, 5.0, 4.0, 3.0, 2.0, 1.0, 1.3859000205993652, 1.3832999467849731, 1.3788000345230103, 1.374400019645691, 1.3659000396728516, 1.361199975013733, 1.3549000024795532, 1.3377000093460083, 1.3234000205993652, 1.3206000328063965, 1.3116999864578247, 1.292799949645996, 1.2899999618530273, 1.2899999618530273, 1.2899999618530273, 1.2759000062942505, 1.2705999612808228, 1.2675000429153442, 1.2477999925613403, 1.2237000465393066, 1.2148000001907349, 1.2045999765396118, 1.1734000444412231, 1.1550999879837036, 1.1550999879837036, 1.1550999879837036, 1.1550999879837036, 1.1548000574111938, 1.1526000499725342, 1.1398999691009521, 0.7840999960899353, 1.5146000385284424, 1.5022000074386597, 1.5012999773025513, 1.5009000301361084, 1.4922000169754028, 1.475000023841858, 1.4557000398635864, 1.4549000263214111, 1.4519000053405762, 1.4493000507354736, 1.4414000511169434, 1.437399983406067, 1.4253000020980835, 1.4210000038146973, 1.4184000492095947, 1.4149999618530273, 1.4108999967575073, 1.4062999486923218, 1.4040000438690186, 1.4007999897003174, 1.3961999416351318, 1.395799994468689, 1.3909000158309937, 1.388200044631958, 1.3806999921798706, 1.3672000169754028, 1.3646999597549438, 1.3645000457763672, 1.3566999435424805, 1.3346999883651733, 1.3339999914169312, 1.3178999423980713, 1.2360999584197998, 1.551200032234192, 1.5501999855041504, 1.549299955368042, 1.5357999801635742, 1.5351999998092651, 1.5155999660491943, 1.5113999843597412, 1.5041999816894531, 1.4984999895095825, 1.4940999746322632, 1.486199975013733, 1.4830000400543213, 1.4708000421524048, 1.4627000093460083, 1.4622999429702759, 1.461300015449524, 1.4398000240325928, 1.437399983406067, 1.433500051498413, 1.4240000247955322, 1.4146000146865845, 1.4122999906539917, 1.3880000114440918, 1.3756999969482422, 1.3401999473571777, 1.3208999633789062, 1.3208999633789062, 1.3207999467849731, 1.3193999528884888, 1.3154000043869019, 1.7223999500274658, 1.7116999626159668, 1.7106000185012817, 1.7029000520706177, 1.6805000305175781, 1.666100025177002, 1.649999976158142, 1.6385999917984009, 1.6246999502182007, 1.6237000226974487, 1.621899962425232, 1.6167999505996704, 1.6052000522613525, 1.6033999919891357, 1.600100040435791, 1.5983999967575073, 1.5892000198364258, 1.5861999988555908, 1.5810999870300293, 1.5805000066757202, 1.5687999725341797, 1.5276000499725342, 1.5189000368118286, 1.5128999948501587, 1.5055999755859375, 1.5042999982833862, 1.5042999982833862, 1.4943000078201294, 1.4803999662399292, 1.4765000343322754, 1.4631999731063843, 1.401900053024292, 1.346500039100647, 1.8593000173568726, 1.8590999841690063, 1.8550000190734863, 1.8507000207901, 1.8502000570297241, 1.8370000123977661, 1.8049999475479126, 1.7979999780654907, 1.777999997138977, 1.7668999433517456, 1.7617000341415405, 1.7582000494003296, 1.7483999729156494, 1.7470999956130981, 1.7404999732971191, 1.7303999662399292, 1.728600025177002, 1.7232999801635742, 1.7037999629974365, 1.680400013923645, 1.6677000522613525, 1.6557999849319458, 1.6440000534057617, 1.6431000232696533, 1.631700038909912, 1.6282000541687012, 1.5923999547958374, 1.5760999917984009, 1.573699951171875, 1.569200038909912], \"logprob\": [30.0, 29.0, 28.0, 27.0, 26.0, 25.0, 24.0, 23.0, 22.0, 21.0, 20.0, 19.0, 18.0, 17.0, 16.0, 15.0, 14.0, 13.0, 12.0, 11.0, 10.0, 9.0, 8.0, 7.0, 6.0, 5.0, 4.0, 3.0, 2.0, 1.0, -2.3059000968933105, -2.5550999641418457, -2.8664000034332275, -3.1064000129699707, -3.44569993019104, -3.5964999198913574, -3.760999917984009, -3.989799976348877, -4.351900100708008, -4.384799957275391, -4.51170015335083, -4.7245001792907715, -4.619699954986572, -4.619699954986572, -4.619699954986572, -4.776299953460693, -4.83650016784668, -4.868000030517578, -5.0680999755859375, -5.2220001220703125, -5.299300193786621, -5.38040018081665, -5.518499851226807, -5.551300048828125, -5.551300048828125, -5.551300048828125, -5.551300048828125, -5.655300140380859, -5.131800174713135, -5.44320011138916, -5.6539998054504395, -2.738300085067749, -3.281899929046631, -3.285099983215332, -3.3131000995635986, -3.5789999961853027, -3.943700075149536, -4.2357001304626465, -4.226600170135498, -4.177800178527832, -4.333799839019775, -4.351099967956543, -3.973599910736084, -4.569799900054932, -4.571199893951416, -4.310400009155273, -4.677800178527832, -4.666900157928467, -4.735799789428711, -4.750199794769287, -4.793600082397461, -4.846399784088135, -4.861800193786621, -4.814599990844727, -4.916800022125244, -4.832699775695801, -5.060299873352051, -4.853600025177002, -5.0903000831604, -5.087299823760986, -5.216000080108643, -4.921899795532227, -4.515900135040283, -4.9969000816345215, -2.463399887084961, -2.5302000045776367, -2.589900016784668, -3.2197999954223633, -3.2344000339508057, -3.7574000358581543, -3.8447000980377197, -3.9609999656677246, -4.04040002822876, -4.114799976348877, -4.237199783325195, -4.254899978637695, -4.423900127410889, -4.49370002746582, -4.508299827575684, -4.507900238037109, -4.719900131225586, -4.712699890136719, -4.739099979400635, -4.787899971008301, -4.900899887084961, -4.94189977645874, -5.0625, -5.159800052642822, -5.349599838256836, -5.354400157928467, -5.354400157928467, -4.984600067138672, -5.433800220489502, -5.429699897766113, -2.452699899673462, -2.968400001525879, -3.0120999813079834, -3.2493999004364014, -3.727799892425537, -3.946700096130371, -4.15910005569458, -4.282199859619141, -4.4309000968933105, -4.443399906158447, -4.43179988861084, -4.511099815368652, -4.575300216674805, -4.6280999183654785, -4.438300132751465, -4.43120002746582, -4.73859977722168, -4.5991997718811035, -4.60699987411499, -4.805500030517578, -4.870999813079834, -5.02869987487793, -5.048299789428711, -5.143499851226807, -4.854400157928467, -5.217400074005127, -5.217400074005127, -4.973599910736084, -5.313600063323975, -5.240300178527832, -4.427299976348877, -4.882999897003174, -4.994999885559082, -2.855799913406372, -2.862299919128418, -2.996799945831299, -3.126499891281128, -3.13319993019104, -3.4463000297546387, -3.890000104904175, -4.020400047302246, -4.247200012207031, -4.3308000564575195, -4.397900104522705, -4.397299766540527, -4.4953999519348145, -4.4822001457214355, -4.50439977645874, -4.555500030517578, -4.509699821472168, -4.667799949645996, -4.774899959564209, -4.920000076293945, -4.977399826049805, -4.93209981918335, -5.101399898529053, -4.339399814605713, -5.175000190734863, -5.100500106811523, -5.2606000900268555, -5.046800136566162, -5.349599838256836, -5.190199851989746]}, \"token.table\": {\"Topic\": [4, 4, 2, 1, 2, 3, 2, 1, 5, 1, 2, 1, 3, 5, 2, 4, 4, 2, 5, 1, 2, 3, 4, 5, 5, 3, 1, 2, 5, 2, 2, 1, 2, 4, 4, 2, 3, 3, 1, 4, 1, 1, 2, 4, 3, 1, 5, 5, 2, 2, 5, 4, 5, 1, 1, 1, 2, 2, 2, 4, 1, 4, 3, 3, 3, 1, 5, 3, 4, 3, 3, 4, 1, 4, 4, 1, 2, 5, 2, 5, 4, 3, 4, 5, 1, 5, 2, 2, 1, 5, 4, 4, 2, 2, 5, 5, 4, 3, 5, 1, 3, 1, 3, 5, 2, 4, 4, 2, 5, 1, 4, 2, 2, 2, 2, 2, 4, 3, 5, 3, 3, 4, 5, 4, 3, 4, 4, 1, 1, 1, 1, 2, 3, 4, 4, 5, 3, 2, 2, 4, 3, 3, 1, 3, 5, 5, 3, 4, 3, 1, 3, 1, 5, 1, 5, 5, 5, 1, 3], \"Freq\": [0.8695198893547058, 0.9648611545562744, 0.9041407108306885, 0.8384272456169128, 0.9497792720794678, 0.8747972846031189, 0.9613767266273499, 0.9530990123748779, 0.6945639252662659, 0.9034748077392578, 0.8006459474563599, 0.8760557770729065, 0.7833766341209412, 0.9657752513885498, 0.8200411200523376, 0.7895650267601013, 0.9119235277175903, 0.7706748247146606, 0.8290988206863403, 0.8858067989349365, 0.8514089584350586, 0.8445849418640137, 0.6956456303596497, 0.8298249840736389, 0.9423977732658386, 0.9037491679191589, 0.5107625722885132, 0.2553812861442566, 0.9575318694114685, 0.8160433173179626, 0.9765340685844421, 0.9040770530700684, 0.8095681071281433, 0.9531632661819458, 0.9364754557609558, 0.9588003754615784, 0.9496545791625977, 0.95745849609375, 0.8681488633155823, 0.7086768746376038, 0.6680134534835815, 0.9253484606742859, 0.8199599981307983, 0.9531256556510925, 0.8876100182533264, 0.9034748673439026, 0.6831069588661194, 0.9084909558296204, 0.910402774810791, 0.9215618968009949, 0.7384684085845947, 0.8711438775062561, 0.9012524485588074, 0.985603392124176, 0.9435274004936218, 0.772040605545044, 0.9374898672103882, 0.8906457424163818, 0.9144684672355652, 0.8488101959228516, 0.9528619647026062, 0.9686476588249207, 0.9909718036651611, 0.8147949576377869, 0.9601364731788635, 0.6680136322975159, 0.731001615524292, 0.7757751941680908, 0.7675093412399292, 0.6475237607955933, 0.9741497039794922, 0.8717907667160034, 0.1477152556180954, 0.7385762929916382, 0.6783372163772583, 0.7410262823104858, 0.8374415636062622, 0.962030827999115, 0.9770374894142151, 0.9481898546218872, 0.6783372163772583, 0.656978189945221, 0.7893961071968079, 0.7980009913444519, 0.9540653824806213, 0.8450660109519958, 0.8175751566886902, 0.9793661236763, 0.9739269018173218, 0.773465096950531, 0.8812007904052734, 0.9832061529159546, 0.8321546316146851, 0.8528433442115784, 0.8420812487602234, 0.8773558139801025, 0.9148975610733032, 0.6999924778938293, 0.6144669651985168, 0.6680135130882263, 0.9466874003410339, 0.8267242312431335, 0.6475237607955933, 0.809638500213623, 0.9764288663864136, 0.6573562622070312, 0.830890417098999, 0.8942278027534485, 0.9636158347129822, 0.9034748673439026, 0.7956608533859253, 0.9684023261070251, 0.7581539750099182, 0.9563192129135132, 0.8401673436164856, 0.7791316509246826, 0.8622919321060181, 0.8946000933647156, 0.8411922454833984, 0.9667465090751648, 0.9653428792953491, 0.6749837398529053, 0.8899926543235779, 0.9826642870903015, 0.6943930387496948, 0.9135305285453796, 0.7291472554206848, 0.6680134534835815, 0.9171367287635803, 0.6583265066146851, 0.8874402642250061, 0.8796050548553467, 0.962980329990387, 0.9696710705757141, 0.8951118588447571, 0.9625961184501648, 0.8899626135826111, 0.9286565780639648, 0.857537031173706, 0.7935437560081482, 0.9353653788566589, 0.9587838649749756, 0.9976034760475159, 0.9522033929824829, 0.9540929794311523, 0.9718015193939209, 0.9558340311050415, 0.8562971949577332, 0.8916491270065308, 0.9832924604415894, 0.9957588911056519, 0.9668287634849548, 0.7043713331222534, 0.9820224046707153, 0.9665948152542114, 0.8366434574127197, 0.9931925535202026, 0.9880055785179138, 0.9392992258071899], \"Term\": [\"abbreviation\", \"access\", \"account\", \"addition\", \"analysis\", \"annotation\", \"archival\", \"archive\", \"arianna\", \"assessment\", \"author\", \"baseline\", \"bibliotheque\", \"box\", \"capture\", \"case\", \"character\", \"collaboration\", \"collection\", \"community\", \"computer\", \"concept\", \"conference\", \"connection\", \"content\", \"context\", \"contributor\", \"contributor\", \"corpus\", \"correction\", \"datum\", \"decipher\", \"description\", \"dictionary\", \"difference\", \"difficulty\", \"document\", \"ead\", \"editor\", \"education\", \"elisabetta\", \"eman\", \"enrich\", \"entity\", \"example\", \"experiment\", \"exploration\", \"facilitate\", \"feature\", \"figure\", \"file\", \"folio\", \"form\", \"foucault\", \"france\", \"function\", \"fur\", \"future\", \"fuzzyquery\", \"hal\", \"handwriting\", \"humanity\", \"image\", \"index\", \"information\", \"install\", \"institution\", \"interface\", \"interpretation\", \"item\", \"journal\", \"knowledge\", \"labahn\", \"labahn\", \"laure\", \"lecture\", \"leifert\", \"letter\", \"line\", \"manuscript\", \"marie\", \"massot\", \"medium\", \"method\", \"mining\", \"model\", \"muhlberger\", \"network\", \"note\", \"notice\", \"number\", \"october\", \"omeka\", \"order\", \"org\", \"overview\", \"page\", \"paper\", \"path\", \"penale\", \"phase\", \"philosopher\", \"plan\", \"plat\", \"platform\", \"possibility\", \"process\", \"produce\", \"project\", \"prospect\", \"prototype\", \"rate\", \"rdf\", \"recognition\", \"record\", \"reference\", \"region\", \"remark\", \"research\", \"researcher\", \"result\", \"scale\", \"science\", \"search\", \"section\", \"segmentation\", \"series\", \"server\", \"service\", \"set\", \"sforzini\", \"sharing\", \"software\", \"source\", \"space\", \"specialist\", \"system\", \"team\", \"tend\", \"terbul\", \"term\", \"test\", \"text\", \"time\", \"tool\", \"training\", \"transcribe\", \"transcriber\", \"transcript\", \"transcription\", \"transkribus\", \"type\", \"understanding\", \"user\", \"way\", \"window\", \"word\", \"work\", \"write\"]}, \"R\": 30, \"lambda.step\": 0.01, \"plot.opts\": {\"xlab\": \"PC1\", \"ylab\": \"PC2\"}, \"topic.order\": [1, 5, 3, 2, 4]};\n",
       "\n",
       "function LDAvis_load_lib(url, callback){\n",
       "  var s = document.createElement('script');\n",
       "  s.src = url;\n",
       "  s.async = true;\n",
       "  s.onreadystatechange = s.onload = callback;\n",
       "  s.onerror = function(){console.warn(\"failed to load library \" + url);};\n",
       "  document.getElementsByTagName(\"head\")[0].appendChild(s);\n",
       "}\n",
       "\n",
       "if(typeof(LDAvis) !== \"undefined\"){\n",
       "   // already loaded: just create the visualization\n",
       "   !function(LDAvis){\n",
       "       new LDAvis(\"#\" + \"ldavis_el150151403832579600245262087961\", ldavis_el150151403832579600245262087961_data);\n",
       "   }(LDAvis);\n",
       "}else if(typeof define === \"function\" && define.amd){\n",
       "   // require.js is available: use it to load d3/LDAvis\n",
       "   require.config({paths: {d3: \"https://cdnjs.cloudflare.com/ajax/libs/d3/3.5.5/d3.min\"}});\n",
       "   require([\"d3\"], function(d3){\n",
       "      window.d3 = d3;\n",
       "      LDAvis_load_lib(\"https://cdn.rawgit.com/bmabey/pyLDAvis/files/ldavis.v1.0.0.js\", function(){\n",
       "        new LDAvis(\"#\" + \"ldavis_el150151403832579600245262087961\", ldavis_el150151403832579600245262087961_data);\n",
       "      });\n",
       "    });\n",
       "}else{\n",
       "    // require.js not available: dynamically load d3 & LDAvis\n",
       "    LDAvis_load_lib(\"https://cdnjs.cloudflare.com/ajax/libs/d3/3.5.5/d3.min.js\", function(){\n",
       "         LDAvis_load_lib(\"https://cdn.rawgit.com/bmabey/pyLDAvis/files/ldavis.v1.0.0.js\", function(){\n",
       "                 new LDAvis(\"#\" + \"ldavis_el150151403832579600245262087961\", ldavis_el150151403832579600245262087961_data);\n",
       "            })\n",
       "         });\n",
       "}\n",
       "</script>"
      ],
      "text/plain": [
       "PreparedData(topic_coordinates=              x         y  topics  cluster       Freq\n",
       "topic                                                \n",
       "0     -0.084989  0.200339       1        1  24.770079\n",
       "4     -0.053884 -0.053984       2        1  21.611652\n",
       "2      0.233976  0.025513       3        1  20.909252\n",
       "1     -0.048231 -0.068032       4        1  17.567717\n",
       "3     -0.046873 -0.103835       5        1  15.141302, topic_info=    Category       Freq           Term      Total  loglift  logprob\n",
       "94   Default  61.000000  transcription  61.000000  30.0000  30.0000\n",
       "3    Default  44.000000    transkribus  44.000000  29.0000  29.0000\n",
       "235  Default  37.000000        october  37.000000  28.0000  28.0000\n",
       "1    Default  47.000000       foucault  47.000000  27.0000  27.0000\n",
       "583  Default  41.000000          image  41.000000  26.0000  26.0000\n",
       "..       ...        ...            ...        ...      ...      ...\n",
       "169   Topic5   2.258597    exploration   2.927799   1.6282  -5.1005\n",
       "416   Topic5   1.924543         notice   2.585766   1.5924  -5.2606\n",
       "249   Topic5   2.383391           path   3.254854   1.5761  -5.0468\n",
       "532   Topic5   1.760589     connection   2.410147   1.5737  -5.3496\n",
       "245   Topic5   2.064840  understanding   2.839411   1.5692  -5.1902\n",
       "\n",
       "[187 rows x 6 columns], token_table=      Topic      Freq          Term\n",
       "term                               \n",
       "635       4  0.869520  abbreviation\n",
       "6         4  0.964861        access\n",
       "432       2  0.904141       account\n",
       "92        1  0.838427      addition\n",
       "104       2  0.949779      analysis\n",
       "...     ...       ...           ...\n",
       "162       5  0.966595           way\n",
       "666       5  0.836643        window\n",
       "257       5  0.993193          word\n",
       "74        1  0.988006          work\n",
       "194       3  0.939299         write\n",
       "\n",
       "[159 rows x 3 columns], R=30, lambda_step=0.01, plot_opts={'xlab': 'PC1', 'ylab': 'PC2'}, topic_order=[1, 5, 3, 2, 4])"
      ]
     },
     "execution_count": 20,
     "metadata": {},
     "output_type": "execute_result"
    }
   ],
   "source": [
    "pyLDAvis.enable_notebook()\n",
    "vis = pyLDAvis.gensim.prepare(aggregate[0][4], aggregate[0][3], aggregate[0][2])\n",
    "pyLDAvis.save_html(vis, 'Text_HD_LDA_Noun.html')\n",
    "vis"
   ]
  },
  {
   "cell_type": "code",
   "execution_count": 21,
   "metadata": {},
   "outputs": [
    {
     "name": "stdout",
     "output_type": "stream",
     "text": [
      "[(0,\n",
      "  '0.076*\"journal\" + 0.073*\"archive\" + 0.061*\"datum\" + 0.041*\"humanity\" + '\n",
      "  '0.039*\"tool\" + 0.039*\"time\" + 0.035*\"recognition\" + 0.024*\"transcribe\" + '\n",
      "  '0.024*\"team\" + 0.020*\"user\"'),\n",
      " (1,\n",
      "  '0.195*\"foucault\" + 0.045*\"note\" + 0.041*\"access\" + 0.041*\"word\" + '\n",
      "  '0.030*\"software\" + 0.017*\"type\" + 0.015*\"space\" + 0.015*\"lecture\" + '\n",
      "  '0.015*\"researcher\" + 0.015*\"page\"'),\n",
      " (2,\n",
      "  '0.088*\"transcription\" + 0.086*\"transkribus\" + 0.084*\"text\" + '\n",
      "  '0.076*\"document\" + 0.027*\"search\" + 0.019*\"character\" + 0.019*\"research\" + '\n",
      "  '0.016*\"produce\" + 0.014*\"rdf\" + 0.014*\"process\"'),\n",
      " (3,\n",
      "  '0.094*\"image\" + 0.058*\"manuscript\" + 0.055*\"corpus\" + 0.053*\"note\" + '\n",
      "  '0.043*\"work\" + 0.038*\"box\" + 0.032*\"bnf\" + 0.030*\"reference\" + '\n",
      "  '0.021*\"datum\" + 0.021*\"training\"'),\n",
      " (4,\n",
      "  '0.062*\"project\" + 0.048*\"line\" + 0.044*\"october\" + 0.036*\"mining\" + '\n",
      "  '0.030*\"platform\" + 0.028*\"order\" + 0.022*\"annotation\" + 0.020*\"handwriting\" '\n",
      "  '+ 0.020*\"model\" + 0.018*\"source\"')]\n",
      "\n",
      "Coherence Score:  0.8450388413040646\n"
     ]
    }
   ],
   "source": [
    "pprint(aggregate[0][5].show_topics())\n",
    "\n",
    "# Compute Coherence Score\n",
    "coherence_model_ldamallet = CoherenceModel(model=aggregate[0][5], texts=aggregate[0][1], dictionary=aggregate[0][2], coherence='c_v')\n",
    "coherence_ldamallet = coherence_model_ldamallet.get_coherence()\n",
    "print('\\nCoherence Score: ', coherence_ldamallet)"
   ]
  },
  {
   "cell_type": "code",
   "execution_count": 22,
   "metadata": {},
   "outputs": [],
   "source": [
    "model_list, coherence_values = compute_coherence_values(dictionary=aggregate[0][2], corpus=aggregate[0][3], texts=aggregate[0][1], start=2, limit=40, step=6)\n"
   ]
  },
  {
   "cell_type": "code",
   "execution_count": 23,
   "metadata": {},
   "outputs": [
    {
     "data": {
      "image/png": "[encoded data removed]",
      "text/plain": [
       "<Figure size 432x288 with 1 Axes>"
      ]
     },
     "metadata": {
      "needs_background": "light"
     },
     "output_type": "display_data"
    }
   ],
   "source": [
    "limit=40; start=2; step=6;\n",
    "x = range(start, limit, step)\n",
    "plt.plot(x, coherence_values)\n",
    "plt.xlabel(\"Num Topics\")\n",
    "plt.ylabel(\"Coherence score\")\n",
    "plt.legend((\"coherence_values\"), loc='best')\n",
    "plt.show()"
   ]
  },
  {
   "cell_type": "markdown",
   "metadata": {},
   "source": [
    "# Tópicos apenas levando em conta os Adjetivos\n"
   ]
  },
  {
   "cell_type": "code",
   "execution_count": 24,
   "metadata": {},
   "outputs": [
    {
     "name": "stdout",
     "output_type": "stream",
     "text": [
      "[(0,\n",
      "  '0.183*\"digital\" + 0.134*\"new\" + 0.037*\"handwritten\" + 0.035*\"additional\" + '\n",
      "  '0.029*\"average\" + 0.028*\"complex\" + 0.028*\"philosophical\" + '\n",
      "  '0.025*\"methodological\" + 0.023*\"accurate\" + 0.020*\"limit\"'),\n",
      " (1,\n",
      "  '0.133*\"automatic\" + 0.042*\"several\" + 0.037*\"collaborative\" + 0.036*\"main\" '\n",
      "  '+ 0.033*\"able\" + 0.029*\"particular\" + 0.029*\"nationale\" + 0.028*\"certain\" + '\n",
      "  '0.028*\"available\" + 0.023*\"rdfs\"'),\n",
      " (2,\n",
      "  '0.140*\"issn\" + 0.088*\"first\" + 0.078*\"large\" + 0.063*\"different\" + '\n",
      "  '0.036*\"full\" + 0.030*\"original\" + 0.029*\"michel\" + 0.027*\"common\" + '\n",
      "  '0.014*\"systematic\" + 0.014*\"public\"'),\n",
      " (3,\n",
      "  '0.128*\"open\" + 0.107*\"possible\" + 0.075*\"neural\" + 0.038*\"general\" + '\n",
      "  '0.037*\"next\" + 0.035*\"easy\" + 0.028*\"archive\" + 0.027*\"international\" + '\n",
      "  '0.027*\"complementary\" + 0.024*\"fuzzy\"'),\n",
      " (4,\n",
      "  '0.163*\"online\" + 0.062*\"historical\" + 0.041*\"difficult\" + 0.033*\"strauss\" + '\n",
      "  '0.032*\"necessary\" + 0.026*\"specific\" + 0.023*\"second\" + 0.019*\"regular\" + '\n",
      "  '0.019*\"better\" + 0.019*\"important\"')]\n"
     ]
    }
   ],
   "source": [
    "pprint(aggregate[1][4].print_topics())\n",
    "doc_lda = aggregate[1][4][aggregate[1][3]]"
   ]
  },
  {
   "cell_type": "code",
   "execution_count": 25,
   "metadata": {},
   "outputs": [
    {
     "name": "stdout",
     "output_type": "stream",
     "text": [
      "\n",
      "Perplexity:  -6.1798537140539676\n",
      "\n",
      "Coherence Score:  0.8414052754670006\n"
     ]
    }
   ],
   "source": [
    "print('\\nPerplexity: ', aggregate[1][4].log_perplexity(aggregate[1][3]))  # a measure of how good the model is. lower the better.\n",
    "\n",
    "# Compute Coherence Score\n",
    "coherence_model_lda = CoherenceModel(model=aggregate[1][4], texts=aggregate[1][1], dictionary=aggregate[1][2], coherence='c_v')\n",
    "coherence_lda = coherence_model_lda.get_coherence()\n",
    "print('\\nCoherence Score: ', coherence_lda)"
   ]
  },
  {
   "cell_type": "code",
   "execution_count": 26,
   "metadata": {},
   "outputs": [
    {
     "data": {
      "text/html": [
       "\n",
       "<link rel=\"stylesheet\" type=\"text/css\" href=\"https://cdn.rawgit.com/bmabey/pyLDAvis/files/ldavis.v1.0.0.css\">\n",
       "\n",
       "\n",
       "<div id=\"ldavis_el150151403841036627206396018987\"></div>\n",
       "<script type=\"text/javascript\">\n",
       "\n",
       "var ldavis_el150151403841036627206396018987_data = {\"mdsDat\": {\"x\": [0.12245325111166619, -0.26775528282168065, 0.04780434872194766, 0.05672717655037173, 0.04077050643769543], \"y\": [0.22352598180293115, 0.050192650061510025, -0.1021165725464702, -0.12873718914750867, -0.04286487017046233], \"topics\": [1, 2, 3, 4, 5], \"cluster\": [1, 1, 1, 1, 1], \"Freq\": [23.633983612060547, 21.485761642456055, 20.96055793762207, 17.255630493164062, 16.66407012939453]}, \"tinfo\": {\"Category\": [\"Default\", \"Default\", \"Default\", \"Default\", \"Default\", \"Default\", \"Default\", \"Default\", \"Default\", \"Default\", \"Default\", \"Default\", \"Default\", \"Default\", \"Default\", \"Default\", \"Default\", \"Default\", \"Default\", \"Default\", \"Default\", \"Default\", \"Default\", \"Default\", \"Default\", \"Default\", \"Default\", \"Default\", \"Default\", \"Default\", \"Topic1\", \"Topic1\", \"Topic1\", \"Topic1\", \"Topic1\", \"Topic1\", \"Topic1\", \"Topic1\", \"Topic1\", \"Topic1\", \"Topic1\", \"Topic1\", \"Topic1\", \"Topic1\", \"Topic1\", \"Topic1\", \"Topic1\", \"Topic1\", \"Topic1\", \"Topic1\", \"Topic1\", \"Topic1\", \"Topic1\", \"Topic1\", \"Topic1\", \"Topic1\", \"Topic1\", \"Topic1\", \"Topic1\", \"Topic1\", \"Topic2\", \"Topic2\", \"Topic2\", \"Topic2\", \"Topic2\", \"Topic2\", \"Topic2\", \"Topic2\", \"Topic2\", \"Topic2\", \"Topic2\", \"Topic2\", \"Topic2\", \"Topic2\", \"Topic2\", \"Topic2\", \"Topic2\", \"Topic2\", \"Topic2\", \"Topic2\", \"Topic2\", \"Topic2\", \"Topic2\", \"Topic2\", \"Topic2\", \"Topic2\", \"Topic2\", \"Topic2\", \"Topic2\", \"Topic2\", \"Topic2\", \"Topic2\", \"Topic2\", \"Topic2\", \"Topic2\", \"Topic2\", \"Topic2\", \"Topic2\", \"Topic3\", \"Topic3\", \"Topic3\", \"Topic3\", \"Topic3\", \"Topic3\", \"Topic3\", \"Topic3\", \"Topic3\", \"Topic3\", \"Topic3\", \"Topic3\", \"Topic3\", \"Topic3\", \"Topic3\", \"Topic3\", \"Topic3\", \"Topic3\", \"Topic3\", \"Topic3\", \"Topic3\", \"Topic3\", \"Topic3\", \"Topic3\", \"Topic3\", \"Topic3\", \"Topic3\", \"Topic3\", \"Topic3\", \"Topic3\", \"Topic4\", \"Topic4\", \"Topic4\", \"Topic4\", \"Topic4\", \"Topic4\", \"Topic4\", \"Topic4\", \"Topic4\", \"Topic4\", \"Topic4\", \"Topic4\", \"Topic4\", \"Topic4\", \"Topic4\", \"Topic4\", \"Topic4\", \"Topic4\", \"Topic4\", \"Topic4\", \"Topic4\", \"Topic4\", \"Topic4\", \"Topic4\", \"Topic4\", \"Topic4\", \"Topic4\", \"Topic4\", \"Topic4\", \"Topic4\", \"Topic4\", \"Topic4\", \"Topic4\", \"Topic4\", \"Topic5\", \"Topic5\", \"Topic5\", \"Topic5\", \"Topic5\", \"Topic5\", \"Topic5\", \"Topic5\", \"Topic5\", \"Topic5\", \"Topic5\", \"Topic5\", \"Topic5\", \"Topic5\", \"Topic5\", \"Topic5\", \"Topic5\", \"Topic5\", \"Topic5\", \"Topic5\", \"Topic5\", \"Topic5\", \"Topic5\", \"Topic5\", \"Topic5\", \"Topic5\", \"Topic5\", \"Topic5\", \"Topic5\", \"Topic5\", \"Topic5\", \"Topic5\"], \"Freq\": [26.0, 25.0, 19.0, 18.0, 15.0, 14.0, 12.0, 10.0, 9.0, 8.0, 10.0, 7.0, 6.0, 6.0, 4.0, 5.0, 5.0, 5.0, 4.0, 4.0, 5.0, 4.0, 5.0, 5.0, 5.0, 3.0, 4.0, 4.0, 3.0, 4.0, 25.019264221191406, 9.514161109924316, 6.262824058532715, 5.117927551269531, 4.829779148101807, 3.9950547218322754, 3.5885565280914307, 2.9699790477752686, 2.9699790477752686, 2.917769193649292, 2.911560535430908, 2.7370855808258057, 2.6324758529663086, 2.6324758529663086, 2.6324758529663086, 2.6324758529663086, 2.6324758529663086, 2.6324758529663086, 2.6324758529663086, 2.3954501152038574, 1.274052381515503, 1.269372820854187, 1.249738097190857, 1.1950500011444092, 1.1950500011444092, 1.1587966680526733, 1.0791765451431274, 1.0791765451431274, 1.0791765451431274, 1.0791765451431274, 25.514347076416016, 18.599428176879883, 5.162364482879639, 4.847661972045898, 4.011508941650391, 3.9374473094940186, 3.9284605979919434, 3.4392833709716797, 3.154280424118042, 2.795471668243408, 2.795471668243408, 2.795471668243408, 2.556847095489502, 2.3180954456329346, 1.82951819896698, 1.82951819896698, 1.6467809677124023, 1.3360568284988403, 0.9180169105529785, 0.863146960735321, 0.863146960735321, 0.863146960735321, 0.863146960735321, 0.863146960735321, 0.863146960735321, 0.863146960735321, 0.863146960735321, 0.863146960735321, 0.863146960735321, 0.863146960735321, 0.863146960735321, 0.863146960735321, 0.863146960735321, 0.8631468415260315, 0.8631468415260315, 0.8631468415260315, 0.8631468415260315, 0.863146960735321, 18.060930252075195, 5.709975719451904, 5.063427925109863, 4.934489727020264, 4.538646221160889, 3.9109389781951904, 3.9027693271636963, 3.790196657180786, 3.758183717727661, 3.1087872982025146, 2.3404181003570557, 2.1868839263916016, 2.180283308029175, 2.137805938720703, 1.865806221961975, 1.8585617542266846, 1.7188315391540527, 1.5161620378494263, 1.2498301267623901, 1.2498301267623901, 1.2498301267623901, 1.2498301267623901, 1.2498301267623901, 1.2498301267623901, 1.2498301267623901, 1.2498301267623901, 1.2498301267623901, 1.2498301267623901, 1.2498301267623901, 1.2498301267623901, 14.323375701904297, 11.948982238769531, 8.347214698791504, 4.276055812835693, 4.101943492889404, 3.9209277629852295, 3.0951480865478516, 2.997513771057129, 2.997513771057129, 2.635974407196045, 2.395642042160034, 2.155184268951416, 1.4222261905670166, 0.844473659992218, 0.7887975573539734, 0.6889374852180481, 0.6889374852180481, 0.6889374852180481, 0.6889374852180481, 0.6889374852180481, 0.6889374852180481, 0.6889374852180481, 0.6889374852180481, 0.6889374852180481, 0.6889374852180481, 0.6889374852180481, 0.6889374256134033, 0.6889374256134033, 0.6889374256134033, 0.6889374256134033, 0.6889374256134033, 0.6889374256134033, 0.6889374256134033, 0.6889374256134033, 15.115034103393555, 9.494181632995605, 8.464144706726074, 6.792335033416748, 3.8953328132629395, 3.2439262866973877, 3.107663869857788, 2.9352498054504395, 1.4773671627044678, 1.4711803197860718, 1.2177549600601196, 1.2177549600601196, 1.2177550792694092, 1.2177550792694092, 1.2177550792694092, 1.2177549600601196, 1.2177550792694092, 1.2124559879302979, 1.0627027750015259, 1.0150859355926514, 0.6065128445625305, 0.6065128445625305, 0.6065128445625305, 0.6065128445625305, 0.6065128445625305, 0.6065128445625305, 0.6065128445625305, 0.6065127849578857, 0.6065127849578857, 0.6065127849578857, 0.606512725353241, 0.606512725353241], \"Term\": [\"digital\", \"online\", \"new\", \"automatic\", \"issn\", \"open\", \"possible\", \"first\", \"large\", \"neural\", \"historical\", \"different\", \"several\", \"difficult\", \"general\", \"collaborative\", \"handwritten\", \"main\", \"next\", \"full\", \"additional\", \"easy\", \"able\", \"strauss\", \"necessary\", \"original\", \"particular\", \"nationale\", \"michel\", \"average\", \"online\", \"historical\", \"difficult\", \"strauss\", \"necessary\", \"specific\", \"second\", \"better\", \"regular\", \"important\", \"multiple\", \"significant\", \"official\", \"reseaux\", \"automatique\", \"iapr\", \"mai\", \"american\", \"naive\", \"many\", \"true\", \"creative\", \"detail\", \"clean\", \"problematic\", \"single\", \"key\", \"least\", \"perfect\", \"huge\", \"digital\", \"new\", \"handwritten\", \"additional\", \"average\", \"complex\", \"philosophical\", \"methodological\", \"accurate\", \"previous\", \"limit\", \"correct\", \"blue\", \"illegible\", \"interesting\", \"fast\", \"essential\", \"separate\", \"remarkable\", \"entire\", \"unclear\", \"basic\", \"familiar\", \"proper\", \"current\", \"special\", \"optimal\", \"doubtful\", \"equivocal\", \"red\", \"considerable\", \"direct\", \"short\", \"rectangular\", \"green\", \"total\", \"accessible\", \"late\", \"automatic\", \"several\", \"collaborative\", \"main\", \"able\", \"particular\", \"nationale\", \"certain\", \"available\", \"rdfs\", \"relevant\", \"impossible\", \"personal\", \"european\", \"various\", \"heterogeneous\", \"global\", \"multi\", \"faithful\", \"long\", \"visible\", \"extensive\", \"local\", \"positive\", \"anal\", \"essai\", \"front\", \"interested\", \"wise\", \"usable\", \"open\", \"possible\", \"neural\", \"general\", \"next\", \"easy\", \"archive\", \"complementary\", \"international\", \"fuzzy\", \"complete\", \"initial\", \"enough\", \"national\", \"intertextual\", \"relate\", \"classic\", \"iterative\", \"clear\", \"annotate\", \"archeologie\", \"high\", \"statical\", \"good\", \"sure\", \"convenient\", \"introductory\", \"upload\", \"free\", \"straightforward\", \"capable\", \"promise\", \"experimental\", \"ready\", \"issn\", \"first\", \"large\", \"different\", \"full\", \"original\", \"michel\", \"common\", \"systematic\", \"public\", \"practical\", \"navigate\", \"potential\", \"sensitive\", \"unrealistic\", \"incorrect\", \"decisive\", \"bibliographical\", \"hierarchical\", \"scientific\", \"enssib\", \"erudite\", \"conceptual\", \"identifi\", \"primary\", \"hypothetical\", \"ancient\", \"ingenierie\", \"stylistic\", \"uri\", \"classical\", \"samantha\"], \"Total\": [26.0, 25.0, 19.0, 18.0, 15.0, 14.0, 12.0, 10.0, 9.0, 8.0, 10.0, 7.0, 6.0, 6.0, 4.0, 5.0, 5.0, 5.0, 4.0, 4.0, 5.0, 4.0, 5.0, 5.0, 5.0, 3.0, 4.0, 4.0, 3.0, 4.0, 25.599878311157227, 10.094698905944824, 6.843292236328125, 5.698852062225342, 5.410245418548584, 4.575484275817871, 4.168994903564453, 3.5506298542022705, 3.5506298542022705, 3.498272657394409, 3.491992473602295, 3.3175342082977295, 3.213536500930786, 3.213536500930786, 3.213536500930786, 3.213536500930786, 3.213536500930786, 3.213536500930786, 3.213536500930786, 2.975884437561035, 1.854529619216919, 1.8498284816741943, 1.8301736116409302, 1.7761918306350708, 1.7761918306350708, 1.739306926727295, 1.6596351861953735, 1.6596351861953735, 1.6596351861953735, 1.6596351861953735, 26.106414794921875, 19.191539764404297, 5.754459381103516, 5.439835071563721, 4.603761196136475, 4.529610633850098, 4.520565986633301, 4.031437397003174, 3.7465524673461914, 3.387683391571045, 3.387683391571045, 3.387683391571045, 3.1490883827209473, 2.9104745388031006, 2.4217517375946045, 2.4217517375946045, 2.2388837337493896, 1.9282903671264648, 1.5100812911987305, 1.4557627439498901, 1.4557627439498901, 1.4557627439498901, 1.4557627439498901, 1.4557627439498901, 1.4557627439498901, 1.4557627439498901, 1.4557627439498901, 1.4557627439498901, 1.4557627439498901, 1.4557627439498901, 1.4557627439498901, 1.4557627439498901, 1.4557627439498901, 1.4557626247406006, 1.4557626247406006, 1.4557626247406006, 1.4557626247406006, 1.4557627439498901, 18.63463592529297, 6.28366756439209, 5.637102127075195, 5.5081939697265625, 5.112752437591553, 4.484755039215088, 4.476524829864502, 4.363875389099121, 4.331807613372803, 3.682490825653076, 2.914095640182495, 2.760589122772217, 2.753992795944214, 2.7114851474761963, 2.439491033554077, 2.432161331176758, 2.2925705909729004, 2.089944362640381, 1.8243049383163452, 1.8243049383163452, 1.8243049383163452, 1.8243049383163452, 1.8243049383163452, 1.8243049383163452, 1.8243049383163452, 1.8243049383163452, 1.8243049383163452, 1.8243049383163452, 1.8243049383163452, 1.8243049383163452, 14.914402961730957, 12.540020942687988, 8.93847370147705, 4.867114543914795, 4.693031311035156, 4.5120038986206055, 3.6861321926116943, 3.5887699127197266, 3.5887699127197266, 3.227139711380005, 2.9867238998413086, 2.746291160583496, 2.0133490562438965, 1.4355424642562866, 1.3797967433929443, 1.2803659439086914, 1.2803659439086914, 1.2803659439086914, 1.2803659439086914, 1.2803659439086914, 1.2803659439086914, 1.2803659439086914, 1.2803659439086914, 1.2803659439086914, 1.2803659439086914, 1.2803659439086914, 1.2803659439086914, 1.2803659439086914, 1.2803659439086914, 1.2803659439086914, 1.2803659439086914, 1.2803659439086914, 1.2803659439086914, 1.2803659439086914, 15.692673683166504, 10.071783065795898, 9.041820526123047, 7.369941234588623, 4.473124980926514, 3.82149338722229, 3.685242176055908, 3.5129053592681885, 2.0551459789276123, 2.048769474029541, 1.7963248491287231, 1.7963248491287231, 1.7963249683380127, 1.7963249683380127, 1.7963249683380127, 1.7963248491287231, 1.7963249683380127, 1.7901352643966675, 1.6405258178710938, 1.5927181243896484, 1.1844547986984253, 1.1844547986984253, 1.1844547986984253, 1.1844547986984253, 1.1844547986984253, 1.1844547986984253, 1.1844547986984253, 1.1844546794891357, 1.1844546794891357, 1.1844546794891357, 1.1844546794891357, 1.1844546794891357], \"loglift\": [30.0, 29.0, 28.0, 27.0, 26.0, 25.0, 24.0, 23.0, 22.0, 21.0, 20.0, 19.0, 18.0, 17.0, 16.0, 15.0, 14.0, 13.0, 12.0, 11.0, 10.0, 9.0, 8.0, 7.0, 6.0, 5.0, 4.0, 3.0, 2.0, 1.0, 1.4194999933242798, 1.3832999467849731, 1.3538000583648682, 1.3350000381469727, 1.3289999961853027, 1.3068000078201294, 1.2926000356674194, 1.2639000415802002, 1.2639000415802002, 1.2610000371932983, 1.260699987411499, 1.2502000331878662, 1.2430000305175781, 1.2430000305175781, 1.2430000305175781, 1.2430000305175781, 1.2430000305175781, 1.2430000305175781, 1.2430000305175781, 1.2254999876022339, 1.0671000480651855, 1.0658999681472778, 1.0609999895095825, 1.0462000370025635, 1.0462000370025635, 1.0363999605178833, 1.0120999813079834, 1.0120999813079834, 1.0120999813079834, 1.0120999813079834, 1.514799952507019, 1.5063999891281128, 1.4292000532150269, 1.4225000143051147, 1.4000999927520752, 1.3976999521255493, 1.3974000215530396, 1.3789000511169434, 1.3657000064849854, 1.3456000089645386, 1.3456000089645386, 1.3456000089645386, 1.3293999433517456, 1.3101999759674072, 1.2573000192642212, 1.2573000192642212, 1.2305999994277954, 1.1708999872207642, 1.0400999784469604, 1.0151000022888184, 1.0151000022888184, 1.0151000022888184, 1.0151000022888184, 1.0151000022888184, 1.0151000022888184, 1.0151000022888184, 1.0151000022888184, 1.0151000022888184, 1.0151000022888184, 1.0151000022888184, 1.0151000022888184, 1.0151000022888184, 1.0151000022888184, 1.0151000022888184, 1.0151000022888184, 1.0151000022888184, 1.0151000022888184, 1.0151000022888184, 1.5312999486923218, 1.4667999744415283, 1.455199956893921, 1.4524999856948853, 1.4434000253677368, 1.4256000518798828, 1.4254000186920166, 1.4215999841690063, 1.4205000400543213, 1.3932000398635864, 1.3432999849319458, 1.3295999765396118, 1.3288999795913696, 1.3248000144958496, 1.2943999767303467, 1.2935999631881714, 1.2745000123977661, 1.2416000366210938, 1.1842999458312988, 1.1842999458312988, 1.1842999458312988, 1.1842999458312988, 1.1842999458312988, 1.1842999458312988, 1.1842999458312988, 1.1842999458312988, 1.1842999458312988, 1.1842999458312988, 1.1842999458312988, 1.1842999458312988, 1.716599941253662, 1.708799958229065, 1.688599944114685, 1.6275999546051025, 1.6224000453948975, 1.6166000366210938, 1.5822999477386475, 1.5770000219345093, 1.5770000219345093, 1.5547000169754028, 1.5364999771118164, 1.5147000551223755, 1.409500002861023, 1.2264000177383423, 1.1978000402450562, 1.1373000144958496, 1.1373000144958496, 1.1373000144958496, 1.1373000144958496, 1.1373000144958496, 1.1373000144958496, 1.1373000144958496, 1.1373000144958496, 1.1373000144958496, 1.1373000144958496, 1.1373000144958496, 1.1373000144958496, 1.1373000144958496, 1.1373000144958496, 1.1373000144958496, 1.1373000144958496, 1.1373000144958496, 1.1373000144958496, 1.1373000144958496, 1.7544000148773193, 1.7329000234603882, 1.7259000539779663, 1.7102999687194824, 1.6535999774932861, 1.628100037574768, 1.621500015258789, 1.6123000383377075, 1.4617999792099, 1.4607000350952148, 1.4032000303268433, 1.4032000303268433, 1.4032000303268433, 1.4032000303268433, 1.4032000303268433, 1.4032000303268433, 1.4032000303268433, 1.4023000001907349, 1.357699990272522, 1.3414000272750854, 1.1225999593734741, 1.1225999593734741, 1.1225999593734741, 1.1225999593734741, 1.1225999593734741, 1.1225999593734741, 1.1225999593734741, 1.1225999593734741, 1.1225999593734741, 1.1225999593734741, 1.1225999593734741, 1.1225999593734741], \"logprob\": [30.0, 29.0, 28.0, 27.0, 26.0, 25.0, 24.0, 23.0, 22.0, 21.0, 20.0, 19.0, 18.0, 17.0, 16.0, 15.0, 14.0, 13.0, 12.0, 11.0, 10.0, 9.0, 8.0, 7.0, 6.0, 5.0, 4.0, 3.0, 2.0, 1.0, -1.8118000030517578, -2.778599977493286, -3.1967999935150146, -3.398699998855591, -3.4565999507904053, -3.6463000774383545, -3.753700017929077, -3.9428999423980713, -3.9428999423980713, -3.960599899291992, -3.9626998901367188, -4.024499893188477, -4.063499927520752, -4.063499927520752, -4.063499927520752, -4.063499927520752, -4.063499927520752, -4.063499927520752, -4.063499927520752, -4.157800197601318, -4.7891998291015625, -4.792900085449219, -4.808499813079834, -4.8531999588012695, -4.8531999588012695, -4.883999824523926, -4.9552001953125, -4.9552001953125, -4.9552001953125, -4.9552001953125, -1.6969000101089478, -2.013000011444092, -3.2946999073028564, -3.357599973678589, -3.5469000339508057, -3.5655999183654785, -3.5678999423980713, -3.7007999420166016, -3.787400007247925, -3.908099889755249, -3.908099889755249, -3.908099889755249, -3.997299909591675, -4.095399856567383, -4.332099914550781, -4.332099914550781, -4.437300205230713, -4.646399974822998, -5.021699905395508, -5.0833001136779785, -5.0833001136779785, -5.0833001136779785, -5.0833001136779785, -5.0833001136779785, -5.0833001136779785, -5.0833001136779785, -5.0833001136779785, -5.0833001136779785, -5.0833001136779785, -5.0833001136779785, -5.0833001136779785, -5.0833001136779785, -5.0833001136779785, -5.0833001136779785, -5.0833001136779785, -5.0833001136779785, -5.0833001136779785, -5.0833001136779785, -2.0176000595092773, -3.169100046157837, -3.289299964904785, -3.3150999546051025, -3.398699998855591, -3.547600030899048, -3.5497000217437744, -3.578900098800659, -3.587399959564209, -3.777100086212158, -4.060999870300293, -4.128900051116943, -4.131899833679199, -4.151599884033203, -4.287700176239014, -4.291600227355957, -4.369699954986572, -4.495200157165527, -4.688399791717529, -4.688399791717529, -4.688399791717529, -4.688399791717529, -4.688399791717529, -4.688399791717529, -4.688399791717529, -4.688399791717529, -4.688399791717529, -4.688399791717529, -4.688399791717529, -4.688399791717529, -2.055000066757202, -2.2362000942230225, -2.594899892807007, -3.2637999057769775, -3.3053998947143555, -3.3505001068115234, -3.5869998931884766, -3.6191000938415527, -3.6191000938415527, -3.7476000785827637, -3.8431999683380127, -3.9489998817443848, -4.36460018157959, -4.885900020599365, -4.954100131988525, -5.0894999504089355, -5.0894999504089355, -5.0894999504089355, -5.0894999504089355, -5.0894999504089355, -5.0894999504089355, -5.0894999504089355, -5.0894999504089355, -5.0894999504089355, -5.0894999504089355, -5.0894999504089355, -5.0894999504089355, -5.0894999504089355, -5.0894999504089355, -5.0894999504089355, -5.0894999504089355, -5.0894999504089355, -5.0894999504089355, -5.0894999504089355, -1.9663000106811523, -2.431299924850464, -2.546099901199341, -2.766200065612793, -3.322200059890747, -3.505199909210205, -3.548099994659424, -3.6052000522613525, -4.2916998863220215, -4.295899868011475, -4.485000133514404, -4.485000133514404, -4.485000133514404, -4.485000133514404, -4.485000133514404, -4.485000133514404, -4.485000133514404, -4.489299774169922, -4.621200084686279, -4.666999816894531, -5.182000160217285, -5.182000160217285, -5.182000160217285, -5.182000160217285, -5.182000160217285, -5.182000160217285, -5.182000160217285, -5.182000160217285, -5.182000160217285, -5.182000160217285, -5.182000160217285, -5.182000160217285]}, \"token.table\": {\"Topic\": [3, 2, 2, 2, 1, 3, 5, 4, 4, 4, 3, 1, 3, 2, 2, 1, 5, 2, 4, 3, 4, 5, 1, 4, 3, 5, 4, 4, 2, 5, 2, 4, 2, 1, 2, 5, 1, 5, 1, 2, 2, 2, 4, 4, 5, 2, 2, 5, 3, 2, 3, 4, 3, 3, 2, 2, 5, 4, 3, 5, 4, 4, 3, 4, 2, 2, 3, 5, 4, 1, 1, 5, 1, 5, 2, 1, 3, 5, 5, 4, 3, 2, 4, 4, 4, 5, 4, 1, 5, 2, 1, 2, 3, 3, 1, 3, 1, 2, 5, 3, 1, 1, 4, 3, 5, 1, 4, 2, 4, 1, 1, 4, 2, 5, 3, 1, 3, 2, 3, 4, 5, 5, 2, 5, 1, 4, 2, 5, 3, 4, 2, 2, 1, 4, 3, 2, 1, 5, 5, 1, 5, 2, 3, 2, 1, 1, 2, 1, 4, 4, 1, 5, 4, 5, 2, 1, 2, 5, 4, 5, 3, 3, 3, 3], \"Freq\": [0.9779468178749084, 0.6869251728057861, 0.800736129283905, 0.9191455245018005, 0.9335509538650513, 0.5481539964675903, 0.8442702889442444, 0.7810267210006714, 0.7810267210006714, 0.8138611912727356, 0.9659432172775269, 0.9335509538650513, 0.9234020709991455, 0.868854820728302, 0.6869251132011414, 0.8449205160140991, 0.5586169958114624, 0.952656626701355, 0.7810267210006714, 0.9166164398193359, 0.7810267210006714, 0.8442703485488892, 0.5630022287368774, 0.7810267210006714, 0.8869805335998535, 0.8539939522743225, 0.8359410166740417, 0.6696300506591797, 0.8830780982971191, 0.8442702889442444, 0.6869251132011414, 0.7810267210006714, 0.885560929775238, 0.5405906438827515, 0.6869251132011414, 0.5566921234130859, 0.5463962554931641, 0.9498040676116943, 0.8767709732055664, 0.9959238171577454, 0.6869251132011414, 0.6869251132011414, 0.8865240812301636, 0.49668484926223755, 0.8442702889442444, 0.6869251132011414, 0.6869251132011414, 0.8442702889442444, 0.5481539964675903, 0.893302321434021, 0.7376031279563904, 0.7810267210006714, 0.5481539964675903, 0.5481539964675903, 0.6869251132011414, 0.8258484601974487, 0.8935855627059937, 0.7810267210006714, 0.5481539964675903, 0.8942294120788574, 0.9296157956123352, 0.8218421936035156, 0.872383177280426, 0.7810267210006714, 0.6869251728057861, 0.8688913583755493, 0.8223138451576233, 0.6095606684684753, 0.7810267210006714, 0.9906189441680908, 0.6025420427322388, 0.8442702889442444, 0.9335509538650513, 0.8442702889442444, 0.6871731877326965, 0.8575661182403564, 0.7244830131530762, 0.5566921830177307, 0.8442703485488892, 0.7282549142837524, 0.5481539964675903, 0.8258484601974487, 0.8359410166740417, 0.724744439125061, 0.7810267210006714, 0.9558600783348083, 0.7810267210006714, 0.6025420427322388, 0.8847775459289551, 0.6869251132011414, 0.6025420427322388, 0.885560929775238, 0.5481539964675903, 0.5481539964675903, 0.9335509538650513, 0.9077385663986206, 0.6720691323280334, 0.7441514730453491, 0.8140577673912048, 0.956963300704956, 0.8591083884239197, 0.9335509538650513, 0.6966007947921753, 0.8935502767562866, 0.5566921830177307, 0.9241725206375122, 0.8950073719024658, 0.9900195598602295, 0.8523275852203369, 0.9335509538650513, 0.9765671491622925, 0.9386899471282959, 0.6869251132011414, 0.7850334048271179, 0.8919104933738708, 0.6025420427322388, 0.7262182831764221, 0.884844958782196, 0.5481539964675903, 0.9569361805915833, 0.5566921234130859, 0.5566921830177307, 0.885560929775238, 0.8442702889442444, 0.5630022287368774, 0.7810267210006714, 0.6869251132011414, 0.4880978763103485, 0.8146659731864929, 0.7810267210006714, 0.6869251728057861, 0.6869251132011414, 0.8449205160140991, 0.7810267210006714, 0.6863192915916443, 0.6622160077095032, 0.9335509538650513, 0.8442703485488892, 0.627857506275177, 0.959463894367218, 0.5566921234130859, 0.5185940861701965, 0.9548563957214355, 0.6869251132011414, 0.9042860865592957, 0.5749416351318359, 0.6869251132011414, 0.8742244243621826, 0.7810267210006714, 0.7810267210006714, 0.8773697018623352, 0.8442703485488892, 0.7810267210006714, 0.4865834414958954, 0.6869251728057861, 0.5392202734947205, 0.6869251132011414, 0.5566921234130859, 0.7810267210006714, 0.8442703485488892, 0.5481539964675903, 0.8198431730270386, 0.5481539964675903, 0.5481539964675903], \"Term\": [\"able\", \"accessible\", \"accurate\", \"additional\", \"american\", \"anal\", \"ancient\", \"annotate\", \"archeologie\", \"archive\", \"automatic\", \"automatique\", \"available\", \"average\", \"basic\", \"better\", \"bibliographical\", \"blue\", \"capable\", \"certain\", \"classic\", \"classical\", \"clean\", \"clear\", \"collaborative\", \"common\", \"complementary\", \"complete\", \"complex\", \"conceptual\", \"considerable\", \"convenient\", \"correct\", \"creative\", \"current\", \"decisive\", \"detail\", \"different\", \"difficult\", \"digital\", \"direct\", \"doubtful\", \"easy\", \"enough\", \"enssib\", \"entire\", \"equivocal\", \"erudite\", \"essai\", \"essential\", \"european\", \"experimental\", \"extensive\", \"faithful\", \"familiar\", \"fast\", \"first\", \"free\", \"front\", \"full\", \"fuzzy\", \"general\", \"global\", \"good\", \"green\", \"handwritten\", \"heterogeneous\", \"hierarchical\", \"high\", \"historical\", \"huge\", \"hypothetical\", \"iapr\", \"identifi\", \"illegible\", \"important\", \"impossible\", \"incorrect\", \"ingenierie\", \"initial\", \"interested\", \"interesting\", \"international\", \"intertextual\", \"introductory\", \"issn\", \"iterative\", \"key\", \"large\", \"late\", \"least\", \"limit\", \"local\", \"long\", \"mai\", \"main\", \"many\", \"methodological\", \"michel\", \"multi\", \"multiple\", \"naive\", \"national\", \"nationale\", \"navigate\", \"necessary\", \"neural\", \"new\", \"next\", \"official\", \"online\", \"open\", \"optimal\", \"original\", \"particular\", \"perfect\", \"personal\", \"philosophical\", \"positive\", \"possible\", \"potential\", \"practical\", \"previous\", \"primary\", \"problematic\", \"promise\", \"proper\", \"public\", \"rdfs\", \"ready\", \"rectangular\", \"red\", \"regular\", \"relate\", \"relevant\", \"remarkable\", \"reseaux\", \"samantha\", \"scientific\", \"second\", \"sensitive\", \"separate\", \"several\", \"short\", \"significant\", \"single\", \"special\", \"specific\", \"statical\", \"straightforward\", \"strauss\", \"stylistic\", \"sure\", \"systematic\", \"total\", \"true\", \"unclear\", \"unrealistic\", \"upload\", \"uri\", \"usable\", \"various\", \"visible\", \"wise\"]}, \"R\": 30, \"lambda.step\": 0.01, \"plot.opts\": {\"xlab\": \"PC1\", \"ylab\": \"PC2\"}, \"topic.order\": [5, 1, 2, 4, 3]};\n",
       "\n",
       "function LDAvis_load_lib(url, callback){\n",
       "  var s = document.createElement('script');\n",
       "  s.src = url;\n",
       "  s.async = true;\n",
       "  s.onreadystatechange = s.onload = callback;\n",
       "  s.onerror = function(){console.warn(\"failed to load library \" + url);};\n",
       "  document.getElementsByTagName(\"head\")[0].appendChild(s);\n",
       "}\n",
       "\n",
       "if(typeof(LDAvis) !== \"undefined\"){\n",
       "   // already loaded: just create the visualization\n",
       "   !function(LDAvis){\n",
       "       new LDAvis(\"#\" + \"ldavis_el150151403841036627206396018987\", ldavis_el150151403841036627206396018987_data);\n",
       "   }(LDAvis);\n",
       "}else if(typeof define === \"function\" && define.amd){\n",
       "   // require.js is available: use it to load d3/LDAvis\n",
       "   require.config({paths: {d3: \"https://cdnjs.cloudflare.com/ajax/libs/d3/3.5.5/d3.min\"}});\n",
       "   require([\"d3\"], function(d3){\n",
       "      window.d3 = d3;\n",
       "      LDAvis_load_lib(\"https://cdn.rawgit.com/bmabey/pyLDAvis/files/ldavis.v1.0.0.js\", function(){\n",
       "        new LDAvis(\"#\" + \"ldavis_el150151403841036627206396018987\", ldavis_el150151403841036627206396018987_data);\n",
       "      });\n",
       "    });\n",
       "}else{\n",
       "    // require.js not available: dynamically load d3 & LDAvis\n",
       "    LDAvis_load_lib(\"https://cdnjs.cloudflare.com/ajax/libs/d3/3.5.5/d3.min.js\", function(){\n",
       "         LDAvis_load_lib(\"https://cdn.rawgit.com/bmabey/pyLDAvis/files/ldavis.v1.0.0.js\", function(){\n",
       "                 new LDAvis(\"#\" + \"ldavis_el150151403841036627206396018987\", ldavis_el150151403841036627206396018987_data);\n",
       "            })\n",
       "         });\n",
       "}\n",
       "</script>"
      ],
      "text/plain": [
       "PreparedData(topic_coordinates=              x         y  topics  cluster       Freq\n",
       "topic                                                \n",
       "4      0.122453  0.223526       1        1  23.633984\n",
       "0     -0.267755  0.050193       2        1  21.485762\n",
       "1      0.047804 -0.102117       3        1  20.960558\n",
       "3      0.056727 -0.128737       4        1  17.255630\n",
       "2      0.040771 -0.042865       5        1  16.664070, topic_info=    Category       Freq        Term      Total  loglift  logprob\n",
       "8    Default  26.000000     digital  26.000000  30.0000   30.000\n",
       "17   Default  25.000000      online  25.000000  29.0000   29.000\n",
       "20   Default  19.000000         new  19.000000  28.0000   28.000\n",
       "23   Default  18.000000   automatic  18.000000  27.0000   27.000\n",
       "25   Default  15.000000        issn  15.000000  26.0000   26.000\n",
       "..       ...        ...         ...        ...      ...      ...\n",
       "152   Topic5   0.606513  ingenierie   1.184455   1.1226   -5.182\n",
       "117   Topic5   0.606513   stylistic   1.184455   1.1226   -5.182\n",
       "149   Topic5   0.606513         uri   1.184455   1.1226   -5.182\n",
       "134   Topic5   0.606513   classical   1.184455   1.1226   -5.182\n",
       "128   Topic5   0.606513    samantha   1.184455   1.1226   -5.182\n",
       "\n",
       "[194 rows x 6 columns], token_table=      Topic      Freq        Term\n",
       "term                             \n",
       "219       3  0.977947        able\n",
       "212       2  0.686925  accessible\n",
       "195       2  0.800736    accurate\n",
       "193       2  0.919146  additional\n",
       "246       1  0.933551    american\n",
       "...     ...       ...         ...\n",
       "149       5  0.844270         uri\n",
       "235       3  0.548154      usable\n",
       "122       3  0.819843     various\n",
       "223       3  0.548154     visible\n",
       "226       3  0.548154        wise\n",
       "\n",
       "[164 rows x 3 columns], R=30, lambda_step=0.01, plot_opts={'xlab': 'PC1', 'ylab': 'PC2'}, topic_order=[5, 1, 2, 4, 3])"
      ]
     },
     "execution_count": 26,
     "metadata": {},
     "output_type": "execute_result"
    }
   ],
   "source": [
    "pyLDAvis.enable_notebook()\n",
    "vis = pyLDAvis.gensim.prepare(aggregate[1][4], aggregate[1][3], aggregate[1][2])\n",
    "pyLDAvis.save_html(vis, 'Text_HD_LDA_ADJ.html')\n",
    "vis"
   ]
  },
  {
   "cell_type": "code",
   "execution_count": 27,
   "metadata": {},
   "outputs": [
    {
     "name": "stdout",
     "output_type": "stream",
     "text": [
      "[(0,\n",
      "  '0.078*\"specific\" + 0.068*\"collaborative\" + 0.068*\"historical\" + '\n",
      "  '0.058*\"handwritten\" + 0.058*\"general\" + 0.049*\"methodological\" + '\n",
      "  '0.049*\"nationale\" + 0.039*\"complex\" + 0.039*\"personal\" + 0.039*\"important\"'),\n",
      " (1,\n",
      "  '0.311*\"digital\" + 0.075*\"original\" + 0.075*\"archive\" + '\n",
      "  '0.038*\"heterogeneous\" + 0.028*\"intellectual\" + 0.028*\"correct\" + '\n",
      "  '0.028*\"national\" + 0.028*\"illegible\" + 0.028*\"limit\" + '\n",
      "  '0.019*\"hierarchical\"'),\n",
      " (2,\n",
      "  '0.178*\"open\" + 0.075*\"difficult\" + 0.056*\"large\" + 0.047*\"average\" + '\n",
      "  '0.037*\"additional\" + 0.037*\"common\" + 0.028*\"public\" + 0.028*\"blue\" + '\n",
      "  '0.028*\"initial\" + 0.019*\"relevant\"'),\n",
      " (3,\n",
      "  '0.196*\"automatic\" + 0.062*\"philosophical\" + 0.052*\"significant\" + '\n",
      "  '0.052*\"neural\" + 0.031*\"essential\" + 0.031*\"european\" + 0.031*\"full\" + '\n",
      "  '0.031*\"impossible\" + 0.021*\"large\" + 0.010*\"ancient\"'),\n",
      " (4,\n",
      "  '0.150*\"online\" + 0.150*\"issn\" + 0.084*\"michel\" + 0.047*\"easy\" + '\n",
      "  '0.047*\"multiple\" + 0.047*\"main\" + 0.047*\"rdfs\" + 0.028*\"detail\" + '\n",
      "  '0.028*\"single\" + 0.019*\"strauss\"')]\n",
      "\n",
      "Coherence Score:  0.8423725838218257\n"
     ]
    }
   ],
   "source": [
    "pprint(aggregate[1][5].show_topics())\n",
    "\n",
    "# Compute Coherence Score\n",
    "coherence_model_ldamallet = CoherenceModel(model=aggregate[1][5], texts=aggregate[1][1], dictionary=aggregate[1][2], coherence='c_v')\n",
    "coherence_ldamallet = coherence_model_ldamallet.get_coherence()\n",
    "print('\\nCoherence Score: ', coherence_ldamallet)"
   ]
  },
  {
   "cell_type": "code",
   "execution_count": 28,
   "metadata": {},
   "outputs": [],
   "source": [
    "model_list, coherence_values = compute_coherence_values(dictionary=aggregate[1][2], corpus=aggregate[1][3], texts=aggregate[1][1], start=2, limit=40, step=6)\n"
   ]
  },
  {
   "cell_type": "code",
   "execution_count": 29,
   "metadata": {},
   "outputs": [
    {
     "data": {
      "image/png": "[encoded data removed]",
      "text/plain": [
       "<Figure size 432x288 with 1 Axes>"
      ]
     },
     "metadata": {
      "needs_background": "light"
     },
     "output_type": "display_data"
    }
   ],
   "source": [
    "limit=40; start=2; step=6;\n",
    "x = range(start, limit, step)\n",
    "plt.plot(x, coherence_values)\n",
    "plt.xlabel(\"Num Topics\")\n",
    "plt.ylabel(\"Coherence score\")\n",
    "plt.legend((\"coherence_values\"), loc='best')\n",
    "plt.show()"
   ]
  },
  {
   "cell_type": "markdown",
   "metadata": {},
   "source": [
    "# Tópicos levando em conta os Adjetivos e Substantivos\n"
   ]
  },
  {
   "cell_type": "code",
   "execution_count": 30,
   "metadata": {},
   "outputs": [
    {
     "name": "stdout",
     "output_type": "stream",
     "text": [
      "[(0,\n",
      "  '0.048*\"project\" + 0.040*\"issn\" + 0.021*\"handwriting\" + 0.018*\"historical\" + '\n",
      "  '0.018*\"time\" + 0.016*\"france\" + 0.014*\"example\" + 0.013*\"dictionary\" + '\n",
      "  '0.011*\"difficult\" + 0.011*\"system\"'),\n",
      " (1,\n",
      "  '0.076*\"transkribus\" + 0.051*\"humanity\" + 0.050*\"access\" + 0.041*\"open\" + '\n",
      "  '0.034*\"document\" + 0.025*\"possible\" + 0.023*\"difficulty\" + 0.021*\"box\" + '\n",
      "  '0.017*\"org\" + 0.016*\"space\"'),\n",
      " (2,\n",
      "  '0.079*\"datum\" + 0.069*\"image\" + 0.050*\"note\" + 0.043*\"archive\" + '\n",
      "  '0.041*\"network\" + 0.035*\"software\" + 0.034*\"word\" + 0.018*\"neural\" + '\n",
      "  '0.016*\"overview\" + 0.014*\"training\"'),\n",
      " (3,\n",
      "  '0.053*\"transcription\" + 0.035*\"online\" + 0.030*\"text\" + 0.028*\"tool\" + '\n",
      "  '0.028*\"corpus\" + 0.025*\"automatic\" + 0.023*\"mining\" + 0.023*\"manuscript\" + '\n",
      "  '0.019*\"line\" + 0.018*\"new\"'),\n",
      " (4,\n",
      "  '0.097*\"foucault\" + 0.084*\"journal\" + 0.076*\"october\" + 0.070*\"digital\" + '\n",
      "  '0.029*\"transcribe\" + 0.016*\"figure\" + 0.013*\"rate\" + 0.013*\"letter\" + '\n",
      "  '0.012*\"able\" + 0.009*\"abbreviation\"')]\n"
     ]
    }
   ],
   "source": [
    "pprint(aggregate[2][4].print_topics())\n",
    "doc_lda = aggregate[2][4][aggregate[2][3]]"
   ]
  },
  {
   "cell_type": "code",
   "execution_count": 31,
   "metadata": {},
   "outputs": [
    {
     "name": "stdout",
     "output_type": "stream",
     "text": [
      "\n",
      "Perplexity:  -7.948841153131437\n",
      "\n",
      "Coherence Score:  0.8416810623086814\n"
     ]
    }
   ],
   "source": [
    "print('\\nPerplexity: ', aggregate[2][4].log_perplexity(aggregate[2][3]))  # a measure of how good the model is. lower the better.\n",
    "\n",
    "# Compute Coherence Score\n",
    "coherence_model_lda = CoherenceModel(model=aggregate[2][4], texts=aggregate[2][1], dictionary=aggregate[2][2], coherence='c_v')\n",
    "coherence_lda = coherence_model_lda.get_coherence()\n",
    "print('\\nCoherence Score: ', coherence_lda)"
   ]
  },
  {
   "cell_type": "code",
   "execution_count": 32,
   "metadata": {},
   "outputs": [
    {
     "data": {
      "text/html": [
       "\n",
       "<link rel=\"stylesheet\" type=\"text/css\" href=\"https://cdn.rawgit.com/bmabey/pyLDAvis/files/ldavis.v1.0.0.css\">\n",
       "\n",
       "\n",
       "<div id=\"ldavis_el150151403833072814168302160741\"></div>\n",
       "<script type=\"text/javascript\">\n",
       "\n",
       "var ldavis_el150151403833072814168302160741_data = {\"mdsDat\": {\"x\": [0.23895870341898923, -0.045973331120062376, -0.057584820678105636, -0.06057187772785917, -0.07482867389296205], \"y\": [-0.009840829300418078, 0.016346817261228445, 0.04390162803978359, 0.1304081050252871, -0.18081572102588095], \"topics\": [1, 2, 3, 4, 5], \"cluster\": [1, 1, 1, 1, 1], \"Freq\": [33.20256423950195, 18.024707794189453, 16.431812286376953, 16.319318771362305, 16.021595001220703]}, \"tinfo\": {\"Category\": [\"Default\", \"Default\", \"Default\", \"Default\", \"Default\", \"Default\", \"Default\", \"Default\", \"Default\", \"Default\", \"Default\", \"Default\", \"Default\", \"Default\", \"Default\", \"Default\", \"Default\", \"Default\", \"Default\", \"Default\", \"Default\", \"Default\", \"Default\", \"Default\", \"Default\", \"Default\", \"Default\", \"Default\", \"Default\", \"Default\", \"Topic1\", \"Topic1\", \"Topic1\", \"Topic1\", \"Topic1\", \"Topic1\", \"Topic1\", \"Topic1\", \"Topic1\", \"Topic1\", \"Topic1\", \"Topic1\", \"Topic1\", \"Topic1\", \"Topic1\", \"Topic1\", \"Topic1\", \"Topic1\", \"Topic1\", \"Topic1\", \"Topic1\", \"Topic1\", \"Topic1\", \"Topic1\", \"Topic1\", \"Topic1\", \"Topic1\", \"Topic1\", \"Topic1\", \"Topic1\", \"Topic1\", \"Topic1\", \"Topic1\", \"Topic2\", \"Topic2\", \"Topic2\", \"Topic2\", \"Topic2\", \"Topic2\", \"Topic2\", \"Topic2\", \"Topic2\", \"Topic2\", \"Topic2\", \"Topic2\", \"Topic2\", \"Topic2\", \"Topic2\", \"Topic2\", \"Topic2\", \"Topic2\", \"Topic2\", \"Topic2\", \"Topic2\", \"Topic2\", \"Topic2\", \"Topic2\", \"Topic2\", \"Topic2\", \"Topic2\", \"Topic2\", \"Topic2\", \"Topic2\", \"Topic2\", \"Topic3\", \"Topic3\", \"Topic3\", \"Topic3\", \"Topic3\", \"Topic3\", \"Topic3\", \"Topic3\", \"Topic3\", \"Topic3\", \"Topic3\", \"Topic3\", \"Topic3\", \"Topic3\", \"Topic3\", \"Topic3\", \"Topic3\", \"Topic3\", \"Topic3\", \"Topic3\", \"Topic3\", \"Topic3\", \"Topic3\", \"Topic3\", \"Topic3\", \"Topic3\", \"Topic3\", \"Topic3\", \"Topic3\", \"Topic3\", \"Topic3\", \"Topic3\", \"Topic4\", \"Topic4\", \"Topic4\", \"Topic4\", \"Topic4\", \"Topic4\", \"Topic4\", \"Topic4\", \"Topic4\", \"Topic4\", \"Topic4\", \"Topic4\", \"Topic4\", \"Topic4\", \"Topic4\", \"Topic4\", \"Topic4\", \"Topic4\", \"Topic4\", \"Topic4\", \"Topic4\", \"Topic4\", \"Topic4\", \"Topic4\", \"Topic4\", \"Topic4\", \"Topic4\", \"Topic4\", \"Topic4\", \"Topic4\", \"Topic4\", \"Topic4\", \"Topic5\", \"Topic5\", \"Topic5\", \"Topic5\", \"Topic5\", \"Topic5\", \"Topic5\", \"Topic5\", \"Topic5\", \"Topic5\", \"Topic5\", \"Topic5\", \"Topic5\", \"Topic5\", \"Topic5\", \"Topic5\", \"Topic5\", \"Topic5\", \"Topic5\", \"Topic5\", \"Topic5\", \"Topic5\", \"Topic5\", \"Topic5\", \"Topic5\", \"Topic5\", \"Topic5\", \"Topic5\", \"Topic5\", \"Topic5\", \"Topic5\", \"Topic5\", \"Topic5\"], \"Freq\": [49.0, 43.0, 39.0, 39.0, 39.0, 35.0, 34.0, 54.0, 26.0, 27.0, 25.0, 25.0, 21.0, 22.0, 21.0, 21.0, 36.0, 17.0, 18.0, 31.0, 17.0, 29.0, 28.0, 15.0, 26.0, 24.0, 13.0, 23.0, 12.0, 12.0, 53.98490905761719, 35.89110565185547, 30.8625431060791, 29.166723251342773, 28.36597442626953, 26.138813018798828, 23.799549102783203, 23.349672317504883, 19.53133201599121, 19.003376007080078, 19.009531021118164, 17.878496170043945, 14.52309799194336, 14.152880668640137, 10.732320785522461, 11.109436988830566, 10.55174446105957, 10.674582481384277, 8.666007995605469, 10.09809684753418, 7.5610527992248535, 11.136523246765137, 11.136523246765137, 11.136521339416504, 10.50859546661377, 9.705167770385742, 6.44638729095459, 6.199523448944092, 8.92857551574707, 6.307118892669678, 9.19074535369873, 9.095184326171875, 7.405680179595947, 27.0179443359375, 22.29999351501465, 11.73320198059082, 9.780782699584961, 10.225435256958008, 7.6496758460998535, 7.39116096496582, 6.297534465789795, 5.9336466789245605, 5.915536880493164, 5.487249374389648, 5.12928581237793, 5.017186641693115, 5.091526985168457, 8.790633201599121, 4.900965690612793, 4.73983097076416, 4.8346662521362305, 4.637693881988525, 5.3557329177856445, 5.402137279510498, 4.413508892059326, 4.285123348236084, 4.689732551574707, 3.8609862327575684, 3.7153964042663574, 3.6530184745788574, 4.019252300262451, 4.421015739440918, 4.35978364944458, 3.929598093032837, 38.70082473754883, 26.08901596069336, 25.18951988220215, 20.727928161621094, 17.414186477661133, 12.744979858398438, 10.579180717468262, 11.557470321655273, 8.110791206359863, 8.095391273498535, 8.759099960327148, 5.692467212677002, 4.922700881958008, 5.626389026641846, 4.757223606109619, 4.103629112243652, 3.5715460777282715, 3.249211072921753, 2.7371349334716797, 2.6810824871063232, 2.2099788188934326, 3.655731201171875, 2.544684410095215, 3.3480257987976074, 1.8093461990356445, 3.2447550296783447, 1.6467006206512451, 1.4596492052078247, 1.9605088233947754, 1.1801295280456543, 1.6122967004776, 1.681958794593811, 48.83115005493164, 42.62553024291992, 38.60462188720703, 35.17835998535156, 14.590174674987793, 8.131244659423828, 6.634554862976074, 6.5837721824646, 4.617692470550537, 3.828062057495117, 3.7519779205322266, 5.990035057067871, 2.5086426734924316, 2.4009881019592285, 2.349820613861084, 2.131333112716675, 1.8715583086013794, 3.09014892578125, 2.1355419158935547, 2.9088351726531982, 1.7980406284332275, 1.6624553203582764, 2.1968772411346436, 1.268466591835022, 1.8132610321044922, 1.0428383350372314, 1.6103079319000244, 0.9998586177825928, 1.8651553392410278, 1.3942961692810059, 1.6910921335220337, 1.572405219078064, 39.17835998535156, 34.037864685058594, 24.73232650756836, 21.160823822021484, 20.474977493286133, 17.357023239135742, 16.891324996948242, 9.035189628601074, 7.021615505218506, 5.57008171081543, 8.155070304870605, 4.631394386291504, 4.507384777069092, 3.8624799251556396, 4.110498905181885, 3.6832900047302246, 2.2934672832489014, 3.127361297607422, 2.6809446811676025, 2.2955522537231445, 4.401994228363037, 2.1350221633911133, 2.1350221633911133, 2.125490665435791, 1.611345887184143, 2.0197935104370117, 1.4724856615066528, 1.3523274660110474, 1.0859708786010742, 1.1505001783370972, 1.6587624549865723, 1.4893579483032227, 1.4978995323181152], \"Term\": [\"foucault\", \"journal\", \"datum\", \"october\", \"transkribus\", \"digital\", \"image\", \"transcription\", \"humanity\", \"project\", \"access\", \"note\", \"archive\", \"issn\", \"network\", \"open\", \"online\", \"software\", \"document\", \"text\", \"word\", \"tool\", \"corpus\", \"transcribe\", \"automatic\", \"mining\", \"possible\", \"manuscript\", \"difficulty\", \"handwriting\", \"transcription\", \"online\", \"text\", \"tool\", \"corpus\", \"automatic\", \"mining\", \"manuscript\", \"line\", \"search\", \"new\", \"recognition\", \"work\", \"platform\", \"result\", \"main\", \"character\", \"general\", \"transcript\", \"bibliotheque\", \"annotation\", \"prospect\", \"experiment\", \"assessment\", \"eman\", \"philosophical\", \"large\", \"team\", \"feature\", \"segmentation\", \"nationale\", \"methodological\", \"remark\", \"project\", \"issn\", \"handwriting\", \"time\", \"historical\", \"example\", \"dictionary\", \"difficult\", \"system\", \"user\", \"phase\", \"type\", \"way\", \"number\", \"france\", \"folio\", \"information\", \"specialist\", \"account\", \"additional\", \"full\", \"difference\", \"research\", \"complex\", \"process\", \"record\", \"institution\", \"author\", \"muhlberger\", \"future\", \"correction\", \"transkribus\", \"humanity\", \"access\", \"open\", \"document\", \"possible\", \"box\", \"difficulty\", \"space\", \"term\", \"org\", \"different\", \"several\", \"fur\", \"test\", \"particular\", \"analysis\", \"page\", \"source\", \"tend\", \"massot\", \"editor\", \"knowledge\", \"window\", \"objective\", \"terbul\", \"notice\", \"essential\", \"dimension\", \"inventory\", \"elisabetta\", \"fuzzyquery\", \"foucault\", \"journal\", \"october\", \"digital\", \"transcribe\", \"figure\", \"rate\", \"letter\", \"abbreviation\", \"certain\", \"easy\", \"able\", \"form\", \"content\", \"complete\", \"marie\", \"specific\", \"limit\", \"exploration\", \"education\", \"entity\", \"degree\", \"region\", \"development\", \"area\", \"end\", \"theory\", \"savoir\", \"path\", \"illegible\", \"fuzzyquery\", \"scott\", \"datum\", \"image\", \"note\", \"archive\", \"network\", \"software\", \"word\", \"neural\", \"training\", \"first\", \"overview\", \"model\", \"facilitate\", \"next\", \"fuzzy\", \"collection\", \"second\", \"service\", \"decipher\", \"relevant\", \"hal\", \"sforzini\", \"laure\", \"plan\", \"file\", \"scale\", \"folder\", \"significant\", \"detail\", \"problem\", \"understanding\", \"scott\", \"fuzzyquery\"], \"Total\": [49.0, 43.0, 39.0, 39.0, 39.0, 35.0, 34.0, 54.0, 26.0, 27.0, 25.0, 25.0, 21.0, 22.0, 21.0, 21.0, 36.0, 17.0, 18.0, 31.0, 17.0, 29.0, 28.0, 15.0, 26.0, 24.0, 13.0, 23.0, 12.0, 12.0, 54.56716537475586, 36.550315856933594, 31.440792083740234, 29.759187698364258, 28.9475040435791, 26.728822708129883, 24.38404655456543, 23.930688858032227, 20.113994598388672, 19.5921688079834, 19.603403091430664, 18.466148376464844, 15.100693702697754, 14.733095169067383, 11.325912475585938, 11.738077163696289, 11.180523872375488, 11.333884239196777, 9.26169490814209, 10.825366973876953, 8.14734935760498, 12.00557804107666, 12.00557804107666, 12.005576133728027, 11.442988395690918, 10.573308944702148, 7.034459114074707, 6.778661727905273, 9.780596733093262, 6.944176197052002, 10.373552322387695, 10.346278190612793, 10.005425453186035, 27.611408233642578, 22.89691734313965, 12.350159645080566, 10.368088722229004, 10.844148635864258, 8.261134147644043, 8.01758098602295, 6.90268611907959, 6.529006004333496, 6.51385498046875, 6.091558933258057, 5.7226691246032715, 5.60789680480957, 5.704212188720703, 9.887526512145996, 5.517317771911621, 5.341813087463379, 5.455541610717773, 5.247162342071533, 6.068456172943115, 6.127033710479736, 5.011544704437256, 4.8832197189331055, 5.367763042449951, 4.4529194831848145, 4.324574947357178, 4.2646989822387695, 4.6938276290893555, 5.191666603088379, 5.126048564910889, 4.943624496459961, 39.306800842285156, 26.699718475341797, 25.79697036743164, 21.337034225463867, 18.019439697265625, 13.349087715148926, 11.182095527648926, 12.229300498962402, 8.744528770446777, 8.733038902282715, 9.552870750427246, 6.298393726348877, 5.540760040283203, 6.36306095123291, 5.404483318328857, 4.737647533416748, 4.218725681304932, 3.8512661457061768, 3.332443952560425, 3.38906192779541, 2.8345494270324707, 4.709416389465332, 3.35522723197937, 4.448951721191406, 2.422471284866333, 4.347217082977295, 2.356297492980957, 2.1102001667022705, 2.916217803955078, 1.7801589965820312, 2.6445648670196533, 9.830066680908203, 49.44257354736328, 43.2398796081543, 39.23330307006836, 35.79254913330078, 15.205987930297852, 8.741357803344727, 7.260674953460693, 7.212824821472168, 5.3483381271362305, 4.458858013153076, 4.399094581604004, 7.274419784545898, 3.13975191116333, 3.046083688735962, 2.9932596683502197, 2.758678674697876, 2.474426031112671, 4.1367645263671875, 2.8855392932891846, 3.9542887210845947, 2.50516939163208, 2.3785221576690674, 3.192117929458618, 1.897910237312317, 2.873844861984253, 1.664076566696167, 2.5870866775512695, 1.6442933082580566, 3.2328639030456543, 2.7207484245300293, 9.830066680908203, 9.267253875732422, 39.79193115234375, 34.654048919677734, 25.34044647216797, 21.792757034301758, 21.11386489868164, 17.977676391601562, 17.504850387573242, 9.688104629516602, 7.652813911437988, 6.172808647155762, 9.086424827575684, 5.239696025848389, 5.1427764892578125, 4.512296676635742, 4.8088459968566895, 4.337780952453613, 2.897528648376465, 3.9778950214385986, 3.4121696949005127, 2.926516532897949, 5.679323673248291, 2.767301559448242, 2.767301559448242, 2.916144371032715, 2.2141432762145996, 2.880929946899414, 2.112328052520752, 1.960810661315918, 1.6913588047027588, 1.8446645736694336, 2.8539724349975586, 9.267253875732422, 9.830066680908203], \"loglift\": [30.0, 29.0, 28.0, 27.0, 26.0, 25.0, 24.0, 23.0, 22.0, 21.0, 20.0, 19.0, 18.0, 17.0, 16.0, 15.0, 14.0, 13.0, 12.0, 11.0, 10.0, 9.0, 8.0, 7.0, 6.0, 5.0, 4.0, 3.0, 2.0, 1.0, 1.0917999744415283, 1.0843000411987305, 1.0839999914169312, 1.0823999643325806, 1.082200050354004, 1.080199956893921, 1.0782999992370605, 1.0779999494552612, 1.073099970817566, 1.0720000267028809, 1.0717999935150146, 1.070199966430664, 1.0635000467300415, 1.062399983406067, 1.048699975013733, 1.0475000143051147, 1.044700026512146, 1.0426000356674194, 1.0361000299453735, 1.0329999923706055, 1.027899980545044, 1.027400016784668, 1.027400016784668, 1.027400016784668, 1.0174000263214111, 1.0168999433517456, 1.0152000188827515, 1.013200044631958, 1.0113999843597412, 1.0062999725341797, 0.9815000295639038, 0.9736999869346619, 0.8016999959945679, 1.6916999816894531, 1.687000036239624, 1.6621999740600586, 1.6550999879837036, 1.6547000408172607, 1.6365000009536743, 1.632099986076355, 1.6217000484466553, 1.617799997329712, 1.6171000003814697, 1.6088999509811401, 1.6039999723434448, 1.6021000146865845, 1.5997999906539917, 1.5958000421524048, 1.5950000286102295, 1.5938999652862549, 1.5925999879837036, 1.590000033378601, 1.5885000228881836, 1.587499976158142, 1.586400032043457, 1.582800030708313, 1.5784000158309937, 1.5707999467849731, 1.5615999698638916, 1.5585999488830566, 1.5583000183105469, 1.5527000427246094, 1.5514999628067017, 1.4838999509811401, 1.7904000282287598, 1.7827999591827393, 1.782099962234497, 1.7769999504089355, 1.7718000411987305, 1.759600043296814, 1.750499963760376, 1.749400019645691, 1.7307000160217285, 1.7301000356674194, 1.7192000150680542, 1.704800009727478, 1.6877000331878662, 1.6828999519348145, 1.6784000396728516, 1.6622999906539917, 1.6394000053405762, 1.6360000371932983, 1.6092000007629395, 1.5715999603271484, 1.5571000576019287, 1.5527000427246094, 1.5293999910354614, 1.5217000246047974, 1.5140999555587769, 1.5134999752044678, 1.44760000705719, 1.437399983406067, 1.4089000225067139, 1.3948999643325806, 1.3111000061035156, 0.04050000011920929, 1.8004000186920166, 1.7984999418258667, 1.7967000007629395, 1.7955000400543213, 1.7714999914169312, 1.7404999732971191, 1.722599983215332, 1.72160005569458, 1.6658999919891357, 1.6603000164031982, 1.6536999940872192, 1.6186000108718872, 1.5884000062942505, 1.5748000144958496, 1.5707999467849731, 1.554800033569336, 1.5335999727249146, 1.5211000442504883, 1.5118000507354736, 1.5058000087738037, 1.4811999797821045, 1.4545999765396118, 1.4392000436782837, 1.4098999500274658, 1.3523000478744507, 1.3454999923706055, 1.3387000560760498, 1.3154000043869019, 1.2627999782562256, 1.1442999839782715, 0.05270000174641609, 0.03889999911189079, 1.8157000541687012, 1.8133000135421753, 1.8069000244140625, 1.801800012588501, 1.8005000352859497, 1.7961000204086304, 1.7956000566482544, 1.7615000009536743, 1.7452000379562378, 1.7285000085830688, 1.723099946975708, 1.707800030708313, 1.6993999481201172, 1.6756999492645264, 1.674299955368042, 1.6677000522613525, 1.5973999500274658, 1.5907000303268433, 1.5901000499725342, 1.5884000062942505, 1.5765000581741333, 1.5717999935150146, 1.5717999935150146, 1.5149999856948853, 1.5133999586105347, 1.476099967956543, 1.4703999757766724, 1.4596999883651733, 1.388200044631958, 1.3590999841690063, 1.288599967956543, 0.003100000089034438, -0.05009999871253967], \"logprob\": [30.0, 29.0, 28.0, 27.0, 26.0, 25.0, 24.0, 23.0, 22.0, 21.0, 20.0, 19.0, 18.0, 17.0, 16.0, 15.0, 14.0, 13.0, 12.0, 11.0, 10.0, 9.0, 8.0, 7.0, 6.0, 5.0, 4.0, 3.0, 2.0, 1.0, -2.9465999603271484, -3.35479998588562, -3.5058000087738037, -3.562299966812134, -3.590100049972534, -3.6719000339508057, -3.765700101852417, -3.7846999168395996, -3.9632999897003174, -3.9907000064849854, -3.9904000759124756, -4.051700115203857, -4.2596001625061035, -4.285399913787842, -4.562099933624268, -4.527500152587891, -4.578999996185303, -4.567500114440918, -4.775899887084961, -4.623000144958496, -4.912300109863281, -4.525100231170654, -4.525100231170654, -4.525100231170654, -4.583099842071533, -4.662700176239014, -5.071800231933594, -5.110899925231934, -4.746099948883057, -5.093599796295166, -4.717100143432617, -4.72760009765625, -4.93310022354126, -3.027899980545044, -3.219899892807007, -3.861999988555908, -4.044000148773193, -3.9995999336242676, -4.28980016708374, -4.32420015335083, -4.484300136566162, -4.543799877166748, -4.546899795532227, -4.622000217437744, -4.689499855041504, -4.711599826812744, -4.696899890899658, -4.1508002281188965, -4.735000133514404, -4.768400192260742, -4.748600006103516, -4.790200233459473, -4.646299839019775, -4.637599945068359, -4.839799880981445, -4.86929988861084, -4.779099941253662, -4.973499774932861, -5.01200008392334, -5.028900146484375, -4.933300018310547, -4.838099956512451, -4.8520002365112305, -4.955900192260742, -2.5761001110076904, -2.970400094985962, -3.005500078201294, -3.2004001140594482, -3.3745999336242676, -3.686800003051758, -3.872999906539917, -3.784600019454956, -4.138700008392334, -4.140600204467773, -4.061800003051758, -4.492800235748291, -4.6381001472473145, -4.504499912261963, -4.672299861907959, -4.820000171661377, -4.958899974822998, -5.053500175476074, -5.224999904632568, -5.245699882507324, -5.438899993896484, -4.9355998039245605, -5.297900199890137, -5.023499965667725, -5.638999938964844, -5.054900169372559, -5.733099937438965, -5.853700160980225, -5.558700084686279, -6.066299915313721, -5.754300117492676, -5.711999893188477, -2.336699962615967, -2.472599983215332, -2.571700096130371, -2.664599895477295, -3.5446999073028564, -4.129300117492676, -4.332799911499023, -4.340400218963623, -4.695199966430664, -4.882699966430664, -4.9028000831604, -4.434999942779541, -5.305300235748291, -5.3491997718811035, -5.370699882507324, -5.468299865722656, -5.598299980163574, -5.096799850463867, -5.466300010681152, -5.157299995422363, -5.638400077819824, -5.716800212860107, -5.438000202178955, -5.987199783325195, -5.629899978637695, -6.18310022354126, -5.748600006103516, -6.225200176239014, -5.6016998291015625, -5.8927001953125, -5.699699878692627, -5.77239990234375, -2.5385000705718994, -2.6791999340057373, -2.998500108718872, -3.1545000076293945, -3.1874001026153564, -3.35260009765625, -3.3798000812530518, -4.005499839782715, -4.257599830627441, -4.489200115203857, -4.107999801635742, -4.673799991607666, -4.700900077819824, -4.855299949645996, -4.793099880218506, -4.9028000831604, -5.3765997886657715, -5.066400051116943, -5.2204999923706055, -5.375699996948242, -4.724599838256836, -5.448200225830078, -5.448200225830078, -5.452600002288818, -5.729599952697754, -5.503600120544434, -5.819699764251709, -5.904799938201904, -6.124199867248535, -6.066400051116943, -5.7006001472473145, -5.808300018310547, -5.802599906921387]}, \"token.table\": {\"Topic\": [4, 4, 3, 2, 2, 3, 1, 5, 4, 1, 2, 1, 1, 3, 4, 1, 5, 4, 2, 4, 1, 2, 5, 5, 4, 5, 4, 2, 2, 3, 2, 3, 4, 3, 3, 4, 3, 4, 3, 1, 4, 4, 3, 2, 1, 4, 5, 1, 4, 5, 5, 5, 2, 4, 4, 2, 2, 3, 2, 5, 1, 2, 3, 4, 5, 1, 5, 2, 2, 3, 1, 4, 5, 2, 2, 3, 2, 4, 3, 1, 5, 4, 4, 1, 1, 1, 4, 3, 1, 1, 5, 2, 1, 5, 5, 1, 5, 5, 3, 2, 3, 4, 1, 3, 3, 5, 3, 3, 4, 2, 1, 5, 1, 3, 5, 2, 2, 1, 4, 1, 2, 4, 5, 1, 2, 3, 4, 5, 2, 1, 4, 5, 1, 2, 3, 4, 5, 1, 5, 1, 5, 3, 5, 5, 5, 3, 3, 2, 4, 2, 1, 3, 3, 3, 3, 1, 4, 2, 1, 5, 4, 1, 1, 3, 2, 5, 2, 2, 3, 5, 1], \"Freq\": [0.9348698258399963, 0.8248080611228943, 0.9691060185432434, 0.952895998954773, 0.8239327669143677, 0.9481536149978638, 0.9819144606590271, 0.9636229276657104, 0.6959317922592163, 0.916240930557251, 0.8521829843521118, 0.9727327227592468, 0.9237562417984009, 0.9837154150009155, 0.8970906734466553, 0.9838536977767944, 0.9221304655075073, 0.6681678891181946, 0.9314867258071899, 0.6565808057785034, 0.967268168926239, 0.8091229200363159, 0.9800981879234314, 0.8792060017585754, 0.8408582806587219, 0.5912405848503113, 0.52689528465271, 0.8730812668800354, 0.7981570959091187, 0.9526238441467285, 0.8692268133163452, 0.9812499284744263, 0.9778571724891663, 0.6858198046684265, 0.9434255361557007, 0.9092780351638794, 0.8493621349334717, 0.7586699724197388, 0.7562680840492249, 0.9612873792648315, 0.6009339094161987, 0.7983492016792297, 0.47388869524002075, 0.9683900475502014, 0.9162407517433167, 0.6931113600730896, 0.9722374677658081, 0.9201892614364624, 0.9151896238327026, 0.9032838940620422, 0.9720048308372498, 0.47341132164001465, 0.9062374234199524, 0.9554895162582397, 0.9910487532615662, 0.9102377891540527, 0.8160555958747864, 0.9429423809051514, 0.7803281545639038, 0.8318004012107849, 0.30518612265586853, 0.20345741510391235, 0.20345741510391235, 0.20345741510391235, 0.10172870755195618, 0.9705410599708557, 0.7043092250823975, 0.9716473817825317, 0.9221562743186951, 0.9737930297851562, 0.3675459325313568, 0.3675459325313568, 0.9811263084411621, 0.936011791229248, 0.937932550907135, 0.5617475509643555, 0.9608280062675476, 0.9944523572921753, 0.8941272497177124, 0.852944016456604, 0.7227256894111633, 0.9704935550689697, 0.7252044677734375, 0.9943325519561768, 0.9371210932731628, 0.9611089825630188, 0.7249847650527954, 0.7055795192718506, 0.8698779940605164, 0.9842500686645508, 0.9542538523674011, 0.7704654932022095, 0.8675909638404846, 0.9472448825836182, 0.9289742708206177, 0.969219446182251, 0.8864665627479553, 0.986565113067627, 0.8487892746925354, 0.876545250415802, 0.825603187084198, 0.9940534234046936, 0.9849436283111572, 0.9842042326927185, 0.9421252012252808, 0.8804342746734619, 0.7789645791053772, 0.8443008661270142, 0.618646502494812, 0.820807933807373, 0.9457777142524719, 0.6858370900154114, 0.9502416253089905, 0.9738492965698242, 0.5421040058135986, 0.8982870578765869, 0.9778566956520081, 0.9162407517433167, 0.9640976786613464, 0.9747565984725952, 0.9249463677406311, 0.6265432834625244, 0.6834063529968262, 0.6996204257011414, 0.09994577616453171, 0.09994577616453171, 0.09994577616453171, 0.09994577616453171, 0.8191316723823547, 0.9712241888046265, 0.6081640124320984, 0.6942203044891357, 0.3237204849720001, 0.21581366658210754, 0.21581366658210754, 0.21581366658210754, 0.10790683329105377, 0.9697751998901367, 0.6902433633804321, 0.8640334010124207, 0.7541677355766296, 0.9024032950401306, 0.7227256894111633, 0.5099931359291077, 0.9456171989440918, 0.9002401828765869, 0.9148577451705933, 0.9164993166923523, 0.8082682490348816, 0.9189760088920593, 0.8851304650306702, 0.8852006793022156, 0.6900966763496399, 0.9160614013671875, 0.9251578450202942, 0.9859802722930908, 0.7730703353881836, 0.9644979238510132, 0.9744889736175537, 0.914696216583252, 0.9864534735679626, 0.9717443585395813, 0.9896060824394226, 0.9921947121620178, 0.8737181425094604, 0.7007775902748108, 0.9211135506629944, 0.8915998339653015, 0.6743161678314209, 0.9711593985557556, 0.9933318495750427], \"Term\": [\"abbreviation\", \"able\", \"access\", \"account\", \"additional\", \"analysis\", \"annotation\", \"archive\", \"area\", \"assessment\", \"author\", \"automatic\", \"bibliotheque\", \"box\", \"certain\", \"character\", \"collection\", \"complete\", \"complex\", \"content\", \"corpus\", \"correction\", \"datum\", \"decipher\", \"degree\", \"detail\", \"development\", \"dictionary\", \"difference\", \"different\", \"difficult\", \"difficulty\", \"digital\", \"dimension\", \"document\", \"easy\", \"editor\", \"education\", \"elisabetta\", \"eman\", \"end\", \"entity\", \"essential\", \"example\", \"experiment\", \"exploration\", \"facilitate\", \"feature\", \"figure\", \"file\", \"first\", \"folder\", \"folio\", \"form\", \"foucault\", \"france\", \"full\", \"fur\", \"future\", \"fuzzy\", \"fuzzyquery\", \"fuzzyquery\", \"fuzzyquery\", \"fuzzyquery\", \"fuzzyquery\", \"general\", \"hal\", \"handwriting\", \"historical\", \"humanity\", \"illegible\", \"illegible\", \"image\", \"information\", \"institution\", \"inventory\", \"issn\", \"journal\", \"knowledge\", \"large\", \"laure\", \"letter\", \"limit\", \"line\", \"main\", \"manuscript\", \"marie\", \"massot\", \"methodological\", \"mining\", \"model\", \"muhlberger\", \"nationale\", \"network\", \"neural\", \"new\", \"next\", \"note\", \"notice\", \"number\", \"objective\", \"october\", \"online\", \"open\", \"org\", \"overview\", \"page\", \"particular\", \"path\", \"phase\", \"philosophical\", \"plan\", \"platform\", \"possible\", \"problem\", \"process\", \"project\", \"prospect\", \"rate\", \"recognition\", \"record\", \"region\", \"relevant\", \"remark\", \"remark\", \"remark\", \"remark\", \"remark\", \"research\", \"result\", \"savoir\", \"scale\", \"scott\", \"scott\", \"scott\", \"scott\", \"scott\", \"search\", \"second\", \"segmentation\", \"service\", \"several\", \"sforzini\", \"significant\", \"software\", \"source\", \"space\", \"specialist\", \"specific\", \"system\", \"team\", \"tend\", \"terbul\", \"term\", \"test\", \"text\", \"theory\", \"time\", \"tool\", \"training\", \"transcribe\", \"transcript\", \"transcription\", \"transkribus\", \"type\", \"understanding\", \"user\", \"way\", \"window\", \"word\", \"work\"]}, \"R\": 30, \"lambda.step\": 0.01, \"plot.opts\": {\"xlab\": \"PC1\", \"ylab\": \"PC2\"}, \"topic.order\": [4, 1, 2, 5, 3]};\n",
       "\n",
       "function LDAvis_load_lib(url, callback){\n",
       "  var s = document.createElement('script');\n",
       "  s.src = url;\n",
       "  s.async = true;\n",
       "  s.onreadystatechange = s.onload = callback;\n",
       "  s.onerror = function(){console.warn(\"failed to load library \" + url);};\n",
       "  document.getElementsByTagName(\"head\")[0].appendChild(s);\n",
       "}\n",
       "\n",
       "if(typeof(LDAvis) !== \"undefined\"){\n",
       "   // already loaded: just create the visualization\n",
       "   !function(LDAvis){\n",
       "       new LDAvis(\"#\" + \"ldavis_el150151403833072814168302160741\", ldavis_el150151403833072814168302160741_data);\n",
       "   }(LDAvis);\n",
       "}else if(typeof define === \"function\" && define.amd){\n",
       "   // require.js is available: use it to load d3/LDAvis\n",
       "   require.config({paths: {d3: \"https://cdnjs.cloudflare.com/ajax/libs/d3/3.5.5/d3.min\"}});\n",
       "   require([\"d3\"], function(d3){\n",
       "      window.d3 = d3;\n",
       "      LDAvis_load_lib(\"https://cdn.rawgit.com/bmabey/pyLDAvis/files/ldavis.v1.0.0.js\", function(){\n",
       "        new LDAvis(\"#\" + \"ldavis_el150151403833072814168302160741\", ldavis_el150151403833072814168302160741_data);\n",
       "      });\n",
       "    });\n",
       "}else{\n",
       "    // require.js not available: dynamically load d3 & LDAvis\n",
       "    LDAvis_load_lib(\"https://cdnjs.cloudflare.com/ajax/libs/d3/3.5.5/d3.min.js\", function(){\n",
       "         LDAvis_load_lib(\"https://cdn.rawgit.com/bmabey/pyLDAvis/files/ldavis.v1.0.0.js\", function(){\n",
       "                 new LDAvis(\"#\" + \"ldavis_el150151403833072814168302160741\", ldavis_el150151403833072814168302160741_data);\n",
       "            })\n",
       "         });\n",
       "}\n",
       "</script>"
      ],
      "text/plain": [
       "PreparedData(topic_coordinates=              x         y  topics  cluster       Freq\n",
       "topic                                                \n",
       "3      0.238959 -0.009841       1        1  33.202564\n",
       "0     -0.045973  0.016347       2        1  18.024708\n",
       "1     -0.057585  0.043902       3        1  16.431812\n",
       "4     -0.060572  0.130408       4        1  16.319319\n",
       "2     -0.074829 -0.180816       5        1  16.021595, topic_info=     Category       Freq           Term      Total  loglift  logprob\n",
       "1     Default  49.000000       foucault  49.000000  30.0000  30.0000\n",
       "45    Default  43.000000        journal  43.000000  29.0000  29.0000\n",
       "46    Default  39.000000          datum  39.000000  28.0000  28.0000\n",
       "300   Default  39.000000        october  39.000000  27.0000  27.0000\n",
       "3     Default  39.000000    transkribus  39.000000  26.0000  26.0000\n",
       "...       ...        ...            ...        ...      ...      ...\n",
       "167    Topic5   1.085971         detail   1.691359   1.3882  -6.1242\n",
       "410    Topic5   1.150500        problem   1.844665   1.3591  -6.0664\n",
       "315    Topic5   1.658762  understanding   2.853972   1.2886  -5.7006\n",
       "1083   Topic5   1.489358          scott   9.267254   0.0031  -5.8083\n",
       "1059   Topic5   1.497900     fuzzyquery   9.830067  -0.0501  -5.8026\n",
       "\n",
       "[191 rows x 6 columns], token_table=      Topic      Freq          Term\n",
       "term                               \n",
       "819       4  0.934870  abbreviation\n",
       "914       4  0.824808          able\n",
       "9         3  0.969106        access\n",
       "563       2  0.952896       account\n",
       "840       2  0.823933    additional\n",
       "...     ...       ...           ...\n",
       "606       2  0.921114          user\n",
       "199       2  0.891600           way\n",
       "861       3  0.674316        window\n",
       "335       5  0.971159          word\n",
       "93        1  0.993332          work\n",
       "\n",
       "[171 rows x 3 columns], R=30, lambda_step=0.01, plot_opts={'xlab': 'PC1', 'ylab': 'PC2'}, topic_order=[4, 1, 2, 5, 3])"
      ]
     },
     "execution_count": 32,
     "metadata": {},
     "output_type": "execute_result"
    }
   ],
   "source": [
    "pyLDAvis.enable_notebook()\n",
    "vis = pyLDAvis.gensim.prepare(aggregate[2][4], aggregate[2][3], aggregate[2][2])\n",
    "pyLDAvis.save_html(vis, 'Text_HD_LDA_Noun+ADJ.html')\n",
    "vis"
   ]
  },
  {
   "cell_type": "code",
   "execution_count": 33,
   "metadata": {},
   "outputs": [
    {
     "name": "stdout",
     "output_type": "stream",
     "text": [
      "[(0,\n",
      "  '0.078*\"specific\" + 0.068*\"collaborative\" + 0.068*\"historical\" + '\n",
      "  '0.058*\"handwritten\" + 0.058*\"general\" + 0.049*\"methodological\" + '\n",
      "  '0.049*\"nationale\" + 0.039*\"complex\" + 0.039*\"personal\" + 0.039*\"important\"'),\n",
      " (1,\n",
      "  '0.311*\"digital\" + 0.075*\"original\" + 0.075*\"archive\" + '\n",
      "  '0.038*\"heterogeneous\" + 0.028*\"intellectual\" + 0.028*\"correct\" + '\n",
      "  '0.028*\"national\" + 0.028*\"illegible\" + 0.028*\"limit\" + '\n",
      "  '0.019*\"hierarchical\"'),\n",
      " (2,\n",
      "  '0.178*\"open\" + 0.075*\"difficult\" + 0.056*\"large\" + 0.047*\"average\" + '\n",
      "  '0.037*\"additional\" + 0.037*\"common\" + 0.028*\"public\" + 0.028*\"blue\" + '\n",
      "  '0.028*\"initial\" + 0.019*\"relevant\"'),\n",
      " (3,\n",
      "  '0.196*\"automatic\" + 0.062*\"philosophical\" + 0.052*\"significant\" + '\n",
      "  '0.052*\"neural\" + 0.031*\"essential\" + 0.031*\"european\" + 0.031*\"full\" + '\n",
      "  '0.031*\"impossible\" + 0.021*\"large\" + 0.010*\"ancient\"'),\n",
      " (4,\n",
      "  '0.150*\"online\" + 0.150*\"issn\" + 0.084*\"michel\" + 0.047*\"easy\" + '\n",
      "  '0.047*\"multiple\" + 0.047*\"main\" + 0.047*\"rdfs\" + 0.028*\"detail\" + '\n",
      "  '0.028*\"single\" + 0.019*\"strauss\"')]\n",
      "\n",
      "Coherence Score:  0.8449551656047909\n"
     ]
    }
   ],
   "source": [
    "pprint(aggregate[1][5].show_topics())\n",
    "\n",
    "# Compute Coherence Score\n",
    "coherence_model_ldamallet = CoherenceModel(model=aggregate[2][5], texts=aggregate[2][1], dictionary=aggregate[2][2], coherence='c_v')\n",
    "coherence_ldamallet = coherence_model_ldamallet.get_coherence()\n",
    "print('\\nCoherence Score: ', coherence_ldamallet)"
   ]
  },
  {
   "cell_type": "code",
   "execution_count": 34,
   "metadata": {},
   "outputs": [],
   "source": [
    "model_list, coherence_values = compute_coherence_values(dictionary=aggregate[2][2], corpus=aggregate[2][3], texts=aggregate[2][1], start=2, limit=40, step=6)\n"
   ]
  },
  {
   "cell_type": "code",
   "execution_count": 35,
   "metadata": {},
   "outputs": [
    {
     "data": {
      "image/png": "[encoded data removed]",
      "text/plain": [
       "<Figure size 432x288 with 1 Axes>"
      ]
     },
     "metadata": {
      "needs_background": "light"
     },
     "output_type": "display_data"
    }
   ],
   "source": [
    "limit=40; start=2; step=6;\n",
    "x = range(start, limit, step)\n",
    "plt.plot(x, coherence_values)\n",
    "plt.xlabel(\"Num Topics\")\n",
    "plt.ylabel(\"Coherence score\")\n",
    "plt.legend((\"coherence_values\"), loc='best')\n",
    "plt.show()"
   ]
  }
 ],
 "metadata": {
  "kernelspec": {
   "display_name": "Python 3",
   "language": "python",
   "name": "python3"
  },
  "language_info": {
   "codemirror_mode": {
    "name": "ipython",
    "version": 3
   },
   "file_extension": ".py",
   "mimetype": "text/x-python",
   "name": "python",
   "nbconvert_exporter": "python",
   "pygments_lexer": "ipython3",
   "version": "3.7.3"
  }
 },
 "nbformat": 4,
 "nbformat_minor": 2
}
